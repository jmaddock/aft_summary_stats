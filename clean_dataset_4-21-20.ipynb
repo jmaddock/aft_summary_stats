{
 "cells": [
  {
   "cell_type": "markdown",
   "metadata": {},
   "source": [
    "# Clean AFT Dataset\n",
    "**Author:** Jim Maddock\n",
    "\n",
    "**Last Updated:** 5-3-20\n",
    "\n",
    "**Description:** Import the initial English AFT dataset (downloaded from https://old.datahub.io/dataset/wikipedia-article-feedback-corpus) and create features for exploratory analysis and classifier.  The processed dataset should include the following **feature fields**:\n",
    "* unique ID\n",
    "* original ID (these are non-unique but could be useful for debugging)\n",
    "* article and revision ID\n",
    "* comment (might have to remove stop tokens)\n",
    "* article topic from https://github.com/wikimedia/drafttopic\n",
    "* article features - TBD\n",
    "* vandalism score from https://github.com/wikimedia/draftquality\n",
    "\n",
    "The dataset should also include the following **class fields**:\n",
    "* helpful/un-helpful\n",
    "* non-actionable"
   ]
  },
  {
   "cell_type": "code",
   "execution_count": 47,
   "metadata": {},
   "outputs": [],
   "source": [
    "import csv\n",
    "import pandas as pd\n",
    "import numpy as np\n",
    "import uuid\n",
    "import random\n",
    "import requests\n",
    "import time\n",
    "from oresapi import Session\n",
    "import concurrent.futures\n",
    "import logging\n",
    "import sys\n",
    "\n",
    "import matplotlib.pyplot as plt\n",
    "import matplotlib\n",
    "\n",
    "matplotlib.style.use('ggplot')"
   ]
  },
  {
   "cell_type": "code",
   "execution_count": 48,
   "metadata": {},
   "outputs": [],
   "source": [
    "LOGFILE = './logs/clean_dataset_5-7-20.log'\n",
    "\n",
    "logger = logging.getLogger(__name__)\n",
    "handler = logging.FileHandler(LOGFILE)\n",
    "\n",
    "formatter = logging.Formatter(fmt='[%(levelname)s %(asctime)s] %(message)s',\n",
    "                              datefmt='%m/%d/%Y %I:%M:%S %p')\n",
    "handler.setFormatter(formatter)\n",
    "logger.addHandler(handler)"
   ]
  },
  {
   "cell_type": "code",
   "execution_count": 49,
   "metadata": {},
   "outputs": [],
   "source": [
    "# import dataset from csv\n",
    "FILEPATH = '/srv/aft/raw/dump_03-24-20.csv'\n",
    "\n",
    "dtypes = {\n",
    "    'aft_id':object\n",
    "}\n",
    "\n",
    "df = pd.read_csv(FILEPATH,escapechar='\\\\', encoding='latin-1', dtype=dtypes)"
   ]
  },
  {
   "cell_type": "code",
   "execution_count": 50,
   "metadata": {},
   "outputs": [],
   "source": [
    "# remove all comments that do not have a helpful or unhelpful label\n",
    "df = df.loc[(df['aft_helpful'] > 0) | (df['aft_unhelpful'] > 0)]"
   ]
  },
  {
   "cell_type": "code",
   "execution_count": 51,
   "metadata": {},
   "outputs": [],
   "source": [
    "# generate a unique ID\n",
    "# make sure to use a random seed so this is reproducable\n",
    "rd = random.Random()\n",
    "rd.seed(0)\n",
    "df['UUID'] = df.apply(lambda x: uuid.UUID(int=rd.getrandbits(128)), axis=1)\n",
    "df = df.reset_index()"
   ]
  },
  {
   "cell_type": "code",
   "execution_count": 52,
   "metadata": {},
   "outputs": [],
   "source": [
    "# get vandalism score for each comment using draft quality\n",
    "# PRE: comment text, not including stop words\n",
    "# POST: return the positive and negative scores for the comment\n",
    "\n",
    "# Ignore and log errors\n",
    "\n",
    "BASE_URL = \"https://ores.wikimedia.org/v3/scores/enwiki/57185234/draftquality\"\n",
    "\n",
    "def threadedVandalismScoreHandler(df, max_workers=4, handle_errors=False):\n",
    "    \n",
    "    to_process = df[['aft_comment','UUID']].iterrows()\n",
    "    score_list = []\n",
    "    processed = 0\n",
    "    \n",
    "    with concurrent.futures.ThreadPoolExecutor(max_workers=max_workers) as executor:\n",
    "\n",
    "        future_to_url = {executor.submit(getVandalismScore, row[1]): row for row in to_process}\n",
    "        for future in concurrent.futures.as_completed(future_to_url):\n",
    "            try:\n",
    "                score_dict = future.result()\n",
    "                score_list.append(score_dict)\n",
    "            except:\n",
    "                if handle_errors:\n",
    "                    pass\n",
    "                else:\n",
    "                    raise\n",
    "            processed += 1\n",
    "            \n",
    "            #if processed % 100 == 0:\n",
    "            #    print('scored {0} documents'.format(processed))\n",
    "    \n",
    "    score_df = pd.DataFrame(score_list)\n",
    "    return score_df\n",
    "\n",
    "# handle and log all errors\n",
    "def getVandalismScore(row):\n",
    "    try:\n",
    "        score_json = vandalismScoreRequest(row['aft_comment'])\n",
    "        score_dict = vandalismJsonToDict(score_json)\n",
    "        score_dict['UUID'] = row['UUID']\n",
    "        return score_dict\n",
    "    except:\n",
    "        logger.warning(row['UUID'])\n",
    "        raise\n",
    "\n",
    "def formatCommentText(comment_text):\n",
    "    comment_text = str(comment_text)\n",
    "    #comment_text = bytes(comment_text, 'latin-1').decode('utf-8')\n",
    "    comment_text = comment_text.replace('\\n','')\n",
    "    comment_text = comment_text.replace('\\t','')\n",
    "    comment_text = comment_text.replace('\"','')\n",
    "    #comment_text = comment_text.replace(\"\\'\",\"\")\n",
    "    #comment_text = comment_text.replace('\"','')\n",
    "    #comment_text = comment_text.replace('”','')\n",
    "    comment_text = '\"{0}\"'.format(comment_text)\n",
    "    return comment_text\n",
    "    \n",
    "\n",
    "def vandalismScoreRequest(comment_text):\n",
    "    comment_text = formatCommentText(comment_text)\n",
    "    params = {\n",
    "        'datasource.revision.text':comment_text\n",
    "    }\n",
    "    r = requests.get(BASE_URL,params=params)\n",
    "    if not r:\n",
    "        raise requests.RequestException()\n",
    "    json_response = r.json()\n",
    "    return json_response\n",
    "\n",
    "def vandalismJsonToDict(json):\n",
    "    base = json['enwiki']['scores']['57185234']['draftquality']['score']\n",
    "    score_dict = {\n",
    "        'dq_pred':base['prediction'],\n",
    "        'dq_prob_OK':base['probability']['OK'],\n",
    "        'dq_prob_attack':base['probability']['attack'],\n",
    "        'dq_prob_spam':base['probability']['spam'],\n",
    "        'dq_prob_vandalism':base['probability']['vandalism']\n",
    "    }\n",
    "    return score_dict\n",
    "\n",
    "#threadedVandalismScoreHandler(test)"
   ]
  },
  {
   "cell_type": "code",
   "execution_count": 53,
   "metadata": {},
   "outputs": [],
   "source": [
    "def getTopics(df):\n",
    "    rev_id_list = df['aft_page_revision'].unique().tolist()\n",
    "    \n",
    "    session = Session(\"https://ores.wikimedia.org\",user_agent=\"\")\n",
    "    results = session.score(\"enwiki\", [\"drafttopic\"], rev_id_list)\n",
    "\n",
    "    topic_list = []\n",
    "    for rev_id, result in zip(rev_id_list, results):\n",
    "        score_dict = {\n",
    "            'aft_page_revision':rev_id\n",
    "        }\n",
    "        if 'error' in result['drafttopic']:\n",
    "            score_dict['dt_pred'] = None\n",
    "        elif len(result['drafttopic']['score']['prediction']) < 1:\n",
    "            score_dict['dt_pred'] = None\n",
    "        else:\n",
    "            try:\n",
    "                score_dict['dt_pred'] = result['drafttopic']['score']['prediction'][0],\n",
    "            except:\n",
    "                print(result)\n",
    "                raise\n",
    "        topic_list.append(score_dict)\n",
    "    \n",
    "    topic_df = pd.DataFrame(topic_list)\n",
    "    return topic_df\n",
    "\n",
    "#getTopics(test)"
   ]
  },
  {
   "cell_type": "code",
   "execution_count": 54,
   "metadata": {},
   "outputs": [],
   "source": [
    "def addPredColumns(df):\n",
    "    vandalism_pred_df = threadedVandalismScoreHandler(df, max_workers=8, handle_errors=True)\n",
    "    topic_pred_df = getTopics(df)\n",
    "\n",
    "    df = df.merge(vandalism_pred_df, on='UUID', how='outer')\n",
    "    df = df.merge(topic_pred_df, on='aft_page_revision', how='outer')\n",
    "    return df"
   ]
  },
  {
   "cell_type": "code",
   "execution_count": 55,
   "metadata": {},
   "outputs": [],
   "source": [
    "FILE_OUTPUT_PATH = '/srv/aft/processed/chunks/chunk_{0}_5-7-20.csv'\n",
    "CHUNK_SIZE = 100\n",
    "\n",
    "def chunkAndProcess(df, fileout = None, chunk_size = 1000):\n",
    "    df_list = [df[i:i+chunk_size] for i in range(0,df.shape[0],chunk_size)]\n",
    "    for i, df_chunk in enumerate(df_list):\n",
    "        try:\n",
    "            result_chunk = addPredColumns(df_chunk)\n",
    "            if fileout:\n",
    "                result_chunk.to_csv(fileout.format(i), index = False)\n",
    "            print('processed chunk {0}'.format(i))\n",
    "        except:\n",
    "            logger.warning('error in chunk {0}'.format(i))\n",
    "            logger.warning(sys.exc_info())\n",
    "            pass\n",
    "    \n",
    "#test = df[1000:2000]\n",
    "#chunkAndProcess(test, fileout = FILE_OUTPUT_PATH, chunk_size=CHUNK_SIZE)"
   ]
  },
  {
   "cell_type": "code",
   "execution_count": 56,
   "metadata": {},
   "outputs": [
    {
     "name": "stdout",
     "output_type": "stream",
     "text": [
      "processed chunk 0\n",
      "processed chunk 1\n",
      "processed chunk 2\n",
      "processed chunk 3\n",
      "processed chunk 4\n",
      "processed chunk 5\n",
      "processed chunk 6\n",
      "processed chunk 7\n",
      "processed chunk 8\n",
      "processed chunk 9\n",
      "processed chunk 10\n"
     ]
    },
    {
     "name": "stderr",
     "output_type": "stream",
     "text": [
      "WARNING:__main__:d8ce8d9a-29de-b76a-d4ce-14b39a9a56bc\n",
      "WARNING:__main__:4037fffa-14b8-317e-7555-5ded8ea5e386\n",
      "WARNING:__main__:7c8765b6-b04a-2620-49ab-05a8806094aa\n",
      "WARNING:__main__:d9371f2a-506e-2fc6-d05d-2cb96b76911f\n",
      "WARNING:__main__:b334ebbc-ef6e-d981-be23-bd25ac788719\n",
      "WARNING:__main__:0df099c5-62a7-7dc7-b273-38fcdfa69923\n"
     ]
    },
    {
     "name": "stdout",
     "output_type": "stream",
     "text": [
      "processed chunk 11\n"
     ]
    },
    {
     "name": "stderr",
     "output_type": "stream",
     "text": [
      "WARNING:__main__:135981c7-b984-dbe3-aef8-2d2e51f83e44\n"
     ]
    },
    {
     "name": "stdout",
     "output_type": "stream",
     "text": [
      "processed chunk 12\n",
      "processed chunk 13\n",
      "processed chunk 14\n",
      "processed chunk 15\n",
      "processed chunk 16\n",
      "processed chunk 17\n"
     ]
    },
    {
     "name": "stderr",
     "output_type": "stream",
     "text": [
      "WARNING:__main__:8e83e494-438f-a430-6485-1962ecf75dbc\n"
     ]
    },
    {
     "name": "stdout",
     "output_type": "stream",
     "text": [
      "processed chunk 18\n",
      "processed chunk 19\n"
     ]
    },
    {
     "name": "stderr",
     "output_type": "stream",
     "text": [
      "WARNING:__main__:a2786875-e1ae-1007-d9ce-72ab5ceacdc0\n",
      "WARNING:__main__:c82dd858-19f8-b828-a40a-aab86ea4e398\n",
      "WARNING:__main__:dfec4091-3d93-8a51-190b-e786fe27a780\n",
      "WARNING:__main__:920fdf72-c9f7-75c8-4d92-4c83c9b29ee7\n",
      "WARNING:__main__:7aed04c4-643d-87ba-18c2-a569109d5b97\n",
      "WARNING:__main__:39989ec0-531d-32b6-e80c-5c542630b965\n",
      "WARNING:__main__:0a22b2ce-234e-85fe-3cee-7eb021653fa6\n",
      "WARNING:__main__:37ac7d7d-3f5c-7c2d-de74-ae046c9ff1ec\n",
      "WARNING:__main__:551a6cad-18e8-dd41-d0cf-422e9f890d09\n",
      "WARNING:__main__:1a1d81de-4b9c-fdfa-b751-07eb2cb7a2d2\n",
      "WARNING:__main__:f116ffa5-33ad-f6e2-7362-43ad72fd518f\n",
      "WARNING:__main__:c92c663c-4309-28ae-79da-c846a63a98d1\n",
      "WARNING:__main__:73e46350-ce0d-b340-30cc-068d7a9f3f59\n",
      "WARNING:__main__:f4931c8c-6831-dac8-0daa-03440c5a0777\n"
     ]
    },
    {
     "name": "stdout",
     "output_type": "stream",
     "text": [
      "processed chunk 20\n"
     ]
    },
    {
     "name": "stderr",
     "output_type": "stream",
     "text": [
      "WARNING:__main__:613bbe30-b8b7-da07-cde7-f7696d4d2b1a\n",
      "WARNING:__main__:79347cd6-eca9-4518-4458-7bbe0a669218\n",
      "WARNING:__main__:9727212f-9293-8a3f-f3c0-9c1aa943ccd2\n",
      "WARNING:__main__:09122343-1611-d688-e843-acb103a17a29\n",
      "WARNING:__main__:fc788700-9dcc-3e8f-f61e-bff126a6c9d6\n",
      "WARNING:__main__:e64c8980-2a08-214c-3c91-11d08f28b6f3\n",
      "WARNING:__main__:6cdb4ae7-550a-89db-b99c-f8dadc016a1e\n",
      "WARNING:__main__:ef064664-4ab8-3e18-8171-dbf223c61945\n",
      "WARNING:__main__:3f2c1569-7c88-ad60-ec35-be28c0383551\n",
      "WARNING:__main__:777da5f9-618a-327d-0534-756e86ae3731\n",
      "WARNING:__main__:2ac98394-09d9-bf3b-2afe-babba6f33d64\n",
      "WARNING:__main__:858a133b-025c-922e-dc3f-0480a7629386\n",
      "WARNING:__main__:fa84679f-1774-80db-5ab3-f451664332af\n"
     ]
    },
    {
     "name": "stdout",
     "output_type": "stream",
     "text": [
      "processed chunk 21\n"
     ]
    },
    {
     "name": "stderr",
     "output_type": "stream",
     "text": [
      "WARNING:__main__:986f5ed6-ccf1-96bb-e9f5-e3ab50464be1\n",
      "WARNING:__main__:cbc1a0f5-aa7c-044b-8f6e-638230422db9\n",
      "WARNING:__main__:0b489eb1-ef93-a4f7-a8be-ec6fab8802d4\n",
      "WARNING:__main__:688a1c81-81cd-34bb-a115-a910b92ff26b\n",
      "WARNING:__main__:08b8427a-8a34-d6d4-8dc7-8aa722ee475c\n",
      "WARNING:__main__:48a3920b-ed64-20ba-3260-141eb828ceb0\n",
      "WARNING:__main__:0e1ee981-43e3-af49-34bd-ba0d8e4a5806\n",
      "WARNING:__main__:bb047d03-b1f2-dfcc-5dcf-cf618371eb47\n",
      "WARNING:__main__:d52583c8-4ceb-46d3-9fe6-2e363162ef95\n",
      "WARNING:__main__:8cec313e-6fb3-dafa-6d9e-d7ae0acb56bb\n",
      "WARNING:__main__:5df56b6f-1a6e-b238-ad0d-15252aa092ae\n",
      "WARNING:__main__:801abff7-66cd-d662-c4e8-13db44cfc3ca\n",
      "WARNING:__main__:dff0ad78-64b3-4997-f8d9-b7b40abd9cd0\n",
      "WARNING:__main__:0bded216-0863-3195-e960-a9f6b395bc69\n",
      "WARNING:__main__:f7d3664b-c53b-6776-6c58-d6d23fa8122d\n",
      "WARNING:__main__:f7f3032b-0bf1-c038-1773-7931a6e49e29\n",
      "WARNING:__main__:35ba9da1-98d0-cbb7-7844-e648601b7208\n"
     ]
    },
    {
     "name": "stdout",
     "output_type": "stream",
     "text": [
      "processed chunk 22\n",
      "processed chunk 23\n"
     ]
    },
    {
     "name": "stderr",
     "output_type": "stream",
     "text": [
      "WARNING:__main__:ea6bed22-8848-71bc-bc09-e7529d0c7363\n",
      "WARNING:__main__:298257ba-4b31-c7de-391b-0ae0ac8fdf70\n",
      "WARNING:__main__:337c12f4-fa6c-1b68-ece8-9b853f1eb5e4\n",
      "WARNING:__main__:3e23ca69-bd48-b258-7d9e-3927f1091282\n"
     ]
    },
    {
     "name": "stdout",
     "output_type": "stream",
     "text": [
      "processed chunk 24\n",
      "processed chunk 25\n"
     ]
    },
    {
     "name": "stderr",
     "output_type": "stream",
     "text": [
      "WARNING:__main__:e13f1200-4620-fa9f-4ad4-c360fd13b50c\n",
      "WARNING:__main__:b32c7f3c-1cad-91e8-7c36-d70b60b9ad71\n",
      "WARNING:__main__:f9eb611d-3277-06c7-6ac0-4ece13b597c4\n",
      "WARNING:__main__:fc3a1c5d-af45-53c8-2cfb-b364a640d0f5\n",
      "WARNING:__main__:3574d419-d3a3-917f-adc3-c2c4d2c11357\n",
      "WARNING:__main__:a695714f-5f1b-2fff-dc6a-136e46312749\n"
     ]
    },
    {
     "name": "stdout",
     "output_type": "stream",
     "text": [
      "processed chunk 26\n"
     ]
    },
    {
     "name": "stderr",
     "output_type": "stream",
     "text": [
      "WARNING:__main__:728a2656-d24a-8ab9-3407-94737edeb19d\n",
      "WARNING:__main__:4d543a0e-b3e5-b7e4-6261-a3d28bdbf1f8\n",
      "WARNING:__main__:84185d2d-1ef4-dec6-3a22-0bdef08275f0\n",
      "WARNING:__main__:6a2ac680-ca91-7dfb-7673-ff45ba4fa3cf\n",
      "WARNING:__main__:45baf444-bb7e-21bf-db2f-fda39f013834\n",
      "WARNING:__main__:15dc9a26-52b3-fb34-55ff-60d690a069ba\n"
     ]
    },
    {
     "name": "stdout",
     "output_type": "stream",
     "text": [
      "processed chunk 27\n"
     ]
    },
    {
     "name": "stderr",
     "output_type": "stream",
     "text": [
      "WARNING:__main__:f098f6d8-ef92-031f-bec6-301c439442f8\n",
      "WARNING:__main__:6023473b-b959-4d00-f9cc-2893b98857f8\n",
      "WARNING:__main__:54496139-add6-6d20-53f3-f048d814a978\n",
      "WARNING:__main__:6f3742ac-e1fa-b06a-a2d7-438e4b055f49\n",
      "WARNING:__main__:cf8c01c4-f23c-7052-e2d7-b0c254be66c7\n",
      "WARNING:__main__:a10ff588-31e1-9146-f654-f453a5c23dc2\n",
      "WARNING:__main__:c203953a-cb78-44b0-0474-7134db03dadf\n",
      "WARNING:__main__:6c7434ec-a59a-476c-cdcf-efabe1f51fdc\n",
      "WARNING:__main__:f4a9f3dc-12cf-f121-5090-99512517ddaa\n",
      "WARNING:__main__:20f41414-8762-caf5-3b31-96e121c70fd7\n",
      "WARNING:__main__:0bd89c73-95c1-b122-4f9e-89ef7bc1ad83\n",
      "WARNING:__main__:70f53998-b72c-abfc-f664-107471f9d519\n",
      "WARNING:__main__:8074e160-a67a-1a7d-25a4-6eb18a0a8110\n",
      "WARNING:__main__:9bfb383b-15ec-9ba0-634f-d76bdb153331\n",
      "WARNING:__main__:fa195921-ecfd-010b-3dcb-71aebd845e77\n",
      "WARNING:__main__:0461d287-dde9-65d2-0dcb-9b62f9a847f5\n",
      "WARNING:__main__:5dbb6712-374a-6827-b4a9-ed2c0123ce86\n",
      "WARNING:__main__:c9722ddf-4eb8-ea9c-2a81-b7c8bdc51062\n"
     ]
    },
    {
     "name": "stdout",
     "output_type": "stream",
     "text": [
      "processed chunk 28\n"
     ]
    },
    {
     "name": "stderr",
     "output_type": "stream",
     "text": [
      "WARNING:__main__:d474d376-e367-7779-cd45-8722ff9ec8b4\n",
      "WARNING:__main__:a31a2285-4632-acbd-a382-8e6ebbe956ac\n",
      "WARNING:__main__:69a0b733-26e0-e537-e1de-3de4481c3e07\n",
      "WARNING:__main__:9be6a1c7-3882-0ff2-6569-30b895b30690\n",
      "WARNING:__main__:e3f220bd-a042-0393-72a8-583d44e3a656\n",
      "WARNING:__main__:555c03bf-5c9e-04dd-3d2e-80fa0268416a\n",
      "WARNING:__main__:a323d79e-7386-9418-b1db-0a78f2fd8e7a\n",
      "WARNING:__main__:f0d3f406-274f-48f9-4603-8cab0f3d16e0\n",
      "WARNING:__main__:555e4565-3a58-1614-3763-05247cb9ca3e\n",
      "WARNING:__main__:7d97613f-433c-a80a-1b3c-9c49177677c7\n",
      "WARNING:__main__:cb6ef63a-6bae-69b1-4e1b-ae2877dcf7b2\n",
      "WARNING:__main__:94690522-f0c8-092f-5d09-4f37bfdee880\n",
      "WARNING:__main__:c646af96-1749-300a-2f79-f52c8b10bb3c\n",
      "WARNING:__main__:45abd403-6741-8726-203d-a6391e0e2ffd\n",
      "WARNING:__main__:b201cf6f-01f2-03a0-ca2b-0d8d22f059bc\n"
     ]
    },
    {
     "name": "stdout",
     "output_type": "stream",
     "text": [
      "processed chunk 29\n"
     ]
    },
    {
     "name": "stderr",
     "output_type": "stream",
     "text": [
      "WARNING:__main__:977d2260-20bd-be66-468d-c95e39a71648\n",
      "WARNING:__main__:8a8ed273-ece1-2e8b-05cc-70a1a49266c9\n",
      "WARNING:__main__:cba93005-c402-2537-2447-e1ba2da2bcd5\n",
      "WARNING:__main__:d7fc0059-6943-ca29-a82c-84abef10e37f\n",
      "WARNING:__main__:44fe27c9-0517-f618-8e95-ef6ab6757f65\n",
      "WARNING:__main__:6666bba2-f7f1-fe71-c6ed-b26fa1f81ae8\n",
      "WARNING:__main__:5ea67c39-4c08-c6ba-1cb4-2e4a91cf06ba\n",
      "WARNING:__main__:49e19b4d-61c6-68ce-8d5d-97908a2a1b8e\n",
      "WARNING:__main__:b26c687c-72f2-8cf5-1466-72ad4b9e0913\n",
      "WARNING:__main__:7531b0bf-2871-4114-e013-76e276819845\n"
     ]
    },
    {
     "name": "stdout",
     "output_type": "stream",
     "text": [
      "processed chunk 30\n"
     ]
    },
    {
     "name": "stderr",
     "output_type": "stream",
     "text": [
      "WARNING:__main__:ea868539-2c5c-e301-45f6-4f338cea5c8b\n"
     ]
    },
    {
     "name": "stdout",
     "output_type": "stream",
     "text": [
      "processed chunk 31\n"
     ]
    },
    {
     "name": "stderr",
     "output_type": "stream",
     "text": [
      "WARNING:__main__:4abaea30-7bfe-d5c5-d4c3-aaaaeceb437a\n",
      "WARNING:__main__:d9a56a4f-7ba4-0d39-ebee-1a428f535855\n",
      "WARNING:__main__:92509b71-eff7-f641-d2de-e28e6fb9e40b\n",
      "WARNING:__main__:dd999070-3398-d034-1f9f-9dd2c7b2f3ea\n",
      "WARNING:__main__:63a7e79a-5eb5-d53c-0ca1-72bea9470a0d\n",
      "WARNING:__main__:8702c5b3-582a-4726-4283-53fde38aaa38\n",
      "WARNING:__main__:23e868ba-d3b2-b828-56d8-30a398c5c7d9\n",
      "WARNING:__main__:ba9c3ff3-1f0d-918f-2662-a1d2542ffd61\n",
      "WARNING:__main__:e8a3b05f-4538-75f4-1760-88e55b5b1743\n",
      "WARNING:__main__:6d96a044-2b16-2563-7166-a287c974a4b3\n"
     ]
    },
    {
     "name": "stdout",
     "output_type": "stream",
     "text": [
      "processed chunk 32\n"
     ]
    },
    {
     "name": "stderr",
     "output_type": "stream",
     "text": [
      "WARNING:__main__:9d1ecd3c-d2b4-6686-59ed-244bbc851c14\n",
      "WARNING:__main__:6c511441-79d7-e05a-afde-15eca7b4913b\n",
      "WARNING:__main__:9f3176c0-468b-db70-8b6e-6609f5b9cc00\n",
      "WARNING:__main__:126bbdd7-f8d1-cd15-e017-68c509c0fbd4\n",
      "WARNING:__main__:37448afb-3023-73be-3a6d-7a7e16706465\n",
      "WARNING:__main__:a51e940c-d74a-4e60-a432-e35d461e3ae9\n",
      "WARNING:__main__:898b7301-a7e9-3a80-fd99-ff2c50f0bf57\n",
      "WARNING:__main__:67b89976-8b15-d458-2cc5-2234d8a7019f\n",
      "WARNING:__main__:1698f0e4-836c-f99b-3e48-6b653a6301f5\n",
      "WARNING:__main__:035da456-5dbb-ca03-c3c2-b7da05dcb25e\n",
      "WARNING:__main__:798246e6-66f4-ccdb-4ee9-bb102e1fee2b\n",
      "WARNING:__main__:e4f78188-ab8b-1683-251b-95d40f633fda\n",
      "WARNING:__main__:c2ef4084-ce86-794b-5d46-3576b07607d1\n",
      "WARNING:__main__:4e538609-1f92-c54b-fb98-c8d5988d3b07\n",
      "WARNING:__main__:ab2d8221-fbf7-ade9-620f-e45525453a55\n",
      "WARNING:__main__:db293525-a997-6816-6b81-487fb2205194\n",
      "WARNING:__main__:b8849fbd-52e0-74e5-7821-22aa7cc6485f\n",
      "WARNING:__main__:44c00c31-bb8c-c59b-9713-e4d3cb1cdc43\n",
      "WARNING:__main__:c90da7ab-5836-9021-250f-33c8f4c0153a\n",
      "WARNING:__main__:6ffef3e8-018f-44bb-980b-f4573ef8aea6\n",
      "WARNING:__main__:bf0f959f-6d83-cb04-570b-1a6d8bb05656\n",
      "WARNING:__main__:767bf585-627a-91fe-afdb-d44c65c22565\n",
      "WARNING:__main__:015a50ba-86d3-4bfe-1de4-5628ad100cbf\n",
      "WARNING:__main__:1d1a9ea3-adc7-bc54-42b3-7a4b711e02d4\n",
      "WARNING:__main__:f0706a79-7d86-fe66-12f9-3f995be5e6a4\n",
      "WARNING:__main__:6517f74f-8714-501f-e3c8-49a655ad61b9\n",
      "WARNING:__main__:6933d3c0-2df9-deae-0026-9a2c9fd8c2ea\n",
      "WARNING:__main__:ea76264d-d236-253d-a460-37c0ec5e9c01\n",
      "WARNING:__main__:088affd2-f3f8-a6ad-585c-7b8c67b340cf\n",
      "WARNING:__main__:f6ecd320-ca5a-a58d-2dd7-10035aa3cdad\n",
      "WARNING:__main__:e532e5b9-b7db-caff-dbb0-f5bbc86a22fb\n"
     ]
    },
    {
     "name": "stdout",
     "output_type": "stream",
     "text": [
      "processed chunk 33\n"
     ]
    },
    {
     "name": "stderr",
     "output_type": "stream",
     "text": [
      "WARNING:__main__:f54c01fd-7a0b-db39-bde6-3c4fdf333f14\n",
      "WARNING:__main__:1dd9c6e3-4058-edef-23d3-f42c751c3680\n",
      "WARNING:__main__:834074d0-f06d-a6da-5c03-36c12a173c6a\n",
      "WARNING:__main__:942371e1-ed79-6d00-7a38-2a53b4273b04\n",
      "WARNING:__main__:ecc5abef-8d73-a20b-fc55-8b980a66713a\n",
      "WARNING:__main__:ad140ff0-f6d1-fdda-2f0c-b02d9981fd1d\n",
      "WARNING:__main__:33755744-a22a-45f9-6b5a-8e04b76a548c\n",
      "WARNING:__main__:a1ba4586-e54d-37a1-0260-845744ab05ee\n",
      "WARNING:__main__:a92cb4a1-0040-3cf5-59bb-b4dc975fc838\n",
      "WARNING:__main__:542c5ceb-dc3d-7675-5199-dff0a3b37291\n",
      "WARNING:__main__:1704e146-312c-0940-a497-78e2194c955f\n",
      "WARNING:__main__:f0740b85-0ab7-65a4-61e5-d4398b3d69b7\n",
      "WARNING:__main__:499e9ebb-93fd-e11f-b674-bb4c633609a2\n",
      "WARNING:__main__:8ec7f527-d9d2-a887-204e-de013ef096e4\n",
      "WARNING:__main__:8ecf3f7a-cd3d-dc5d-589e-69781960db47\n",
      "WARNING:__main__:de7cd151-befe-beb5-c057-b446a7d01786\n",
      "WARNING:__main__:a5bbcebf-d242-f926-6980-d01d8501bca8\n",
      "WARNING:__main__:a229d3df-c0fa-f70f-6fe2-b89d297a2fa0\n",
      "WARNING:__main__:d82d87e4-4040-8119-4655-114404f896dc\n",
      "WARNING:__main__:be6ee166-a528-419a-b162-22de27dc7d9d\n",
      "WARNING:__main__:7a8e6f61-b573-02b3-c9df-f09c0d5d816e\n",
      "WARNING:__main__:259aabbe-6f18-7807-31b1-71b6225f39f3\n",
      "WARNING:__main__:0a24076e-a335-cb03-e152-aaa9cc01bc9b\n",
      "WARNING:__main__:ff4db03d-8f56-198e-2a2b-8bf9345ce8cb\n",
      "WARNING:__main__:f9e7168e-356a-509c-05aa-62fab72f51d3\n",
      "WARNING:__main__:89baedaa-2775-4a94-f57b-be581134ea8c\n",
      "WARNING:__main__:66aae204-32fc-4ab1-012d-87cec7a9cc25\n"
     ]
    },
    {
     "name": "stdout",
     "output_type": "stream",
     "text": [
      "processed chunk 34\n"
     ]
    },
    {
     "name": "stderr",
     "output_type": "stream",
     "text": [
      "WARNING:__main__:aaa0f9b8-f981-3b85-187d-d9c6790a674a\n"
     ]
    },
    {
     "name": "stdout",
     "output_type": "stream",
     "text": [
      "processed chunk 35\n"
     ]
    },
    {
     "name": "stderr",
     "output_type": "stream",
     "text": [
      "WARNING:__main__:cb6a4e4d-f440-02b2-16a3-1263834cff3c\n",
      "WARNING:__main__:d10a8fe7-96f9-9be1-aefe-132b547950e9\n",
      "WARNING:__main__:5fc2fff4-43a3-da0d-e567-b1ccd464fe66\n",
      "WARNING:__main__:fb87cf23-aecd-e274-97bb-9daa35450dff\n",
      "WARNING:__main__:c3834e7a-d0a8-fd43-40ae-21fd0d73f559\n",
      "WARNING:__main__:9387f160-b793-07b2-b397-5b231b40af69\n"
     ]
    },
    {
     "name": "stdout",
     "output_type": "stream",
     "text": [
      "processed chunk 36\n"
     ]
    },
    {
     "name": "stderr",
     "output_type": "stream",
     "text": [
      "WARNING:__main__:cb628a19-a79e-431f-c6ad-ad4a37c6c427\n",
      "WARNING:__main__:70938792-e767-20f8-35b6-a4b0ca657102\n",
      "WARNING:__main__:56dcae4e-89ec-5252-5f22-6e20db51b281\n",
      "WARNING:__main__:ba2d47f1-5937-d3db-ea80-5229b4456af3\n",
      "WARNING:__main__:02ae7872-9c3e-cbc8-b715-cf06aaae38c4\n",
      "WARNING:__main__:53bcb098-efb1-fa07-6a8c-fe717bcaf161\n",
      "WARNING:__main__:37abd90d-01d9-93cf-26f7-87edd2bd504f\n",
      "WARNING:__main__:65b9af9d-66fc-da7b-3593-dc66cd2af216\n",
      "WARNING:__main__:be77e40e-215c-7024-f2b5-c748fa6b5e5d\n",
      "WARNING:__main__:c419f2b5-7d79-ab44-c633-ff19d95807d2\n",
      "WARNING:__main__:a5bfb1ad-ecac-7eaa-a9ed-07514465259b\n",
      "WARNING:__main__:0b6ccca2-c907-af5d-8a8f-08658fc929bd\n",
      "WARNING:__main__:3059c498-5314-0bba-cfdc-16d06aaf3f5c\n",
      "WARNING:__main__:5291b049-6a2c-a004-0465-a6d5e086f2af\n",
      "WARNING:__main__:3dc51701-a76f-80a9-1db9-43222d85ceb2\n",
      "WARNING:__main__:651fff2d-e94e-d093-5144-634dbe6449c3\n",
      "WARNING:__main__:2ecb559c-510c-bf3a-5180-d2a0acdffd0f\n"
     ]
    },
    {
     "name": "stdout",
     "output_type": "stream",
     "text": [
      "processed chunk 37\n"
     ]
    },
    {
     "name": "stderr",
     "output_type": "stream",
     "text": [
      "WARNING:__main__:37f90ba7-4ce8-5730-05b9-68f6155d4fed\n"
     ]
    },
    {
     "name": "stdout",
     "output_type": "stream",
     "text": [
      "processed chunk 38\n"
     ]
    },
    {
     "name": "stderr",
     "output_type": "stream",
     "text": [
      "WARNING:__main__:a86e890b-2d3f-11dc-3f8d-692c486dd2b7\n",
      "WARNING:__main__:380320fc-f302-0be7-f864-45d74c6bf5b8\n",
      "WARNING:__main__:e54425d5-1df5-f725-d31b-6f936a73fc45\n",
      "WARNING:__main__:9d811b64-c3c7-4f42-c4b9-ee852253dfc5\n",
      "WARNING:__main__:46780a81-6cb7-c5bf-0e58-cd63c7e470d9\n",
      "WARNING:__main__:8f8643af-86e3-96dd-4aaa-3cc8dcc33394\n",
      "WARNING:__main__:9e1a608c-8cb1-0928-452d-b5bad64d4745\n"
     ]
    },
    {
     "name": "stdout",
     "output_type": "stream",
     "text": [
      "processed chunk 39\n"
     ]
    },
    {
     "name": "stderr",
     "output_type": "stream",
     "text": [
      "WARNING:__main__:3660fc39-f55a-ae57-7c63-747aa71cbf0f\n",
      "WARNING:__main__:be324a2a-0053-9f73-8c59-0de0bba5ee17\n",
      "WARNING:__main__:fb15e358-7eb3-246e-84f1-6155a11e7f4a\n",
      "WARNING:__main__:813fbafb-c366-453b-0152-14a0a983b50c\n",
      "WARNING:__main__:1320cceb-0100-7f9b-e3e5-7d420711f067\n",
      "WARNING:__main__:75f61250-5c85-6338-a519-0d022d0b587f\n",
      "WARNING:__main__:181ba49f-8df4-5822-cefb-72a47eae9b86\n",
      "WARNING:__main__:28eb7deb-6767-2789-d64c-6cd6c61925b0\n",
      "WARNING:__main__:e5645fbd-c832-befb-8cc6-6bfdeebe644c\n",
      "WARNING:__main__:baa63bea-d536-7d0e-f58d-588bf6506f8b\n",
      "WARNING:__main__:2f809c68-765d-55d0-d0bf-e8d4bca8b8d9\n",
      "WARNING:__main__:773cb93d-5e78-5c79-d88f-5ad0fe757f70\n",
      "WARNING:__main__:dde94e8a-e131-2ef9-10e8-480f29bfc91d\n",
      "WARNING:__main__:070cd0e8-dd17-5fb5-d005-155c763f6720\n",
      "WARNING:__main__:9f6622e9-d6b2-d1e3-627b-f978777f4a56\n",
      "WARNING:__main__:88eefc05-81b0-2aef-1fd0-b1c21c0b6453\n",
      "WARNING:__main__:98d61ed4-3f78-ee36-b5f5-cf3e3ae75934\n",
      "WARNING:__main__:d7f0ab2f-aa37-5772-1d69-7cd0066213bd\n",
      "WARNING:__main__:0a06c083-e848-ca50-1524-7332c4f56173\n"
     ]
    },
    {
     "name": "stdout",
     "output_type": "stream",
     "text": [
      "processed chunk 40\n",
      "processed chunk 41\n"
     ]
    },
    {
     "name": "stderr",
     "output_type": "stream",
     "text": [
      "WARNING:__main__:2f7be454-3af5-2271-702e-935a9436ff97\n",
      "WARNING:__main__:1836a8c6-de5d-def2-c945-291e265464db\n",
      "WARNING:__main__:f167e8d8-057f-7417-7829-61fe0b710354\n",
      "WARNING:__main__:bda3235a-e16a-2f5e-764b-3afeb58dc25f\n",
      "WARNING:__main__:dc88720d-e415-8af7-eaea-776a57aec533\n"
     ]
    },
    {
     "name": "stdout",
     "output_type": "stream",
     "text": [
      "processed chunk 42\n"
     ]
    },
    {
     "name": "stderr",
     "output_type": "stream",
     "text": [
      "WARNING:__main__:a375545d-cc14-577b-a816-e6c789750e81\n"
     ]
    },
    {
     "name": "stdout",
     "output_type": "stream",
     "text": [
      "processed chunk 43\n",
      "processed chunk 44\n",
      "processed chunk 45\n"
     ]
    },
    {
     "name": "stderr",
     "output_type": "stream",
     "text": [
      "WARNING:__main__:8ff74652-4db8-f463-3ed2-b25dc4cd8891\n"
     ]
    },
    {
     "name": "stdout",
     "output_type": "stream",
     "text": [
      "processed chunk 46\n"
     ]
    },
    {
     "name": "stderr",
     "output_type": "stream",
     "text": [
      "WARNING:__main__:5160cab3-3023-aaad-d550-f277e3039a88\n",
      "WARNING:__main__:3a38dc11-2f9c-79b1-1ad0-2fba61203611\n",
      "WARNING:__main__:079720d1-63aa-09e3-6fdb-2d547d0dfcc6\n",
      "WARNING:__main__:b7f7b36b-68bf-06b1-2822-064740162ad0\n",
      "WARNING:__main__:d1f4d64d-7b23-d692-e0e3-ea858a011217\n",
      "WARNING:__main__:88a04d54-dd1d-44e8-1d67-ce222d42ec4e\n",
      "WARNING:__main__:40faecc1-ac48-ca59-c95c-2b4081e3e1ba\n",
      "WARNING:__main__:9e9ba22d-6c9c-ae6f-8418-1131700c85e8\n",
      "WARNING:__main__:4b624c5a-2386-6906-b276-78bd4d818bfd\n",
      "WARNING:__main__:62c4f89a-ff47-51e2-66f1-36ea8919bf68\n",
      "WARNING:__main__:dcdce00a-c2f2-eacf-4882-bb7207e8455e\n",
      "WARNING:__main__:d995ab9b-9715-dd88-090c-68ef8442437c\n"
     ]
    },
    {
     "name": "stdout",
     "output_type": "stream",
     "text": [
      "processed chunk 47\n"
     ]
    },
    {
     "name": "stderr",
     "output_type": "stream",
     "text": [
      "WARNING:__main__:a10680a0-1748-4236-f44d-01617e58c554\n",
      "WARNING:__main__:7c7b1161-1611-1283-03f9-072305317074\n"
     ]
    },
    {
     "name": "stdout",
     "output_type": "stream",
     "text": [
      "processed chunk 48\n"
     ]
    },
    {
     "name": "stderr",
     "output_type": "stream",
     "text": [
      "WARNING:__main__:3bad6c86-7daa-e99c-df4e-5a0cc3d95fe5\n"
     ]
    },
    {
     "name": "stdout",
     "output_type": "stream",
     "text": [
      "processed chunk 49\n",
      "processed chunk 50\n"
     ]
    },
    {
     "name": "stderr",
     "output_type": "stream",
     "text": [
      "WARNING:__main__:d72f4c94-e72e-1b7f-53d4-95a2f619b158\n",
      "WARNING:__main__:3caf0f71-877c-ac55-aa0d-9271ce65e725\n"
     ]
    },
    {
     "name": "stdout",
     "output_type": "stream",
     "text": [
      "processed chunk 51\n",
      "processed chunk 52\n"
     ]
    },
    {
     "name": "stderr",
     "output_type": "stream",
     "text": [
      "WARNING:__main__:76863578-4e03-0209-c3d4-42a0d3339005\n",
      "WARNING:__main__:a1bbc51e-f6b1-992e-3afe-16a434b09a29\n"
     ]
    },
    {
     "name": "stdout",
     "output_type": "stream",
     "text": [
      "processed chunk 53\n"
     ]
    },
    {
     "name": "stderr",
     "output_type": "stream",
     "text": [
      "WARNING:__main__:083851f3-d845-5428-6f7a-08bc65b57e18\n",
      "WARNING:__main__:8995a1fc-5f85-2af7-f2ef-a5e817b54b40\n",
      "WARNING:__main__:36e82a48-f65b-74b8-8174-b1ef33c9d188\n",
      "WARNING:__main__:f3fa712f-390a-08d3-779f-56505f626f6c\n",
      "WARNING:__main__:3109f5b3-12be-8c77-de6d-73507e1a38bf\n",
      "WARNING:__main__:62c7b31e-5da9-cdbc-a1c6-12845f9eb0cd\n",
      "WARNING:__main__:c1bf5e37-8462-66db-3dd3-cb3c704b2b61\n",
      "WARNING:__main__:de8a6d76-1910-f49d-83d5-8e09266ffc1e\n",
      "WARNING:__main__:710e0315-5aeb-3613-9cc4-ff934fd9ba8f\n",
      "WARNING:__main__:eb27e179-3afc-9092-8d9c-809781ed1bab\n",
      "WARNING:__main__:5d6f4712-f681-93da-ab19-f6b2455d4e28\n",
      "WARNING:__main__:142ea869-cfd9-b339-34f0-bdee5dcd25b7\n",
      "WARNING:__main__:1f883e7b-fd02-e6af-e691-17343c3bdded\n"
     ]
    },
    {
     "name": "stdout",
     "output_type": "stream",
     "text": [
      "processed chunk 54\n",
      "processed chunk 55\n",
      "processed chunk 56\n",
      "processed chunk 57\n"
     ]
    },
    {
     "name": "stderr",
     "output_type": "stream",
     "text": [
      "WARNING:__main__:e90ae8e6-aa82-3b2b-2ba0-596ec1367785\n",
      "WARNING:__main__:5a05afd3-1986-9b85-38fa-b5f1b2c2d595\n",
      "WARNING:__main__:481bca1c-84ef-b7a9-f8e8-74368e997242\n",
      "WARNING:__main__:688d32ac-0a84-4b4e-2090-51accd64554a\n",
      "WARNING:__main__:070227a3-7a37-a0a5-172e-78a53176ee40\n"
     ]
    },
    {
     "name": "stdout",
     "output_type": "stream",
     "text": [
      "processed chunk 58\n",
      "processed chunk 59\n",
      "processed chunk 60\n"
     ]
    },
    {
     "name": "stderr",
     "output_type": "stream",
     "text": [
      "WARNING:__main__:c3631ebe-e304-187b-0ea7-26a7e4c1c4ff\n"
     ]
    },
    {
     "name": "stdout",
     "output_type": "stream",
     "text": [
      "processed chunk 61\n",
      "processed chunk 62\n",
      "processed chunk 63\n"
     ]
    },
    {
     "name": "stderr",
     "output_type": "stream",
     "text": [
      "WARNING:__main__:5bc74431-a2a9-f4ef-52b1-cfe319a14af2\n",
      "WARNING:__main__:ffc987ac-5d7c-4717-a45f-921fadb44f9a\n",
      "WARNING:__main__:e9c791aa-cb12-e916-b52f-61f76d49ec68\n",
      "WARNING:__main__:b9401711-2d7e-b26a-6d7c-d8893cb397ff\n",
      "WARNING:__main__:9252bde2-92d9-f2e8-b354-6231e119dfef\n",
      "WARNING:__main__:3825aeb2-0658-5e00-3f8f-6f20295bc039\n",
      "WARNING:__main__:cc606714-c713-6ad9-d55c-1f1e3aea1eaf\n",
      "WARNING:__main__:703448b7-32b3-92e6-8d70-c070dd4bf85a\n"
     ]
    },
    {
     "name": "stdout",
     "output_type": "stream",
     "text": [
      "processed chunk 64\n",
      "processed chunk 65\n",
      "processed chunk 66\n",
      "processed chunk 67\n"
     ]
    },
    {
     "name": "stderr",
     "output_type": "stream",
     "text": [
      "WARNING:__main__:aa633b0c-e6f4-66ae-1111-bb3364c05364\n"
     ]
    },
    {
     "name": "stdout",
     "output_type": "stream",
     "text": [
      "processed chunk 68\n",
      "processed chunk 69\n"
     ]
    },
    {
     "name": "stderr",
     "output_type": "stream",
     "text": [
      "WARNING:__main__:b8af6c2a-6186-936a-5646-bd7daee2293c\n",
      "WARNING:__main__:668ded57-91eb-4616-3cfc-5e8fa900ae61\n",
      "WARNING:__main__:01668796-e975-d06b-0043-af980dc44252\n",
      "WARNING:__main__:6199084c-00a6-9a99-eeca-4ab159d66239\n",
      "WARNING:__main__:cbc0660c-ebdb-a03d-8ac0-4713ea94352e\n",
      "WARNING:__main__:2b718653-f3ad-e4d9-6ed6-624808023a4c\n",
      "WARNING:__main__:cbb40d87-073e-2421-bb19-c0e93e98b054\n",
      "WARNING:__main__:0bef89ce-1e0c-0de7-1cfc-3591349b64a9\n",
      "WARNING:__main__:2d62f758-6399-16e5-16fb-95c2f0df3c2c\n",
      "WARNING:__main__:c5b86ef6-50ae-daad-5624-ad65684ba126\n",
      "WARNING:__main__:d5c91493-de0e-13f3-48d2-7a42f35d774a\n",
      "WARNING:__main__:93515f5e-cfd3-a2bf-cc31-47ab1f829322\n",
      "WARNING:__main__:230eb6ff-cfea-0ef2-54ef-4cc1901b3001\n",
      "WARNING:__main__:b6498a0e-35da-344b-40ed-544d85476abe\n",
      "WARNING:__main__:291597a9-34a1-c7ad-4812-14bdc14f163a\n"
     ]
    },
    {
     "name": "stdout",
     "output_type": "stream",
     "text": [
      "processed chunk 70\n",
      "processed chunk 71\n",
      "processed chunk 72\n",
      "processed chunk 73\n"
     ]
    },
    {
     "name": "stderr",
     "output_type": "stream",
     "text": [
      "WARNING:__main__:d51c43b2-5a34-7467-f68f-4a1c568572bc\n",
      "WARNING:__main__:d5221afa-f98d-e34f-1904-6f5305039e3b\n"
     ]
    },
    {
     "name": "stdout",
     "output_type": "stream",
     "text": [
      "processed chunk 74\n",
      "processed chunk 75\n"
     ]
    },
    {
     "name": "stderr",
     "output_type": "stream",
     "text": [
      "WARNING:__main__:57e663a4-be2e-e945-1717-b33e666fffc0\n",
      "WARNING:__main__:c1df9deb-86ea-5718-787a-e9f6bb23f5cb\n",
      "WARNING:__main__:c03e3b54-8178-c1e0-8655-361f07aa65a9\n",
      "WARNING:__main__:2dba7639-1f74-42a8-53b5-2c66dfeed49f\n"
     ]
    },
    {
     "name": "stdout",
     "output_type": "stream",
     "text": [
      "processed chunk 76\n",
      "processed chunk 77\n"
     ]
    },
    {
     "name": "stderr",
     "output_type": "stream",
     "text": [
      "WARNING:__main__:c27722d2-bff6-87ab-ebb8-435e1f0c91a9\n"
     ]
    },
    {
     "name": "stdout",
     "output_type": "stream",
     "text": [
      "processed chunk 78\n"
     ]
    },
    {
     "name": "stderr",
     "output_type": "stream",
     "text": [
      "WARNING:__main__:c13cd40f-bbfa-85a1-26e6-62bb9c9257c5\n",
      "WARNING:__main__:a8dd66aa-5e92-8c94-55e6-848b5c79298b\n",
      "WARNING:__main__:1d559bb4-0825-6849-6d64-2c83840c5628\n"
     ]
    },
    {
     "name": "stdout",
     "output_type": "stream",
     "text": [
      "processed chunk 79\n"
     ]
    },
    {
     "name": "stderr",
     "output_type": "stream",
     "text": [
      "WARNING:__main__:f47b6801-82b6-9743-fec3-549bdc9fc789\n"
     ]
    },
    {
     "name": "stdout",
     "output_type": "stream",
     "text": [
      "processed chunk 80\n"
     ]
    },
    {
     "name": "stderr",
     "output_type": "stream",
     "text": [
      "WARNING:__main__:2776c381-3ab4-5e25-7c22-e39e36283e54\n",
      "WARNING:__main__:a1d398c0-4a72-ec30-ea5f-aef4fe5b73c7\n"
     ]
    },
    {
     "name": "stdout",
     "output_type": "stream",
     "text": [
      "processed chunk 81\n"
     ]
    },
    {
     "name": "stderr",
     "output_type": "stream",
     "text": [
      "WARNING:__main__:d2d4cbf0-9752-bae7-3a2c-12f7ac93c4d9\n",
      "WARNING:__main__:5f6ce363-6b90-c633-48a5-74df67e4598f\n",
      "WARNING:__main__:67db4cd5-02fa-6351-cbdc-1e4359639f8c\n",
      "WARNING:__main__:6ab43621-49dc-b29c-e4a2-eb7d17cd1543\n",
      "WARNING:__main__:482067cd-21cd-5ced-aa47-5ba5cbd80750\n",
      "WARNING:__main__:4be6424a-012e-0962-6750-94f5a11035b1\n",
      "WARNING:__main__:f9102226-a8a8-4175-8265-8234b48d5504\n",
      "WARNING:__main__:4a2c0445-2ef1-bdbc-2b19-3fb95d4e23c4\n",
      "WARNING:__main__:20f9b5af-cc0e-38f5-d6b4-d4a4ae0c5406\n",
      "WARNING:__main__:10a74c94-af37-58b6-7981-069c0886aa83\n",
      "WARNING:__main__:b6d773ab-db78-a788-f9fa-ce586050e0ac\n",
      "WARNING:__main__:ec06f302-7c64-46c3-147c-81ad666e1653\n",
      "WARNING:__main__:003c6ab8-2d19-8cf0-8d43-8259815f9e34\n",
      "WARNING:__main__:c154784b-6a2b-fae1-0510-540c8637f359\n",
      "WARNING:__main__:b90dea3a-b092-5abc-12c0-5a8d7f01f846\n",
      "WARNING:__main__:d2aa6644-29e6-c2e8-7981-f0b9883a874a\n"
     ]
    },
    {
     "name": "stdout",
     "output_type": "stream",
     "text": [
      "processed chunk 82\n",
      "processed chunk 83\n",
      "processed chunk 84\n"
     ]
    },
    {
     "name": "stderr",
     "output_type": "stream",
     "text": [
      "WARNING:__main__:88e9648f-a993-3d8a-0f68-49ad9ce6c492\n",
      "WARNING:__main__:795f7183-c0f2-09d2-eeb1-ac6a6aa0195f\n"
     ]
    },
    {
     "name": "stdout",
     "output_type": "stream",
     "text": [
      "processed chunk 85\n",
      "processed chunk 86\n"
     ]
    },
    {
     "name": "stderr",
     "output_type": "stream",
     "text": [
      "WARNING:__main__:3b4df68b-1807-d389-a6da-f3da3700ff21\n"
     ]
    },
    {
     "name": "stdout",
     "output_type": "stream",
     "text": [
      "processed chunk 87\n",
      "processed chunk 88\n",
      "processed chunk 89\n"
     ]
    },
    {
     "name": "stderr",
     "output_type": "stream",
     "text": [
      "WARNING:__main__:a7005e84-52db-6271-531d-a9205b6fc91a\n",
      "WARNING:__main__:b93f08ee-5d61-4bce-7eda-1b6d82ec4d5a\n"
     ]
    },
    {
     "name": "stdout",
     "output_type": "stream",
     "text": [
      "processed chunk 90\n",
      "processed chunk 91\n"
     ]
    },
    {
     "name": "stderr",
     "output_type": "stream",
     "text": [
      "WARNING:__main__:b9c8e087-d36a-13e1-74d5-f1b15764d0b6\n",
      "WARNING:__main__:eaa17ede-1f9a-69c9-4374-981fce94614b\n",
      "WARNING:__main__:b3893bc7-ba14-7beb-881b-7b308377d3b8\n",
      "WARNING:__main__:f4c179b0-636b-6f02-c7a6-7e26c31f4739\n",
      "WARNING:__main__:a6c301ce-0434-6272-f0e9-778d4e22aab6\n",
      "WARNING:__main__:6b2c5bd1-8aef-aa00-e223-09fdc045f6a0\n"
     ]
    },
    {
     "name": "stdout",
     "output_type": "stream",
     "text": [
      "processed chunk 92\n"
     ]
    },
    {
     "name": "stderr",
     "output_type": "stream",
     "text": [
      "WARNING:__main__:41bcf9d9-441a-91ec-6ff9-d8638f7edf7d\n",
      "WARNING:__main__:aed7e1c8-aa22-d14f-fc78-b258c92d2ab7\n"
     ]
    },
    {
     "name": "stdout",
     "output_type": "stream",
     "text": [
      "processed chunk 93\n"
     ]
    },
    {
     "name": "stderr",
     "output_type": "stream",
     "text": [
      "WARNING:__main__:a6bf5afb-be23-e4b1-2f76-d58d4f0f93d0\n"
     ]
    },
    {
     "name": "stdout",
     "output_type": "stream",
     "text": [
      "processed chunk 94\n"
     ]
    },
    {
     "name": "stderr",
     "output_type": "stream",
     "text": [
      "WARNING:__main__:ab05d0b9-6297-dba2-47a9-37766912a927\n",
      "WARNING:__main__:1724d5d4-1a24-edee-0e21-81ee475d264a\n",
      "WARNING:__main__:3379ac1e-9066-0b48-6bd5-9947b34e58ff\n",
      "WARNING:__main__:1c62bb4f-1db4-8978-a9ca-8e12332a8f85\n",
      "WARNING:__main__:99083b8b-5de6-a850-50e8-d2b5cf941367\n"
     ]
    },
    {
     "name": "stdout",
     "output_type": "stream",
     "text": [
      "processed chunk 95\n",
      "processed chunk 96\n",
      "processed chunk 97\n",
      "processed chunk 98\n",
      "processed chunk 99\n"
     ]
    },
    {
     "name": "stderr",
     "output_type": "stream",
     "text": [
      "WARNING:__main__:90d0d880-06fe-f557-eb4b-e88599ad8f5f\n"
     ]
    },
    {
     "name": "stdout",
     "output_type": "stream",
     "text": [
      "processed chunk 100\n",
      "processed chunk 101\n",
      "processed chunk 102\n"
     ]
    },
    {
     "name": "stderr",
     "output_type": "stream",
     "text": [
      "WARNING:__main__:86e280c0-6036-ef9c-2229-7cb2cf00f0a8\n"
     ]
    },
    {
     "name": "stdout",
     "output_type": "stream",
     "text": [
      "processed chunk 103\n",
      "processed chunk 104\n"
     ]
    },
    {
     "name": "stderr",
     "output_type": "stream",
     "text": [
      "WARNING:__main__:ac19ade8-16eb-d796-9c74-0bdf31a6c415\n",
      "WARNING:__main__:a601714d-0cce-5a0a-0da5-d0c51277a380\n",
      "WARNING:__main__:a56783b7-25cf-12ca-35d5-843930fda442\n",
      "WARNING:__main__:9a76bf78-0a81-f74f-9cbd-a795c5ff657e\n",
      "WARNING:__main__:41926d1d-b413-c7b0-93b4-0da1ec053c0c\n",
      "WARNING:__main__:c28d8e89-88a2-7070-16d8-5fd2a68a43cf\n",
      "WARNING:__main__:559b0d31-be35-7f1b-30ee-a48547c9d90a\n",
      "WARNING:__main__:d9544b06-b06b-cd46-2ae5-a0f268b5ced8\n",
      "WARNING:__main__:e1297cd6-3d0c-3db8-6b2d-42d08ec75ead\n",
      "WARNING:__main__:7fa65c67-dfdf-842f-4527-da9d0576df50\n",
      "WARNING:__main__:cdb62561-3747-a2da-af1c-8f6f65e57dd1\n"
     ]
    },
    {
     "name": "stdout",
     "output_type": "stream",
     "text": [
      "processed chunk 105\n"
     ]
    },
    {
     "name": "stderr",
     "output_type": "stream",
     "text": [
      "WARNING:__main__:3009a9b5-a24c-ddb8-b687-ff2c00b9cfd0\n",
      "WARNING:__main__:71c220b0-0d97-a96c-dccb-f1dc1676c93c\n"
     ]
    },
    {
     "name": "stdout",
     "output_type": "stream",
     "text": [
      "processed chunk 106\n"
     ]
    },
    {
     "name": "stderr",
     "output_type": "stream",
     "text": [
      "WARNING:__main__:1cfbbc55-772b-ce9f-7132-3f4a4893210a\n",
      "WARNING:__main__:5b739028-633c-9e6e-daae-54775184ea2c\n",
      "WARNING:__main__:666a1f97-21a1-9bfd-3f8f-583f9f701be3\n"
     ]
    },
    {
     "name": "stdout",
     "output_type": "stream",
     "text": [
      "processed chunk 107\n",
      "processed chunk 108\n"
     ]
    },
    {
     "name": "stderr",
     "output_type": "stream",
     "text": [
      "WARNING:__main__:716c3ba5-09de-39e6-f12d-2dad1436f15b\n",
      "WARNING:__main__:84aecc9d-c69c-0f1f-50a8-2f9b6b3af0b0\n",
      "WARNING:__main__:14e4e366-5216-1502-7cd5-0cd8133bc9ee\n",
      "WARNING:__main__:686655e9-2dfe-0fd1-1012-d6438b70e3f5\n",
      "WARNING:__main__:1ea2f5cc-a1c0-c0a9-1e64-2d14845eecaf\n",
      "WARNING:__main__:3503506b-e7a6-5260-7643-69191e994d09\n",
      "WARNING:__main__:c5b63c41-52cd-bfac-7ef8-4397265aa0e5\n",
      "WARNING:__main__:1c2f9791-326b-69ca-7ef7-cbdc90bde9b7\n",
      "WARNING:__main__:c3799e99-9722-d9c8-9d9e-94ef337fe886\n",
      "WARNING:__main__:8164cfef-2c85-8c0d-5d7f-cb1753adaec7\n"
     ]
    },
    {
     "name": "stdout",
     "output_type": "stream",
     "text": [
      "processed chunk 109\n",
      "processed chunk 110\n"
     ]
    },
    {
     "name": "stderr",
     "output_type": "stream",
     "text": [
      "WARNING:__main__:3b300289-d97d-a22d-57aa-8de5af3a5b8f\n",
      "WARNING:__main__:45f2c81c-915e-d5d4-0a91-054d59f089aa\n",
      "WARNING:__main__:2972516c-087d-15d1-f788-70e56e3964ba\n",
      "WARNING:__main__:ee7440ad-b186-b570-0a9d-949da4f0ca3d\n",
      "WARNING:__main__:68463cf7-3dc2-0f68-10b2-beacc3c37a13\n",
      "WARNING:__main__:06f63a3e-3700-1e42-0ee5-cd7c137474d3\n",
      "WARNING:__main__:0413ffcc-8442-5d49-f3be-c9d32650f597\n",
      "WARNING:__main__:681dcde7-4d30-6c18-4aea-58552dbb8cee\n",
      "WARNING:__main__:5f0ab1e6-d05e-7e25-88b3-650f6d715e73\n",
      "WARNING:__main__:83d49f7b-1528-cd6f-c44e-3ec730338fc6\n",
      "WARNING:__main__:6e6dc60e-4240-1582-bce2-4bfd494e9f3f\n",
      "WARNING:__main__:119ccd19-7acd-c2ac-3046-95584302d502\n",
      "WARNING:__main__:7a9eb502-b94f-8358-188c-af89efb69eba\n"
     ]
    },
    {
     "name": "stdout",
     "output_type": "stream",
     "text": [
      "processed chunk 111\n"
     ]
    },
    {
     "name": "stderr",
     "output_type": "stream",
     "text": [
      "WARNING:__main__:31964ea3-78bf-01cd-6083-d5468358dc05\n",
      "WARNING:__main__:f31c11bb-233d-4828-2853-fc845a0b6392\n",
      "WARNING:__main__:42d7b937-7e95-816c-039f-abed324edf09\n",
      "WARNING:__main__:2bf53f09-e4ba-a406-3c3d-50e772f4f452\n",
      "WARNING:__main__:e963a7a9-6ed6-2599-bd85-d388c6d27910\n"
     ]
    },
    {
     "name": "stdout",
     "output_type": "stream",
     "text": [
      "processed chunk 112\n"
     ]
    },
    {
     "name": "stderr",
     "output_type": "stream",
     "text": [
      "WARNING:__main__:e1e6d433-1792-2317-bb08-04dcd15f42e5\n"
     ]
    },
    {
     "name": "stdout",
     "output_type": "stream",
     "text": [
      "processed chunk 113\n",
      "processed chunk 114\n",
      "processed chunk 115\n"
     ]
    },
    {
     "name": "stderr",
     "output_type": "stream",
     "text": [
      "WARNING:__main__:b142a240-6cbc-b192-e9b8-f2819f913196\n",
      "WARNING:__main__:8868d4eb-0ea3-2722-906d-9b4c540d792a\n",
      "WARNING:__main__:d6c6049b-94f2-1d09-6313-678b4c92498a\n",
      "WARNING:__main__:04ab81e2-5687-9af3-fccb-28dc73f84567\n",
      "WARNING:__main__:a3673229-1ca2-b892-68ae-748fdafe243f\n",
      "WARNING:__main__:62e8ab38-4926-76c9-1d75-e2f0967bde0e\n",
      "WARNING:__main__:6fb9d7f0-4e6b-a2b3-9c45-a6a53bb6dfc2\n",
      "WARNING:__main__:bf7a55cd-4fe6-a4de-2b36-817d4cbcf6ff\n"
     ]
    },
    {
     "name": "stdout",
     "output_type": "stream",
     "text": [
      "processed chunk 116\n"
     ]
    },
    {
     "name": "stderr",
     "output_type": "stream",
     "text": [
      "WARNING:__main__:1aee197e-d727-e74d-3ced-78003149726c\n"
     ]
    },
    {
     "name": "stdout",
     "output_type": "stream",
     "text": [
      "processed chunk 117\n"
     ]
    },
    {
     "name": "stderr",
     "output_type": "stream",
     "text": [
      "WARNING:__main__:67650c39-d371-1ddf-e184-4d4e02f5f0c2\n",
      "WARNING:__main__:e1df7f4c-5946-5f43-3237-830c46ed77d2\n",
      "WARNING:__main__:d124e688-69fe-8df9-ffbc-5c5e7849d86a\n",
      "WARNING:__main__:c0e99c75-8b7e-7005-70dc-fc8127fa7824\n"
     ]
    },
    {
     "name": "stdout",
     "output_type": "stream",
     "text": [
      "processed chunk 118\n"
     ]
    },
    {
     "name": "stderr",
     "output_type": "stream",
     "text": [
      "WARNING:__main__:2b7aa4a4-3ff9-47e5-a412-1ca018feddd9\n"
     ]
    },
    {
     "name": "stdout",
     "output_type": "stream",
     "text": [
      "processed chunk 119\n"
     ]
    },
    {
     "name": "stderr",
     "output_type": "stream",
     "text": [
      "WARNING:__main__:a1067706-8476-fa83-fd46-a4ad108bcc1a\n"
     ]
    },
    {
     "name": "stdout",
     "output_type": "stream",
     "text": [
      "processed chunk 120\n"
     ]
    },
    {
     "name": "stderr",
     "output_type": "stream",
     "text": [
      "WARNING:__main__:120cc99f-2785-dea6-a795-5b26265bb2af\n",
      "WARNING:__main__:eedeeb84-e5f3-c139-7e0d-aee0db24dcea\n",
      "WARNING:__main__:530c197a-6331-7e2b-dc2b-d8b3469160bb\n"
     ]
    },
    {
     "name": "stdout",
     "output_type": "stream",
     "text": [
      "processed chunk 121\n",
      "processed chunk 122\n"
     ]
    },
    {
     "name": "stderr",
     "output_type": "stream",
     "text": [
      "WARNING:__main__:b195eccd-c642-da6a-d948-2435f4076f14\n"
     ]
    },
    {
     "name": "stdout",
     "output_type": "stream",
     "text": [
      "processed chunk 123\n",
      "processed chunk 124\n",
      "processed chunk 125\n"
     ]
    },
    {
     "name": "stderr",
     "output_type": "stream",
     "text": [
      "WARNING:__main__:4af94e4f-316e-4b36-e652-9fdad13f45e4\n",
      "WARNING:__main__:f1ae9832-b5f5-6843-9e5a-0a54a63abd39\n",
      "WARNING:__main__:06686e03-4fdd-5cfb-1142-51c8b106ada1\n"
     ]
    },
    {
     "name": "stdout",
     "output_type": "stream",
     "text": [
      "processed chunk 126\n",
      "processed chunk 127\n"
     ]
    },
    {
     "name": "stderr",
     "output_type": "stream",
     "text": [
      "WARNING:__main__:54c9415f-c1e4-a5cd-fe53-6c7dfd4d1593\n"
     ]
    },
    {
     "name": "stdout",
     "output_type": "stream",
     "text": [
      "processed chunk 128\n",
      "processed chunk 129\n",
      "processed chunk 130\n",
      "processed chunk 131\n",
      "processed chunk 132\n",
      "processed chunk 133\n",
      "processed chunk 134\n"
     ]
    },
    {
     "name": "stderr",
     "output_type": "stream",
     "text": [
      "WARNING:__main__:65967a76-996d-01a1-9b90-cd9c88fc6653\n"
     ]
    },
    {
     "name": "stdout",
     "output_type": "stream",
     "text": [
      "processed chunk 135\n",
      "processed chunk 136\n",
      "processed chunk 137\n",
      "processed chunk 138\n",
      "processed chunk 139\n",
      "processed chunk 140\n",
      "processed chunk 141\n",
      "processed chunk 142\n"
     ]
    },
    {
     "name": "stderr",
     "output_type": "stream",
     "text": [
      "WARNING:__main__:305572c4-9be7-fb15-0ec4-1b09a241ca51\n",
      "WARNING:__main__:0b8e2756-6e2c-f9e8-9dc1-a4cfdaa23a7d\n",
      "WARNING:__main__:285873d4-321c-6df7-bb3b-0739fb0c091d\n"
     ]
    },
    {
     "name": "stdout",
     "output_type": "stream",
     "text": [
      "processed chunk 143\n",
      "processed chunk 144\n"
     ]
    },
    {
     "name": "stderr",
     "output_type": "stream",
     "text": [
      "WARNING:__main__:8a3ac61d-b6dc-f8c8-176a-b6fb866db1fb\n"
     ]
    },
    {
     "name": "stdout",
     "output_type": "stream",
     "text": [
      "processed chunk 145\n"
     ]
    },
    {
     "name": "stderr",
     "output_type": "stream",
     "text": [
      "WARNING:__main__:a29d3f1a-49dc-3d5a-f45e-70cc06c81b7d\n"
     ]
    },
    {
     "name": "stdout",
     "output_type": "stream",
     "text": [
      "processed chunk 146\n"
     ]
    },
    {
     "name": "stderr",
     "output_type": "stream",
     "text": [
      "WARNING:__main__:2957bb33-b434-2e8f-bc08-9ce4fd525241\n",
      "WARNING:__main__:ad48f0ad-5423-9e1c-d88b-76af617aca61\n"
     ]
    },
    {
     "name": "stdout",
     "output_type": "stream",
     "text": [
      "processed chunk 147\n",
      "processed chunk 148\n"
     ]
    },
    {
     "name": "stderr",
     "output_type": "stream",
     "text": [
      "WARNING:__main__:4030dfd5-6b97-bf45-be91-2c392fcc5d67\n"
     ]
    },
    {
     "name": "stdout",
     "output_type": "stream",
     "text": [
      "processed chunk 149\n",
      "processed chunk 150\n",
      "processed chunk 151\n"
     ]
    },
    {
     "name": "stderr",
     "output_type": "stream",
     "text": [
      "WARNING:__main__:80c9984f-8707-94a8-3573-31261d5761e7\n"
     ]
    },
    {
     "name": "stdout",
     "output_type": "stream",
     "text": [
      "processed chunk 152\n"
     ]
    },
    {
     "name": "stderr",
     "output_type": "stream",
     "text": [
      "WARNING:__main__:3578b4c6-7647-0a96-a963-fd09ca173014\n",
      "WARNING:__main__:7a4a62ac-77b4-db6f-419b-b23de5c6dd26\n",
      "WARNING:__main__:86a08b07-684d-36ea-63c9-8d50f6f2e7e6\n",
      "WARNING:__main__:4f06c8f8-0d91-d8c2-ee1b-afeefe27da4c\n",
      "WARNING:__main__:49707c1b-dc01-90a9-6225-6a395dd8f562\n",
      "WARNING:__main__:1eccd512-f7eb-f8b1-446f-15772f0283e4\n",
      "WARNING:__main__:114bce94-f662-abc0-d47c-f6f48150b8e0\n"
     ]
    },
    {
     "name": "stdout",
     "output_type": "stream",
     "text": [
      "processed chunk 153\n",
      "processed chunk 154\n",
      "processed chunk 155\n",
      "processed chunk 156\n"
     ]
    },
    {
     "name": "stderr",
     "output_type": "stream",
     "text": [
      "WARNING:__main__:6c594a2c-621f-5da7-7023-6a54adb7db27\n",
      "WARNING:__main__:65c40dae-59be-222c-3fa5-ddfe5432ebe2\n",
      "WARNING:__main__:c835b4da-16f5-7302-997e-1335fd023cdf\n",
      "WARNING:__main__:d3693af5-1997-949c-140f-e679e972e6c8\n",
      "WARNING:__main__:cee8818e-dce2-4092-ac14-2f37d4d90658\n",
      "WARNING:__main__:11617176-d6d4-bdcb-1330-2d980084b770\n",
      "WARNING:__main__:74c531c6-3e59-41f9-cafd-689797ea3a21\n"
     ]
    },
    {
     "name": "stdout",
     "output_type": "stream",
     "text": [
      "processed chunk 157\n",
      "processed chunk 158\n"
     ]
    },
    {
     "name": "stderr",
     "output_type": "stream",
     "text": [
      "WARNING:__main__:db531f0c-ebf6-0c76-e4e2-8f01e53e4e59\n",
      "WARNING:__main__:931c9669-33ac-eb49-1a23-03ab9309318b\n"
     ]
    },
    {
     "name": "stdout",
     "output_type": "stream",
     "text": [
      "processed chunk 159\n"
     ]
    },
    {
     "name": "stderr",
     "output_type": "stream",
     "text": [
      "WARNING:__main__:e33e286a-7442-f528-45e9-10b3e66f26ea\n"
     ]
    },
    {
     "name": "stdout",
     "output_type": "stream",
     "text": [
      "processed chunk 160\n",
      "processed chunk 161\n"
     ]
    },
    {
     "name": "stderr",
     "output_type": "stream",
     "text": [
      "WARNING:__main__:90ded5fc-aed2-f5c7-4e0b-9a9555620ba0\n"
     ]
    },
    {
     "name": "stdout",
     "output_type": "stream",
     "text": [
      "processed chunk 162\n",
      "processed chunk 163\n",
      "processed chunk 164\n",
      "processed chunk 165\n"
     ]
    },
    {
     "name": "stderr",
     "output_type": "stream",
     "text": [
      "WARNING:__main__:d8115efa-c484-5e1e-5be6-21978657ca77\n"
     ]
    },
    {
     "name": "stdout",
     "output_type": "stream",
     "text": [
      "processed chunk 166\n",
      "processed chunk 167\n"
     ]
    },
    {
     "name": "stderr",
     "output_type": "stream",
     "text": [
      "WARNING:__main__:9cd6e2bd-9684-5790-88db-6c85aa2a1221\n",
      "WARNING:__main__:12b9e471-e8c2-31dc-f82b-9a34d1934af9\n"
     ]
    },
    {
     "name": "stdout",
     "output_type": "stream",
     "text": [
      "processed chunk 168\n"
     ]
    },
    {
     "name": "stderr",
     "output_type": "stream",
     "text": [
      "WARNING:__main__:565b0430-d130-5faf-ba89-e1bb3ced7299\n"
     ]
    },
    {
     "name": "stdout",
     "output_type": "stream",
     "text": [
      "processed chunk 169\n"
     ]
    },
    {
     "name": "stderr",
     "output_type": "stream",
     "text": [
      "WARNING:__main__:b5a77be4-2bbb-bc2d-bfd8-cb1566882fdb\n"
     ]
    },
    {
     "name": "stdout",
     "output_type": "stream",
     "text": [
      "processed chunk 170\n",
      "processed chunk 171\n"
     ]
    },
    {
     "name": "stderr",
     "output_type": "stream",
     "text": [
      "WARNING:__main__:75826ecb-16ea-524d-2713-566029a34f24\n"
     ]
    },
    {
     "name": "stdout",
     "output_type": "stream",
     "text": [
      "processed chunk 172\n",
      "processed chunk 173\n",
      "processed chunk 174\n"
     ]
    },
    {
     "name": "stderr",
     "output_type": "stream",
     "text": [
      "WARNING:__main__:98da115a-d01b-faec-1da4-6ad52b315fad\n"
     ]
    },
    {
     "name": "stdout",
     "output_type": "stream",
     "text": [
      "processed chunk 175\n",
      "processed chunk 176\n",
      "processed chunk 177\n"
     ]
    },
    {
     "name": "stderr",
     "output_type": "stream",
     "text": [
      "WARNING:__main__:fc63575b-aefa-2840-2a29-0f75c02b2b02\n",
      "WARNING:__main__:580fdc46-d146-1995-8790-a3522540eb74\n"
     ]
    },
    {
     "name": "stdout",
     "output_type": "stream",
     "text": [
      "processed chunk 178\n"
     ]
    },
    {
     "name": "stderr",
     "output_type": "stream",
     "text": [
      "WARNING:__main__:08f850a3-4700-bc97-ce89-f43976f20cf4\n"
     ]
    },
    {
     "name": "stdout",
     "output_type": "stream",
     "text": [
      "processed chunk 179\n"
     ]
    },
    {
     "name": "stderr",
     "output_type": "stream",
     "text": [
      "WARNING:__main__:62a2fbbe-b034-9f3e-0f72-88e9a82f994e\n",
      "WARNING:__main__:4d4b45ef-c022-207e-50e1-9f477e62eb8d\n",
      "WARNING:__main__:8d022d24-fbfb-aee1-ff4f-2a8948922eb9\n",
      "WARNING:__main__:00adbea8-aea9-e97a-62f7-16b99dccf3ef\n",
      "WARNING:__main__:066c527f-beb0-30e8-0a9f-df1d4cd23ed8\n",
      "WARNING:__main__:8815d465-db71-256f-26e6-d0e6aaedb0cd\n",
      "WARNING:__main__:e84e0ddd-080a-6e9a-f460-a73229240c0f\n",
      "WARNING:__main__:f95e668e-9539-1feb-eca3-7698351f2049\n",
      "WARNING:__main__:f447e69a-5aec-8776-3072-829fee27f8f3\n",
      "WARNING:__main__:5fb80403-e4d7-4e18-a6da-8041bf604259\n",
      "WARNING:__main__:e114282b-9939-9688-731a-3e9735c3e375\n",
      "WARNING:__main__:dd22d1b1-b158-22ae-b677-8ec2b6995363\n",
      "WARNING:__main__:3d889dfa-b30b-55ce-803a-46aca87fe5a1\n"
     ]
    },
    {
     "name": "stdout",
     "output_type": "stream",
     "text": [
      "processed chunk 180\n"
     ]
    },
    {
     "name": "stderr",
     "output_type": "stream",
     "text": [
      "WARNING:__main__:143b2337-d767-2d06-e513-9480ff14e1c6\n"
     ]
    },
    {
     "name": "stdout",
     "output_type": "stream",
     "text": [
      "processed chunk 181\n"
     ]
    },
    {
     "name": "stderr",
     "output_type": "stream",
     "text": [
      "WARNING:__main__:5a1eec63-81fb-71d0-cef1-6b7b12c78309\n"
     ]
    },
    {
     "name": "stdout",
     "output_type": "stream",
     "text": [
      "processed chunk 182\n"
     ]
    },
    {
     "name": "stderr",
     "output_type": "stream",
     "text": [
      "WARNING:__main__:2ac11daa-6c54-8014-a14f-663b2d8e4999\n",
      "WARNING:__main__:c7f48d07-91bd-b610-d5cc-129c94f180f9\n",
      "WARNING:__main__:50e96f94-db2e-76bb-d78d-ece1f43b18a5\n",
      "WARNING:__main__:b68d701b-eead-110c-f3f3-e6ebae96e6f5\n",
      "WARNING:__main__:00323582-74b6-c29e-f529-c04e228833df\n"
     ]
    },
    {
     "name": "stdout",
     "output_type": "stream",
     "text": [
      "processed chunk 183\n",
      "processed chunk 184\n",
      "processed chunk 185\n"
     ]
    },
    {
     "name": "stderr",
     "output_type": "stream",
     "text": [
      "WARNING:__main__:b7e3205b-7c34-88b9-7fd1-c7da1724ea1e\n",
      "WARNING:__main__:d65e7eb0-ec6f-04f0-6eb3-8ae405edfc78\n",
      "WARNING:__main__:4e79da38-6943-1c56-2ba0-b3816daf5de5\n",
      "WARNING:__main__:b7314c87-8464-c72e-140c-5775e1a6365e\n",
      "WARNING:__main__:3c99388e-0ef7-93fd-5bf2-55abde33714c\n",
      "WARNING:__main__:4b59fb2d-9979-d5cc-0977-4f0b8997993b\n",
      "WARNING:__main__:5fcfac50-cec4-be7c-4f0f-cd0a6513bdf0\n",
      "WARNING:__main__:98ed394b-ad56-80b5-777f-87322fade061\n",
      "WARNING:__main__:8b71a7b3-3469-7fa3-ca8e-6051b1f85536\n",
      "WARNING:__main__:4056bc92-8c8e-fd46-9faa-2ded1f0c1717\n"
     ]
    },
    {
     "name": "stdout",
     "output_type": "stream",
     "text": [
      "processed chunk 186\n",
      "processed chunk 187\n"
     ]
    },
    {
     "name": "stderr",
     "output_type": "stream",
     "text": [
      "WARNING:__main__:da88c226-e27a-56ef-ce5a-aec484864a9b\n"
     ]
    },
    {
     "name": "stdout",
     "output_type": "stream",
     "text": [
      "processed chunk 188\n"
     ]
    },
    {
     "name": "stderr",
     "output_type": "stream",
     "text": [
      "WARNING:__main__:2863196f-b00a-a683-8c2a-dd03415da5ea\n",
      "WARNING:__main__:126a9759-8329-ac2b-9aa2-6c87c1d23c5f\n"
     ]
    },
    {
     "name": "stdout",
     "output_type": "stream",
     "text": [
      "processed chunk 189\n",
      "processed chunk 190\n"
     ]
    },
    {
     "name": "stderr",
     "output_type": "stream",
     "text": [
      "WARNING:__main__:2d70f165-90cc-fe96-a00b-3be190939008\n",
      "WARNING:__main__:b85e5fb2-fd9a-e557-64fb-1876af28b2f3\n",
      "WARNING:__main__:82d278f5-082d-e4ac-c81d-897e342b9559\n"
     ]
    },
    {
     "name": "stdout",
     "output_type": "stream",
     "text": [
      "processed chunk 191\n"
     ]
    },
    {
     "name": "stderr",
     "output_type": "stream",
     "text": [
      "WARNING:__main__:83a25e44-4419-c611-fd33-e4e757c7d553\n"
     ]
    },
    {
     "name": "stdout",
     "output_type": "stream",
     "text": [
      "processed chunk 192\n"
     ]
    },
    {
     "name": "stderr",
     "output_type": "stream",
     "text": [
      "WARNING:__main__:8de2b1c4-c292-b814-931e-8a3f0e4c7984\n",
      "WARNING:__main__:02a4f2a6-cdec-3338-9b41-3fa6661b700e\n",
      "WARNING:__main__:b0d65756-8964-0d77-2cfb-acca930ffe61\n",
      "WARNING:__main__:dc2de5e8-132f-7769-a58b-a2234aaa9ea7\n",
      "WARNING:__main__:70609fde-0666-1b91-720f-a98842a734a4\n",
      "WARNING:__main__:1d67cd60-cc1f-bd79-d987-17028169f2fd\n",
      "WARNING:__main__:810667bc-29d4-c027-a571-605793139579\n",
      "WARNING:__main__:78faaf9e-a118-aa94-4c3c-bed9a94db73c\n",
      "WARNING:__main__:dc3d0f60-0fea-ad05-0b11-675e6b005682\n"
     ]
    },
    {
     "name": "stdout",
     "output_type": "stream",
     "text": [
      "processed chunk 193\n"
     ]
    },
    {
     "name": "stderr",
     "output_type": "stream",
     "text": [
      "WARNING:__main__:7fa67b4a-314a-badd-787c-96a8488033f2\n",
      "WARNING:__main__:ef4d083b-94aa-1ea9-daeb-a54c334ac033\n",
      "WARNING:__main__:31710f91-f4a5-12b9-6df7-eb2f148c91c3\n",
      "WARNING:__main__:5c4a99c7-231c-eebd-347f-77dc8d9e25a2\n",
      "WARNING:__main__:fed516af-396b-8c99-8f6d-436c2a5bd022\n",
      "WARNING:__main__:17d29333-bc7d-fde3-089a-d3d161d6d482\n",
      "WARNING:__main__:80a3ac93-37a8-e0fe-54ab-d448cfc8c8bb\n",
      "WARNING:__main__:48f5d816-f647-4467-e78e-e7088e0a464c\n",
      "WARNING:__main__:f4377b53-18d7-a3c4-2725-2cd3fcc698b7\n",
      "WARNING:__main__:2570a1e5-4d72-65fc-6f30-6b1b97f20b04\n",
      "WARNING:__main__:2829ae03-d8a6-3adb-3761-d33f80a5296d\n",
      "WARNING:__main__:04f5c1a5-026b-f5b7-8326-21671aba7e98\n",
      "WARNING:__main__:9a08eab2-06f5-ab03-0899-12107d27727f\n",
      "WARNING:__main__:754c4ba0-b913-5c9d-d263-d98a51776f98\n",
      "WARNING:__main__:1b96bfd4-1eb6-704e-4a6d-ace99cdad81c\n",
      "WARNING:__main__:102c592b-e6f3-e708-cc59-10bc16ce1f2b\n",
      "WARNING:__main__:958c8143-1e67-7a26-8797-aee750e67eb5\n",
      "WARNING:__main__:783e28c4-9c06-5cea-8dc0-60c4de372858\n",
      "WARNING:__main__:da314042-85cf-c996-0377-8591caba98b0\n",
      "WARNING:__main__:e1694b18-5490-e9e9-e406-70b19eb362ac\n",
      "WARNING:__main__:b6179a88-1db3-fb15-b89b-ef2a84fc6907\n"
     ]
    },
    {
     "name": "stdout",
     "output_type": "stream",
     "text": [
      "processed chunk 194\n",
      "processed chunk 195\n",
      "processed chunk 196\n"
     ]
    },
    {
     "name": "stderr",
     "output_type": "stream",
     "text": [
      "WARNING:__main__:f4ce9941-968e-5150-2903-dfc67a349505\n"
     ]
    },
    {
     "name": "stdout",
     "output_type": "stream",
     "text": [
      "processed chunk 197\n",
      "processed chunk 198\n"
     ]
    },
    {
     "name": "stderr",
     "output_type": "stream",
     "text": [
      "WARNING:__main__:e1a51d97-3c01-07f5-bd6a-95679b0e4dc8\n"
     ]
    },
    {
     "name": "stdout",
     "output_type": "stream",
     "text": [
      "processed chunk 199\n",
      "processed chunk 200\n"
     ]
    },
    {
     "name": "stderr",
     "output_type": "stream",
     "text": [
      "WARNING:__main__:6ae65f1e-a041-d5d9-8a61-e1ff8b659a1b\n",
      "WARNING:__main__:8808d795-5b1c-2e88-7a83-813aa19d6709\n",
      "WARNING:__main__:9584247a-4a6c-cba4-95c3-64bef6a65c52\n"
     ]
    },
    {
     "name": "stdout",
     "output_type": "stream",
     "text": [
      "processed chunk 201\n"
     ]
    },
    {
     "name": "stderr",
     "output_type": "stream",
     "text": [
      "WARNING:__main__:f795f4d3-2de5-4757-87d8-332b3bb26d1e\n",
      "WARNING:__main__:060f7d1d-5748-a7e6-83e8-47e723e41bcf\n",
      "WARNING:__main__:ee8517d0-d3b0-5ab9-4786-27801d796b58\n",
      "WARNING:__main__:9bb58eb7-ad52-924f-1e04-fdf31b6f8f75\n",
      "WARNING:__main__:d55fa44f-617f-98a4-3c23-eabd43f27cd5\n",
      "WARNING:__main__:8d93ee2f-2658-c1bc-9c9f-97067854d1ca\n",
      "WARNING:__main__:75ebdb24-c1c5-ca9f-03bc-b1ed3da10bdc\n",
      "WARNING:__main__:e3928e9f-867b-1170-ef27-1a09d088556f\n"
     ]
    },
    {
     "name": "stdout",
     "output_type": "stream",
     "text": [
      "processed chunk 202\n",
      "processed chunk 203\n",
      "processed chunk 204\n"
     ]
    },
    {
     "name": "stderr",
     "output_type": "stream",
     "text": [
      "WARNING:__main__:7a1e7b59-bf68-64ee-6aa8-6cee83a34ca5\n",
      "WARNING:__main__:e67b1a4a-640e-eaef-bb05-be4936d89e56\n",
      "WARNING:__main__:998e7921-5838-78e9-5568-3c7d1f49bd6b\n",
      "WARNING:__main__:f0597651-da1a-bbfb-79bf-6b94bc1ee30b\n",
      "WARNING:__main__:5f21fba3-d900-9da5-9e90-a8f06331ea1f\n",
      "WARNING:__main__:22e468fe-4979-42fd-b0d7-90f44b6fa77a\n",
      "WARNING:__main__:d2ff39b8-2f0e-9f00-22e5-cfd74b4da6ac\n",
      "WARNING:__main__:37521160-afc8-39a2-e128-0963439700f7\n",
      "WARNING:__main__:52580b59-b5ac-f12f-bfad-849f03b09054\n",
      "WARNING:__main__:0ee2cde2-8bd8-8a0d-1515-b3aa7b034046\n",
      "WARNING:__main__:4394b201-2b8c-e470-8227-522b84bad695\n",
      "WARNING:__main__:a789fe5d-b417-45ac-a4f0-2c64a8e050d3\n",
      "WARNING:__main__:cb80014f-509d-8459-112c-f059607648f9\n",
      "WARNING:__main__:d01e19c7-8215-5c8d-67c2-39ca0b5d261f\n",
      "WARNING:__main__:8982c865-0971-065b-addf-c8f6a339517a\n",
      "WARNING:__main__:0d28af20-0057-e0d4-d4a2-04588eeca979\n",
      "WARNING:__main__:7ec1e346-00fc-2b27-ae53-3cf0d6b70f3b\n",
      "WARNING:__main__:831d6124-c295-d5c1-b162-5f52f336c04e\n",
      "WARNING:__main__:ce4fe695-e71b-9951-fc97-99b2637a86df\n",
      "WARNING:__main__:251a2691-c35b-5f05-7127-53e856c82a7c\n",
      "WARNING:__main__:3898b810-2ff8-6496-8e4c-104279bc7676\n",
      "WARNING:__main__:4f9a4996-5466-f131-67cd-6a5d60d97b73\n",
      "WARNING:__main__:cf79123a-8c60-189d-a510-75f903f83f19\n",
      "WARNING:__main__:1017432f-29ad-a94f-14da-859188f6b581\n",
      "WARNING:__main__:4db839b3-9883-f06d-464e-a0baf97da6d0\n"
     ]
    },
    {
     "name": "stdout",
     "output_type": "stream",
     "text": [
      "processed chunk 205\n",
      "processed chunk 206\n"
     ]
    },
    {
     "name": "stderr",
     "output_type": "stream",
     "text": [
      "WARNING:__main__:6ef874e5-eda3-d496-d748-d545bea57c3f\n",
      "WARNING:__main__:cd1f135f-519a-953f-9b3e-958d6da1f48a\n",
      "WARNING:__main__:1a4f58d8-56b9-3d80-71e3-738c63ad10b9\n"
     ]
    },
    {
     "name": "stdout",
     "output_type": "stream",
     "text": [
      "processed chunk 207\n"
     ]
    },
    {
     "name": "stderr",
     "output_type": "stream",
     "text": [
      "WARNING:__main__:96d22875-6ca1-77d0-0247-8247ed2c7f72\n",
      "WARNING:__main__:600d4360-1634-e74e-1412-991290d9863c\n",
      "WARNING:__main__:0351f696-8b0f-48e0-2c75-4902edfd82e7\n",
      "WARNING:__main__:5db55556-eeef-77d4-2707-df439f7cca9c\n",
      "WARNING:__main__:c30503ba-07aa-48ae-018f-72d170681ecf\n",
      "WARNING:__main__:7f750ac3-64de-6779-b2d0-b82640488216\n",
      "WARNING:__main__:3da6f0ac-8158-67fe-c3ab-3a77d1185939\n",
      "WARNING:__main__:6b862ca8-b81c-ec95-788d-1ecaec54f8ef\n",
      "WARNING:__main__:9b0870be-50f8-59a0-64e2-38cc6005712b\n",
      "WARNING:__main__:18034231-65fa-5b38-95cc-6c5c19620987\n",
      "WARNING:__main__:083b4bc5-950c-0a89-fbd6-1d815b6d5942\n",
      "WARNING:__main__:aa1f1b12-4018-944d-4abc-cbb17917bfb9\n",
      "WARNING:__main__:6e2c40c7-7db3-22e4-f91f-38ea397ebe12\n",
      "WARNING:__main__:73ca0edb-2817-2e7d-7b37-c515bf012f43\n"
     ]
    },
    {
     "name": "stdout",
     "output_type": "stream",
     "text": [
      "processed chunk 208\n"
     ]
    },
    {
     "name": "stderr",
     "output_type": "stream",
     "text": [
      "WARNING:__main__:a007f684-1e21-c8d6-4833-ce2b91e34ba2\n"
     ]
    },
    {
     "name": "stdout",
     "output_type": "stream",
     "text": [
      "processed chunk 209\n",
      "processed chunk 210\n"
     ]
    },
    {
     "name": "stderr",
     "output_type": "stream",
     "text": [
      "WARNING:__main__:6f16ecc2-2e7d-9e46-5620-d53d10ccbaff\n",
      "WARNING:__main__:9a33c7fc-8a5f-de41-6f28-cceac19c7cd2\n",
      "WARNING:__main__:d92e2122-66b2-0a34-01f8-b69d7dbb30d5\n",
      "WARNING:__main__:dcc2453f-7bac-cd7b-8929-3db3fbdfb5c5\n",
      "WARNING:__main__:a8f3bcb3-81d3-634b-5cb1-74edc6c061ac\n",
      "WARNING:__main__:428ba7e8-dcf4-5b22-c982-b95a18760f6f\n",
      "WARNING:__main__:2458f219-6b7d-4594-bdf7-ff9126100800\n",
      "WARNING:__main__:0ec2232b-7e5b-5c25-6320-3d4203cc613d\n",
      "WARNING:__main__:3ea69aee-d312-007d-1860-073aba2b7930\n",
      "WARNING:__main__:bced4320-4318-c6c8-45fb-240a2b83731b\n",
      "WARNING:__main__:ad068fe9-6545-4137-abf4-ae507c45fbce\n",
      "WARNING:__main__:5d8ac8b2-4c0e-4a7d-ba86-7ccfe2b6e093\n"
     ]
    },
    {
     "name": "stdout",
     "output_type": "stream",
     "text": [
      "processed chunk 211\n",
      "processed chunk 212\n"
     ]
    },
    {
     "name": "stderr",
     "output_type": "stream",
     "text": [
      "WARNING:__main__:b88d0c28-52fc-a93c-43d0-80cbd9c4ae63\n"
     ]
    },
    {
     "name": "stdout",
     "output_type": "stream",
     "text": [
      "processed chunk 213\n",
      "processed chunk 214\n"
     ]
    },
    {
     "name": "stderr",
     "output_type": "stream",
     "text": [
      "WARNING:__main__:f7de5204-7f88-5f0f-fe65-50aac38cac10\n"
     ]
    },
    {
     "name": "stdout",
     "output_type": "stream",
     "text": [
      "processed chunk 215\n",
      "processed chunk 216\n",
      "processed chunk 217\n",
      "processed chunk 218\n"
     ]
    },
    {
     "name": "stderr",
     "output_type": "stream",
     "text": [
      "WARNING:__main__:1de1351c-122d-109d-81c2-9ed8456d9e27\n",
      "WARNING:__main__:a9ab0fa6-77c0-060c-2a4a-9438705e4f42\n",
      "WARNING:__main__:aee86ef8-3d34-7870-adba-102df21111c6\n",
      "WARNING:__main__:951d8e75-720d-f720-4c21-9e2efa13055f\n",
      "WARNING:__main__:1a6fdb5a-ea21-eda7-b027-6f4f60b2a64f\n",
      "WARNING:__main__:cff75db1-63b0-f760-abc5-5f3409504e74\n",
      "WARNING:__main__:832bf913-6f85-8ee2-c737-48dd90054e01\n",
      "WARNING:__main__:103dca75-704e-4d46-dc72-a657a298e2e4\n",
      "WARNING:__main__:32e8ea47-ccce-f502-497c-d8e52dcda704\n",
      "WARNING:__main__:b7790e04-ddea-0bfe-ca47-91b56aa968fb\n",
      "WARNING:__main__:bb780128-61d0-fb55-79dd-312838de3495\n"
     ]
    },
    {
     "name": "stdout",
     "output_type": "stream",
     "text": [
      "processed chunk 219\n",
      "processed chunk 220\n"
     ]
    },
    {
     "name": "stderr",
     "output_type": "stream",
     "text": [
      "WARNING:__main__:8703f505-7810-9635-1143-754a620fef79\n"
     ]
    },
    {
     "name": "stdout",
     "output_type": "stream",
     "text": [
      "processed chunk 221\n"
     ]
    },
    {
     "name": "stderr",
     "output_type": "stream",
     "text": [
      "WARNING:__main__:deffea49-7b1b-d867-cb22-fdee3171d90b\n"
     ]
    },
    {
     "name": "stdout",
     "output_type": "stream",
     "text": [
      "processed chunk 222\n",
      "processed chunk 223\n"
     ]
    },
    {
     "name": "stderr",
     "output_type": "stream",
     "text": [
      "WARNING:__main__:f0365bbf-7ee7-2914-e74e-4a2de439c1bd\n"
     ]
    },
    {
     "name": "stdout",
     "output_type": "stream",
     "text": [
      "processed chunk 224\n",
      "processed chunk 225\n",
      "processed chunk 226\n"
     ]
    },
    {
     "name": "stderr",
     "output_type": "stream",
     "text": [
      "WARNING:__main__:54e9d57b-fe44-0e50-a0fd-3999f6331d0b\n"
     ]
    },
    {
     "name": "stdout",
     "output_type": "stream",
     "text": [
      "processed chunk 227\n"
     ]
    },
    {
     "name": "stderr",
     "output_type": "stream",
     "text": [
      "WARNING:__main__:c0446ffe-8c99-0e92-d464-317e1a281eec\n",
      "WARNING:__main__:9864ef23-c21c-ca3e-5929-4ce5294ea48c\n",
      "WARNING:__main__:573752ba-b576-9d5b-832a-3fb8c73bcf56\n",
      "WARNING:__main__:975f566b-7e2a-1bb6-4f39-e5cf18e55915\n",
      "WARNING:__main__:dd84cd52-4f5a-aa59-621e-d8d5a3190a6c\n",
      "WARNING:__main__:9a2d0d67-3a77-2fca-a4f4-04d9b62703b8\n",
      "WARNING:__main__:88af33ca-4906-c346-cba5-5e798978b588\n",
      "WARNING:__main__:ff287311-46d0-2e07-06e2-b563b457afd0\n"
     ]
    },
    {
     "name": "stdout",
     "output_type": "stream",
     "text": [
      "processed chunk 228\n"
     ]
    },
    {
     "name": "stderr",
     "output_type": "stream",
     "text": [
      "WARNING:__main__:456b4058-2c11-faf1-310b-bd023b5d0782\n",
      "WARNING:__main__:b296a850-c6d5-2cae-9ac3-1472cc3ce92f\n",
      "WARNING:__main__:ac0ff9fe-61a0-d20a-afd4-eea07bc2ff44\n"
     ]
    },
    {
     "name": "stdout",
     "output_type": "stream",
     "text": [
      "processed chunk 229\n",
      "processed chunk 230\n"
     ]
    },
    {
     "name": "stderr",
     "output_type": "stream",
     "text": [
      "WARNING:__main__:8b90a417-6535-ce5a-0a27-ff7625668e99\n"
     ]
    },
    {
     "name": "stdout",
     "output_type": "stream",
     "text": [
      "processed chunk 231\n"
     ]
    },
    {
     "name": "stderr",
     "output_type": "stream",
     "text": [
      "WARNING:__main__:ba97c417-e5df-af5b-c4b8-a242c4c005fa\n",
      "WARNING:__main__:e6d6f07e-c6f1-1718-8e7f-037977df6e51\n"
     ]
    },
    {
     "name": "stdout",
     "output_type": "stream",
     "text": [
      "processed chunk 232\n",
      "processed chunk 233\n"
     ]
    },
    {
     "name": "stderr",
     "output_type": "stream",
     "text": [
      "WARNING:__main__:57caf4c9-69b0-9701-f7e2-354c2aa69352\n",
      "WARNING:__main__:349d6213-db6e-630b-83db-fad81d625392\n"
     ]
    },
    {
     "name": "stdout",
     "output_type": "stream",
     "text": [
      "processed chunk 234\n"
     ]
    },
    {
     "name": "stderr",
     "output_type": "stream",
     "text": [
      "WARNING:__main__:2db9a049-6331-c2ff-58c0-77b2d95e2ea5\n"
     ]
    },
    {
     "name": "stdout",
     "output_type": "stream",
     "text": [
      "processed chunk 235\n",
      "processed chunk 236\n",
      "processed chunk 237\n"
     ]
    },
    {
     "name": "stderr",
     "output_type": "stream",
     "text": [
      "WARNING:__main__:9390f372-c7f6-28e4-1283-2d80fc5fef4c\n"
     ]
    },
    {
     "name": "stdout",
     "output_type": "stream",
     "text": [
      "processed chunk 238\n"
     ]
    },
    {
     "name": "stderr",
     "output_type": "stream",
     "text": [
      "WARNING:__main__:4158d365-6635-a626-5fa3-59097bb08cf5\n",
      "WARNING:__main__:9c323806-001f-6f83-d7c5-f8722c932dc1\n"
     ]
    },
    {
     "name": "stdout",
     "output_type": "stream",
     "text": [
      "processed chunk 239\n"
     ]
    },
    {
     "name": "stderr",
     "output_type": "stream",
     "text": [
      "WARNING:__main__:2afca4f5-d747-6f50-3c79-afd8abba35ce\n"
     ]
    },
    {
     "name": "stdout",
     "output_type": "stream",
     "text": [
      "processed chunk 240\n"
     ]
    },
    {
     "name": "stderr",
     "output_type": "stream",
     "text": [
      "WARNING:__main__:348f7069-ce14-6daf-a6b4-2a3cbe123d3e\n",
      "WARNING:__main__:94450ecd-e45b-34c6-078a-c7090ab82fc2\n",
      "WARNING:__main__:1cf778a6-06c8-c4b4-44d8-f470aed393fa\n",
      "WARNING:__main__:67492ef8-f512-ffe9-ce0e-ff6b0422c64a\n",
      "WARNING:__main__:6125eb8b-7eec-9a21-452a-5251693005a5\n",
      "WARNING:__main__:bc8596ea-f1c8-2eff-44eb-cabc39d836f1\n",
      "WARNING:__main__:2b1903d1-f09a-9767-896d-12860aeac605\n",
      "WARNING:__main__:bd77151e-47a9-4220-76e5-aa18ff581480\n",
      "WARNING:__main__:123901da-3241-14dc-6187-78bb9cc84531\n",
      "WARNING:__main__:b731b1f5-b62d-06c7-0f32-1c4c533df8f8\n",
      "WARNING:__main__:4910469e-6287-9bc3-8d84-76ffac129289\n",
      "WARNING:__main__:865cab3a-46c9-c181-aea3-a198075d97a0\n",
      "WARNING:__main__:bcadaefc-6ea1-0a55-dd1b-940271c78c28\n"
     ]
    },
    {
     "name": "stdout",
     "output_type": "stream",
     "text": [
      "processed chunk 241\n"
     ]
    },
    {
     "name": "stderr",
     "output_type": "stream",
     "text": [
      "WARNING:__main__:6e26828a-5afd-06ea-7412-e109ae882678\n",
      "WARNING:__main__:8ba34536-5b73-3d14-0bb1-cea9869e75d4\n",
      "WARNING:__main__:e351b36c-7dc8-b18f-c9e3-2010fc0372a3\n",
      "WARNING:__main__:139481f0-f72d-9605-1f86-d638469e5e79\n",
      "WARNING:__main__:e0970396-8379-6feb-6a16-3593e5dba9f5\n",
      "WARNING:__main__:24ab476b-0bc2-0143-15b5-025fd206c344\n",
      "WARNING:__main__:469f81d3-3a84-ec17-c735-09e0c71f1049\n",
      "WARNING:__main__:a5aca28d-8390-9287-a336-09f0b740155f\n"
     ]
    },
    {
     "name": "stdout",
     "output_type": "stream",
     "text": [
      "processed chunk 242\n",
      "processed chunk 243\n"
     ]
    },
    {
     "name": "stderr",
     "output_type": "stream",
     "text": [
      "WARNING:__main__:13f70a42-10e4-b737-44ba-44ec7bcbf5b9\n",
      "WARNING:__main__:286c6402-4d0f-a931-912f-f2766d7230d0\n",
      "WARNING:__main__:e0920019-3659-6987-12a6-728606be16d6\n",
      "WARNING:__main__:e76bb539-704f-eb2b-a3ad-fecb0ed7e7c4\n"
     ]
    },
    {
     "name": "stdout",
     "output_type": "stream",
     "text": [
      "processed chunk 244\n"
     ]
    },
    {
     "name": "stderr",
     "output_type": "stream",
     "text": [
      "WARNING:__main__:6b82c6d2-73bf-3dd6-1303-b038f5279613\n"
     ]
    },
    {
     "name": "stdout",
     "output_type": "stream",
     "text": [
      "processed chunk 245\n"
     ]
    },
    {
     "name": "stderr",
     "output_type": "stream",
     "text": [
      "WARNING:__main__:2dc4c054-5951-fc2d-2613-df784e4cc9cf\n"
     ]
    },
    {
     "name": "stdout",
     "output_type": "stream",
     "text": [
      "processed chunk 246\n"
     ]
    },
    {
     "name": "stderr",
     "output_type": "stream",
     "text": [
      "WARNING:__main__:e78d8529-2191-a843-b398-d9a85d141128\n",
      "WARNING:__main__:7a3fa5b1-1995-17f3-0217-06d735323ea1\n",
      "WARNING:__main__:67a2fca5-48d6-4d0f-620b-228cc260fc56\n"
     ]
    },
    {
     "name": "stdout",
     "output_type": "stream",
     "text": [
      "processed chunk 247\n"
     ]
    },
    {
     "name": "stderr",
     "output_type": "stream",
     "text": [
      "WARNING:__main__:6616543c-ae2b-e284-4dbe-40ac35d8f05d\n",
      "WARNING:__main__:cf00aa12-decc-01fa-faa5-4f28c45a95a5\n"
     ]
    },
    {
     "name": "stdout",
     "output_type": "stream",
     "text": [
      "processed chunk 248\n"
     ]
    },
    {
     "name": "stderr",
     "output_type": "stream",
     "text": [
      "WARNING:__main__:c6c0add4-4efe-ca56-63ff-d34c22bfecfa\n"
     ]
    },
    {
     "name": "stdout",
     "output_type": "stream",
     "text": [
      "processed chunk 249\n"
     ]
    },
    {
     "name": "stderr",
     "output_type": "stream",
     "text": [
      "WARNING:__main__:8033d79f-6829-253f-cd01-9137ba4ea97c\n"
     ]
    },
    {
     "name": "stdout",
     "output_type": "stream",
     "text": [
      "processed chunk 250\n"
     ]
    },
    {
     "name": "stderr",
     "output_type": "stream",
     "text": [
      "WARNING:__main__:68a00c4b-bac3-c044-242c-966320345396\n",
      "WARNING:__main__:46224152-1025-2aae-dd2b-4b81c722fc9b\n"
     ]
    },
    {
     "name": "stdout",
     "output_type": "stream",
     "text": [
      "processed chunk 251\n",
      "processed chunk 252\n",
      "processed chunk 253\n"
     ]
    },
    {
     "name": "stderr",
     "output_type": "stream",
     "text": [
      "WARNING:__main__:eac6417e-72b2-96b9-eaf6-fc2e56a3b688\n",
      "WARNING:__main__:feabd937-1391-1edc-5663-ce8829edb681\n",
      "WARNING:__main__:0ce74197-4761-f800-1a30-8a79bb21e5b1\n",
      "WARNING:__main__:2987a24a-c4fb-e1af-d3e2-37de309cfc2d\n"
     ]
    },
    {
     "name": "stdout",
     "output_type": "stream",
     "text": [
      "processed chunk 254\n",
      "processed chunk 255\n"
     ]
    },
    {
     "name": "stderr",
     "output_type": "stream",
     "text": [
      "WARNING:__main__:12cbdaba-0922-12fa-2f81-633a433428ba\n",
      "WARNING:__main__:779fd19a-7017-6d5a-177a-49ea672e613d\n",
      "WARNING:__main__:2940b3fb-209a-5243-0332-94dd734edf82\n",
      "WARNING:__main__:ca264ae0-405c-bbdd-ccd4-86b30fef5a17\n",
      "WARNING:__main__:34a71cfc-06b9-47f0-273e-fa02393ba4f7\n",
      "WARNING:__main__:4aad037f-c329-a363-1d33-824274f2c735\n"
     ]
    },
    {
     "name": "stdout",
     "output_type": "stream",
     "text": [
      "processed chunk 256\n"
     ]
    },
    {
     "name": "stderr",
     "output_type": "stream",
     "text": [
      "WARNING:__main__:3006d1ab-dff9-1577-81b2-9866b6a07c98\n",
      "WARNING:__main__:7dc2502a-7202-953e-41c4-bd2b771af1e2\n",
      "WARNING:__main__:e2279e4b-6901-0d98-4e10-76e1173eaa9e\n",
      "WARNING:__main__:deb06e71-4355-7e9d-a564-277b398aed5d\n",
      "WARNING:__main__:7893f8de-f5c2-02ec-19c9-2492a54a877c\n",
      "WARNING:__main__:cb08cf37-fd0d-f62c-80a0-8b423078a2a1\n",
      "WARNING:__main__:e0d7f6c2-dcda-7ef7-4f8c-1046646a530d\n",
      "WARNING:__main__:f9d59eda-0301-edbd-77a0-3e9e0c218450\n",
      "WARNING:__main__:f7a34117-2dee-26c7-5b43-ed3d8e367f46\n",
      "WARNING:__main__:743d8558-3ba8-bc0a-7f97-0448f857f188\n",
      "WARNING:__main__:39177454-7aa7-2506-7b56-01759123c8a9\n",
      "WARNING:__main__:770cddf9-375d-a1a2-5bdf-179eff91f84c\n",
      "WARNING:__main__:ef0b804c-f3a8-3222-fd00-20ab56cc7c9d\n",
      "WARNING:__main__:ef993555-e225-0dda-6c82-3322dedabe62\n",
      "WARNING:__main__:cf4f3f3f-f854-16ad-a645-0726d8735124\n",
      "WARNING:__main__:6d6aa65a-3b0a-ac38-9c78-25012cee0866\n",
      "WARNING:__main__:df92d982-f291-f5fe-8c5a-c35e8a2f9c5f\n"
     ]
    },
    {
     "name": "stdout",
     "output_type": "stream",
     "text": [
      "processed chunk 257\n"
     ]
    },
    {
     "name": "stderr",
     "output_type": "stream",
     "text": [
      "WARNING:__main__:e740ddf7-9f0b-01fc-da38-a8a5e66ecb12\n"
     ]
    },
    {
     "name": "stdout",
     "output_type": "stream",
     "text": [
      "processed chunk 258\n"
     ]
    },
    {
     "name": "stderr",
     "output_type": "stream",
     "text": [
      "WARNING:__main__:bfaeb3c6-2ed5-7a8a-ca44-c4e9d1e33a6f\n",
      "WARNING:__main__:cdc39114-919e-a5cc-ae48-dca52e962157\n",
      "WARNING:__main__:0f744429-5122-9831-b9c2-1986ca482631\n",
      "WARNING:__main__:1faf872d-f702-4854-a7b2-bd0bf1dc911e\n",
      "WARNING:__main__:bea804cb-3dee-0b9c-04b8-d727d2c9fb9d\n",
      "WARNING:__main__:71a5b176-59e5-5f4e-9264-5ae65479049e\n",
      "WARNING:__main__:0c2c8d8c-c5bc-f36b-d51e-7feb64c2c54d\n",
      "WARNING:__main__:1955043e-b64a-ec5e-7fc6-6671162bc844\n",
      "WARNING:__main__:9c3d6563-a55d-4221-ce74-a356bec94f5e\n"
     ]
    },
    {
     "name": "stdout",
     "output_type": "stream",
     "text": [
      "processed chunk 259\n"
     ]
    },
    {
     "name": "stderr",
     "output_type": "stream",
     "text": [
      "WARNING:__main__:23833934-b302-5f09-5533-05d9f7e690a8\n",
      "WARNING:__main__:59fc30c6-4610-6554-d4ff-d01c49ef35f1\n",
      "WARNING:__main__:6b20a75e-3931-0d4d-6a8a-5bf3439061e4\n",
      "WARNING:__main__:adc475bd-0ce0-b619-8741-b630a02f7743\n",
      "WARNING:__main__:b1ff9071-56a9-4dd9-8200-5872ef8626bb\n"
     ]
    },
    {
     "name": "stdout",
     "output_type": "stream",
     "text": [
      "processed chunk 260\n"
     ]
    },
    {
     "name": "stderr",
     "output_type": "stream",
     "text": [
      "WARNING:__main__:c79ef630-a425-77af-c72b-cafd7d592454\n"
     ]
    },
    {
     "name": "stdout",
     "output_type": "stream",
     "text": [
      "processed chunk 261\n"
     ]
    },
    {
     "name": "stderr",
     "output_type": "stream",
     "text": [
      "WARNING:__main__:73f86251-e537-3567-c1df-56431113b3f4\n"
     ]
    },
    {
     "name": "stdout",
     "output_type": "stream",
     "text": [
      "processed chunk 262\n"
     ]
    },
    {
     "name": "stderr",
     "output_type": "stream",
     "text": [
      "WARNING:__main__:fcdd5b55-6492-2126-6aeb-1137e46b97ab\n",
      "WARNING:__main__:c89dcb3d-a7e2-41ec-0145-885c50dbb685\n",
      "WARNING:__main__:e8be364b-9d15-5845-ac58-da3a5dd89307\n",
      "WARNING:__main__:d352ed71-40ce-a144-58b9-436f4d031e09\n",
      "WARNING:__main__:03642ad0-ccd9-84e1-c661-12a536189424\n",
      "WARNING:__main__:b586f3ed-13be-f638-4ea4-3bdbe5270b51\n"
     ]
    },
    {
     "name": "stdout",
     "output_type": "stream",
     "text": [
      "processed chunk 263\n"
     ]
    },
    {
     "name": "stderr",
     "output_type": "stream",
     "text": [
      "WARNING:__main__:7f337c0a-2cb7-b09c-5b68-7ae9eff43fa8\n",
      "WARNING:__main__:80ae2f76-7e2f-db96-d51b-394ef96bf7cf\n",
      "WARNING:__main__:54daf526-57ec-4793-2261-dbeafbb03108\n",
      "WARNING:__main__:18ced556-8634-e5ee-6d78-e6c6e16e41d0\n",
      "WARNING:__main__:d18cf930-a192-14e8-1880-5d685353472d\n",
      "WARNING:__main__:6522e22c-3af2-aadb-6307-481fa9f9a71a\n",
      "WARNING:__main__:a8202255-0a9f-31a9-ec9a-a9c1768af68f\n",
      "WARNING:__main__:3df4a3c5-bcfa-06ee-f491-d9c683622fc1\n",
      "WARNING:__main__:3d3af57d-b124-1221-51b6-23db9c362d1e\n",
      "WARNING:__main__:086d53bc-57df-1616-50c5-483b0bfe4008\n",
      "WARNING:__main__:adc7052c-72d8-cd5a-f111-04cc0fe17cad\n",
      "WARNING:__main__:1143a20c-1424-79de-6c53-c1ecd66e57d8\n",
      "WARNING:__main__:b6ac57f4-96ca-4cbc-2a39-46755b60f5fc\n",
      "WARNING:__main__:07976ca8-ba39-f120-09e4-cb87686197a9\n",
      "WARNING:__main__:c49f4310-6a04-bac8-f597-87ef4bb6ac31\n",
      "WARNING:__main__:53348e91-5a0f-954e-a715-4a9d5e2c3e6e\n",
      "WARNING:__main__:8748d163-8bb6-c66c-df29-65e3756602e5\n",
      "WARNING:__main__:7ba143c2-59b7-dc18-ee9b-b398a281ba72\n",
      "WARNING:__main__:5b2f176c-db9f-246b-5142-5bcaafd84504\n"
     ]
    },
    {
     "name": "stdout",
     "output_type": "stream",
     "text": [
      "processed chunk 264\n"
     ]
    },
    {
     "name": "stderr",
     "output_type": "stream",
     "text": [
      "WARNING:__main__:62479321-2218-db7b-a508-5c2f9ef9984b\n",
      "WARNING:__main__:afc00b66-9d21-eaa3-e908-067eabb83cd6\n"
     ]
    },
    {
     "name": "stdout",
     "output_type": "stream",
     "text": [
      "processed chunk 265\n"
     ]
    },
    {
     "name": "stderr",
     "output_type": "stream",
     "text": [
      "WARNING:__main__:03e0f05b-b91d-15f5-9863-94def7a8db4f\n"
     ]
    },
    {
     "name": "stdout",
     "output_type": "stream",
     "text": [
      "processed chunk 266\n"
     ]
    },
    {
     "name": "stderr",
     "output_type": "stream",
     "text": [
      "WARNING:__main__:56993e1f-92cb-dc7d-dee7-ebbf17805211\n",
      "WARNING:__main__:0202aa9a-9994-17c5-f08f-4835318c4de0\n",
      "WARNING:__main__:af496ec4-d94d-1233-6688-d37491699306\n",
      "WARNING:__main__:3ded0ae8-4cdf-c05d-2186-46ebed98d320\n",
      "WARNING:__main__:e2671f2c-1cb0-f7f0-53a2-55e6eb1f67ec\n",
      "WARNING:__main__:4a9eee7d-339c-961f-0ac8-e930428641bf\n",
      "WARNING:__main__:eaa46050-387d-8255-69f0-2a9ec08569e0\n",
      "WARNING:__main__:732c46ad-8ccf-0708-ba1c-8dedd20bed17\n",
      "WARNING:__main__:f3155749-9c6b-c0d1-44a7-c4eb2d6e1fc8\n",
      "WARNING:__main__:26c2c4cf-18e6-f5ba-2827-104747708e46\n",
      "WARNING:__main__:59080655-4e0d-b42b-04cf-c54034d332d5\n",
      "WARNING:__main__:199a815b-afdf-f611-2c75-d27b4259d444\n",
      "WARNING:__main__:93e693b1-e53b-7e20-588a-53fc18a1bdf2\n",
      "WARNING:__main__:89a742c2-59a7-b2a8-9b06-adf7506fd3f6\n",
      "WARNING:__main__:ab11ef98-8f7c-25ef-0bc0-60b8a875dcf3\n",
      "WARNING:__main__:17081741-8d4d-3d05-43e4-0944c35b5bca\n",
      "WARNING:__main__:1c6e50db-6e01-3d28-8e3f-9fc435397e63\n",
      "WARNING:__main__:cf1fcb85-ae9b-8754-dd4b-c3776a07e8d3\n",
      "WARNING:__main__:6c79f737-7887-f3b2-8311-139d23a17346\n",
      "WARNING:__main__:7434f515-a426-f0ae-4c85-b3fddcf968ee\n",
      "WARNING:__main__:ae53ebed-2caa-32cf-2187-c3d63eb674ca\n"
     ]
    },
    {
     "name": "stdout",
     "output_type": "stream",
     "text": [
      "processed chunk 267\n"
     ]
    },
    {
     "name": "stderr",
     "output_type": "stream",
     "text": [
      "WARNING:__main__:4c8431e3-eb50-96c2-1722-3bfaa8f58d03\n"
     ]
    },
    {
     "name": "stdout",
     "output_type": "stream",
     "text": [
      "processed chunk 268\n"
     ]
    },
    {
     "name": "stderr",
     "output_type": "stream",
     "text": [
      "WARNING:__main__:a95636e3-5026-1321-3197-ee94de75096c\n",
      "WARNING:__main__:e0c2a613-a982-71fb-50de-efab453b16ff\n",
      "WARNING:__main__:3240305d-f9dc-9099-ece9-66ed9a21ff04\n",
      "WARNING:__main__:e5141cb0-97fa-ba66-f7d6-835b25749aa4\n"
     ]
    },
    {
     "name": "stdout",
     "output_type": "stream",
     "text": [
      "processed chunk 269\n",
      "processed chunk 270\n"
     ]
    },
    {
     "name": "stderr",
     "output_type": "stream",
     "text": [
      "WARNING:__main__:d34e50bb-f045-b799-5bb1-7ea809bde64a\n",
      "WARNING:__main__:77a03e23-9421-9646-199d-eb351ba11b68\n",
      "WARNING:__main__:eec5527e-c6c4-ae2a-d2fd-0f439f4a9afd\n",
      "WARNING:__main__:f6f1c955-f345-c191-7c68-b4b944f3479d\n",
      "WARNING:__main__:6d994daa-0be3-e568-952d-1415a6647f3b\n",
      "WARNING:__main__:4b67a2d7-605a-bd9e-0a1b-79f1379ce4ae\n",
      "WARNING:__main__:dd63782b-042d-35cf-7208-c611f79f8a33\n"
     ]
    },
    {
     "name": "stdout",
     "output_type": "stream",
     "text": [
      "processed chunk 271\n"
     ]
    },
    {
     "name": "stderr",
     "output_type": "stream",
     "text": [
      "WARNING:__main__:9bba83ce-5ed8-8c2e-9364-eda5c8361e28\n"
     ]
    },
    {
     "name": "stdout",
     "output_type": "stream",
     "text": [
      "processed chunk 272\n",
      "processed chunk 273\n",
      "processed chunk 274\n"
     ]
    },
    {
     "name": "stderr",
     "output_type": "stream",
     "text": [
      "WARNING:__main__:6bfa76a4-3706-acc5-cfb3-09efcbab8152\n",
      "WARNING:__main__:b8c975a6-0ff2-ddee-298b-f98b6eeee810\n",
      "WARNING:__main__:1931f791-f83e-e28c-6c3d-3050e6e19fe4\n",
      "WARNING:__main__:8a077605-8053-2d59-49b7-162f95baf553\n",
      "WARNING:__main__:5e84978f-ad6b-bbeb-bdbf-880236f6ca9d\n",
      "WARNING:__main__:37fced45-464b-28a9-c9d8-4087bd409f34\n"
     ]
    },
    {
     "name": "stdout",
     "output_type": "stream",
     "text": [
      "processed chunk 275\n",
      "processed chunk 276\n"
     ]
    },
    {
     "name": "stderr",
     "output_type": "stream",
     "text": [
      "WARNING:__main__:525c9090-406f-99d7-c144-13457b260318\n"
     ]
    },
    {
     "name": "stdout",
     "output_type": "stream",
     "text": [
      "processed chunk 277\n"
     ]
    },
    {
     "name": "stderr",
     "output_type": "stream",
     "text": [
      "WARNING:__main__:1bbb781f-87f6-c74a-02ad-c3c690e5e06d\n",
      "WARNING:__main__:902545aa-d4b9-d866-95cf-5c8bbcd91b17\n"
     ]
    },
    {
     "name": "stdout",
     "output_type": "stream",
     "text": [
      "processed chunk 278\n",
      "processed chunk 279\n"
     ]
    },
    {
     "name": "stderr",
     "output_type": "stream",
     "text": [
      "WARNING:__main__:e13ddaf1-ef89-4338-02a5-7e089bfc45f8\n"
     ]
    },
    {
     "name": "stdout",
     "output_type": "stream",
     "text": [
      "processed chunk 280\n"
     ]
    },
    {
     "name": "stderr",
     "output_type": "stream",
     "text": [
      "WARNING:__main__:b3b314c5-7228-fc18-d1c8-aa4427411f71\n",
      "WARNING:__main__:3064e8ca-ecbd-448b-6d66-c478b872858a\n",
      "WARNING:__main__:e71a1d0c-272e-7002-950f-7bd470fc6fa9\n",
      "WARNING:__main__:a3560178-f80e-e391-268e-176d5bf73a3b\n",
      "WARNING:__main__:d792a599-3ee4-9a2a-1397-fbfd5baf6aa5\n",
      "WARNING:__main__:5a7228e1-eee1-9b86-9dc4-b75e5e53066a\n",
      "WARNING:__main__:8491c815-8f79-db72-7e5c-f261c9b50162\n",
      "WARNING:__main__:d0a084a3-9cc5-1beb-2ed4-e9d8f24a47ce\n",
      "WARNING:__main__:decfa9e8-edfa-1863-83c3-a344d015bff8\n",
      "WARNING:__main__:755d4c67-40c6-d660-e574-545b8aedde7a\n",
      "WARNING:__main__:dd77b784-6e1d-6e7d-5674-b8bc755a4e46\n",
      "WARNING:__main__:d1b9f1a7-ae16-be07-12c8-fe272cc8e0d9\n",
      "WARNING:__main__:d58fce92-accf-a388-8760-967ab42375ed\n",
      "WARNING:__main__:25830490-5902-6a18-fca1-762b1ceb0522\n",
      "WARNING:__main__:cd05481c-4578-dcbd-757f-b6319115805e\n",
      "WARNING:__main__:6d629ea1-5dfa-58ad-98f3-f7c3a4729f6f\n",
      "WARNING:__main__:91b29c3a-1bb9-2847-12d6-ea8b81139479\n"
     ]
    },
    {
     "name": "stdout",
     "output_type": "stream",
     "text": [
      "processed chunk 281\n"
     ]
    },
    {
     "name": "stderr",
     "output_type": "stream",
     "text": [
      "WARNING:__main__:493430fa-b77c-d654-ad50-ea2a6623cd3c\n",
      "WARNING:__main__:90533951-7076-5c40-9126-7d036ff19106\n",
      "WARNING:__main__:29193679-3fad-aea9-f463-aa1cb2b55ebb\n",
      "WARNING:__main__:f5d873ca-b2a3-5dec-b449-3705b34c1cc2\n",
      "WARNING:__main__:6736b710-fd85-1f6a-6775-37bd4e8f9984\n",
      "WARNING:__main__:29a2e123-5434-e3ff-3a5d-3620490a1b1c\n",
      "WARNING:__main__:15a3e926-d576-5223-8362-21fe570fe94a\n",
      "WARNING:__main__:8d7990fc-58b1-01f9-f4a0-2b686cf8b6e5\n",
      "WARNING:__main__:88d6908d-05db-5f59-7dde-18612bdd27df\n",
      "WARNING:__main__:50cf097b-101b-65c7-43fe-ddff081b26eb\n",
      "WARNING:__main__:7cccb7c6-e919-adde-375d-9c65d3ba8208\n",
      "WARNING:__main__:0ed9402e-94ca-5bbc-520a-bcd021becec2\n",
      "WARNING:__main__:cf5b2c88-8f11-16a1-88d4-2ebdab1bcb9f\n"
     ]
    },
    {
     "name": "stdout",
     "output_type": "stream",
     "text": [
      "processed chunk 282\n"
     ]
    },
    {
     "name": "stderr",
     "output_type": "stream",
     "text": [
      "WARNING:__main__:9c3d759e-2f8b-61cc-59a0-84c456c368b7\n"
     ]
    },
    {
     "name": "stdout",
     "output_type": "stream",
     "text": [
      "processed chunk 283\n",
      "processed chunk 284\n",
      "processed chunk 285\n",
      "processed chunk 286\n"
     ]
    },
    {
     "name": "stderr",
     "output_type": "stream",
     "text": [
      "WARNING:__main__:3eb71bcf-34d8-4ddc-9a21-0dd3b04006d3\n"
     ]
    },
    {
     "name": "stdout",
     "output_type": "stream",
     "text": [
      "processed chunk 287\n"
     ]
    },
    {
     "name": "stderr",
     "output_type": "stream",
     "text": [
      "WARNING:__main__:3c9a3ba2-1ef0-3d30-37c9-72771b4b0c8c\n",
      "WARNING:__main__:6039ddfe-419f-fa29-6b2b-3888663904bc\n",
      "WARNING:__main__:07d5d0fa-b2e8-7a9d-64e8-4c8b4547afe4\n",
      "WARNING:__main__:599ad859-9dcb-702b-491f-466b9aab40af\n",
      "WARNING:__main__:68cce8a4-6c10-6b49-42e3-1f169ee960c4\n",
      "WARNING:__main__:9c109da8-b480-0b6c-d7e3-d64f37ca5608\n",
      "WARNING:__main__:09b686dd-1c36-7e62-3786-011138d641ff\n"
     ]
    },
    {
     "name": "stdout",
     "output_type": "stream",
     "text": [
      "processed chunk 288\n"
     ]
    },
    {
     "name": "stderr",
     "output_type": "stream",
     "text": [
      "WARNING:__main__:22a966f2-d639-a6c4-85b7-67ccd2009ccc\n",
      "WARNING:__main__:5f85e404-5fd7-ca9d-6d09-3cf252520092\n",
      "WARNING:__main__:37eb882b-7293-c5d2-bce9-52330300cf32\n",
      "WARNING:__main__:b2cb154c-d0a5-38d5-6267-19e43a315f8a\n",
      "WARNING:__main__:66597896-5bec-56f0-d56e-faa7a6b80835\n",
      "WARNING:__main__:e8b1eaa2-165f-6705-d221-834a0aa7044e\n",
      "WARNING:__main__:861b548d-f013-a6a3-26bb-00f11e884b80\n",
      "WARNING:__main__:0a9eea38-6122-6d6f-9256-c022f8767258\n"
     ]
    },
    {
     "name": "stdout",
     "output_type": "stream",
     "text": [
      "processed chunk 289\n"
     ]
    },
    {
     "name": "stderr",
     "output_type": "stream",
     "text": [
      "WARNING:__main__:64bdf490-08a3-4597-1f55-76892d05f72c\n"
     ]
    },
    {
     "name": "stdout",
     "output_type": "stream",
     "text": [
      "processed chunk 290\n",
      "processed chunk 291\n"
     ]
    },
    {
     "name": "stderr",
     "output_type": "stream",
     "text": [
      "WARNING:__main__:3af00da0-3bfb-5436-252d-21cca58b7372\n",
      "WARNING:__main__:0c887417-1193-d262-3176-b5664a6e477c\n",
      "WARNING:__main__:0d04fd4a-56d7-9513-46c2-00fe2e185d06\n",
      "WARNING:__main__:a09648f9-bd23-8978-0330-95890857ac72\n",
      "WARNING:__main__:53ac1533-cc50-d292-77c5-446321e8c7c9\n",
      "WARNING:__main__:07b0281a-0eb6-76fd-84ee-03b0757ca56f\n",
      "WARNING:__main__:968a445e-508b-4542-37e4-41ecd8bc8c61\n",
      "WARNING:__main__:4f53e9fe-015b-546b-97df-a999522b08f4\n",
      "WARNING:__main__:8588a4ee-c28c-9b65-93c3-2193f0e2657e\n",
      "WARNING:__main__:fc641829-3b93-e2b1-52d7-f4bcf98de482\n",
      "WARNING:__main__:f130a367-4fa8-da21-837e-be545ce9f28a\n",
      "WARNING:__main__:ee58bf65-c8a4-dd62-fe5c-d27204532653\n",
      "WARNING:__main__:6035d3f3-67c3-7bca-e604-b9b22036057a\n",
      "WARNING:__main__:f40e1433-9609-f037-9184-74f69cc04050\n",
      "WARNING:__main__:83484b53-fe06-7f68-aa80-7ae3acb9c1b2\n",
      "WARNING:__main__:e305d4a1-ea0c-3897-c74d-e1cf6ab0c16c\n",
      "WARNING:__main__:4867a680-ca92-d487-4e71-059994d4f3e9\n"
     ]
    },
    {
     "name": "stdout",
     "output_type": "stream",
     "text": [
      "processed chunk 292\n"
     ]
    },
    {
     "name": "stderr",
     "output_type": "stream",
     "text": [
      "WARNING:__main__:8d0dc517-3916-eed8-6e3f-16394ed4f3fe\n",
      "WARNING:__main__:31365c73-de46-c6b4-03e9-5f996fe487c8\n",
      "WARNING:__main__:33808709-d63a-4531-a991-dc988502dd3d\n",
      "WARNING:__main__:ffe4a41d-d970-98db-be77-2e04578a9908\n"
     ]
    },
    {
     "name": "stdout",
     "output_type": "stream",
     "text": [
      "processed chunk 293\n"
     ]
    },
    {
     "name": "stderr",
     "output_type": "stream",
     "text": [
      "WARNING:__main__:4d88bc15-e5c4-2911-84d0-b455df51d8f7\n"
     ]
    },
    {
     "name": "stdout",
     "output_type": "stream",
     "text": [
      "processed chunk 294\n"
     ]
    },
    {
     "name": "stderr",
     "output_type": "stream",
     "text": [
      "WARNING:__main__:3be69e85-999d-6ba5-c363-2d763f4c6c06\n",
      "WARNING:__main__:56a3ae14-1242-e403-a001-645d6d9d11dc\n"
     ]
    },
    {
     "name": "stdout",
     "output_type": "stream",
     "text": [
      "processed chunk 295\n"
     ]
    },
    {
     "name": "stderr",
     "output_type": "stream",
     "text": [
      "WARNING:__main__:dccd1705-a3f2-67c8-a7fd-ccbd03b30b26\n",
      "WARNING:__main__:2d68149b-4bbe-58f4-4dfc-2de8afb3cb3d\n",
      "WARNING:__main__:34ec3f43-1da9-acc1-9e21-ccc19a4e559c\n",
      "WARNING:__main__:893c73dc-a8c7-da6d-cb1d-868e8bddf0b7\n",
      "WARNING:__main__:cdfa73ce-299b-fdcc-60ba-1e22ce4edb4f\n",
      "WARNING:__main__:ec39b36e-39ac-dcdd-f5ee-9345740c23ba\n",
      "WARNING:__main__:1e54032b-49f4-69b9-94ef-dcdde0df3a72\n",
      "WARNING:__main__:151c38b3-fc4f-857f-6271-dac5737b47d1\n",
      "WARNING:__main__:2cf96fb2-a5d4-89dc-8339-17700b4593e4\n",
      "WARNING:__main__:926e5819-10a6-3c9b-9134-4a3e9d2371f3\n"
     ]
    },
    {
     "name": "stdout",
     "output_type": "stream",
     "text": [
      "processed chunk 296\n"
     ]
    },
    {
     "name": "stderr",
     "output_type": "stream",
     "text": [
      "WARNING:__main__:a7dfac6a-9bf9-36ec-fe22-59604df0dd9d\n",
      "WARNING:__main__:031eff41-4e55-5009-ab55-7bb78debf6f9\n",
      "WARNING:__main__:f408fe1a-45ab-4adb-a78c-ee7a27aaad26\n",
      "WARNING:__main__:59df29e1-5c87-ed53-4ac0-069c6ef41128\n",
      "WARNING:__main__:58a7822f-2e93-8584-9c99-6580d7561fa8\n",
      "WARNING:__main__:2633eca2-f883-d4c1-d599-518d0e9adea4\n",
      "WARNING:__main__:de8075f0-0c2d-aef8-5312-f4516a10e8f7\n",
      "WARNING:__main__:68a8e8ff-eb8e-d17d-7f18-c18a506afe94\n",
      "WARNING:__main__:5d8dd385-f36c-0411-dd69-4697bdbf9f45\n",
      "WARNING:__main__:f3e62c1c-8333-a17f-aaa7-1a5060d65937\n",
      "WARNING:__main__:f89100ce-a7b6-2832-d889-0da4ee32f81c\n",
      "WARNING:__main__:e602da39-4a30-37fc-ad00-6d2000b4ee7f\n",
      "WARNING:__main__:5d810449-1805-4adf-52ac-45132c390311\n",
      "WARNING:__main__:8758d952-7c10-90d0-1e66-71c26d9a0286\n"
     ]
    },
    {
     "name": "stdout",
     "output_type": "stream",
     "text": [
      "processed chunk 297\n"
     ]
    },
    {
     "name": "stderr",
     "output_type": "stream",
     "text": [
      "WARNING:__main__:80ef8ac5-dcc5-da5b-e69e-1e5e5896d8a5\n"
     ]
    },
    {
     "name": "stdout",
     "output_type": "stream",
     "text": [
      "processed chunk 298\n"
     ]
    },
    {
     "name": "stderr",
     "output_type": "stream",
     "text": [
      "WARNING:__main__:a3d3225e-0a90-9f52-5240-542dd781720b\n",
      "WARNING:__main__:127df9de-f8fe-5c83-ab9c-a98c65a849e3\n",
      "WARNING:__main__:87fbde22-305b-0419-dac5-8cbd7e365d20\n",
      "WARNING:__main__:cafa5963-2744-3c9b-7b07-a426cb9d9f44\n",
      "WARNING:__main__:bfe78b9e-18a4-56da-ec49-13379ac351e7\n",
      "WARNING:__main__:018d0392-f5e2-ef2b-31a7-3fbbe9774d7c\n",
      "WARNING:__main__:b455cfcf-d12a-e2a1-8739-e6963814d2f3\n",
      "WARNING:__main__:8a83aaeb-3096-a918-3ba4-511be8875aad\n",
      "WARNING:__main__:b76e73e2-1686-aadb-6b20-f3dedd03b06e\n"
     ]
    },
    {
     "name": "stdout",
     "output_type": "stream",
     "text": [
      "processed chunk 299\n",
      "processed chunk 300\n"
     ]
    },
    {
     "name": "stderr",
     "output_type": "stream",
     "text": [
      "WARNING:__main__:de065ea3-5d23-8e5a-b02d-c97957fb58b6\n",
      "WARNING:__main__:747598ae-5de2-eb1f-f1b6-26e53d187e9b\n"
     ]
    },
    {
     "name": "stdout",
     "output_type": "stream",
     "text": [
      "processed chunk 301\n"
     ]
    },
    {
     "name": "stderr",
     "output_type": "stream",
     "text": [
      "WARNING:__main__:dd4e45b8-c6d7-8209-1c45-0c7ae94d44d3\n",
      "WARNING:__main__:effbfe54-cf74-e90a-e3f0-79358276cbbd\n",
      "WARNING:__main__:b6966587-15fa-b030-dd66-c1f3f57f1b8f\n",
      "WARNING:__main__:b7a4768c-d2ff-0579-4f60-06f9110bd550\n",
      "WARNING:__main__:aefc866b-6265-b46a-56d0-35db918e4228\n",
      "WARNING:__main__:efafcfb1-6fd1-a3e0-c3e6-1c83e1b1645e\n",
      "WARNING:__main__:bfd77310-f081-cbae-c799-14e737e2dedd\n",
      "WARNING:__main__:686bfbdd-d5de-fcfc-4584-0b28d4a3572f\n",
      "WARNING:__main__:955ca3fd-5caf-849e-b5f4-23f70f209511\n",
      "WARNING:__main__:355ba875-2c60-04c0-d4a4-893db54ab42d\n",
      "WARNING:__main__:5b97078a-f0d0-4a67-781b-28ed0a855026\n",
      "WARNING:__main__:ce74627e-2f0f-9ead-4ee4-91c5c298ed92\n",
      "WARNING:__main__:bad8c5c7-3c05-e1c4-e71c-51e8a5224f8f\n"
     ]
    },
    {
     "name": "stdout",
     "output_type": "stream",
     "text": [
      "processed chunk 302\n"
     ]
    },
    {
     "name": "stderr",
     "output_type": "stream",
     "text": [
      "WARNING:__main__:54466ab0-89ef-dab7-dd27-375ad8d299d8\n",
      "WARNING:__main__:7f436a11-deda-1ab5-76c6-a45946e7513f\n",
      "WARNING:__main__:8999bc15-7e82-8932-8ad8-1d3d402e8ade\n",
      "WARNING:__main__:4312c1c0-aab0-003d-f253-fbdb89ccb9a9\n",
      "WARNING:__main__:e34a7920-84e1-76af-e68c-190f75f37113\n",
      "WARNING:__main__:01d9642f-8fac-59ab-0bdc-1a66a7249149\n",
      "WARNING:__main__:0a557e7c-0dfb-ec45-56b9-2d3e0e840616\n",
      "WARNING:__main__:228823de-1952-f732-5ffe-97aa40ba1117\n",
      "WARNING:__main__:342eaa9a-8690-8e5a-27a6-9cb2738aeca4\n",
      "WARNING:__main__:8682d99a-465b-c172-c482-b6d9c534671f\n",
      "WARNING:__main__:5d190023-64ac-82d7-e2c9-ef275277a89b\n",
      "WARNING:__main__:b16331a0-c5a0-d97e-426c-25fe2aa610a3\n",
      "WARNING:__main__:3f8af753-e02a-27f7-f4c1-5aec31d6f2fa\n",
      "WARNING:__main__:2a272fd5-c7cf-67cc-ce7b-54835c8f66e0\n",
      "WARNING:__main__:54ae9751-62cb-66ea-d12e-6085d58be424\n",
      "WARNING:__main__:03665e5d-7afb-f474-2f91-e02ff5f30304\n",
      "WARNING:__main__:d7217126-aa62-63ca-43ad-19e75004f8d9\n",
      "WARNING:__main__:329adb1f-99af-e986-7900-fc6aed17ae78\n"
     ]
    },
    {
     "name": "stdout",
     "output_type": "stream",
     "text": [
      "processed chunk 303\n"
     ]
    },
    {
     "name": "stderr",
     "output_type": "stream",
     "text": [
      "WARNING:__main__:f56f7b6a-686a-1181-84ae-2b44e6eb4dd8\n",
      "WARNING:__main__:4193cb10-e653-1c0b-daa4-e9d8ac959682\n",
      "WARNING:__main__:8875a2d1-4bcf-fbdb-d689-114eeeed4e4b\n",
      "WARNING:__main__:1b5dad26-aecf-a6ae-bc0b-f4504315086e\n",
      "WARNING:__main__:0b8a6b93-7e39-a014-aa7f-227cae62ae70\n",
      "WARNING:__main__:d175f03d-a810-30f5-4e3e-4a2d1c02e1b6\n",
      "WARNING:__main__:fc182f36-8c01-0884-4448-5d07bbdbbdcc\n",
      "WARNING:__main__:7981233e-e4f4-b7eb-44ed-eb9e65263442\n"
     ]
    },
    {
     "name": "stdout",
     "output_type": "stream",
     "text": [
      "processed chunk 304\n"
     ]
    },
    {
     "name": "stderr",
     "output_type": "stream",
     "text": [
      "WARNING:__main__:0bf8cb8a-0a8f-ad3d-ed12-79c5467df634\n",
      "WARNING:__main__:2f6b864e-db27-97df-a262-7c50f010eae9\n",
      "WARNING:__main__:f38c6404-d5a7-2af2-1fc1-555b62cd55d0\n",
      "WARNING:__main__:071b7f48-447f-9442-cf8e-d391b19445dd\n",
      "WARNING:__main__:8bff6f6d-7221-a87c-c1d9-9cd900f28649\n"
     ]
    },
    {
     "name": "stdout",
     "output_type": "stream",
     "text": [
      "processed chunk 305\n"
     ]
    },
    {
     "name": "stderr",
     "output_type": "stream",
     "text": [
      "WARNING:__main__:f71edafa-741e-8a9d-8514-b3a080ecfa17\n"
     ]
    },
    {
     "name": "stdout",
     "output_type": "stream",
     "text": [
      "processed chunk 306\n"
     ]
    },
    {
     "name": "stderr",
     "output_type": "stream",
     "text": [
      "WARNING:__main__:b9379795-d43e-8468-aeed-092f54032ebe\n",
      "WARNING:__main__:ea5ef37e-3f26-8a41-2c72-d85ae96a5e58\n",
      "WARNING:__main__:d7fa5d8f-90b4-acff-7a0c-86b6d724807d\n",
      "WARNING:__main__:a5e9bd98-41b7-8684-82fc-08b15729aee1\n",
      "WARNING:__main__:2166da09-8629-4128-bed2-a91b3a3cc12c\n",
      "WARNING:__main__:692bdad1-d4de-8cdc-7a1b-0bf913681e96\n",
      "WARNING:__main__:49b550ee-fa41-790a-76fa-5f74012d6c3f\n",
      "WARNING:__main__:91c59802-ca04-86ee-4a8b-aec1b2d990a3\n",
      "WARNING:__main__:a4bd2767-b727-d32f-f00b-0fd6ce1265a3\n",
      "WARNING:__main__:080d2118-d79a-58f0-7089-712b3b5f04a0\n",
      "WARNING:__main__:b8c2fcfc-e704-9c81-ef87-c7846cbbd959\n",
      "WARNING:__main__:7f841038-5cf1-18b1-b850-a33c69c8d3fa\n",
      "WARNING:__main__:853140bb-9efd-931c-9d49-3f208b95310e\n",
      "WARNING:__main__:dc9d4447-ab44-1f24-06d1-399e953ba405\n",
      "WARNING:__main__:cb6e911f-9711-273b-8779-4ac76c719480\n"
     ]
    },
    {
     "name": "stdout",
     "output_type": "stream",
     "text": [
      "processed chunk 307\n"
     ]
    },
    {
     "name": "stderr",
     "output_type": "stream",
     "text": [
      "WARNING:__main__:0a76498e-ea69-9d87-4f0b-7d57cc771400\n",
      "WARNING:__main__:0b4c438b-ddac-fda6-cfb8-11cba36c1213\n",
      "WARNING:__main__:cd246c02-dcbf-7803-d8a6-f158393edc52\n",
      "WARNING:__main__:d5527eb3-40fa-db47-568b-8b7972a59088\n",
      "WARNING:__main__:075d0539-1ace-c0ad-8d39-f77493c41298\n",
      "WARNING:__main__:e9ac42c4-d3ab-9901-ad75-60f50da3e6b6\n",
      "WARNING:__main__:e8ba8ba9-bdb9-cb79-57f0-b89c57662d8a\n",
      "WARNING:__main__:fb9d2547-583d-9ef8-d3f1-3256a99d5bac\n"
     ]
    },
    {
     "name": "stdout",
     "output_type": "stream",
     "text": [
      "processed chunk 308\n"
     ]
    },
    {
     "name": "stderr",
     "output_type": "stream",
     "text": [
      "WARNING:__main__:9b9b4494-c198-6703-7c27-e3861b647a89\n",
      "WARNING:__main__:fb70825b-59b7-1801-09a4-2834cbf4323c\n",
      "WARNING:__main__:5c9f6e36-50f7-c20b-ea61-6ecf9d0c7003\n",
      "WARNING:__main__:fa0fd5f1-f4de-ae2b-e557-a8176b6ebf38\n",
      "WARNING:__main__:319e61ae-9bae-a8e6-45e2-f9b21c71c403\n",
      "WARNING:__main__:77278dc8-a231-b207-265f-07ba803e5d18\n",
      "WARNING:__main__:87c34118-902b-6986-ee80-ddd47608c5bb\n",
      "WARNING:__main__:f5cb2a47-85ff-4bc8-05b1-db138f1015ab\n",
      "WARNING:__main__:4fd44e29-280e-00ff-e4f9-d908f785fdb1\n"
     ]
    },
    {
     "name": "stdout",
     "output_type": "stream",
     "text": [
      "processed chunk 309\n"
     ]
    },
    {
     "name": "stderr",
     "output_type": "stream",
     "text": [
      "WARNING:__main__:579f9a8b-46bd-1c24-c92d-854edb7fc30a\n",
      "WARNING:__main__:e66e117a-cba9-167d-8ec5-9f9ac86abf0a\n",
      "WARNING:__main__:ce511372-2e62-0640-a917-13c7915e75a7\n",
      "WARNING:__main__:790abc5e-3356-c14c-2095-de9703c43401\n",
      "WARNING:__main__:69f4d6a7-a8ed-12ba-0801-95b02efc0c9d\n",
      "WARNING:__main__:b93d1a40-cf8e-58ef-d284-d39750c971c7\n",
      "WARNING:__main__:9c7b49ee-0599-6b64-890a-58b48b8f0f0d\n",
      "WARNING:__main__:4a7e3e7c-458f-29cd-17dc-792d9ca85899\n"
     ]
    },
    {
     "name": "stdout",
     "output_type": "stream",
     "text": [
      "processed chunk 310\n"
     ]
    },
    {
     "name": "stderr",
     "output_type": "stream",
     "text": [
      "WARNING:__main__:a67bdc8a-16d9-4baa-28fc-59dc838ac429\n",
      "WARNING:__main__:d7785866-4915-1f2c-bec3-a9af76f9fc1f\n",
      "WARNING:__main__:f0a097e6-f119-83d6-6aee-3dfc29d84c75\n",
      "WARNING:__main__:62c7a601-7f9c-590a-fc84-193dd2b8e571\n",
      "WARNING:__main__:32daaf5e-d7f3-8395-8b9a-03345637048c\n",
      "WARNING:__main__:a6ea4fa0-1ea6-b2a3-38d6-15ec939b1d98\n",
      "WARNING:__main__:2f939227-1d5f-d481-8a73-34ab09cfd6f8\n",
      "WARNING:__main__:1c624d6a-d4c5-274a-c61b-83f37fceb4af\n"
     ]
    },
    {
     "name": "stdout",
     "output_type": "stream",
     "text": [
      "processed chunk 311\n"
     ]
    },
    {
     "name": "stderr",
     "output_type": "stream",
     "text": [
      "WARNING:__main__:96812a94-7129-e873-d62a-1b34ff1bd02d\n",
      "WARNING:__main__:d63533dd-5322-db94-010a-ad348ef87fc6\n",
      "WARNING:__main__:fc123641-e312-002b-decc-4ca2ff0ac3c5\n",
      "WARNING:__main__:e64eb13b-6d38-30d4-f117-6ba25ef7cd06\n",
      "WARNING:__main__:3de8d52a-5c29-1467-cb62-d9ac696f7b48\n",
      "WARNING:__main__:d8d6296b-3da5-894f-75a3-b730b4f2b89a\n"
     ]
    },
    {
     "name": "stdout",
     "output_type": "stream",
     "text": [
      "processed chunk 312\n"
     ]
    },
    {
     "name": "stderr",
     "output_type": "stream",
     "text": [
      "WARNING:__main__:f49c1376-7444-3a49-8aeb-c009f100bfca\n",
      "WARNING:__main__:c62dcf8c-66e2-a167-3447-9fc4bbdfdf7b\n",
      "WARNING:__main__:125463a4-2bb7-b675-6089-e4c33e1e4bb8\n",
      "WARNING:__main__:22189b44-b00c-bdee-908f-88ff9c402d14\n",
      "WARNING:__main__:3d41e83a-6af4-d6f0-c8a4-680efb20eb3e\n",
      "WARNING:__main__:3bfff632-0c9a-265c-02d4-8506621dfb6d\n",
      "WARNING:__main__:0c6df750-08cb-487e-3b95-8009f6e5dcc1\n",
      "WARNING:__main__:32a2fa2b-4382-8107-49eb-f976d677ac16\n",
      "WARNING:__main__:e09c0d9d-dd6f-8836-c22d-f73343604a59\n",
      "WARNING:__main__:03cf16a6-8768-f88b-f586-4b118a51e60d\n",
      "WARNING:__main__:2314ea83-36df-ed63-308a-25bb12c78edf\n"
     ]
    },
    {
     "name": "stdout",
     "output_type": "stream",
     "text": [
      "processed chunk 313\n"
     ]
    },
    {
     "name": "stderr",
     "output_type": "stream",
     "text": [
      "WARNING:__main__:c3820e9d-1317-5b33-bd45-58c39124e706\n"
     ]
    },
    {
     "name": "stdout",
     "output_type": "stream",
     "text": [
      "processed chunk 314\n"
     ]
    },
    {
     "name": "stderr",
     "output_type": "stream",
     "text": [
      "WARNING:__main__:d8f2e072-b50b-354d-5fe9-9931e3aff798\n"
     ]
    },
    {
     "name": "stdout",
     "output_type": "stream",
     "text": [
      "processed chunk 315\n"
     ]
    },
    {
     "name": "stderr",
     "output_type": "stream",
     "text": [
      "WARNING:__main__:04ca58b9-e251-e801-4ee0-a74fd27c3ff1\n",
      "WARNING:__main__:0553927f-c48d-9f07-5657-f9bd2052aa02\n",
      "WARNING:__main__:5cc08f07-5dff-c7a2-3366-5d6e89eb7fc6\n"
     ]
    },
    {
     "name": "stdout",
     "output_type": "stream",
     "text": [
      "processed chunk 316\n",
      "processed chunk 317\n"
     ]
    },
    {
     "name": "stderr",
     "output_type": "stream",
     "text": [
      "WARNING:__main__:bea9c182-e4d3-c7bc-1ffc-04a95026df8a\n",
      "WARNING:__main__:e57516aa-ea04-4afd-fa46-b85bbc8b78d6\n",
      "WARNING:__main__:eda4abc6-39b0-da2c-7e0d-72398b9294bf\n",
      "WARNING:__main__:1e53b687-7db4-2e83-1c52-9f025645520f\n",
      "WARNING:__main__:301937d0-64f3-15be-c2bd-a2263e9af50c\n",
      "WARNING:__main__:d5a28d0a-91b6-59ec-1211-e9dac89f0eb9\n",
      "WARNING:__main__:508755be-0017-56b3-ce8a-0b23917b5098\n",
      "WARNING:__main__:a5006c01-ef3f-9660-598b-161f3f968a82\n",
      "WARNING:__main__:126872fa-3652-7326-81fa-9640e8cf4593\n",
      "WARNING:__main__:80a3a33c-2d05-879b-30b5-607f9743d954\n",
      "WARNING:__main__:507c52fc-57cd-1c9d-2b03-c020ac5dd230\n",
      "WARNING:__main__:697d4b14-d6d7-a9ef-b9db-1b30faaed9ad\n",
      "WARNING:__main__:248a9b9b-8da3-f726-7645-0e9b19be245a\n",
      "WARNING:__main__:e8cce9b1-20e4-a61f-78be-c4f344c12788\n",
      "WARNING:__main__:dc2a775f-9b4d-47d0-94e8-f042d5c9b104\n",
      "WARNING:__main__:59ee3365-f156-4214-f679-51ed31aa3cc7\n",
      "WARNING:__main__:dd26e806-81c3-ca91-19a0-576d60c41eaf\n",
      "WARNING:__main__:481eb8fc-f292-8fab-5556-05bc225838ed\n"
     ]
    },
    {
     "name": "stdout",
     "output_type": "stream",
     "text": [
      "processed chunk 318\n",
      "processed chunk 319\n"
     ]
    },
    {
     "name": "stderr",
     "output_type": "stream",
     "text": [
      "WARNING:__main__:2ff54963-1f28-1b34-0d26-d1e8b8e1b850\n"
     ]
    },
    {
     "name": "stdout",
     "output_type": "stream",
     "text": [
      "processed chunk 320\n"
     ]
    },
    {
     "name": "stderr",
     "output_type": "stream",
     "text": [
      "WARNING:__main__:ca3d019f-a316-c694-3901-514f5d03458b\n"
     ]
    },
    {
     "name": "stdout",
     "output_type": "stream",
     "text": [
      "processed chunk 321\n"
     ]
    },
    {
     "name": "stderr",
     "output_type": "stream",
     "text": [
      "WARNING:__main__:3123dec0-d6a8-53b4-d589-22b2aa018b27\n",
      "WARNING:__main__:f35967f4-f2d1-f3db-2ee9-5898fb5fc333\n",
      "WARNING:__main__:8691f998-4a97-21b6-4370-3fa9d0d8deb3\n",
      "WARNING:__main__:8c6edc51-a249-666a-4abc-d0acabb67b95\n",
      "WARNING:__main__:ee728caf-c5eb-ae21-aca6-65140b3f675d\n",
      "WARNING:__main__:09f6b559-c83c-7769-f22a-8cec521a714e\n",
      "WARNING:__main__:b6c15933-bb3a-fabc-c96b-18dfe1ad7843\n",
      "WARNING:__main__:4ab5bc0b-093e-cde4-3386-fe8e4a3a355f\n",
      "WARNING:__main__:f2e65106-453b-7f04-43c3-2075673ab038\n"
     ]
    },
    {
     "name": "stdout",
     "output_type": "stream",
     "text": [
      "processed chunk 322\n"
     ]
    },
    {
     "name": "stderr",
     "output_type": "stream",
     "text": [
      "WARNING:__main__:5bb1039c-9bd2-608d-fb81-d79967903b98\n",
      "WARNING:__main__:322a1301-8266-1dfa-957b-ae9f9cfe0f1f\n"
     ]
    },
    {
     "name": "stdout",
     "output_type": "stream",
     "text": [
      "processed chunk 323\n"
     ]
    },
    {
     "name": "stderr",
     "output_type": "stream",
     "text": [
      "WARNING:__main__:c896e513-b251-f88d-1b29-c075a850c79b\n",
      "WARNING:__main__:115aca92-8f89-6f42-811b-5a4cebba5006\n",
      "WARNING:__main__:cf0c7f11-22b4-1338-e233-294fff03fa6b\n",
      "WARNING:__main__:75ab5618-1ccf-6027-5102-a47f1be22823\n",
      "WARNING:__main__:433281d7-97ae-fe02-f4b2-c4a00f663d57\n",
      "WARNING:__main__:d866dee7-4f0a-f034-89b2-e9cbdd5f4432\n",
      "WARNING:__main__:e3b47799-0241-152e-2f8d-7bb42da58fd5\n",
      "WARNING:__main__:725d50c8-7d06-213d-e06d-17bf8fc53671\n",
      "WARNING:__main__:a33c777b-461c-3c7c-cb81-1910b2e86991\n",
      "WARNING:__main__:49990c94-2d8f-1ce1-f225-aa9382d48c32\n",
      "WARNING:__main__:ef700908-e31d-4a4d-13cf-2e326016879c\n",
      "WARNING:__main__:22e55968-12fd-147d-90b0-25fe532bbef8\n"
     ]
    },
    {
     "name": "stdout",
     "output_type": "stream",
     "text": [
      "processed chunk 324\n"
     ]
    },
    {
     "name": "stderr",
     "output_type": "stream",
     "text": [
      "WARNING:__main__:66eb4266-a00f-0352-9099-f3808e4e5bf0\n"
     ]
    },
    {
     "name": "stdout",
     "output_type": "stream",
     "text": [
      "processed chunk 325\n",
      "processed chunk 326\n"
     ]
    },
    {
     "name": "stderr",
     "output_type": "stream",
     "text": [
      "WARNING:__main__:5466c62c-c035-7e49-18ba-701ed5a268aa\n"
     ]
    },
    {
     "name": "stdout",
     "output_type": "stream",
     "text": [
      "processed chunk 327\n"
     ]
    },
    {
     "name": "stderr",
     "output_type": "stream",
     "text": [
      "WARNING:__main__:03596c1e-fab3-3c02-80ae-3d3a94f3b7cd\n",
      "WARNING:__main__:39522c4b-d266-bd90-a51e-3a2eed2b8958\n",
      "WARNING:__main__:dc73ad99-035b-e6b0-a544-b68a5fa7e4be\n",
      "WARNING:__main__:7fe45b10-63b1-459e-cb3c-fcbecaf10e52\n",
      "WARNING:__main__:ebd57213-40c6-b397-891e-cac0e805eafe\n"
     ]
    },
    {
     "name": "stdout",
     "output_type": "stream",
     "text": [
      "processed chunk 328\n"
     ]
    },
    {
     "name": "stderr",
     "output_type": "stream",
     "text": [
      "WARNING:__main__:e465f17a-ae1d-44ce-9462-fd5956d0a93c\n",
      "WARNING:__main__:7dd1c98f-45b4-1e0e-92ce-568118869ae1\n",
      "WARNING:__main__:af7f0299-ea9d-ed98-4f10-71e30df332b8\n",
      "WARNING:__main__:76eab214-daab-1673-5c7b-e6815960f17b\n"
     ]
    },
    {
     "name": "stdout",
     "output_type": "stream",
     "text": [
      "processed chunk 329\n"
     ]
    },
    {
     "name": "stderr",
     "output_type": "stream",
     "text": [
      "WARNING:__main__:a95d59cb-fc3d-0524-6ea4-98ba4a231c8c\n"
     ]
    },
    {
     "name": "stdout",
     "output_type": "stream",
     "text": [
      "processed chunk 330\n"
     ]
    },
    {
     "name": "stderr",
     "output_type": "stream",
     "text": [
      "WARNING:__main__:9097f36b-edc4-70f0-112b-f74760ab4ccf\n",
      "WARNING:__main__:c203f3db-9b79-2aa4-9cd8-845193d8d153\n"
     ]
    },
    {
     "name": "stdout",
     "output_type": "stream",
     "text": [
      "processed chunk 331\n"
     ]
    },
    {
     "name": "stderr",
     "output_type": "stream",
     "text": [
      "WARNING:__main__:10fe97b3-f338-9a35-6e38-d7cd651b01d7\n"
     ]
    },
    {
     "name": "stdout",
     "output_type": "stream",
     "text": [
      "processed chunk 332\n"
     ]
    },
    {
     "name": "stderr",
     "output_type": "stream",
     "text": [
      "WARNING:__main__:25e17423-82a1-ca9e-879c-8d66323e9cfc\n",
      "WARNING:__main__:f31cfff6-29f4-84e6-e7f7-362a137c4bf6\n",
      "WARNING:__main__:f6ffc40c-9223-6b43-736c-94b7128b96c2\n",
      "WARNING:__main__:7e30b642-12a0-49f0-c316-f443831631b4\n",
      "WARNING:__main__:5abd0394-9882-a78b-8433-1a265989d0e5\n",
      "WARNING:__main__:3aed1824-0d8d-9d5a-3057-a06a774192e7\n"
     ]
    },
    {
     "name": "stdout",
     "output_type": "stream",
     "text": [
      "processed chunk 333\n",
      "processed chunk 334\n",
      "processed chunk 335\n"
     ]
    },
    {
     "name": "stderr",
     "output_type": "stream",
     "text": [
      "WARNING:__main__:f79c4f93-40b3-5092-8834-65e6bf1c3d54\n"
     ]
    },
    {
     "name": "stdout",
     "output_type": "stream",
     "text": [
      "processed chunk 336\n"
     ]
    },
    {
     "name": "stderr",
     "output_type": "stream",
     "text": [
      "WARNING:__main__:33050730-6266-009d-fe6b-38d29addd754\n",
      "WARNING:__main__:41d8bd94-86ab-209d-fba6-319adab7d055\n",
      "WARNING:__main__:a12e82e0-3ca9-06b7-2cf0-889f2e760b61\n"
     ]
    },
    {
     "name": "stdout",
     "output_type": "stream",
     "text": [
      "processed chunk 337\n"
     ]
    },
    {
     "name": "stderr",
     "output_type": "stream",
     "text": [
      "WARNING:__main__:f467a44e-97ee-e3b3-41b7-a6f5acd369e1\n",
      "WARNING:__main__:332b3e12-6418-83f1-54ee-855c4d008a09\n",
      "WARNING:__main__:9a59d68e-b2ae-8027-9939-1039e3d3fac7\n",
      "WARNING:__main__:2ee47aeb-250a-0f80-5191-0eac075ee31d\n",
      "WARNING:__main__:d8695250-17c7-6915-aff5-04f62d08d2fa\n",
      "WARNING:__main__:e3a6511b-d822-8e97-bc4e-1105efbc45cb\n",
      "WARNING:__main__:037aa748-2b70-3a72-7cef-32fabe9ff09d\n",
      "WARNING:__main__:eb704aed-12e3-1f0c-f73c-f0cc824c3180\n",
      "WARNING:__main__:664b6cbe-821a-7dc3-7a81-cb94785d9117\n",
      "WARNING:__main__:c3f0c23f-1392-cb72-1bf7-b51384a6b090\n",
      "WARNING:__main__:18de905e-a181-1cc8-050a-f270772a110f\n",
      "WARNING:__main__:cf1b1550-f50d-7188-a383-a310eae7717d\n",
      "WARNING:__main__:b99dabc1-5bf2-7236-ac90-19819c5e92af\n",
      "WARNING:__main__:b3504c2f-c9e3-7fbf-90aa-f8b2e418472f\n",
      "WARNING:__main__:9249a76c-befa-7272-157a-7455700637de\n",
      "WARNING:__main__:0eb6e96a-0d2f-6ef1-6f89-86be142916fb\n"
     ]
    },
    {
     "name": "stdout",
     "output_type": "stream",
     "text": [
      "processed chunk 338\n",
      "processed chunk 339\n"
     ]
    },
    {
     "name": "stderr",
     "output_type": "stream",
     "text": [
      "WARNING:__main__:21a46f07-66cf-feb7-99e8-e160470d5429\n"
     ]
    },
    {
     "name": "stdout",
     "output_type": "stream",
     "text": [
      "processed chunk 340\n"
     ]
    },
    {
     "name": "stderr",
     "output_type": "stream",
     "text": [
      "WARNING:__main__:7303f22a-857f-9687-6927-8a762a04ba11\n",
      "WARNING:__main__:27000be4-2356-5a7b-4896-6d35c7b7924c\n",
      "WARNING:__main__:e2f777ce-0d5b-5c94-ad0d-ef4657509857\n",
      "WARNING:__main__:383fc1f8-0913-389c-f3c3-3a78320da561\n",
      "WARNING:__main__:2b136028-b0b7-49a1-0416-5a3585033c6a\n",
      "WARNING:__main__:c609ff70-888d-6667-e4f5-9fd2a7bf8ebd\n",
      "WARNING:__main__:7ee5bf89-1d93-3404-e969-66f3320b87da\n",
      "WARNING:__main__:0785263b-ad92-7cfd-1646-60a65ededba1\n",
      "WARNING:__main__:b80dfb76-258c-48b4-971c-2b80ccfa76e2\n",
      "WARNING:__main__:fdb9c6d3-f693-afb4-b90c-89362e9d69dd\n",
      "WARNING:__main__:6cea6d12-263f-b134-54af-6bac7a6eb51d\n",
      "WARNING:__main__:ad074acb-3122-fd03-48f3-3452a3bd5a24\n",
      "WARNING:__main__:729fcd33-1132-cb05-0e87-d1bad8301ff3\n",
      "WARNING:__main__:3dc91bbc-0e5b-d38c-2f12-fe2628b1a5d7\n",
      "WARNING:__main__:99c9454a-9887-2d4c-1bdc-771f067df3b3\n",
      "WARNING:__main__:01f20cee-19d2-979f-d689-feb87a5af946\n",
      "WARNING:__main__:1cb212b3-906d-9a99-f908-2db6fcaaab85\n",
      "WARNING:__main__:ed6dbf22-3ac2-e21b-f75b-69d68532ca49\n"
     ]
    },
    {
     "name": "stdout",
     "output_type": "stream",
     "text": [
      "processed chunk 341\n"
     ]
    },
    {
     "name": "stderr",
     "output_type": "stream",
     "text": [
      "WARNING:__main__:cf9b02e4-9cd0-5313-1471-009f2a260cf6\n",
      "WARNING:__main__:6b4cf34a-b3b9-6cd5-645a-a5783e2916fc\n",
      "WARNING:__main__:49474c27-89d2-0146-683e-513fc4c795e7\n",
      "WARNING:__main__:7663bf36-2fdd-9034-e927-60b1361b4ae5\n",
      "WARNING:__main__:f4c505e2-7abc-060a-2dee-021d7f7bf291\n",
      "WARNING:__main__:c8abcc5f-8f11-8775-46d9-91ef0e28ccb2\n",
      "WARNING:__main__:d95d5106-6271-7872-f6fc-b8f4398ea94b\n",
      "WARNING:__main__:7a7337cd-9d8b-62e9-a842-396ab8932ffc\n"
     ]
    },
    {
     "name": "stdout",
     "output_type": "stream",
     "text": [
      "processed chunk 342\n",
      "processed chunk 343\n",
      "processed chunk 344\n"
     ]
    },
    {
     "name": "stderr",
     "output_type": "stream",
     "text": [
      "WARNING:__main__:d7264e86-c99f-9129-7882-343e5dd8c0cb\n"
     ]
    },
    {
     "name": "stdout",
     "output_type": "stream",
     "text": [
      "processed chunk 345\n"
     ]
    },
    {
     "name": "stderr",
     "output_type": "stream",
     "text": [
      "WARNING:__main__:0789de63-2adf-d1e7-87ba-dc137123d034\n"
     ]
    },
    {
     "name": "stdout",
     "output_type": "stream",
     "text": [
      "processed chunk 346\n",
      "processed chunk 347\n"
     ]
    },
    {
     "name": "stderr",
     "output_type": "stream",
     "text": [
      "WARNING:__main__:47ff02ea-6e90-b820-424d-99936215770a\n",
      "WARNING:__main__:9936b8a9-ce9f-40ff-274e-2c931c7afe80\n",
      "WARNING:__main__:76a56645-5b6f-d270-77b0-1e4c5fa40993\n",
      "WARNING:__main__:b154fa9a-c22d-d778-6e65-57760cc4372f\n"
     ]
    },
    {
     "name": "stdout",
     "output_type": "stream",
     "text": [
      "processed chunk 348\n",
      "processed chunk 349\n"
     ]
    },
    {
     "name": "stderr",
     "output_type": "stream",
     "text": [
      "WARNING:__main__:be0213a5-72e3-76ce-c270-6fdf01328597\n",
      "WARNING:__main__:60fd5a11-0ed0-06ee-c603-f94ae100d07c\n",
      "WARNING:__main__:8e443ab9-2b02-599e-6c7c-d8091fb18e82\n",
      "WARNING:__main__:8fe027fd-82e7-1228-ac7b-c071c962a4f6\n"
     ]
    },
    {
     "name": "stdout",
     "output_type": "stream",
     "text": [
      "processed chunk 350\n"
     ]
    },
    {
     "name": "stderr",
     "output_type": "stream",
     "text": [
      "WARNING:__main__:4b6e3167-6159-1d23-7b1f-cf2bd3af56c0\n"
     ]
    },
    {
     "name": "stdout",
     "output_type": "stream",
     "text": [
      "processed chunk 351\n"
     ]
    },
    {
     "name": "stderr",
     "output_type": "stream",
     "text": [
      "WARNING:__main__:e34d35d4-7fbf-dc35-2b0a-673712e21ccf\n",
      "WARNING:__main__:93012ed2-dfea-aae2-a156-202699d138ee\n",
      "WARNING:__main__:be6dd945-050d-df8c-fb95-1b7376fb2625\n",
      "WARNING:__main__:005d0293-f56a-60ca-0fd7-6233d4a6569b\n",
      "WARNING:__main__:f47cc510-09fb-6963-908f-9f2b2f16e658\n",
      "WARNING:__main__:501ea4e0-c9a2-03c5-6fc3-12f67650dde6\n",
      "WARNING:__main__:efb08c3f-49a6-5849-aa58-971e6e128812\n",
      "WARNING:__main__:9c8ee07c-529e-dd38-3e81-cf2789eb200a\n",
      "WARNING:__main__:57166aa6-d61c-4a34-9348-011f23c23374\n",
      "WARNING:__main__:b06bbd40-cd9e-d441-1ca1-80818f49dfc0\n",
      "WARNING:__main__:fc98bc54-7225-4b81-ca64-c5e123a24daa\n",
      "WARNING:__main__:5892084f-8825-e7f5-36ac-3fab072decd8\n",
      "WARNING:__main__:5da834e3-3f96-6920-137e-9682ec87256a\n",
      "WARNING:__main__:a5fa72b9-50f0-36e9-f2a1-e98c2488c0e3\n",
      "WARNING:__main__:09d4a495-74d8-f53a-5013-ede2cd4f0d31\n",
      "WARNING:__main__:15184cf2-a2d3-8ad5-e9f5-01251ce70817\n",
      "WARNING:__main__:416647b7-49c1-7783-6ec8-0af1fc899b3d\n",
      "WARNING:__main__:72cd90a0-c8d3-d2ba-f961-6b11841f938f\n"
     ]
    },
    {
     "name": "stdout",
     "output_type": "stream",
     "text": [
      "processed chunk 352\n",
      "processed chunk 353\n"
     ]
    },
    {
     "name": "stderr",
     "output_type": "stream",
     "text": [
      "WARNING:__main__:c29fe946-5cb2-ee87-0a88-35b6a9f99d56\n",
      "WARNING:__main__:949754ec-8925-1eac-a233-75ff74bebaf8\n"
     ]
    },
    {
     "name": "stdout",
     "output_type": "stream",
     "text": [
      "processed chunk 354\n"
     ]
    },
    {
     "name": "stderr",
     "output_type": "stream",
     "text": [
      "WARNING:__main__:c73670af-5ae1-4c15-7ee7-cf861c94b1cb\n",
      "WARNING:__main__:40e96d70-1931-527a-ff46-7ebc370c2896\n"
     ]
    },
    {
     "name": "stdout",
     "output_type": "stream",
     "text": [
      "processed chunk 355\n"
     ]
    },
    {
     "name": "stderr",
     "output_type": "stream",
     "text": [
      "WARNING:__main__:e5d9b533-303c-0728-e355-e0521ec4b99d\n",
      "WARNING:__main__:39383c5c-5472-bd67-ec95-a9aac1807b89\n"
     ]
    },
    {
     "name": "stdout",
     "output_type": "stream",
     "text": [
      "processed chunk 356\n"
     ]
    },
    {
     "name": "stderr",
     "output_type": "stream",
     "text": [
      "WARNING:__main__:f5aad241-2561-07a0-e387-c6af162a1916\n"
     ]
    },
    {
     "name": "stdout",
     "output_type": "stream",
     "text": [
      "processed chunk 357\n",
      "processed chunk 358\n"
     ]
    },
    {
     "name": "stderr",
     "output_type": "stream",
     "text": [
      "WARNING:__main__:e9b6924f-d436-cc09-e4dc-7c5903829a52\n"
     ]
    },
    {
     "name": "stdout",
     "output_type": "stream",
     "text": [
      "processed chunk 359\n"
     ]
    },
    {
     "name": "stderr",
     "output_type": "stream",
     "text": [
      "WARNING:__main__:494ba461-2346-013f-220a-e5e22c914d92\n"
     ]
    },
    {
     "name": "stdout",
     "output_type": "stream",
     "text": [
      "processed chunk 360\n"
     ]
    },
    {
     "name": "stderr",
     "output_type": "stream",
     "text": [
      "WARNING:__main__:f1ac3fcc-e889-8747-57a7-df574bc40cdc\n"
     ]
    },
    {
     "name": "stdout",
     "output_type": "stream",
     "text": [
      "processed chunk 361\n"
     ]
    },
    {
     "name": "stderr",
     "output_type": "stream",
     "text": [
      "WARNING:__main__:b443c3cd-ba7c-689e-aa5e-410cc84ffa38\n"
     ]
    },
    {
     "name": "stdout",
     "output_type": "stream",
     "text": [
      "processed chunk 362\n",
      "processed chunk 363\n",
      "processed chunk 364\n"
     ]
    },
    {
     "name": "stderr",
     "output_type": "stream",
     "text": [
      "WARNING:__main__:0b64aaec-eacd-148f-1f4b-b2b2a5facce0\n"
     ]
    },
    {
     "name": "stdout",
     "output_type": "stream",
     "text": [
      "processed chunk 365\n"
     ]
    },
    {
     "name": "stderr",
     "output_type": "stream",
     "text": [
      "WARNING:__main__:9aee4174-0081-bc06-ac3c-b21d026c62a3\n"
     ]
    },
    {
     "name": "stdout",
     "output_type": "stream",
     "text": [
      "processed chunk 366\n",
      "processed chunk 367\n"
     ]
    },
    {
     "name": "stderr",
     "output_type": "stream",
     "text": [
      "WARNING:__main__:df478202-fc00-387b-1677-a8d0f97776b4\n"
     ]
    },
    {
     "name": "stdout",
     "output_type": "stream",
     "text": [
      "processed chunk 368\n"
     ]
    },
    {
     "name": "stderr",
     "output_type": "stream",
     "text": [
      "WARNING:__main__:faa0effc-2572-129e-b50e-4e7364ce02bc\n"
     ]
    },
    {
     "name": "stdout",
     "output_type": "stream",
     "text": [
      "processed chunk 369\n",
      "processed chunk 370\n"
     ]
    },
    {
     "name": "stderr",
     "output_type": "stream",
     "text": [
      "WARNING:__main__:47edf646-ba5d-6427-2c3f-eaad32530774\n"
     ]
    },
    {
     "name": "stdout",
     "output_type": "stream",
     "text": [
      "processed chunk 371\n"
     ]
    },
    {
     "name": "stderr",
     "output_type": "stream",
     "text": [
      "WARNING:__main__:825e1bf4-c86a-dc80-271b-609d282706cc\n"
     ]
    },
    {
     "name": "stdout",
     "output_type": "stream",
     "text": [
      "processed chunk 372\n",
      "processed chunk 373\n",
      "processed chunk 374\n"
     ]
    },
    {
     "name": "stderr",
     "output_type": "stream",
     "text": [
      "WARNING:__main__:7cd08473-aa8d-1d3c-6234-6d97749e0dee\n",
      "WARNING:__main__:dd95ecfb-04b0-cbc5-e1d8-ae17e8a97709\n",
      "WARNING:__main__:8ab3ba32-cf48-2600-de9d-2c6edc923d33\n",
      "WARNING:__main__:5f7e1c36-268f-9701-9a60-73795b16c10d\n",
      "WARNING:__main__:6237b6ab-9be6-6e9c-c82c-abab075c1949\n"
     ]
    },
    {
     "name": "stdout",
     "output_type": "stream",
     "text": [
      "processed chunk 375\n"
     ]
    },
    {
     "name": "stderr",
     "output_type": "stream",
     "text": [
      "WARNING:__main__:f6da88d9-2154-70e5-21f3-b4ead4ba1454\n"
     ]
    },
    {
     "name": "stdout",
     "output_type": "stream",
     "text": [
      "processed chunk 376\n",
      "processed chunk 377\n"
     ]
    },
    {
     "name": "stderr",
     "output_type": "stream",
     "text": [
      "WARNING:__main__:f01b4a68-561e-200e-de78-df8b92fddf78\n",
      "WARNING:__main__:58987ead-4aa1-88df-d975-b2a13fc5c108\n",
      "WARNING:__main__:c019aa19-1aba-b62b-56b7-1786fdf23c2e\n",
      "WARNING:__main__:1693ad88-3939-c9ce-44b0-f7f24952fe52\n"
     ]
    },
    {
     "name": "stdout",
     "output_type": "stream",
     "text": [
      "processed chunk 378\n",
      "processed chunk 379\n",
      "processed chunk 380\n",
      "processed chunk 381\n",
      "processed chunk 382\n",
      "processed chunk 383\n",
      "processed chunk 384\n"
     ]
    },
    {
     "name": "stderr",
     "output_type": "stream",
     "text": [
      "WARNING:__main__:d022576e-e76f-d26b-99d8-0c20c9c04d5e\n",
      "WARNING:__main__:95a57f5c-416d-e26f-aff3-9504e0bbd668\n",
      "WARNING:__main__:a1118024-5c9d-4488-3003-83a1c24ff05d\n",
      "WARNING:__main__:8353a04c-5068-9365-e95f-dfbff1e91dbf\n",
      "WARNING:__main__:89e0603b-418e-20ee-5fe8-ce2ca98de88e\n",
      "WARNING:__main__:b4c76e7a-de4e-3ec0-9721-582ce6bc6829\n",
      "WARNING:__main__:a8ac15d9-b2b0-1a03-f336-5df25b777292\n",
      "WARNING:__main__:8711d28e-4d08-0bcd-8ea0-a1b65ff0008b\n",
      "WARNING:__main__:bad6f597-fc04-3c7b-0442-839a04fdd162\n",
      "WARNING:__main__:4d304d9f-f906-a111-8b7e-bbd087dc0fdf\n",
      "WARNING:__main__:1c742667-3d97-c7e2-ca52-d64c52d267bf\n",
      "WARNING:__main__:d6209ac8-2cde-cb3a-5695-c18e7e97ebdc\n"
     ]
    },
    {
     "name": "stdout",
     "output_type": "stream",
     "text": [
      "processed chunk 385\n"
     ]
    },
    {
     "name": "stderr",
     "output_type": "stream",
     "text": [
      "WARNING:__main__:0be26b90-bd91-b717-0b72-5da7d35b2eed\n",
      "WARNING:__main__:398562be-83af-11af-8a52-844d6d7736fd\n",
      "WARNING:__main__:7fc26776-9309-fc81-b7bf-f4e584906767\n",
      "WARNING:__main__:eb278254-0409-6ebc-ce57-9fee55101649\n",
      "WARNING:__main__:fad21c38-c664-eae4-0c09-6859f164707b\n",
      "WARNING:__main__:9c27af52-4585-1094-b253-f37b106ef0dc\n",
      "WARNING:__main__:bcfe598a-f981-8a96-2bf9-90efd7d992a7\n",
      "WARNING:__main__:9f6c5405-1668-1d80-e186-d2f51b426147\n",
      "WARNING:__main__:75581191-a6a4-5cab-5da3-fdecc76d71aa\n",
      "WARNING:__main__:6078232e-14b9-d9d5-e05a-d67523c25e70\n",
      "WARNING:__main__:e0ad9f42-df4b-438c-b639-009b15f17241\n"
     ]
    },
    {
     "name": "stdout",
     "output_type": "stream",
     "text": [
      "processed chunk 386\n",
      "processed chunk 387\n"
     ]
    },
    {
     "name": "stderr",
     "output_type": "stream",
     "text": [
      "WARNING:__main__:b4eb6cba-eb51-2949-8db9-c64c03660363\n",
      "WARNING:__main__:603b4f20-1217-55c1-5dc1-c533d0b17361\n",
      "WARNING:__main__:43af8cde-6a2c-6dee-ee2f-e3d789acd139\n",
      "WARNING:__main__:5afe4b9b-5fa3-fb94-7be9-6c5129e6a02b\n"
     ]
    },
    {
     "name": "stdout",
     "output_type": "stream",
     "text": [
      "processed chunk 388\n"
     ]
    },
    {
     "name": "stderr",
     "output_type": "stream",
     "text": [
      "WARNING:__main__:eac1d86c-e0fd-f1e4-c638-fdc30bfccbe4\n"
     ]
    },
    {
     "name": "stdout",
     "output_type": "stream",
     "text": [
      "processed chunk 389\n",
      "processed chunk 390\n"
     ]
    },
    {
     "name": "stderr",
     "output_type": "stream",
     "text": [
      "WARNING:__main__:882c6c0e-6150-4a95-8de9-d037212f4353\n",
      "WARNING:__main__:1ca4f503-a79a-cd50-bb0e-dd20df610e67\n",
      "WARNING:__main__:a091534d-e2dc-c869-08ab-6c1eb1c6d0f2\n",
      "WARNING:__main__:5ed5a850-9350-500a-a250-c7536faca0bb\n",
      "WARNING:__main__:bab68f3c-e1a1-c1a3-31ac-f06da16adab2\n",
      "WARNING:__main__:14dd7306-98fb-32f3-f1cc-54e5430ca94f\n",
      "WARNING:__main__:79e36c38-f781-8571-e6df-d40f7d346ec4\n",
      "WARNING:__main__:162e09fe-110e-7106-379a-031bb3c155cc\n",
      "WARNING:__main__:926a53c8-7b32-928f-bc12-eb880f97c9b5\n"
     ]
    },
    {
     "name": "stdout",
     "output_type": "stream",
     "text": [
      "processed chunk 391\n"
     ]
    },
    {
     "name": "stderr",
     "output_type": "stream",
     "text": [
      "WARNING:__main__:b2601020-7a4d-d702-3c96-3c4024bb8ab3\n",
      "WARNING:__main__:32005650-d22a-6e96-8d2c-e27bc08e41d1\n",
      "WARNING:__main__:ea8d9ec6-19c3-0729-63d7-56ff60897d07\n",
      "WARNING:__main__:4493e08b-bffa-4923-e2b9-3f4c6bd5d84f\n",
      "WARNING:__main__:0af358d4-6cd2-b153-6e10-3f6d87b44771\n"
     ]
    },
    {
     "name": "stdout",
     "output_type": "stream",
     "text": [
      "processed chunk 392\n",
      "processed chunk 393\n"
     ]
    },
    {
     "name": "stderr",
     "output_type": "stream",
     "text": [
      "WARNING:__main__:f1e0bb97-a025-19d8-1bed-1cbf4a1fea2d\n",
      "WARNING:__main__:4f5b4bd5-7368-7dde-6dae-7aa6e06726c0\n",
      "WARNING:__main__:7eda7390-2023-4549-1ee0-9d12261a3077\n",
      "WARNING:__main__:286666e4-0ab6-1cb4-b4d9-e83180c1b6a8\n",
      "WARNING:__main__:e39a92d3-3a1b-67c6-9f4e-8a1c48c82076\n",
      "WARNING:__main__:a56dd14c-7a00-957f-8cbe-aa65d8e56012\n",
      "WARNING:__main__:2e5e7f46-f36e-39a5-f4cb-d34857db2339\n",
      "WARNING:__main__:4a618d98-634c-5a9c-782d-647605dfa5f2\n",
      "WARNING:__main__:b5d9c3e5-2818-5280-811e-92f8182cb104\n"
     ]
    },
    {
     "name": "stdout",
     "output_type": "stream",
     "text": [
      "processed chunk 394\n",
      "processed chunk 395\n",
      "processed chunk 396\n"
     ]
    },
    {
     "name": "stderr",
     "output_type": "stream",
     "text": [
      "WARNING:__main__:a0a4e1ee-088a-fffc-1151-11446c7898a6\n",
      "WARNING:__main__:3bac6b8f-eb2e-a0b3-2252-e90522f5f789\n",
      "WARNING:__main__:c3c14ece-b075-4bf8-b440-5c3abe231c17\n"
     ]
    },
    {
     "name": "stdout",
     "output_type": "stream",
     "text": [
      "processed chunk 397\n",
      "processed chunk 398\n"
     ]
    },
    {
     "name": "stderr",
     "output_type": "stream",
     "text": [
      "WARNING:__main__:5e30cb53-02fa-b91f-3d6a-089d0997b4f9\n"
     ]
    },
    {
     "name": "stdout",
     "output_type": "stream",
     "text": [
      "processed chunk 399\n"
     ]
    },
    {
     "name": "stderr",
     "output_type": "stream",
     "text": [
      "WARNING:__main__:0b48a95e-d6d3-23e0-ffb4-25555881e1bd\n"
     ]
    },
    {
     "name": "stdout",
     "output_type": "stream",
     "text": [
      "processed chunk 400\n"
     ]
    },
    {
     "name": "stderr",
     "output_type": "stream",
     "text": [
      "WARNING:__main__:e2d8d145-81f5-85fc-98c9-808dbcd12da9\n"
     ]
    },
    {
     "name": "stdout",
     "output_type": "stream",
     "text": [
      "processed chunk 401\n",
      "processed chunk 402\n",
      "processed chunk 403\n",
      "processed chunk 404\n"
     ]
    },
    {
     "name": "stderr",
     "output_type": "stream",
     "text": [
      "WARNING:__main__:253cfcc3-7967-9880-cb1e-9d8e6f37eb61\n",
      "WARNING:__main__:068803cc-fb80-fb00-a400-c18ed23278a4\n",
      "WARNING:__main__:1547515c-9acb-28be-7bfb-b4036ebbcee5\n"
     ]
    },
    {
     "name": "stdout",
     "output_type": "stream",
     "text": [
      "processed chunk 405\n"
     ]
    },
    {
     "name": "stderr",
     "output_type": "stream",
     "text": [
      "WARNING:__main__:a5f937fe-437c-2fc3-c2f4-ab8ef3c1a07f\n",
      "WARNING:__main__:8f083829-d861-40de-876e-94095ad05ce2\n",
      "WARNING:__main__:9720a795-0ff9-c62a-1f2c-3423e2e593ce\n",
      "WARNING:__main__:bbd079da-539a-3aa5-357d-2eaafd03145e\n",
      "WARNING:__main__:d119ec6a-94a8-7e0f-3c83-5e0e08b4b171\n",
      "WARNING:__main__:16c3db0a-2f0d-157f-ea1f-95b89dc35a36\n",
      "WARNING:__main__:ecc70c8b-6b6e-e32f-3ae2-85e44c417af8\n",
      "WARNING:__main__:3ba0d06c-6fa2-f6de-03a3-c7fcaf4ade1f\n"
     ]
    },
    {
     "name": "stdout",
     "output_type": "stream",
     "text": [
      "processed chunk 406\n"
     ]
    },
    {
     "name": "stderr",
     "output_type": "stream",
     "text": [
      "WARNING:__main__:a1e1d8b3-f8fa-33a1-3ed7-c08ddab9e51a\n"
     ]
    },
    {
     "name": "stdout",
     "output_type": "stream",
     "text": [
      "processed chunk 407\n",
      "processed chunk 408\n",
      "processed chunk 409\n"
     ]
    },
    {
     "name": "stderr",
     "output_type": "stream",
     "text": [
      "WARNING:__main__:2f407a97-5161-c756-3793-4cc5622d5e57\n",
      "WARNING:__main__:f0bb92ba-fcd4-f982-c1b7-b24514171c37\n",
      "WARNING:__main__:b1c78cce-0a94-9d38-9222-746edc801700\n",
      "WARNING:__main__:b38ab5c6-f2c9-e6fd-de2c-6d7a60f97ab5\n",
      "WARNING:__main__:81aeb0a0-3792-3b43-ce4a-34763900a12f\n"
     ]
    },
    {
     "name": "stdout",
     "output_type": "stream",
     "text": [
      "processed chunk 410\n",
      "processed chunk 411\n"
     ]
    },
    {
     "name": "stderr",
     "output_type": "stream",
     "text": [
      "WARNING:__main__:008d1c53-5337-51f5-f2bf-76e748d5d017\n",
      "WARNING:__main__:b179f1d4-e58a-f466-3434-d679073657bf\n",
      "WARNING:__main__:a88dd446-5d78-f354-fd88-06773a3ea156\n",
      "WARNING:__main__:8b83dcee-0217-e7d5-9c1f-728ff78d888c\n",
      "WARNING:__main__:521a218b-46c9-6c5b-c3ee-870ae8df93ad\n",
      "WARNING:__main__:9cf6282b-935a-a29f-3067-c6e2afcfda17\n",
      "WARNING:__main__:1fa0bb5c-287a-1f69-dd44-f26b873c3cdb\n",
      "WARNING:__main__:47b92101-49d0-014c-b906-3a45825aa361\n",
      "WARNING:__main__:c5423f54-3090-efbc-2ae9-5e88e120e8e3\n",
      "WARNING:__main__:b8af84f9-d777-b899-7568-361bd483b866\n",
      "WARNING:__main__:81feb6be-aafd-68ce-6306-95bcea57bf7b\n",
      "WARNING:__main__:e4a99b0b-5111-2ee7-4ed4-8c1b25305b9d\n"
     ]
    },
    {
     "name": "stdout",
     "output_type": "stream",
     "text": [
      "processed chunk 412\n"
     ]
    },
    {
     "name": "stderr",
     "output_type": "stream",
     "text": [
      "WARNING:__main__:344476c6-edcf-fbf1-e40e-4240af7c1214\n"
     ]
    },
    {
     "name": "stdout",
     "output_type": "stream",
     "text": [
      "processed chunk 413\n"
     ]
    },
    {
     "name": "stderr",
     "output_type": "stream",
     "text": [
      "WARNING:__main__:bd0e9b46-b81a-6e10-86d8-754734bfaab3\n",
      "WARNING:__main__:bd9d9e98-6154-e430-83ec-6e7510d346e2\n",
      "WARNING:__main__:c97ea1ce-169b-00c4-daec-0ed6b75fb303\n",
      "WARNING:__main__:3f9f383a-4e9b-2fc0-49fd-36a15e15765a\n",
      "WARNING:__main__:ee0db3a3-5c77-065a-83d7-a9678046301e\n",
      "WARNING:__main__:b1ea7dfc-704e-b5f7-49aa-0dce18b74758\n",
      "WARNING:__main__:e22d6925-1a8f-4b16-0d03-926a090da9a9\n",
      "WARNING:__main__:9a4e20a6-2277-72f2-9bb4-cb898c1bd62c\n",
      "WARNING:__main__:fa01e0ca-d569-4fa5-fe32-1af8d23a7f13\n"
     ]
    },
    {
     "name": "stdout",
     "output_type": "stream",
     "text": [
      "processed chunk 414\n",
      "processed chunk 415\n",
      "processed chunk 416\n",
      "processed chunk 417\n",
      "processed chunk 418\n",
      "processed chunk 419\n"
     ]
    },
    {
     "name": "stderr",
     "output_type": "stream",
     "text": [
      "WARNING:__main__:fddc5395-12d9-cc82-2f35-6f2964f674c4\n"
     ]
    },
    {
     "name": "stdout",
     "output_type": "stream",
     "text": [
      "processed chunk 420\n"
     ]
    },
    {
     "name": "stderr",
     "output_type": "stream",
     "text": [
      "WARNING:__main__:468ddf1d-5bd6-03a5-faad-4eeb168767fa\n",
      "WARNING:__main__:8c64f520-53f2-52ff-7c7e-748599c9ed73\n",
      "WARNING:__main__:94341e12-ce6e-762b-3522-ef6f62cc3758\n"
     ]
    },
    {
     "name": "stdout",
     "output_type": "stream",
     "text": [
      "processed chunk 421\n",
      "processed chunk 422\n"
     ]
    },
    {
     "name": "stderr",
     "output_type": "stream",
     "text": [
      "WARNING:__main__:cfade28f-8670-f024-6ecf-eceb61f7db1b\n"
     ]
    },
    {
     "name": "stdout",
     "output_type": "stream",
     "text": [
      "processed chunk 423\n"
     ]
    },
    {
     "name": "stderr",
     "output_type": "stream",
     "text": [
      "WARNING:__main__:c9bc68c9-c9fb-907e-8445-3da6be9ff0f0\n",
      "WARNING:__main__:81b7db57-215e-d88e-acee-a3c0f7d4c168\n",
      "WARNING:__main__:73559280-05e7-4be3-cbae-c562c9b099f3\n",
      "WARNING:__main__:42ea2bfe-9b99-a290-8731-03ed0db58666\n",
      "WARNING:__main__:3100ce01-d060-9061-8a96-74ee60bbf38a\n",
      "WARNING:__main__:2d345295-c74c-9801-5e1c-526cc3b54109\n",
      "WARNING:__main__:7dcfb4cd-7bdd-af98-3aa3-4de5aaeb4d87\n",
      "WARNING:__main__:876a0323-14db-86e7-e928-0e916eaf222e\n"
     ]
    },
    {
     "name": "stdout",
     "output_type": "stream",
     "text": [
      "processed chunk 424\n"
     ]
    },
    {
     "name": "stderr",
     "output_type": "stream",
     "text": [
      "WARNING:__main__:fd87034a-540e-b92c-a51d-0f6975ea09dd\n",
      "WARNING:__main__:aa6b2db7-7439-7414-53b7-a827719e9297\n",
      "WARNING:__main__:bcca5677-f4ba-5e96-02ff-3d66f9ecbb42\n",
      "WARNING:__main__:ef180bcd-ed4d-ab63-7510-f741011ed420\n",
      "WARNING:__main__:ba7a8ec2-18ac-e4d9-bd44-1731e67c9a57\n",
      "WARNING:__main__:c0f84918-b37d-c4a1-0f05-131ad3ff0da2\n"
     ]
    },
    {
     "name": "stdout",
     "output_type": "stream",
     "text": [
      "processed chunk 425\n"
     ]
    },
    {
     "name": "stderr",
     "output_type": "stream",
     "text": [
      "WARNING:__main__:20ef20b7-714b-2e49-c6a2-b46cb7958cd2\n",
      "WARNING:__main__:dc773038-2d54-df8f-77b3-6c5f47163fa0\n",
      "WARNING:__main__:1e59aa35-e06f-73e6-2c86-e45614a1cc87\n",
      "WARNING:__main__:b099cfe5-ffd0-e871-c80d-fb93c3db62fd\n"
     ]
    },
    {
     "name": "stdout",
     "output_type": "stream",
     "text": [
      "processed chunk 426\n"
     ]
    },
    {
     "name": "stderr",
     "output_type": "stream",
     "text": [
      "WARNING:__main__:aa5de140-fbd9-d84a-5cc5-7c6feebf536f\n"
     ]
    },
    {
     "name": "stdout",
     "output_type": "stream",
     "text": [
      "processed chunk 427\n"
     ]
    },
    {
     "name": "stderr",
     "output_type": "stream",
     "text": [
      "WARNING:__main__:61bbc648-32b1-da3c-4104-855d0ecca4e9\n"
     ]
    },
    {
     "name": "stdout",
     "output_type": "stream",
     "text": [
      "processed chunk 428\n"
     ]
    },
    {
     "name": "stderr",
     "output_type": "stream",
     "text": [
      "WARNING:__main__:b738605c-9091-c505-9ac6-b35d9a4a3dae\n",
      "WARNING:__main__:b55d8424-66fa-9998-7a5f-f69bfd77294f\n",
      "WARNING:__main__:900e21b4-3ef0-c2ce-31bc-71183b201fcc\n",
      "WARNING:__main__:f858cdf5-60f8-73fd-7644-961e35c015be\n",
      "WARNING:__main__:2d849fae-d065-bb34-e685-01f609c4a542\n",
      "WARNING:__main__:c9eb639d-f975-a33f-0c95-0611aada9860\n",
      "WARNING:__main__:07eb979e-6b36-407e-dcaa-3c4cfa381257\n",
      "WARNING:__main__:93dbeacb-47ce-866b-8083-e97bde74d202\n",
      "WARNING:__main__:47f82764-94e9-bf42-8afb-545e94487584\n",
      "WARNING:__main__:e315b89c-50c7-9cf8-ba72-787df087b892\n",
      "WARNING:__main__:5ab68ed7-e43d-889d-0d2c-df7ce6946b2a\n",
      "WARNING:__main__:453d1403-9804-e385-f1ea-df31c508ee40\n"
     ]
    },
    {
     "name": "stdout",
     "output_type": "stream",
     "text": [
      "processed chunk 429\n"
     ]
    },
    {
     "name": "stderr",
     "output_type": "stream",
     "text": [
      "WARNING:__main__:7dfbdb27-e9ca-99f7-42e4-33bc21f59bf4\n"
     ]
    },
    {
     "name": "stdout",
     "output_type": "stream",
     "text": [
      "processed chunk 430\n",
      "processed chunk 431\n",
      "processed chunk 432\n",
      "processed chunk 433\n"
     ]
    },
    {
     "name": "stderr",
     "output_type": "stream",
     "text": [
      "WARNING:__main__:ea361f83-0be5-c0dd-6d2f-0ffa02d1a001\n",
      "WARNING:__main__:fb1e978f-bc01-3415-c22a-34258096ad8e\n",
      "WARNING:__main__:a3f6803b-cd8f-24b2-5f92-5da82a62e6f0\n"
     ]
    },
    {
     "name": "stdout",
     "output_type": "stream",
     "text": [
      "processed chunk 434\n"
     ]
    },
    {
     "name": "stderr",
     "output_type": "stream",
     "text": [
      "WARNING:__main__:d51a1c79-7240-e617-be5f-06fed9e9d616\n",
      "WARNING:__main__:7cbb6da7-3fef-ecaa-8350-ca962ba3887c\n",
      "WARNING:__main__:a88f9bc5-3325-cae0-ddfc-8c03c00a8c25\n",
      "WARNING:__main__:8ced725e-40c0-ce36-a6f9-82c2ce5b2019\n",
      "WARNING:__main__:0d258ba9-682b-4bc3-02fc-cf2bd40fb0a6\n"
     ]
    },
    {
     "name": "stdout",
     "output_type": "stream",
     "text": [
      "processed chunk 435\n",
      "processed chunk 436\n",
      "processed chunk 437\n",
      "processed chunk 438\n"
     ]
    },
    {
     "name": "stderr",
     "output_type": "stream",
     "text": [
      "WARNING:__main__:f246fa86-17b2-2e9e-2b6f-274cdf2e026f\n"
     ]
    },
    {
     "name": "stdout",
     "output_type": "stream",
     "text": [
      "processed chunk 439\n",
      "processed chunk 440\n"
     ]
    },
    {
     "name": "stderr",
     "output_type": "stream",
     "text": [
      "WARNING:__main__:960f6e7c-e1b2-2a51-e212-3536ffa3c8e5\n",
      "WARNING:__main__:c8ebce1b-7620-cd87-f439-f51518a541b0\n",
      "WARNING:__main__:a36ff747-3d5b-bd6b-b853-7e70afdcdb3b\n",
      "WARNING:__main__:e6d8f387-88cf-d1eb-0e2b-f205abc75331\n"
     ]
    },
    {
     "name": "stdout",
     "output_type": "stream",
     "text": [
      "processed chunk 441\n",
      "processed chunk 442\n",
      "processed chunk 443\n"
     ]
    },
    {
     "name": "stderr",
     "output_type": "stream",
     "text": [
      "WARNING:__main__:9d57fa72-8c53-abda-ed1a-b398bb8616d7\n",
      "WARNING:__main__:683c763f-3a67-2a1e-b36a-d76448b69b94\n",
      "WARNING:__main__:4585df47-28c3-30c1-66ca-a10711b760eb\n"
     ]
    },
    {
     "name": "stdout",
     "output_type": "stream",
     "text": [
      "processed chunk 444\n"
     ]
    },
    {
     "name": "stderr",
     "output_type": "stream",
     "text": [
      "WARNING:__main__:e354150f-22c5-aa02-f4e3-e99cd474719c\n",
      "WARNING:__main__:de588ac0-561e-ed6d-ac27-ea699943e94f\n",
      "WARNING:__main__:d4d71bb1-176d-aeff-dff4-a196d544d442\n"
     ]
    },
    {
     "name": "stdout",
     "output_type": "stream",
     "text": [
      "processed chunk 445\n",
      "processed chunk 446\n"
     ]
    },
    {
     "name": "stderr",
     "output_type": "stream",
     "text": [
      "WARNING:__main__:e1a29208-67d2-8864-719c-842126d608ec\n"
     ]
    },
    {
     "name": "stdout",
     "output_type": "stream",
     "text": [
      "processed chunk 447\n"
     ]
    },
    {
     "name": "stderr",
     "output_type": "stream",
     "text": [
      "WARNING:__main__:235bf07b-b004-ae16-19b1-0b5110127d10\n",
      "WARNING:__main__:1ae769c7-2c6c-f82d-f568-d87145618ea0\n",
      "WARNING:__main__:3c7c03c3-0b0f-8114-9c97-338df5820254\n",
      "WARNING:__main__:82974990-acd6-bede-aa4e-ed07c753e099\n",
      "WARNING:__main__:f5c4bea8-ade5-1522-a3a0-f90dbd16a16b\n"
     ]
    },
    {
     "name": "stdout",
     "output_type": "stream",
     "text": [
      "processed chunk 448\n"
     ]
    },
    {
     "name": "stderr",
     "output_type": "stream",
     "text": [
      "WARNING:__main__:bb381d78-674f-b131-ca60-88b917338441\n",
      "WARNING:__main__:0e2ff4a4-1ec8-37ce-b658-9c7ea15fb68a\n"
     ]
    },
    {
     "name": "stdout",
     "output_type": "stream",
     "text": [
      "processed chunk 449\n"
     ]
    },
    {
     "name": "stderr",
     "output_type": "stream",
     "text": [
      "WARNING:__main__:cf5fa389-415f-7464-98db-a16271c6ca69\n",
      "WARNING:__main__:1b87a52c-83f0-e904-918c-14bf759c6caa\n",
      "WARNING:__main__:6d15cfcf-cef1-b1e4-b3fa-95eed6513b9f\n",
      "WARNING:__main__:309e95db-8482-db13-aeb3-3a7ea26a1c61\n",
      "WARNING:__main__:27b7491a-b669-0244-6a7f-48cbd9389e8a\n"
     ]
    },
    {
     "name": "stdout",
     "output_type": "stream",
     "text": [
      "processed chunk 450\n",
      "processed chunk 451\n"
     ]
    },
    {
     "name": "stderr",
     "output_type": "stream",
     "text": [
      "WARNING:__main__:01034f9e-3cee-f311-db25-eefb702f7a74\n",
      "WARNING:__main__:6bb1f8fe-80c6-d6d7-2d65-1474c279bc71\n",
      "WARNING:__main__:69660b21-f123-f093-4043-92847ca3edc2\n"
     ]
    },
    {
     "name": "stdout",
     "output_type": "stream",
     "text": [
      "processed chunk 452\n"
     ]
    },
    {
     "name": "stderr",
     "output_type": "stream",
     "text": [
      "WARNING:__main__:1e0637c1-44c9-d0be-7880-de56f8fb2e7c\n",
      "WARNING:__main__:dd2b8174-646b-f157-f6db-5077a783063a\n",
      "WARNING:__main__:39f221a4-f8a8-7140-ce8a-1802e5bd1f37\n",
      "WARNING:__main__:0d1442a6-f4f1-f903-29ce-4e89a28a1180\n",
      "WARNING:__main__:7d63cba2-e95d-bd3c-5606-a1300963aaea\n",
      "WARNING:__main__:2abd061d-2a57-6a32-ef97-e099da60dc51\n"
     ]
    },
    {
     "name": "stdout",
     "output_type": "stream",
     "text": [
      "processed chunk 453\n"
     ]
    },
    {
     "name": "stderr",
     "output_type": "stream",
     "text": [
      "WARNING:__main__:f0f74835-a88c-f7e7-e713-f1155e66a9d9\n",
      "WARNING:__main__:50cb485a-353d-ab1b-a316-4ab54ab50694\n",
      "WARNING:__main__:5045148e-004c-7416-c524-6f75ba898482\n"
     ]
    },
    {
     "name": "stdout",
     "output_type": "stream",
     "text": [
      "processed chunk 454\n"
     ]
    },
    {
     "name": "stderr",
     "output_type": "stream",
     "text": [
      "WARNING:__main__:2aeedb4b-13d8-67c4-bc57-1c8efa928dd3\n"
     ]
    },
    {
     "name": "stdout",
     "output_type": "stream",
     "text": [
      "processed chunk 455\n"
     ]
    },
    {
     "name": "stderr",
     "output_type": "stream",
     "text": [
      "WARNING:__main__:c7c83d62-6c03-3350-4489-508046158823\n",
      "WARNING:__main__:a442fed9-5827-1c61-dc57-aa9e834cf0b2\n",
      "WARNING:__main__:ced89ac4-b316-d8bc-fc87-76bdf05aae9d\n",
      "WARNING:__main__:04800f72-e153-3567-c859-7f4f354bb78b\n",
      "WARNING:__main__:3b468029-98ff-f89c-adfd-960665f7b2c2\n"
     ]
    },
    {
     "name": "stdout",
     "output_type": "stream",
     "text": [
      "processed chunk 456\n",
      "processed chunk 457\n"
     ]
    },
    {
     "name": "stderr",
     "output_type": "stream",
     "text": [
      "WARNING:__main__:beb17054-402b-bede-5848-f234df86a462\n",
      "WARNING:__main__:80d2414a-97ce-9ed7-d68e-be3752f7a14e\n"
     ]
    },
    {
     "name": "stdout",
     "output_type": "stream",
     "text": [
      "processed chunk 458\n",
      "processed chunk 459\n",
      "processed chunk 460\n"
     ]
    },
    {
     "name": "stderr",
     "output_type": "stream",
     "text": [
      "WARNING:__main__:eaa17489-bcaa-e785-b32d-6743124b0b9d\n"
     ]
    },
    {
     "name": "stdout",
     "output_type": "stream",
     "text": [
      "processed chunk 461\n",
      "processed chunk 462\n"
     ]
    },
    {
     "name": "stderr",
     "output_type": "stream",
     "text": [
      "WARNING:__main__:1a2fa169-dd65-05c7-c959-32907383d8b4\n",
      "WARNING:__main__:50119a34-593d-22c7-83bd-386c3326cbd4\n",
      "WARNING:__main__:b2eef71c-fb61-bb96-d0a1-db93200d69a4\n",
      "WARNING:__main__:f6989939-5ee5-8e60-02bf-c3322520abff\n"
     ]
    },
    {
     "name": "stdout",
     "output_type": "stream",
     "text": [
      "processed chunk 463\n",
      "processed chunk 464\n"
     ]
    },
    {
     "name": "stderr",
     "output_type": "stream",
     "text": [
      "WARNING:__main__:26856b5f-ac51-2254-63d6-79c7c5001f24\n",
      "WARNING:__main__:c62601e8-2b17-77bb-c09d-c2eb819a1268\n"
     ]
    },
    {
     "name": "stdout",
     "output_type": "stream",
     "text": [
      "processed chunk 465\n"
     ]
    },
    {
     "name": "stderr",
     "output_type": "stream",
     "text": [
      "WARNING:__main__:3fbcfa4c-f63e-e83f-2054-6986822ea55f\n"
     ]
    },
    {
     "name": "stdout",
     "output_type": "stream",
     "text": [
      "processed chunk 466\n",
      "processed chunk 467\n"
     ]
    },
    {
     "name": "stderr",
     "output_type": "stream",
     "text": [
      "WARNING:__main__:39ae8256-56d0-b8c8-0d99-db01068f0e5b\n",
      "WARNING:__main__:e10cfc8e-d8ae-6966-51cd-7f54e47687e0\n",
      "WARNING:__main__:a6bfa62c-bb0a-2655-4526-18551d7fb3cf\n",
      "WARNING:__main__:13c7678c-a66b-39f8-371a-75138a29b66c\n",
      "WARNING:__main__:25ad7c24-9b31-67cd-1a3f-3ead4181ccb0\n",
      "WARNING:__main__:030390ee-d205-dc3b-f9c8-cdf0b5222927\n",
      "WARNING:__main__:ae77ecae-d3c5-cfd3-d5da-66c4535ab13f\n"
     ]
    },
    {
     "name": "stdout",
     "output_type": "stream",
     "text": [
      "processed chunk 468\n"
     ]
    },
    {
     "name": "stderr",
     "output_type": "stream",
     "text": [
      "WARNING:__main__:5bfbf774-d895-cd8f-f3bc-b8dbb9f07090\n",
      "WARNING:__main__:2796050a-a136-44b6-78df-d241dcbf0ee8\n",
      "WARNING:__main__:7d911580-c368-6e01-d243-076a7396ad2f\n",
      "WARNING:__main__:ca8c519d-6fd6-475c-8206-9daddb479218\n",
      "WARNING:__main__:73b4b6c4-2a70-116f-e201-e462eac7dd8e\n"
     ]
    },
    {
     "name": "stdout",
     "output_type": "stream",
     "text": [
      "processed chunk 469\n",
      "processed chunk 470\n"
     ]
    },
    {
     "name": "stderr",
     "output_type": "stream",
     "text": [
      "WARNING:__main__:c0820f35-fa58-f9f6-12d4-7599f5484a3e\n"
     ]
    },
    {
     "name": "stdout",
     "output_type": "stream",
     "text": [
      "processed chunk 471\n",
      "processed chunk 472\n"
     ]
    },
    {
     "name": "stderr",
     "output_type": "stream",
     "text": [
      "WARNING:__main__:e5efb43e-6b8e-de85-f99f-e808a9cba58f\n",
      "WARNING:__main__:c92e35ff-69af-4196-ff89-7b7df869c15e\n",
      "WARNING:__main__:8e9f1cfe-ee01-5e2f-356c-ada3f953d5c1\n",
      "WARNING:__main__:b17363a3-f350-e33c-f4f8-9df9afacbe78\n",
      "WARNING:__main__:3a1c0ae2-6619-c825-e559-8dfc0457c113\n",
      "WARNING:__main__:82df2678-6f81-74d1-de91-d3b498be49af\n",
      "WARNING:__main__:74abd87f-258d-194a-490e-0933d63614cb\n"
     ]
    },
    {
     "name": "stdout",
     "output_type": "stream",
     "text": [
      "processed chunk 473\n",
      "processed chunk 474\n",
      "processed chunk 475\n",
      "processed chunk 476\n",
      "processed chunk 477\n",
      "processed chunk 478\n",
      "processed chunk 479\n",
      "processed chunk 480\n",
      "processed chunk 481\n",
      "processed chunk 482\n",
      "processed chunk 483\n"
     ]
    },
    {
     "name": "stderr",
     "output_type": "stream",
     "text": [
      "WARNING:__main__:c8bb1de4-e190-a1ae-5869-4f0dc309fff0\n",
      "WARNING:__main__:3ecc39d5-011b-9c79-0f08-4a019e546af5\n",
      "WARNING:__main__:73de2fb5-1218-24f5-cc1b-b69208440e5b\n"
     ]
    },
    {
     "name": "stdout",
     "output_type": "stream",
     "text": [
      "processed chunk 484\n",
      "processed chunk 485\n",
      "processed chunk 486\n",
      "processed chunk 487\n"
     ]
    },
    {
     "name": "stderr",
     "output_type": "stream",
     "text": [
      "WARNING:__main__:f297ece5-5c44-09a2-244f-6bce1a52e727\n"
     ]
    },
    {
     "name": "stdout",
     "output_type": "stream",
     "text": [
      "processed chunk 488\n",
      "processed chunk 489\n",
      "processed chunk 490\n",
      "processed chunk 491\n"
     ]
    },
    {
     "name": "stderr",
     "output_type": "stream",
     "text": [
      "WARNING:__main__:63afbd8b-a42e-1959-bb3a-3ddabbe1a04d\n",
      "WARNING:__main__:aa355725-1184-10e7-2938-00ee7ce1478e\n",
      "WARNING:__main__:f1103cbe-c2e3-76c7-76b3-65742285426c\n",
      "WARNING:__main__:df67a7d5-b748-ed4d-f85e-3b1e315857e6\n",
      "WARNING:__main__:b4c5c5f4-0ef9-cab2-74b7-131c41ace332\n",
      "WARNING:__main__:b70d07c4-0e06-9281-7d96-d93c9d75eeef\n"
     ]
    },
    {
     "name": "stdout",
     "output_type": "stream",
     "text": [
      "processed chunk 492\n"
     ]
    },
    {
     "name": "stderr",
     "output_type": "stream",
     "text": [
      "WARNING:__main__:75a16d19-8100-9d1f-fa5b-ba42b228f093\n",
      "WARNING:__main__:17500538-c58d-972c-5cb5-223ecc161d64\n",
      "WARNING:__main__:028cddb7-7efc-0db8-21aa-447f34442974\n",
      "WARNING:__main__:ea930bb5-a8c9-01cc-b905-ce6d75d5c912\n",
      "WARNING:__main__:7d4a9d1a-8f5f-fafb-ec0c-6ac02b19c91a\n",
      "WARNING:__main__:7f41d751-8c1b-63f7-7f0f-04435353ffff\n",
      "WARNING:__main__:b6123acf-f566-1e7a-937a-d5bec1b4fb0d\n",
      "WARNING:__main__:436bdc37-29a3-421c-0399-0cada9e0924d\n",
      "WARNING:__main__:ed061bc4-6547-7930-d39d-d2ed64680487\n"
     ]
    },
    {
     "name": "stdout",
     "output_type": "stream",
     "text": [
      "processed chunk 493\n"
     ]
    },
    {
     "name": "stderr",
     "output_type": "stream",
     "text": [
      "WARNING:__main__:b77b4157-8f45-d64a-ac62-30d4f7e63af5\n"
     ]
    },
    {
     "name": "stdout",
     "output_type": "stream",
     "text": [
      "processed chunk 494\n"
     ]
    },
    {
     "name": "stderr",
     "output_type": "stream",
     "text": [
      "WARNING:__main__:12297d24-c567-ed45-7650-96fbf22155d3\n",
      "WARNING:__main__:b995f426-a448-00ad-03c8-edfe99e39898\n",
      "WARNING:__main__:ef9ec457-7ff8-8a72-398d-e0f358441ab5\n",
      "WARNING:__main__:e735d831-e434-1060-f8ec-7e651e71425a\n",
      "WARNING:__main__:9619b2ea-6b74-5a61-8211-eb33df3fda70\n",
      "WARNING:__main__:8324d794-2d67-3e02-3c0d-9cb11b38da4b\n",
      "WARNING:__main__:6769716d-81ae-bda0-9564-d8f484874966\n",
      "WARNING:__main__:7e45111b-4b96-d7d6-f156-7634241ab64d\n",
      "WARNING:__main__:ac87c923-ea39-898d-3456-a1c09971270a\n"
     ]
    },
    {
     "name": "stdout",
     "output_type": "stream",
     "text": [
      "processed chunk 495\n"
     ]
    },
    {
     "name": "stderr",
     "output_type": "stream",
     "text": [
      "WARNING:__main__:e20aff9b-70b0-7e08-444b-f5ce7d914f41\n"
     ]
    },
    {
     "name": "stdout",
     "output_type": "stream",
     "text": [
      "processed chunk 496\n"
     ]
    },
    {
     "name": "stderr",
     "output_type": "stream",
     "text": [
      "WARNING:__main__:d75de999-cf74-69d1-cb1d-e8b6dd164fac\n",
      "WARNING:__main__:01e3a74f-e374-6d05-e109-762cb08684ba\n",
      "WARNING:__main__:f3e0e1f1-fbd6-564a-a794-68d3d8ba20d8\n",
      "WARNING:__main__:84998da4-f7bd-22a4-cf93-1d7147d15278\n",
      "WARNING:__main__:f828bf40-6fc6-4db4-6d2c-0650d31bb240\n",
      "WARNING:__main__:d30bd8de-c3a0-0c5b-38df-9b3e5f6e4b26\n",
      "WARNING:__main__:b9a83cbd-a7d4-a44e-2c95-fbcc2d947d91\n",
      "WARNING:__main__:688243ce-cd80-22d5-f24b-4812dde4a9e4\n",
      "WARNING:__main__:5e873936-d40c-e29d-fd90-c9349ead5fb9\n",
      "WARNING:__main__:1adeb7c5-c315-5fa8-7be8-f17cfc1ccd9c\n",
      "WARNING:__main__:8cea1c3f-cb5e-56ef-1013-dc00ea4a1dc1\n",
      "WARNING:__main__:4749e38e-9407-77d8-e932-25680765d25e\n"
     ]
    },
    {
     "name": "stdout",
     "output_type": "stream",
     "text": [
      "processed chunk 497\n",
      "processed chunk 498\n"
     ]
    },
    {
     "name": "stderr",
     "output_type": "stream",
     "text": [
      "WARNING:__main__:db546d99-5660-fda8-c575-221667ec7a87\n"
     ]
    },
    {
     "name": "stdout",
     "output_type": "stream",
     "text": [
      "processed chunk 499\n",
      "processed chunk 500\n",
      "processed chunk 501\n"
     ]
    },
    {
     "name": "stderr",
     "output_type": "stream",
     "text": [
      "WARNING:__main__:31ccbbfc-4546-c6c5-2cbd-88037cc90dbc\n",
      "WARNING:__main__:1c25f2fd-7e4b-bff6-2337-5b12d1596a0a\n",
      "WARNING:__main__:ac4cf376-4483-6227-591b-cf6891a47887\n",
      "WARNING:__main__:a67dc63f-0fd2-4cae-a9e1-178703856e84\n",
      "WARNING:__main__:b4df6da9-279f-65b4-92d9-d4c41827e439\n",
      "WARNING:__main__:93e6cc12-02b1-ac18-4dca-4e97d2168c7e\n",
      "WARNING:__main__:321421c2-64c6-ea41-44b0-76d99f59421f\n",
      "WARNING:__main__:c98070ff-7de5-6731-e40d-05eac41dc4ad\n",
      "WARNING:__main__:00c57122-0e5b-b04f-1c53-e3c4d0b8e647\n"
     ]
    },
    {
     "name": "stdout",
     "output_type": "stream",
     "text": [
      "processed chunk 502\n",
      "processed chunk 503\n",
      "processed chunk 504\n",
      "processed chunk 505\n",
      "processed chunk 506\n"
     ]
    },
    {
     "name": "stderr",
     "output_type": "stream",
     "text": [
      "WARNING:__main__:66ee44d9-d3d7-4111-7aba-d66abaead3a9\n",
      "WARNING:__main__:b4075054-075d-0af5-841f-9f6c88693115\n",
      "WARNING:__main__:c25b5b35-368c-c89d-dd59-9179019b6ac8\n"
     ]
    },
    {
     "name": "stdout",
     "output_type": "stream",
     "text": [
      "processed chunk 507\n",
      "processed chunk 508\n"
     ]
    },
    {
     "name": "stderr",
     "output_type": "stream",
     "text": [
      "WARNING:__main__:4b798fff-ef28-6d24-a065-db6e272dba82\n",
      "WARNING:__main__:adbf62bc-0a51-fef7-0369-0874f8e8512b\n",
      "WARNING:__main__:1b134442-7789-c03c-74cf-4c3ccc2dcef0\n",
      "WARNING:__main__:8fdaff30-d7a4-b829-e074-12993a8670c5\n",
      "WARNING:__main__:ed7ac444-510b-cfea-a92e-45e03525e35d\n",
      "WARNING:__main__:aef50096-9320-6cbd-9b14-8559c312498a\n",
      "WARNING:__main__:c6339e2d-cc50-f124-3cdb-0aaf7224274c\n",
      "WARNING:__main__:84eea5b4-43f8-2f8f-d927-2a606bcc8c6c\n"
     ]
    },
    {
     "name": "stdout",
     "output_type": "stream",
     "text": [
      "processed chunk 509\n"
     ]
    },
    {
     "name": "stderr",
     "output_type": "stream",
     "text": [
      "WARNING:__main__:085baffa-aa61-965d-b279-db8d4a47a58f\n",
      "WARNING:__main__:a1ae4fb3-a8df-b8dd-d7b6-562b7d65f52f\n",
      "WARNING:__main__:940b12c2-b407-753f-bc5a-f96086b7507c\n"
     ]
    },
    {
     "name": "stdout",
     "output_type": "stream",
     "text": [
      "processed chunk 510\n"
     ]
    },
    {
     "name": "stderr",
     "output_type": "stream",
     "text": [
      "WARNING:__main__:1a9f38d6-7979-3c5d-7afd-76b6e3146b84\n"
     ]
    },
    {
     "name": "stdout",
     "output_type": "stream",
     "text": [
      "processed chunk 511\n",
      "processed chunk 512\n",
      "processed chunk 513\n"
     ]
    },
    {
     "name": "stderr",
     "output_type": "stream",
     "text": [
      "WARNING:__main__:9f9146c8-ecf3-2f7b-42ed-a71411e062b0\n"
     ]
    },
    {
     "name": "stdout",
     "output_type": "stream",
     "text": [
      "processed chunk 514\n",
      "processed chunk 515\n"
     ]
    },
    {
     "name": "stderr",
     "output_type": "stream",
     "text": [
      "WARNING:__main__:18130049-b804-5091-fb0d-ea2da8c5155e\n",
      "WARNING:__main__:279b4110-541e-b3d6-2010-f0885595ee59\n"
     ]
    },
    {
     "name": "stdout",
     "output_type": "stream",
     "text": [
      "processed chunk 516\n"
     ]
    },
    {
     "name": "stderr",
     "output_type": "stream",
     "text": [
      "WARNING:__main__:2b2133eb-71e2-1563-6bb2-d3b88b18454c\n",
      "WARNING:__main__:afa0d538-855c-ffc6-d12a-a0fc41582a7b\n"
     ]
    },
    {
     "name": "stdout",
     "output_type": "stream",
     "text": [
      "processed chunk 517\n"
     ]
    },
    {
     "name": "stderr",
     "output_type": "stream",
     "text": [
      "WARNING:__main__:2e732d11-44ab-05c5-ff5c-ef78bf73d6ae\n",
      "WARNING:__main__:a08ea276-0d39-c141-95c4-5c7abd795eaa\n"
     ]
    },
    {
     "name": "stdout",
     "output_type": "stream",
     "text": [
      "processed chunk 518\n"
     ]
    },
    {
     "name": "stderr",
     "output_type": "stream",
     "text": [
      "WARNING:__main__:488383a6-3a1b-2af1-2a08-7eeb550a39cc\n"
     ]
    },
    {
     "name": "stdout",
     "output_type": "stream",
     "text": [
      "processed chunk 519\n"
     ]
    },
    {
     "name": "stderr",
     "output_type": "stream",
     "text": [
      "WARNING:__main__:c0c71f82-f059-78be-7e0d-370f4419b7b4\n",
      "WARNING:__main__:fccec53f-6370-7dde-72eb-f21ea0095767\n",
      "WARNING:__main__:1d0ff1f4-8643-bdaa-c22a-f9943c5accf2\n",
      "WARNING:__main__:b88b2b66-9bb2-3459-f7f1-59c4a084d7b7\n",
      "WARNING:__main__:4ca655f6-9c1b-04be-a80c-db3a81965e9b\n"
     ]
    },
    {
     "name": "stdout",
     "output_type": "stream",
     "text": [
      "processed chunk 520\n"
     ]
    },
    {
     "name": "stderr",
     "output_type": "stream",
     "text": [
      "WARNING:__main__:a7eed7c3-15d2-18c0-fd68-7fa996559bd0\n",
      "WARNING:__main__:513a8b98-41dd-e456-1575-b9a587b640fe\n",
      "WARNING:__main__:f8623d94-9ad8-fe56-d8bf-2017d7ad66eb\n",
      "WARNING:__main__:aa721d03-bd3a-bc62-e650-e39712c6f71a\n",
      "WARNING:__main__:0b7bd534-d5db-817f-6b2a-ef704f86c64a\n"
     ]
    },
    {
     "name": "stdout",
     "output_type": "stream",
     "text": [
      "processed chunk 521\n"
     ]
    },
    {
     "name": "stderr",
     "output_type": "stream",
     "text": [
      "WARNING:__main__:6c3e88bb-51b0-10fc-9045-80cecd6a3bb5\n"
     ]
    },
    {
     "name": "stdout",
     "output_type": "stream",
     "text": [
      "processed chunk 522\n"
     ]
    },
    {
     "name": "stderr",
     "output_type": "stream",
     "text": [
      "WARNING:__main__:ab544ba6-8f95-32b6-dd30-2b7bb5e9e8ee\n",
      "WARNING:__main__:c0c77a8e-5f32-d97f-53af-e44cc57ff8bd\n",
      "WARNING:__main__:229010cb-f220-0215-3fa3-9fb7c7610c50\n",
      "WARNING:__main__:1466ac64-287e-c054-a499-550146352650\n",
      "WARNING:__main__:947c9b37-5431-3320-b8b2-8087b92be147\n",
      "WARNING:__main__:1fbe0b98-b40b-dd35-8792-f14803707ee6\n",
      "WARNING:__main__:846451e0-0b5b-a16d-25a6-f5f114368220\n",
      "WARNING:__main__:b0fbe106-b8b8-14f3-a047-b8fea787c71d\n",
      "WARNING:__main__:7cfb1d5c-8641-d6cc-d256-72f1a4725a18\n",
      "WARNING:__main__:a0a474d1-d84b-09d1-82a4-e7a375ad8657\n",
      "WARNING:__main__:3b4f522e-eadf-1b70-72ab-9f9fafb35539\n",
      "WARNING:__main__:15b68ddb-7ee9-52fb-897a-a54267c898b2\n"
     ]
    },
    {
     "name": "stdout",
     "output_type": "stream",
     "text": [
      "processed chunk 523\n",
      "processed chunk 524\n",
      "processed chunk 525\n"
     ]
    },
    {
     "name": "stderr",
     "output_type": "stream",
     "text": [
      "WARNING:__main__:78dffb6d-83fd-63af-c3c0-e8cb8ee53e67\n",
      "WARNING:__main__:cfad1574-0f09-6cb8-704c-5653132d99b1\n",
      "WARNING:__main__:3ab90911-d125-d346-204b-b0be32e66190\n",
      "WARNING:__main__:f4aa5cc3-db47-7609-1801-91793137cb2d\n",
      "WARNING:__main__:72e48ab4-eb01-e42f-fb6b-1c7300fb8a42\n"
     ]
    },
    {
     "name": "stdout",
     "output_type": "stream",
     "text": [
      "processed chunk 526\n"
     ]
    },
    {
     "name": "stderr",
     "output_type": "stream",
     "text": [
      "WARNING:__main__:0cf159f2-eadb-4617-c24a-be9fa2978d54\n"
     ]
    },
    {
     "name": "stdout",
     "output_type": "stream",
     "text": [
      "processed chunk 527\n"
     ]
    },
    {
     "name": "stderr",
     "output_type": "stream",
     "text": [
      "WARNING:__main__:c7017b6b-6f27-aab6-9a8c-33fe11e3d9a7\n"
     ]
    },
    {
     "name": "stdout",
     "output_type": "stream",
     "text": [
      "processed chunk 528\n"
     ]
    },
    {
     "name": "stderr",
     "output_type": "stream",
     "text": [
      "WARNING:__main__:fbb892a9-2a04-39a9-9caa-f51f67d9dac4\n"
     ]
    },
    {
     "name": "stdout",
     "output_type": "stream",
     "text": [
      "processed chunk 529\n",
      "processed chunk 530\n"
     ]
    },
    {
     "name": "stderr",
     "output_type": "stream",
     "text": [
      "WARNING:__main__:edc0515f-3012-8e7b-d081-1efa6134358a\n",
      "WARNING:__main__:bb328e25-d0ca-4206-1734-c62128fc2956\n",
      "WARNING:__main__:0677bdae-0300-6fb5-47a9-8c72de068ba0\n",
      "WARNING:__main__:2245263d-ee84-9268-5bfc-9fb7ee7212f1\n",
      "WARNING:__main__:cc9ae298-3238-8032-53a3-7194cbdb214d\n"
     ]
    },
    {
     "name": "stdout",
     "output_type": "stream",
     "text": [
      "processed chunk 531\n"
     ]
    },
    {
     "name": "stderr",
     "output_type": "stream",
     "text": [
      "WARNING:__main__:1bdca06e-ec59-f72f-6dc0-07e68bf14b31\n",
      "WARNING:__main__:3f591747-133d-23cc-556f-6cd4e438cb91\n",
      "WARNING:__main__:e4a8acdc-7497-0612-dba8-a358b6fd1499\n",
      "WARNING:__main__:d375ad98-ba9e-3ec7-a299-1ca3a25f6545\n",
      "WARNING:__main__:e668d23f-0b13-2591-8ded-31ecd3219be0\n",
      "WARNING:__main__:3ee44b37-d586-49b8-21ca-8f867c8d5246\n",
      "WARNING:__main__:ebceae49-70f8-52f1-7c5a-d0c9c251e16c\n",
      "WARNING:__main__:c8c49da0-9020-f866-7acf-191fd1f58e58\n",
      "WARNING:__main__:ecf5f384-dc6e-cff9-af5c-a675ebf20629\n",
      "WARNING:__main__:22f425ac-e445-79ff-68c0-335f82028116\n",
      "WARNING:__main__:54f272f5-ba2c-3ffe-7d92-7365cef16f9d\n",
      "WARNING:__main__:2fae8820-90f0-0557-b3df-406e12881850\n",
      "WARNING:__main__:1b4e0723-1693-12fc-079f-d96d8a8efcc8\n"
     ]
    },
    {
     "name": "stdout",
     "output_type": "stream",
     "text": [
      "processed chunk 532\n"
     ]
    },
    {
     "name": "stderr",
     "output_type": "stream",
     "text": [
      "WARNING:__main__:6a530545-02fa-3394-ff2a-c7740af9d17a\n",
      "WARNING:__main__:3c2f6127-9c7b-0cb8-261a-34ec4083f437\n",
      "WARNING:__main__:359f4dff-a888-2c7d-b7e5-9bbd001d06e5\n",
      "WARNING:__main__:adf32cb2-21da-e8fb-b6a7-9605f554758c\n",
      "WARNING:__main__:c929b7cd-d281-d0e5-619a-1b338828e215\n",
      "WARNING:__main__:b4ca119b-514a-c762-4cd6-39d6a6168407\n",
      "WARNING:__main__:3dcc57a1-5866-2bb0-55da-a6f7afeab846\n",
      "WARNING:__main__:be63be36-0ca9-cc93-7c2a-bd0114b59d48\n",
      "WARNING:__main__:a507ad6f-99a9-f210-7410-2e4c558b297e\n",
      "WARNING:__main__:d00372d8-3e67-e697-fd32-4faf5b6fbd6d\n"
     ]
    },
    {
     "name": "stdout",
     "output_type": "stream",
     "text": [
      "processed chunk 533\n",
      "processed chunk 534\n",
      "processed chunk 535\n"
     ]
    },
    {
     "name": "stderr",
     "output_type": "stream",
     "text": [
      "WARNING:__main__:60c2a06f-c1c3-6d9d-14ee-152e4496bf23\n"
     ]
    },
    {
     "name": "stdout",
     "output_type": "stream",
     "text": [
      "processed chunk 536\n"
     ]
    },
    {
     "name": "stderr",
     "output_type": "stream",
     "text": [
      "WARNING:__main__:52539ce2-63f2-f9de-18f9-69b7e20b8681\n",
      "WARNING:__main__:75a5f9f5-2bc1-77db-8bc3-febb8850bedc\n",
      "WARNING:__main__:876f5520-5916-79db-3ee0-13688cf67c1a\n",
      "WARNING:__main__:4fff4e68-cb68-5b57-c566-670a02ff6775\n",
      "WARNING:__main__:ef9353ec-74f3-55df-85fa-84b960c68d29\n",
      "WARNING:__main__:26459aa3-22b8-4a6c-d769-7958e569f5d4\n",
      "WARNING:__main__:f6f10175-0552-a4ad-1fa9-9fb6f22dc27f\n",
      "WARNING:__main__:d2bd5874-4b1e-4926-228d-e55be03ab3d8\n"
     ]
    },
    {
     "name": "stdout",
     "output_type": "stream",
     "text": [
      "processed chunk 537\n",
      "processed chunk 538\n"
     ]
    },
    {
     "name": "stderr",
     "output_type": "stream",
     "text": [
      "WARNING:__main__:0dd858ee-92a7-d6f9-0367-e575e94d955e\n",
      "WARNING:__main__:1649700f-4980-a01d-e34e-52bd583e0a7d\n",
      "WARNING:__main__:e1f74b7c-3722-560f-5b91-671872442ae4\n",
      "WARNING:__main__:ac836991-49a7-23cd-71cf-951cd84b9748\n",
      "WARNING:__main__:e036adbc-0544-acf5-41fa-84b175569015\n",
      "WARNING:__main__:8e078abb-34c9-7459-129e-6c8b2df20205\n",
      "WARNING:__main__:f4e29b74-e541-7e05-1fa0-aab6922b239e\n",
      "WARNING:__main__:305fd945-096e-34c8-9110-67126bb65ba2\n",
      "WARNING:__main__:b424a265-183a-dca3-b6c4-47a60a04e620\n",
      "WARNING:__main__:72c10010-ec8f-020f-8b43-30f0397b285b\n",
      "WARNING:__main__:ae380fba-e630-d319-c245-28a0a2550d10\n",
      "WARNING:__main__:a849403b-fbf6-66a0-e7b1-01f10219151b\n",
      "WARNING:__main__:3bbb3105-5962-94b2-2b82-9e67764564a7\n",
      "WARNING:__main__:bfa34a75-253d-d08d-7bed-c46a5c2d1c46\n"
     ]
    },
    {
     "name": "stdout",
     "output_type": "stream",
     "text": [
      "processed chunk 539\n",
      "processed chunk 540\n"
     ]
    },
    {
     "name": "stderr",
     "output_type": "stream",
     "text": [
      "WARNING:__main__:467d2fab-e922-38cf-f0ef-106aa0a170de\n",
      "WARNING:__main__:ee446cef-10fd-92b6-35b6-50e0bcbc840d\n"
     ]
    },
    {
     "name": "stdout",
     "output_type": "stream",
     "text": [
      "processed chunk 541\n"
     ]
    },
    {
     "name": "stderr",
     "output_type": "stream",
     "text": [
      "WARNING:__main__:5195139e-edb3-e4d7-c67c-073114fc3d9d\n"
     ]
    },
    {
     "name": "stdout",
     "output_type": "stream",
     "text": [
      "processed chunk 542\n",
      "processed chunk 543\n"
     ]
    },
    {
     "name": "stderr",
     "output_type": "stream",
     "text": [
      "WARNING:__main__:5a495447-a604-d7da-c275-d2c55e73ad45\n"
     ]
    },
    {
     "name": "stdout",
     "output_type": "stream",
     "text": [
      "processed chunk 544\n",
      "processed chunk 545\n"
     ]
    },
    {
     "name": "stderr",
     "output_type": "stream",
     "text": [
      "WARNING:__main__:e7960d50-dae3-88e2-97a1-0ceeb7ea8d27\n",
      "WARNING:__main__:7700c156-bacd-5560-9cc7-c2adc3ecfa4f\n",
      "WARNING:__main__:5a4b83cf-75fd-8f67-c0b9-3d7ae40623ef\n",
      "WARNING:__main__:4bf44551-dcc4-9b12-82d7-a76b1c8e3d36\n",
      "WARNING:__main__:b47e4971-0297-916e-21ca-d1e67bf401b0\n",
      "WARNING:__main__:82f714ce-e396-5efa-4d40-1d85bbc55d5f\n",
      "WARNING:__main__:ba6f7ce7-ff5c-d1a5-ff87-a6eac19fbd6b\n"
     ]
    },
    {
     "name": "stdout",
     "output_type": "stream",
     "text": [
      "processed chunk 546\n",
      "processed chunk 547\n",
      "processed chunk 548\n",
      "processed chunk 549\n"
     ]
    },
    {
     "name": "stderr",
     "output_type": "stream",
     "text": [
      "WARNING:__main__:36654689-e4d4-8ed6-5cfe-fa3de73d58e8\n",
      "WARNING:__main__:7175ec69-3083-09f2-ad27-c7859363b00e\n",
      "WARNING:__main__:9f9ae9ec-e08f-87a2-07e1-0d1133adcd65\n",
      "WARNING:__main__:dc75d952-97af-f6ab-ba4a-32f38e4f1356\n",
      "WARNING:__main__:f8d40541-3dee-14b8-7595-814389a274ea\n",
      "WARNING:__main__:3468bd1c-c7ed-f524-4059-dfff205d8372\n",
      "WARNING:__main__:08a1d871-7303-9b52-0373-4db2fb0a9265\n",
      "WARNING:__main__:e5b875b9-bb0a-aa6c-07fa-621b71476d8e\n",
      "WARNING:__main__:4cbcec4d-ce20-ade4-36e3-046c57002d5a\n"
     ]
    },
    {
     "name": "stdout",
     "output_type": "stream",
     "text": [
      "processed chunk 550\n",
      "processed chunk 551\n"
     ]
    },
    {
     "name": "stderr",
     "output_type": "stream",
     "text": [
      "WARNING:__main__:f43e3216-d90d-8c3e-74dc-02aa0b06adb4\n",
      "WARNING:__main__:070ff90e-c5bd-0b6b-c453-8da2930c26fe\n",
      "WARNING:__main__:2e5d5f80-4710-84c4-42d7-52d68f632247\n",
      "WARNING:__main__:a8e4043f-ebd2-1a99-71f3-3681cc079c16\n",
      "WARNING:__main__:4b238685-4566-0a73-1aed-b75a0d3e2bdc\n",
      "WARNING:__main__:19bf76e1-8e25-d4c3-eaf2-6b95d52d8525\n",
      "WARNING:__main__:e6f3d9e7-85b1-d30b-d737-c9d8ff655696\n",
      "WARNING:__main__:ce657c3a-714f-057f-50a6-4082481895e2\n",
      "WARNING:__main__:2214bb5e-b141-e42e-fbb8-55b238cd5e90\n",
      "WARNING:__main__:8c16b2d7-b008-e2f4-5320-c305aa370c2b\n",
      "WARNING:__main__:6cf50bea-10f2-d6a9-c8a1-63aaffaebe42\n",
      "WARNING:__main__:4f8381da-d619-c0a1-b3f0-b7b28f963d2c\n",
      "WARNING:__main__:02ba1c52-9ad1-52f0-97a9-4ab6196a13f8\n",
      "WARNING:__main__:a45f69e3-3a44-7dfe-eee5-9dd6abf4369c\n",
      "WARNING:__main__:77f8ba76-ca44-a5bd-d3a7-e6d77f8b8fc8\n",
      "WARNING:__main__:e6df6b1d-d7b2-f5cd-a341-0e9f56943405\n",
      "WARNING:__main__:605bbb41-ce32-0ab7-66fc-a62c0a514329\n",
      "WARNING:__main__:41b1fc50-cfd3-64c0-38d8-2515eb5ed1e8\n"
     ]
    },
    {
     "name": "stdout",
     "output_type": "stream",
     "text": [
      "processed chunk 552\n",
      "processed chunk 553\n",
      "processed chunk 554\n",
      "processed chunk 555\n",
      "processed chunk 556\n",
      "processed chunk 557\n",
      "processed chunk 558\n"
     ]
    },
    {
     "name": "stderr",
     "output_type": "stream",
     "text": [
      "WARNING:__main__:93063803-0d3a-0001-1501-41695dc5ed8f\n",
      "WARNING:__main__:25cb4191-f907-8efd-cdac-0a585daa318b\n",
      "WARNING:__main__:2dee6cc9-bb84-a1c8-4279-64fcda8689c1\n",
      "WARNING:__main__:eab73ae4-127d-ee8d-d8b3-cada45a65a8b\n",
      "WARNING:__main__:2b07284f-2699-94ce-dd0b-81f5b6fae817\n",
      "WARNING:__main__:9a71d177-a4ff-b22f-3cef-9cdd5bb39f60\n",
      "WARNING:__main__:9e4212f1-e555-786a-c0d8-4b2780936b75\n",
      "WARNING:__main__:445aec3a-49af-aa93-f1bd-f42bf012e26a\n",
      "WARNING:__main__:5695d2ac-627b-e907-8ee7-d767a9eacf3b\n",
      "WARNING:__main__:5327d4e2-b7dc-b483-2b45-e837d902c7fe\n",
      "WARNING:__main__:f7f06ee7-610a-a597-183b-adeb88835dec\n",
      "WARNING:__main__:7296b008-0658-3e25-b90a-b52b61cad9a6\n"
     ]
    },
    {
     "name": "stdout",
     "output_type": "stream",
     "text": [
      "processed chunk 559\n",
      "processed chunk 560\n"
     ]
    },
    {
     "name": "stderr",
     "output_type": "stream",
     "text": [
      "WARNING:__main__:b04b428e-3b56-9f02-d728-ac83819cdcd4\n",
      "WARNING:__main__:8172e993-d0aa-9efd-3058-66a50f4ab18d\n"
     ]
    },
    {
     "name": "stdout",
     "output_type": "stream",
     "text": [
      "processed chunk 561\n"
     ]
    },
    {
     "name": "stderr",
     "output_type": "stream",
     "text": [
      "WARNING:__main__:4a7a6d19-d4e1-fb40-57e1-5f6c5ebd11b2\n"
     ]
    },
    {
     "name": "stdout",
     "output_type": "stream",
     "text": [
      "processed chunk 562\n"
     ]
    },
    {
     "name": "stderr",
     "output_type": "stream",
     "text": [
      "WARNING:__main__:5c59883b-08ca-2ffd-4ac7-3895d666c6e9\n",
      "WARNING:__main__:2cbfff2c-7406-43e9-c6e9-23fa14fb87d4\n",
      "WARNING:__main__:382650ca-3745-d93e-d38d-2ba5f76fe20e\n",
      "WARNING:__main__:5c295d18-4b5b-4e9b-f44a-fa0bf03b402c\n",
      "WARNING:__main__:29108190-38af-a22c-3d7a-e4f10db6f6aa\n",
      "WARNING:__main__:3b1155c5-708f-6465-d84f-ee149fe18fa6\n"
     ]
    },
    {
     "name": "stdout",
     "output_type": "stream",
     "text": [
      "processed chunk 563\n"
     ]
    },
    {
     "name": "stderr",
     "output_type": "stream",
     "text": [
      "WARNING:__main__:12688397-21f9-bccb-9f07-8f02ae598024\n"
     ]
    },
    {
     "name": "stdout",
     "output_type": "stream",
     "text": [
      "processed chunk 564\n"
     ]
    },
    {
     "name": "stderr",
     "output_type": "stream",
     "text": [
      "WARNING:__main__:6cffbca5-1263-12a5-1460-819a9592ac86\n",
      "WARNING:__main__:082e4e14-52ef-af52-81f7-7c1a25b1557c\n",
      "WARNING:__main__:dc94f8e0-aae8-18fe-0c42-09f10543753a\n",
      "WARNING:__main__:d3499745-3bb0-fed7-29d8-d0e9321f51ca\n",
      "WARNING:__main__:bab05cea-18a1-19c4-3161-cd3836c065e5\n",
      "WARNING:__main__:794c2829-3ad4-c774-dc4c-eb769eb347d0\n",
      "WARNING:__main__:46816b52-c6f1-9e44-7d9c-6e3d3dc05d5f\n",
      "WARNING:__main__:67d7ce95-e856-748c-cce3-02752721a354\n",
      "WARNING:__main__:5c71162c-cff6-0873-95d5-5345bb2581e3\n",
      "WARNING:__main__:352c5c05-1146-2ce8-b0c1-dda95ace568f\n",
      "WARNING:__main__:ea587b09-19c6-2e2e-d0d4-223075451f7f\n",
      "WARNING:__main__:32377326-076d-153f-33bb-f2ba6c41bdb0\n",
      "WARNING:__main__:d0d71a01-1de1-7e4a-ae6b-130c29261520\n"
     ]
    },
    {
     "name": "stdout",
     "output_type": "stream",
     "text": [
      "processed chunk 565\n"
     ]
    },
    {
     "name": "stderr",
     "output_type": "stream",
     "text": [
      "WARNING:__main__:cf2c29ba-e940-4992-cd03-be4a67790e75\n"
     ]
    },
    {
     "name": "stdout",
     "output_type": "stream",
     "text": [
      "processed chunk 566\n",
      "processed chunk 567\n"
     ]
    },
    {
     "name": "stderr",
     "output_type": "stream",
     "text": [
      "WARNING:__main__:d03d5266-b7f5-b921-bb6b-443160a0551f\n",
      "WARNING:__main__:767d4094-3b3f-2189-fbeb-a4ed8f329ba1\n",
      "WARNING:__main__:2cb9701f-b5e3-388e-6796-872044e3115a\n",
      "WARNING:__main__:66ad7c3e-8b4e-2c0d-7b7d-650f703d71f1\n",
      "WARNING:__main__:2faeae8c-150f-b269-57fa-84d879bdbedf\n",
      "WARNING:__main__:53134ffd-e8f8-0f3d-a46d-97c200248752\n",
      "WARNING:__main__:882a2c75-36de-cef5-20e9-66bbee344be6\n",
      "WARNING:__main__:90c98a3a-7048-0aa8-50e9-e6b521499bfa\n",
      "WARNING:__main__:dbb5c564-1f22-7eec-244a-a0ed29a2113e\n",
      "WARNING:__main__:b4e6aaa5-3b12-f9d1-3bd9-375f943160c0\n",
      "WARNING:__main__:d7a2440b-09c8-6c1d-7e43-b220c96dff16\n",
      "WARNING:__main__:91cf4a96-2c29-c4af-6fe9-809115043fe4\n",
      "WARNING:__main__:008f9216-8ae9-a099-669f-1dda6c5b7201\n",
      "WARNING:__main__:cf61fc83-d353-beb5-9690-e747e2a0a895\n",
      "WARNING:__main__:bcee01b2-d1c5-ea31-7bfb-d73a874834b9\n"
     ]
    },
    {
     "name": "stdout",
     "output_type": "stream",
     "text": [
      "processed chunk 568\n"
     ]
    },
    {
     "name": "stderr",
     "output_type": "stream",
     "text": [
      "WARNING:__main__:2a7eb917-2970-e41a-69b9-8ff6a882e52d\n",
      "WARNING:__main__:03190665-eda7-0a4a-d0be-5ead8c1a500c\n",
      "WARNING:__main__:0c3b05e5-a3ce-53eb-a75b-3649f28c5783\n",
      "WARNING:__main__:5b510440-3224-35f3-d932-8898deb37fe2\n",
      "WARNING:__main__:7d80ac7d-fed1-3f17-aa05-55bb546e3a27\n",
      "WARNING:__main__:972bd194-d5b7-45a9-54ea-4098e04faab7\n",
      "WARNING:__main__:f8971057-9b40-f907-aee4-9090a26fa607\n"
     ]
    },
    {
     "name": "stdout",
     "output_type": "stream",
     "text": [
      "processed chunk 569\n"
     ]
    },
    {
     "name": "stderr",
     "output_type": "stream",
     "text": [
      "WARNING:__main__:fcea2ebe-3a40-9794-027a-5f3a69e0c324\n",
      "WARNING:__main__:8df0efd9-6dcf-5898-9e46-e9a1058d9816\n",
      "WARNING:__main__:d5b1b105-594f-132e-7b27-9441043de098\n",
      "WARNING:__main__:9f486635-e5bc-6f77-d293-7d6eefcda1d9\n",
      "WARNING:__main__:3b2ecfa4-195d-4bad-b184-6094e98a7222\n"
     ]
    },
    {
     "name": "stdout",
     "output_type": "stream",
     "text": [
      "processed chunk 570\n"
     ]
    },
    {
     "name": "stderr",
     "output_type": "stream",
     "text": [
      "WARNING:__main__:f6aa9676-48f3-2cee-6050-c30d1499fa08\n",
      "WARNING:__main__:9d6c79a1-653b-65a9-08e5-4714bc60c4eb\n"
     ]
    },
    {
     "name": "stdout",
     "output_type": "stream",
     "text": [
      "processed chunk 571\n"
     ]
    },
    {
     "name": "stderr",
     "output_type": "stream",
     "text": [
      "WARNING:__main__:a63f8a6f-c481-8fd5-9d2b-e1e6ba3b3d5d\n",
      "WARNING:__main__:176221c0-c69e-ea41-f745-8ddf7059d98d\n",
      "WARNING:__main__:81349152-4852-dc3c-04c5-8c32a24aa16b\n",
      "WARNING:__main__:890b52dc-7a90-066e-d268-462ef9d48735\n",
      "WARNING:__main__:cace4677-5dd0-26c4-eb40-b26ed7327e19\n",
      "WARNING:__main__:981d5bcc-1ceb-3696-4223-e7ab16f8982c\n",
      "WARNING:__main__:79730ad7-08ae-3a83-69b2-71cf2ef2b3d6\n",
      "WARNING:__main__:80930111-8048-21ab-b7f5-bdf3eb6faab9\n",
      "WARNING:__main__:7def3fff-0402-7dde-5101-cae38da790a0\n",
      "WARNING:__main__:03670805-f75c-c5b7-3938-5daa02f5d767\n",
      "WARNING:__main__:1ececc5b-60cd-b92d-5ded-d8cc07ab4f7d\n",
      "WARNING:__main__:f04febec-4112-2354-9c4b-ba2f79e00733\n",
      "WARNING:__main__:c46b1bff-0028-fcfc-253b-e5fca3d704ca\n",
      "WARNING:__main__:f667658a-3f2a-83ec-e786-6a0bb9c38a55\n",
      "WARNING:__main__:288a7775-a630-20f3-8e64-9b8e940911a3\n",
      "WARNING:__main__:47394ba5-c57c-4c16-65be-05f48437c576\n",
      "WARNING:__main__:c3eef5d7-5885-f040-070b-4de4e345b492\n"
     ]
    },
    {
     "name": "stdout",
     "output_type": "stream",
     "text": [
      "processed chunk 572\n"
     ]
    },
    {
     "name": "stderr",
     "output_type": "stream",
     "text": [
      "WARNING:__main__:7110b1fb-cac9-1074-0edc-52fe5dcde55f\n",
      "WARNING:__main__:6d563871-2ec1-f7c1-2f6a-4837ce67547a\n"
     ]
    },
    {
     "name": "stdout",
     "output_type": "stream",
     "text": [
      "processed chunk 573\n"
     ]
    },
    {
     "name": "stderr",
     "output_type": "stream",
     "text": [
      "WARNING:__main__:bdc2fb50-ecd1-1652-49a5-bf4fd9c94b66\n"
     ]
    },
    {
     "name": "stdout",
     "output_type": "stream",
     "text": [
      "processed chunk 574\n"
     ]
    },
    {
     "name": "stderr",
     "output_type": "stream",
     "text": [
      "WARNING:__main__:e57c3c17-bfe4-4207-b92b-fd423a17023f\n"
     ]
    },
    {
     "name": "stdout",
     "output_type": "stream",
     "text": [
      "processed chunk 575\n"
     ]
    },
    {
     "name": "stderr",
     "output_type": "stream",
     "text": [
      "WARNING:__main__:044f122a-0662-3bf8-7540-3ffbf6a36a57\n",
      "WARNING:__main__:583b8b5d-7f66-cc50-f9de-943b7f9a8c42\n",
      "WARNING:__main__:d7f70400-1968-f830-a184-e484f448c835\n",
      "WARNING:__main__:f882e772-4660-0a50-c7c1-f1d2f4be8c6b\n"
     ]
    },
    {
     "name": "stdout",
     "output_type": "stream",
     "text": [
      "processed chunk 576\n"
     ]
    },
    {
     "name": "stderr",
     "output_type": "stream",
     "text": [
      "WARNING:__main__:a699e0d6-6e07-254b-9964-3c6d6a0a5827\n",
      "WARNING:__main__:e803b674-d929-3f26-7bc1-40763981404d\n",
      "WARNING:__main__:9b9b3653-f796-8eb0-d721-75d74296447c\n",
      "WARNING:__main__:8ea097c0-d838-11de-e3c8-af13f9413137\n"
     ]
    },
    {
     "name": "stdout",
     "output_type": "stream",
     "text": [
      "processed chunk 577\n"
     ]
    },
    {
     "name": "stderr",
     "output_type": "stream",
     "text": [
      "WARNING:__main__:f23362f6-9abc-0214-3270-3b819ccf711c\n"
     ]
    },
    {
     "name": "stdout",
     "output_type": "stream",
     "text": [
      "processed chunk 578\n"
     ]
    },
    {
     "name": "stderr",
     "output_type": "stream",
     "text": [
      "WARNING:__main__:bf1901d0-2ace-b0ba-ccaf-58cde80efa28\n"
     ]
    },
    {
     "name": "stdout",
     "output_type": "stream",
     "text": [
      "processed chunk 579\n"
     ]
    },
    {
     "name": "stderr",
     "output_type": "stream",
     "text": [
      "WARNING:__main__:012c8d15-5532-5e11-0aa6-dc331a29023d\n",
      "WARNING:__main__:f4b81d69-06e4-f01d-6c50-cf8feaea31ea\n"
     ]
    },
    {
     "name": "stdout",
     "output_type": "stream",
     "text": [
      "processed chunk 580\n"
     ]
    },
    {
     "name": "stderr",
     "output_type": "stream",
     "text": [
      "WARNING:__main__:c016f352-f308-58c6-1f53-5b90674b49c1\n",
      "WARNING:__main__:4c7d3484-2867-99f3-25a2-eb52eac24c63\n",
      "WARNING:__main__:e322dca4-cb07-2e50-3a25-6b5009a7e3d5\n"
     ]
    },
    {
     "name": "stdout",
     "output_type": "stream",
     "text": [
      "processed chunk 581\n",
      "processed chunk 582\n"
     ]
    },
    {
     "name": "stderr",
     "output_type": "stream",
     "text": [
      "WARNING:__main__:a7a2a906-655a-aa53-6ed9-7485898c66be\n",
      "WARNING:__main__:14abe9f1-69fc-d138-eb27-59c66527ba02\n",
      "WARNING:__main__:208dcd46-854e-757d-edab-2610097b0e14\n",
      "WARNING:__main__:0c01ac92-9a6f-03ea-dc41-e5580009c798\n",
      "WARNING:__main__:6e4f30d6-e6d3-cb66-43c9-641941c26f72\n",
      "WARNING:__main__:3078fdf0-d167-90ca-083b-52bca5e43a43\n",
      "WARNING:__main__:97523732-53a2-c745-2266-9dd83925ba26\n",
      "WARNING:__main__:b0163e0f-ce7d-dc20-096b-4806effd2076\n",
      "WARNING:__main__:57fe0ba3-0a01-a475-70da-0b33c41b89ee\n",
      "WARNING:__main__:91bafb2d-726e-c34a-c38a-79d5aae8e8e9\n",
      "WARNING:__main__:23a1e142-27c0-7576-6f75-44b2361368b4\n"
     ]
    },
    {
     "name": "stdout",
     "output_type": "stream",
     "text": [
      "processed chunk 583\n"
     ]
    },
    {
     "name": "stderr",
     "output_type": "stream",
     "text": [
      "WARNING:__main__:3e6658e0-ec5a-5f43-f687-17ef358278ac\n",
      "WARNING:__main__:81ca38c8-1da6-c8cf-85a2-639085c04c2a\n",
      "WARNING:__main__:179bda5d-e08f-1f0d-c375-6d834bdbee2d\n",
      "WARNING:__main__:645eecee-2908-f0e3-2a1b-5407ce29b42c\n",
      "WARNING:__main__:1ccaedaa-17bf-aa80-2044-4d2564d513b8\n"
     ]
    },
    {
     "name": "stdout",
     "output_type": "stream",
     "text": [
      "processed chunk 584\n"
     ]
    },
    {
     "name": "stderr",
     "output_type": "stream",
     "text": [
      "WARNING:__main__:1ff7d425-fde8-14e6-4f75-8eb6f2d8a361\n"
     ]
    },
    {
     "name": "stdout",
     "output_type": "stream",
     "text": [
      "processed chunk 585\n",
      "processed chunk 586\n",
      "processed chunk 587\n"
     ]
    },
    {
     "name": "stderr",
     "output_type": "stream",
     "text": [
      "WARNING:__main__:3b67a0fe-0ca7-e7ee-7db2-7d81dd813935\n"
     ]
    },
    {
     "name": "stdout",
     "output_type": "stream",
     "text": [
      "processed chunk 588\n"
     ]
    },
    {
     "name": "stderr",
     "output_type": "stream",
     "text": [
      "WARNING:__main__:7957e687-a297-a588-f291-d5d5a003dbb3\n",
      "WARNING:__main__:9bce0bda-cf0a-0566-a531-809b7831df8f\n",
      "WARNING:__main__:8332f3aa-7b15-bf41-5738-20e909424030\n",
      "WARNING:__main__:120787b7-bcf0-c0aa-78f9-dbd685044263\n"
     ]
    },
    {
     "name": "stdout",
     "output_type": "stream",
     "text": [
      "processed chunk 589\n"
     ]
    },
    {
     "name": "stderr",
     "output_type": "stream",
     "text": [
      "WARNING:__main__:e753e7eb-9051-2ad8-a8e1-813250849748\n",
      "WARNING:__main__:78ea9972-9451-4cf5-cf53-4fda119d58a7\n",
      "WARNING:__main__:4ca0bcec-46cb-3709-d6eb-2e1c5f98fb8b\n",
      "WARNING:__main__:6f7f027c-dddc-92f6-a3e1-56a2c8c039cc\n",
      "WARNING:__main__:1a060c1c-4add-0c98-ba90-a2c89f24bf5d\n",
      "WARNING:__main__:fe21b265-1eba-b7ff-4888-7774a6be7a9d\n",
      "WARNING:__main__:7f0b14c4-aca3-b207-bac2-7bf4aae78063\n",
      "WARNING:__main__:deb6180d-49ba-4f59-037f-6e2c483ce79d\n",
      "WARNING:__main__:d234078d-3523-ba0c-a15c-cdd0c528d864\n",
      "WARNING:__main__:9723e9a4-4923-031a-d46e-26925a79fd7a\n",
      "WARNING:__main__:bdc0781d-3814-4fb0-289d-1a31596a9f73\n",
      "WARNING:__main__:e20e264c-96e5-afdc-7315-7ce07838533c\n",
      "WARNING:__main__:061ab693-ca1b-4d09-2727-bde2d7fc54c5\n",
      "WARNING:__main__:6c9960d3-5b1b-cc62-0698-ad3b8b862fad\n",
      "WARNING:__main__:3cb0cb3b-f49b-1d0d-09ba-ae9e763dbdba\n",
      "WARNING:__main__:9014f9aa-da17-0e25-83d9-2ed9f299dd85\n",
      "WARNING:__main__:62cfc044-f691-1430-78e0-129f41131f4f\n",
      "WARNING:__main__:4356fb1b-c839-989b-91a7-be185b9759e9\n",
      "WARNING:__main__:d667052d-83c1-644c-f29c-8fe801ee1235\n",
      "WARNING:__main__:a7de9041-8fcb-1d2c-253e-1e0e348c6260\n"
     ]
    },
    {
     "name": "stdout",
     "output_type": "stream",
     "text": [
      "processed chunk 590\n"
     ]
    },
    {
     "name": "stderr",
     "output_type": "stream",
     "text": [
      "WARNING:__main__:2a3af4a0-1002-c09f-aa8a-d94ddaa1bed2\n"
     ]
    },
    {
     "name": "stdout",
     "output_type": "stream",
     "text": [
      "processed chunk 591\n",
      "processed chunk 592\n"
     ]
    },
    {
     "name": "stderr",
     "output_type": "stream",
     "text": [
      "WARNING:__main__:dc2cf62b-2624-c0a0-1bac-ac16e987ca3d\n",
      "WARNING:__main__:a96c38e4-c97b-41f3-df80-1778db5f391e\n",
      "WARNING:__main__:59ec100c-e754-9c7c-ab50-3bf4dd76c978\n"
     ]
    },
    {
     "name": "stdout",
     "output_type": "stream",
     "text": [
      "processed chunk 593\n"
     ]
    },
    {
     "name": "stderr",
     "output_type": "stream",
     "text": [
      "WARNING:__main__:d0ffa7b1-2073-85fa-7c95-f22017087529\n",
      "WARNING:__main__:7230305e-15bb-1f08-f189-e61deb06a043\n",
      "WARNING:__main__:bccad7b3-e4e3-67f8-7559-bf6e7b5e65d9\n",
      "WARNING:__main__:f979ce74-a79d-cb46-4836-032f596ce5ca\n",
      "WARNING:__main__:2b5f518c-c080-963b-3aa7-e49e8c516a37\n",
      "WARNING:__main__:98377402-27cf-98a6-2331-2706338787fb\n",
      "WARNING:__main__:4192ca33-88fd-3aa0-3eb2-60878d31bbdc\n",
      "WARNING:__main__:c2f35a43-1420-5ea8-68e3-4698843775a8\n",
      "WARNING:__main__:ccf27fdc-deae-1e08-112b-75fc414b55e4\n",
      "WARNING:__main__:e2192770-2be6-6a4c-07c6-4d8639480950\n"
     ]
    },
    {
     "name": "stdout",
     "output_type": "stream",
     "text": [
      "processed chunk 594\n",
      "processed chunk 595\n"
     ]
    },
    {
     "name": "stderr",
     "output_type": "stream",
     "text": [
      "WARNING:__main__:e0ff5666-324b-cda8-d11c-47880c70152c\n"
     ]
    },
    {
     "name": "stdout",
     "output_type": "stream",
     "text": [
      "processed chunk 596\n"
     ]
    },
    {
     "name": "stderr",
     "output_type": "stream",
     "text": [
      "WARNING:__main__:b14b8375-0b71-9c7e-76cb-7496471d1f2a\n",
      "WARNING:__main__:920c5986-0eba-4bc5-5fad-b9c1cf4561e9\n",
      "WARNING:__main__:caab3d03-8d49-da48-4cb8-25d52584cf64\n"
     ]
    },
    {
     "name": "stdout",
     "output_type": "stream",
     "text": [
      "processed chunk 597\n"
     ]
    },
    {
     "name": "stderr",
     "output_type": "stream",
     "text": [
      "WARNING:__main__:96be954c-538b-039a-7837-1510c6836237\n",
      "WARNING:__main__:3e6b283c-f8b3-9a2d-fd9d-1c0207fff4b4\n",
      "WARNING:__main__:13ed2d73-4bf0-53b5-bd6f-041c14ce8618\n"
     ]
    },
    {
     "name": "stdout",
     "output_type": "stream",
     "text": [
      "processed chunk 598\n"
     ]
    },
    {
     "name": "stderr",
     "output_type": "stream",
     "text": [
      "WARNING:__main__:35b5655f-cdfc-016d-8218-d23621abd804\n",
      "WARNING:__main__:1abff59e-6688-6892-2c62-881ddaf74757\n",
      "WARNING:__main__:a0b46c7a-9227-52e5-ff5c-e2ae0118e4b0\n",
      "WARNING:__main__:410993fb-cbb8-eec3-aa66-d70e88c19af9\n"
     ]
    },
    {
     "name": "stdout",
     "output_type": "stream",
     "text": [
      "processed chunk 599\n",
      "processed chunk 600\n"
     ]
    },
    {
     "name": "stderr",
     "output_type": "stream",
     "text": [
      "WARNING:__main__:f02df02c-af5e-e7a7-840b-0c41a767c7d2\n",
      "WARNING:__main__:8f73962f-6d13-0797-1cd3-3a6d5b51dfc3\n",
      "WARNING:__main__:fe97be86-d674-abac-c58d-e5a4402bdb34\n",
      "WARNING:__main__:81c1b3b0-1cd7-6563-1b86-74a94a2a039d\n",
      "WARNING:__main__:265a9e98-6226-2db8-9f1c-d58e866656f7\n",
      "WARNING:__main__:e576c58e-643c-5e00-f326-e8a7e162dcbe\n",
      "WARNING:__main__:60cf5d04-9919-be61-af0a-320f71452e41\n",
      "WARNING:__main__:929efb98-e618-a39d-513e-f3d3bffe39b1\n",
      "WARNING:__main__:022d2e9e-ede5-73d9-e509-8d64a869d70a\n",
      "WARNING:__main__:a00d27a1-3eb2-08f4-6661-013ab17bba42\n"
     ]
    },
    {
     "name": "stdout",
     "output_type": "stream",
     "text": [
      "processed chunk 601\n"
     ]
    },
    {
     "name": "stderr",
     "output_type": "stream",
     "text": [
      "WARNING:__main__:bdfc78b7-6554-f765-1169-4b61cb619fee\n",
      "WARNING:__main__:a85c1531-1fa9-2155-014e-3e52307b1aa3\n"
     ]
    },
    {
     "name": "stdout",
     "output_type": "stream",
     "text": [
      "processed chunk 602\n",
      "processed chunk 603\n",
      "processed chunk 604\n",
      "processed chunk 605\n",
      "processed chunk 606\n"
     ]
    },
    {
     "name": "stderr",
     "output_type": "stream",
     "text": [
      "WARNING:__main__:4b255575-7cd2-0289-387d-237a5717b6ea\n",
      "WARNING:__main__:aef4da33-1920-697a-5304-afcd7f7292df\n",
      "WARNING:__main__:11fb72cf-8f8d-0f00-18ac-ff3c50727355\n",
      "WARNING:__main__:6fa2b4e1-4415-7627-2d79-5940d86c53e2\n",
      "WARNING:__main__:25886031-247f-5c4e-e5e2-3bf0c208fb03\n",
      "WARNING:__main__:18a1cd6a-7d6d-bcf5-8177-94cb7de01023\n",
      "WARNING:__main__:ad7fa724-552c-1822-2061-508c57183445\n",
      "WARNING:__main__:8d878d52-f70f-d9f6-29e2-c6b0b2aecaf9\n",
      "WARNING:__main__:839a1ab6-af82-3e26-0d0e-03fdb71aafc3\n",
      "WARNING:__main__:fb9d0109-475b-db24-3c66-b9b089f0956a\n",
      "WARNING:__main__:893cac46-6dd7-4272-a8c3-fde1058185b7\n",
      "WARNING:__main__:b5c05ca5-4467-4e05-94f2-c2131e0362d1\n",
      "WARNING:__main__:59a1b6dd-6aa8-10a5-61d6-8151803515d3\n",
      "WARNING:__main__:7e982a9b-602a-6de0-c05a-9774e20baff6\n"
     ]
    },
    {
     "name": "stdout",
     "output_type": "stream",
     "text": [
      "processed chunk 607\n"
     ]
    },
    {
     "name": "stderr",
     "output_type": "stream",
     "text": [
      "WARNING:__main__:7eaea3f5-a732-2bf5-8dd4-d597d8ef7e6b\n"
     ]
    },
    {
     "name": "stdout",
     "output_type": "stream",
     "text": [
      "processed chunk 608\n"
     ]
    },
    {
     "name": "stderr",
     "output_type": "stream",
     "text": [
      "WARNING:__main__:b390e667-656c-d173-65f8-c27d36ee5df1\n",
      "WARNING:__main__:1dafbf89-9201-687c-7edb-9c220fdda0af\n",
      "WARNING:__main__:6a688dc6-430f-f749-71eb-10bcd7355cc7\n"
     ]
    },
    {
     "name": "stdout",
     "output_type": "stream",
     "text": [
      "processed chunk 609\n",
      "processed chunk 610\n",
      "processed chunk 611\n"
     ]
    },
    {
     "name": "stderr",
     "output_type": "stream",
     "text": [
      "WARNING:__main__:6b45ff06-63ce-325a-f51d-dc11b0f643c4\n"
     ]
    },
    {
     "name": "stdout",
     "output_type": "stream",
     "text": [
      "processed chunk 612\n"
     ]
    },
    {
     "name": "stderr",
     "output_type": "stream",
     "text": [
      "WARNING:__main__:60ed8d3f-6a26-42c3-cd95-c45aaebf21b7\n"
     ]
    },
    {
     "name": "stdout",
     "output_type": "stream",
     "text": [
      "processed chunk 613\n",
      "processed chunk 614\n",
      "processed chunk 615\n",
      "processed chunk 616\n"
     ]
    },
    {
     "name": "stderr",
     "output_type": "stream",
     "text": [
      "WARNING:__main__:cbdfcd52-0a61-0bd6-286f-20f929d95d57\n"
     ]
    },
    {
     "name": "stdout",
     "output_type": "stream",
     "text": [
      "processed chunk 617\n",
      "processed chunk 618\n",
      "processed chunk 619\n"
     ]
    },
    {
     "name": "stderr",
     "output_type": "stream",
     "text": [
      "WARNING:__main__:0142824a-6dd0-ae7f-54d3-4560c9c98089\n"
     ]
    },
    {
     "name": "stdout",
     "output_type": "stream",
     "text": [
      "processed chunk 620\n"
     ]
    },
    {
     "name": "stderr",
     "output_type": "stream",
     "text": [
      "WARNING:__main__:83e1261d-bcbe-11ae-f852-d05888de0595\n",
      "WARNING:__main__:0011b683-4dd1-2f8f-d592-1d2bdbd4b712\n",
      "WARNING:__main__:5aebaf56-7bae-35c9-b625-ce5f681b36ec\n",
      "WARNING:__main__:892c40f7-8a35-06c3-328b-24296c0dd3f2\n",
      "WARNING:__main__:62056bbb-dfe9-2613-d67d-d018a7257e05\n",
      "WARNING:__main__:1fe1e7fd-3349-fa8a-f618-6579eae80d5a\n",
      "WARNING:__main__:dee33d79-f82f-c5c1-bae5-408b869d9b73\n",
      "WARNING:__main__:8f363bf5-6b56-7e16-d349-9400d28b1ff6\n"
     ]
    },
    {
     "name": "stdout",
     "output_type": "stream",
     "text": [
      "processed chunk 621\n"
     ]
    },
    {
     "name": "stderr",
     "output_type": "stream",
     "text": [
      "WARNING:__main__:b166d811-83f6-f85d-1042-9f40fda433f1\n",
      "WARNING:__main__:61667442-ba66-eeaf-c5cd-a18294b5c81c\n"
     ]
    },
    {
     "name": "stdout",
     "output_type": "stream",
     "text": [
      "processed chunk 622\n",
      "processed chunk 623\n"
     ]
    },
    {
     "name": "stderr",
     "output_type": "stream",
     "text": [
      "WARNING:__main__:33d096b2-05eb-3cf2-460a-e36ca9f9f159\n",
      "WARNING:__main__:ee4b8356-c2d1-6cab-b9b7-46ef88a570eb\n",
      "WARNING:__main__:7d3179c4-f520-2689-7943-1acf121ca490\n",
      "WARNING:__main__:edd83908-b0e7-9f37-d30d-d400af5d42dc\n",
      "WARNING:__main__:5b1abf43-4015-7f4e-c5b6-e3913897a108\n",
      "WARNING:__main__:eb6c6f67-9dd6-5360-c49b-ac9eb9d28657\n",
      "WARNING:__main__:2a7808a8-c04d-b7b8-e367-8560c061c9a1\n",
      "WARNING:__main__:2801e3d2-d3b6-5495-8530-5f07892c03ca\n",
      "WARNING:__main__:cf8d56d1-50ec-053a-0ac0-daa472fa3fea\n",
      "WARNING:__main__:c68e61d4-7eed-4822-778a-b605dc7f553e\n",
      "WARNING:__main__:5e5c72ad-c4e4-b920-a279-0e73fde3fbc9\n",
      "WARNING:__main__:65580457-fac3-39db-1b6d-4e0ccea6a02d\n",
      "WARNING:__main__:5b75f7c3-027c-e7e3-a797-ff19030600ff\n",
      "WARNING:__main__:c9d87de7-30c4-a409-cebb-f03adc05463e\n",
      "WARNING:__main__:2f3ee366-b47a-28f6-0b7f-31ff74d65e1d\n",
      "WARNING:__main__:f2a92cfc-1a31-c3d8-acd5-af8ae50d3727\n",
      "WARNING:__main__:76528c54-ac99-e91d-a556-a4d711166a3e\n",
      "WARNING:__main__:e97a5238-ee23-0d95-880b-29fa773a688a\n"
     ]
    },
    {
     "name": "stdout",
     "output_type": "stream",
     "text": [
      "processed chunk 624\n"
     ]
    },
    {
     "name": "stderr",
     "output_type": "stream",
     "text": [
      "WARNING:__main__:299b57cc-f24e-5554-6304-4fe8b45f51ae\n",
      "WARNING:__main__:9ff51d5d-98d6-8fe0-eace-cf5fba5d61f7\n"
     ]
    },
    {
     "name": "stdout",
     "output_type": "stream",
     "text": [
      "processed chunk 625\n",
      "processed chunk 626\n",
      "processed chunk 627\n"
     ]
    },
    {
     "name": "stderr",
     "output_type": "stream",
     "text": [
      "WARNING:__main__:a2507dce-f98b-f94d-cc96-8590bce1025b\n",
      "WARNING:__main__:8163bbea-7798-4e47-7fb1-5b43c406d3da\n",
      "WARNING:__main__:972b0eaa-5106-6fc9-4109-9145cfa69668\n",
      "WARNING:__main__:fe643b0b-3425-98cd-530d-da50de4b02fe\n"
     ]
    },
    {
     "name": "stdout",
     "output_type": "stream",
     "text": [
      "processed chunk 628\n"
     ]
    },
    {
     "name": "stderr",
     "output_type": "stream",
     "text": [
      "WARNING:__main__:6a5aa067-918b-9956-9bd0-cc6bc7069a94\n",
      "WARNING:__main__:7dc210c1-3f6e-f870-2d5c-4774773e3fa0\n"
     ]
    },
    {
     "name": "stdout",
     "output_type": "stream",
     "text": [
      "processed chunk 629\n"
     ]
    },
    {
     "name": "stderr",
     "output_type": "stream",
     "text": [
      "WARNING:__main__:4872c354-8f97-343c-91f9-e7841d77d821\n",
      "WARNING:__main__:e2b97996-ed81-ee0f-1e48-6a9baef5cb1c\n"
     ]
    },
    {
     "name": "stdout",
     "output_type": "stream",
     "text": [
      "processed chunk 630\n"
     ]
    },
    {
     "name": "stderr",
     "output_type": "stream",
     "text": [
      "WARNING:__main__:0b4d09fd-fca4-a172-d67c-42291a7a4aaf\n",
      "WARNING:__main__:1d86c7a4-3b84-9c34-d78b-de3a17304bd8\n",
      "WARNING:__main__:d139233c-89ac-f40f-fc24-0ca631df631b\n",
      "WARNING:__main__:68f5a7d9-d55e-8111-0ef1-6f4a488b60d0\n",
      "WARNING:__main__:c1f3be8e-3325-34fa-327d-e52fb2a2136b\n",
      "WARNING:__main__:0a270aaa-039c-4f10-654e-14f2f2e599f9\n",
      "WARNING:__main__:6ad4aaa3-ad38-54f2-6724-871ccaf0ebb5\n",
      "WARNING:__main__:6bb05bc7-2772-b798-29e0-d85dcfb6a10a\n",
      "WARNING:__main__:f401bbe3-fa9e-5bb8-0b3f-478950d70f2b\n",
      "WARNING:__main__:8ae348e2-cbde-2dcb-0af6-e10c85ae3530\n",
      "WARNING:__main__:eb924ed3-f2cc-2147-44ff-7ebdc53813df\n",
      "WARNING:__main__:59abe1d7-034c-927d-3025-164a725a4f4f\n",
      "WARNING:__main__:df4dad41-bdb1-9fd9-6a5a-ed95bacaa64f\n",
      "WARNING:__main__:d6dc5529-a8cb-514c-9b85-dffeac776d97\n",
      "WARNING:__main__:7f7939a3-f186-3d7f-d73d-d19d44ed5d9e\n",
      "WARNING:__main__:277cdc86-e1ca-74cd-d257-8e4a7d8e16d6\n",
      "WARNING:__main__:6fd6ce03-208f-2183-145a-215e7f1c634e\n",
      "WARNING:__main__:11f5dc9f-dc6a-cd19-19cd-8c42e26fb5ad\n",
      "WARNING:__main__:c1e80d93-b488-459d-cb2f-773a9703aeb2\n",
      "WARNING:__main__:c1655b7d-0a84-87aa-aa5e-46f9eaa26825\n"
     ]
    },
    {
     "name": "stdout",
     "output_type": "stream",
     "text": [
      "processed chunk 631\n"
     ]
    },
    {
     "name": "stderr",
     "output_type": "stream",
     "text": [
      "WARNING:__main__:e81e453c-741d-1563-500b-a7d9312094a6\n",
      "WARNING:__main__:b4bb8e1f-a8f4-a202-ca13-5997c7133f73\n",
      "WARNING:__main__:3068db71-c5c1-6949-a8ae-4d6c016a1878\n",
      "WARNING:__main__:c1ae5d87-aa4d-6f0d-d200-6223b6fe6ff8\n"
     ]
    },
    {
     "name": "stdout",
     "output_type": "stream",
     "text": [
      "processed chunk 632\n"
     ]
    },
    {
     "name": "stderr",
     "output_type": "stream",
     "text": [
      "WARNING:__main__:7bee224a-c10c-1f5e-61fe-d9295443b2f7\n",
      "WARNING:__main__:d0f00a17-b2a5-a69c-7470-bff770fc25f0\n",
      "WARNING:__main__:45f0280c-5a79-ec09-3d25-857097191a0f\n",
      "WARNING:__main__:44d47e93-4e13-ee2b-d34f-14fbbf396329\n",
      "WARNING:__main__:92a585f3-7cf4-8ef8-6a82-74af830eb3ea\n",
      "WARNING:__main__:e91fae6c-46f0-5c16-415b-22b526ccaecd\n"
     ]
    },
    {
     "name": "stdout",
     "output_type": "stream",
     "text": [
      "processed chunk 633\n"
     ]
    },
    {
     "name": "stderr",
     "output_type": "stream",
     "text": [
      "WARNING:__main__:2abf246a-2b31-9916-f498-ad52274f77f4\n",
      "WARNING:__main__:e6736a4e-30a8-87b5-8e1e-b9038a08ccf8\n",
      "WARNING:__main__:1d5c30a7-b4de-ce38-1551-084998f8fa72\n",
      "WARNING:__main__:59db2556-44bb-9405-dbe3-8f1aeb4f0744\n",
      "WARNING:__main__:ca2451bd-6f97-b5cb-a228-405494a29155\n",
      "WARNING:__main__:70fb25df-2c90-ce64-ebbb-55fe2581d086\n",
      "WARNING:__main__:52493647-a0ff-1064-a51e-e9d3e385d8c2\n",
      "WARNING:__main__:cd6ab622-cfda-acfd-dbd1-02a67bac37ce\n",
      "WARNING:__main__:9c7ccbbb-5635-d00d-94ab-9c7c140ae5ad\n"
     ]
    },
    {
     "name": "stdout",
     "output_type": "stream",
     "text": [
      "processed chunk 634\n"
     ]
    },
    {
     "name": "stderr",
     "output_type": "stream",
     "text": [
      "WARNING:__main__:106ec082-ec47-a319-8766-6799acf20198\n",
      "WARNING:__main__:83a5c931-6684-caad-a54a-910f4b9e83fe\n",
      "WARNING:__main__:c7ad6406-9e71-1774-8fda-7eb6b723644e\n",
      "WARNING:__main__:aec2e8b1-5c1b-31b2-6cb9-d316002a78d6\n",
      "WARNING:__main__:28b6995a-aa1b-ba97-131c-c39915a59a88\n",
      "WARNING:__main__:6a62c480-775b-a2ae-5912-1f4ce376b72e\n",
      "WARNING:__main__:c2132c17-dd8b-f47a-f6d9-120846539d3c\n",
      "WARNING:__main__:07a93933-cae5-4200-0648-736db03e762a\n",
      "WARNING:__main__:6adecf23-ba34-9d78-47f7-e3caec1a72f4\n",
      "WARNING:__main__:20fad165-7ec5-0945-a575-f568d9fdef78\n",
      "WARNING:__main__:073e0630-598f-73d9-f54b-17a53c86077b\n",
      "WARNING:__main__:4be233ea-d066-78cd-eade-d5dbf4d9efc1\n",
      "WARNING:__main__:cfd9a569-c4d9-8ea0-8554-826d7c869d55\n",
      "WARNING:__main__:647df5b9-c86d-53db-958a-771b0b57ecb2\n"
     ]
    },
    {
     "name": "stdout",
     "output_type": "stream",
     "text": [
      "processed chunk 635\n"
     ]
    },
    {
     "name": "stderr",
     "output_type": "stream",
     "text": [
      "WARNING:__main__:dc42bed5-75f1-ec79-bb20-7662900710b9\n"
     ]
    },
    {
     "name": "stdout",
     "output_type": "stream",
     "text": [
      "processed chunk 636\n",
      "processed chunk 637\n",
      "processed chunk 638\n"
     ]
    },
    {
     "name": "stderr",
     "output_type": "stream",
     "text": [
      "WARNING:__main__:02085a71-516a-2ce3-d817-cf64be65e7d4\n"
     ]
    },
    {
     "name": "stdout",
     "output_type": "stream",
     "text": [
      "processed chunk 639\n"
     ]
    },
    {
     "name": "stderr",
     "output_type": "stream",
     "text": [
      "WARNING:__main__:1eb7315b-6609-0b4d-745a-56a313aece8c\n"
     ]
    },
    {
     "name": "stdout",
     "output_type": "stream",
     "text": [
      "processed chunk 640\n",
      "processed chunk 641\n"
     ]
    },
    {
     "name": "stderr",
     "output_type": "stream",
     "text": [
      "WARNING:__main__:6c211138-e408-596a-715f-6b63f0c71f0c\n"
     ]
    },
    {
     "name": "stdout",
     "output_type": "stream",
     "text": [
      "processed chunk 642\n"
     ]
    },
    {
     "name": "stderr",
     "output_type": "stream",
     "text": [
      "WARNING:__main__:7f9d52d0-c079-22fa-81b0-f8a4fc6b084b\n",
      "WARNING:__main__:37aff451-211b-a3ef-75c6-b1abd7f47951\n"
     ]
    },
    {
     "name": "stdout",
     "output_type": "stream",
     "text": [
      "processed chunk 643\n"
     ]
    },
    {
     "name": "stderr",
     "output_type": "stream",
     "text": [
      "WARNING:__main__:cd336f65-2c44-73c5-4409-876699dd384c\n"
     ]
    },
    {
     "name": "stdout",
     "output_type": "stream",
     "text": [
      "processed chunk 644\n"
     ]
    },
    {
     "name": "stderr",
     "output_type": "stream",
     "text": [
      "WARNING:__main__:08b12322-8e2e-a342-288b-656015f15931\n",
      "WARNING:__main__:3ceeaf69-6876-b452-8b66-5ef425835700\n"
     ]
    },
    {
     "name": "stdout",
     "output_type": "stream",
     "text": [
      "processed chunk 645\n"
     ]
    },
    {
     "name": "stderr",
     "output_type": "stream",
     "text": [
      "WARNING:__main__:0cebd12c-2feb-cd53-7aab-69c2a6fef80c\n",
      "WARNING:__main__:ba49d57f-1e9e-6d7b-2e86-2f9b89af306a\n"
     ]
    },
    {
     "name": "stdout",
     "output_type": "stream",
     "text": [
      "processed chunk 646\n"
     ]
    },
    {
     "name": "stderr",
     "output_type": "stream",
     "text": [
      "WARNING:__main__:91780566-8929-fe40-8629-755183cae9a2\n",
      "WARNING:__main__:61c5e047-baab-0f00-4fde-4af867940129\n",
      "WARNING:__main__:52456659-bddc-a530-da01-986a9e6eb042\n",
      "WARNING:__main__:6a163ab0-1071-a216-4f3e-ebf41712fddf\n",
      "WARNING:__main__:df89f694-bce1-dc3b-9cb5-19e63aea7c33\n",
      "WARNING:__main__:b2952498-8f33-0a15-f89f-718e8589f353\n",
      "WARNING:__main__:0234b4cf-0a82-15a9-942d-b31f20e7580c\n",
      "WARNING:__main__:701a27e6-c8f3-0d31-430a-c1e3ec89ddb7\n",
      "WARNING:__main__:4325f282-cb9d-ab1c-80c3-58da35ad53dc\n",
      "WARNING:__main__:f1bab6ca-545a-de78-72e9-72745a433d54\n",
      "WARNING:__main__:3432f009-acaf-5a88-0416-0c773b5df6b7\n",
      "WARNING:__main__:2b6b132f-f668-4b3b-e6ef-ecfa69732e79\n",
      "WARNING:__main__:26925364-b1d8-a2a9-14bf-50dd4980bb9d\n",
      "WARNING:__main__:e73d0567-38b0-4cfe-523c-8b5926d3e5a0\n"
     ]
    },
    {
     "name": "stdout",
     "output_type": "stream",
     "text": [
      "processed chunk 647\n",
      "processed chunk 648\n",
      "processed chunk 649\n"
     ]
    },
    {
     "name": "stderr",
     "output_type": "stream",
     "text": [
      "WARNING:__main__:ebf10bcc-a8ca-c65b-9666-685100333009\n",
      "WARNING:__main__:732f3406-4f2d-757e-a75e-5ed976a44883\n",
      "WARNING:__main__:a6346419-fb32-a96c-27e7-a66b7052dad6\n",
      "WARNING:__main__:4ae43be7-c245-bcc4-141e-b4b7cb52bace\n",
      "WARNING:__main__:fea30f8c-8e3d-1a14-79c5-f6abdebabe94\n"
     ]
    },
    {
     "name": "stdout",
     "output_type": "stream",
     "text": [
      "processed chunk 650\n"
     ]
    },
    {
     "name": "stderr",
     "output_type": "stream",
     "text": [
      "WARNING:__main__:cfd39cf7-387f-eaeb-ad48-4529a8d5450c\n",
      "WARNING:__main__:de272e7d-01f6-8016-4a54-ad5079afc354\n",
      "WARNING:__main__:1ea0816e-6ed8-43dc-b1c3-e4533419fe72\n",
      "WARNING:__main__:c2da4737-cdb4-f6e7-f37b-20bae37a7f64\n",
      "WARNING:__main__:e20bcf44-99e6-916a-2208-0a0109fdb880\n",
      "WARNING:__main__:05054211-8f35-c318-d22c-a092aaa3f02e\n",
      "WARNING:__main__:935d89eb-b474-7783-de86-bf53930abc4b\n",
      "WARNING:__main__:d3ab5b42-813b-97c9-ceac-8b1535157fec\n",
      "WARNING:__main__:8b431aca-c968-4966-8103-1d253fdc254f\n",
      "WARNING:__main__:12d5ef31-19a4-2da0-2335-ea28ff76fdde\n",
      "WARNING:__main__:c891a278-3390-3cf1-07cb-9879541152a4\n",
      "WARNING:__main__:82c6ede8-1904-1476-ddbd-3bb78e15727a\n",
      "WARNING:__main__:628bcf6b-b301-5a72-a185-99c65cf340ce\n",
      "WARNING:__main__:a72df8ab-8b2e-3dec-6be8-3e2a6e258318\n",
      "WARNING:__main__:d2b775ed-f875-a18a-4668-16488cc8d1a9\n",
      "WARNING:__main__:e1486f7d-a3b6-3282-2864-0d6849af2ea4\n",
      "WARNING:__main__:37332701-19ab-26a1-b040-bf32015b2d80\n",
      "WARNING:__main__:16de96c4-50b0-baf4-7aea-6e2c21ae50a2\n",
      "WARNING:__main__:df9109f3-9032-0121-60e0-78bd95225056\n"
     ]
    },
    {
     "name": "stdout",
     "output_type": "stream",
     "text": [
      "processed chunk 651\n"
     ]
    },
    {
     "name": "stderr",
     "output_type": "stream",
     "text": [
      "WARNING:__main__:dab3c1bb-c1fb-39cd-e72c-692937169c4e\n",
      "WARNING:__main__:e5e33462-de16-0b18-a8a5-7f594dc2d967\n",
      "WARNING:__main__:977efb1c-edfe-e084-d604-7c8ff8a57fc5\n",
      "WARNING:__main__:5616f5f8-69fb-78e6-45f5-26de9c3868ab\n",
      "WARNING:__main__:1a3c653e-6172-bc58-bf0c-c61325776a72\n",
      "WARNING:__main__:6d2112b6-079a-8839-84f8-8d31869e3559\n",
      "WARNING:__main__:ed3b2034-346f-9e9a-db77-e61414e56a52\n",
      "WARNING:__main__:e694090c-d303-5505-2815-b33b27843e99\n"
     ]
    },
    {
     "name": "stdout",
     "output_type": "stream",
     "text": [
      "processed chunk 652\n"
     ]
    },
    {
     "name": "stderr",
     "output_type": "stream",
     "text": [
      "WARNING:__main__:4479ac13-76e4-8476-865b-20082c44217e\n"
     ]
    },
    {
     "name": "stdout",
     "output_type": "stream",
     "text": [
      "processed chunk 653\n"
     ]
    },
    {
     "name": "stderr",
     "output_type": "stream",
     "text": [
      "WARNING:__main__:12369054-46bf-83bc-7ffe-7be9faf31bd5\n"
     ]
    },
    {
     "name": "stdout",
     "output_type": "stream",
     "text": [
      "processed chunk 654\n"
     ]
    },
    {
     "name": "stderr",
     "output_type": "stream",
     "text": [
      "WARNING:__main__:33ea8e70-10c4-e857-cf81-fdf55f97a35a\n"
     ]
    },
    {
     "name": "stdout",
     "output_type": "stream",
     "text": [
      "processed chunk 655\n"
     ]
    },
    {
     "name": "stderr",
     "output_type": "stream",
     "text": [
      "WARNING:__main__:5ba4124f-5a1a-a235-47d0-223b5c9ab017\n",
      "WARNING:__main__:2b5fa7ae-0a96-d517-26ea-34d4570fe929\n",
      "WARNING:__main__:4d8162cb-565f-c993-1c02-ddc8fbd95bf1\n"
     ]
    },
    {
     "name": "stdout",
     "output_type": "stream",
     "text": [
      "processed chunk 656\n"
     ]
    },
    {
     "name": "stderr",
     "output_type": "stream",
     "text": [
      "WARNING:__main__:c2a7f783-16ee-04eb-5147-083da3c37b29\n",
      "WARNING:__main__:8f4fa1d7-246b-df9e-0a54-192877a22cf4\n"
     ]
    },
    {
     "name": "stdout",
     "output_type": "stream",
     "text": [
      "processed chunk 657\n"
     ]
    },
    {
     "name": "stderr",
     "output_type": "stream",
     "text": [
      "WARNING:__main__:17a9f835-54b6-715e-282c-bec9bd31866a\n",
      "WARNING:__main__:2814f78e-edc8-a567-b573-90bda53d9062\n",
      "WARNING:__main__:d0b96a80-18d7-b330-1c1f-495e5bc9c64f\n",
      "WARNING:__main__:7a4b7149-d9f3-fa44-94d5-8aa40474f918\n",
      "WARNING:__main__:2a442e69-c48e-51bb-637d-ce56307cb0da\n",
      "WARNING:__main__:87571cb3-737e-eb00-9516-c3d680e2f56c\n"
     ]
    },
    {
     "name": "stdout",
     "output_type": "stream",
     "text": [
      "processed chunk 658\n"
     ]
    },
    {
     "name": "stderr",
     "output_type": "stream",
     "text": [
      "WARNING:__main__:c3ad69c1-2c0b-cba4-fb84-617adaa55c84\n",
      "WARNING:__main__:6e9eee9d-7c8d-8a54-39a7-f12007de28ac\n",
      "WARNING:__main__:10f49bd1-1a23-6776-38a1-7179533319dc\n",
      "WARNING:__main__:b7379eae-29aa-56ff-211b-7e438da1bbbf\n",
      "WARNING:__main__:739e7341-16ab-4690-5a0b-a17bca3faf4b\n"
     ]
    },
    {
     "name": "stdout",
     "output_type": "stream",
     "text": [
      "processed chunk 659\n"
     ]
    },
    {
     "name": "stderr",
     "output_type": "stream",
     "text": [
      "WARNING:__main__:ca027574-c677-99e8-98da-a5b169b060c0\n",
      "WARNING:__main__:a3ed2c0d-155a-fcec-0f9a-b19ac35b5b0f\n",
      "WARNING:__main__:cf7369c8-d136-324f-d6b4-398a12aa6931\n",
      "WARNING:__main__:9bb4c501-58f5-f503-7c04-7be04210e6f7\n",
      "WARNING:__main__:da3fead0-b6cd-8879-f80a-ee2992027a1b\n",
      "WARNING:__main__:5e0b4342-e27f-e631-35fc-91a4d0e47be6\n",
      "WARNING:__main__:1a802930-4c27-7f59-69a3-1150695a1e61\n",
      "WARNING:__main__:ffea4b48-6b25-1995-ffc1-15fbb74c4cdb\n",
      "WARNING:__main__:c9f03b73-21d0-4328-68b3-21570218c25e\n",
      "WARNING:__main__:b3541682-521f-7702-e553-4b005c13acb4\n",
      "WARNING:__main__:1ce967b9-a4b5-1f65-358f-304752770ece\n"
     ]
    },
    {
     "name": "stdout",
     "output_type": "stream",
     "text": [
      "processed chunk 660\n"
     ]
    },
    {
     "name": "stderr",
     "output_type": "stream",
     "text": [
      "WARNING:__main__:3e026276-ab2d-d93b-c5c6-7ffd3edbc7b4\n",
      "WARNING:__main__:e24d5e28-6d9f-d89b-e626-506573f30f88\n",
      "WARNING:__main__:0de06460-1ed6-65fc-6dd9-70efea30574f\n",
      "WARNING:__main__:2ed9ad60-bb22-8efa-21f8-451dcd000252\n",
      "WARNING:__main__:2641ec60-7446-219f-f97b-99d2858ad6a7\n",
      "WARNING:__main__:ca051c60-251f-9c40-9b80-9b1077624034\n",
      "WARNING:__main__:a19e2b13-6aaa-3ef7-c13e-aec196f0ea99\n",
      "WARNING:__main__:ac2106e9-4c4d-608d-7b65-14bac1a61814\n",
      "WARNING:__main__:6eb5dd78-e74c-f5b9-ad5e-d07d61893609\n"
     ]
    },
    {
     "name": "stdout",
     "output_type": "stream",
     "text": [
      "processed chunk 661\n"
     ]
    },
    {
     "name": "stderr",
     "output_type": "stream",
     "text": [
      "WARNING:__main__:f5548a36-534f-7fce-abe6-fc73d1221604\n",
      "WARNING:__main__:df601e69-2549-ae20-b0d0-713f7e2f5922\n",
      "WARNING:__main__:6b416a2c-f498-04da-94fc-a14e1edc1b3e\n",
      "WARNING:__main__:b70ca652-7f66-1726-17bb-87f3f3372827\n"
     ]
    },
    {
     "name": "stdout",
     "output_type": "stream",
     "text": [
      "processed chunk 662\n"
     ]
    },
    {
     "name": "stderr",
     "output_type": "stream",
     "text": [
      "WARNING:__main__:f62eefb7-d472-3e8f-1272-8d1964cfbe02\n",
      "WARNING:__main__:48311054-0f9c-0f10-ff0b-4d39d6f41860\n",
      "WARNING:__main__:8eb9caf2-dbaf-0fbc-4d0f-95e0f36ad624\n",
      "WARNING:__main__:d37d6d22-2727-d652-1b9d-df204d8d7b7d\n",
      "WARNING:__main__:141bd1fa-39a1-258c-f8a9-228d4ff96dd4\n",
      "WARNING:__main__:57e4a92b-78a5-e5ba-752c-708a724fe5a4\n",
      "WARNING:__main__:2bebd61c-de9d-0891-5bef-08d96f0fa250\n",
      "WARNING:__main__:12915d75-751d-4a15-81b5-34a3b87479d8\n",
      "WARNING:__main__:ba659ab1-6cea-d84a-e6e6-c1d7f5f6631a\n"
     ]
    },
    {
     "name": "stdout",
     "output_type": "stream",
     "text": [
      "processed chunk 663\n"
     ]
    },
    {
     "name": "stderr",
     "output_type": "stream",
     "text": [
      "WARNING:__main__:5a291840-4b5e-c2dd-f782-31bcda679eea\n",
      "WARNING:__main__:4d8557eb-3bca-8464-44d4-8d85fc3516a2\n",
      "WARNING:__main__:8a1eb718-092b-50de-d01b-7de75e40c287\n"
     ]
    },
    {
     "name": "stdout",
     "output_type": "stream",
     "text": [
      "processed chunk 664\n"
     ]
    },
    {
     "name": "stderr",
     "output_type": "stream",
     "text": [
      "WARNING:__main__:c71c6344-3e1b-77a7-3adf-e5db0a83ce9e\n",
      "WARNING:__main__:69c3f9c1-91cc-7e87-f368-49492d98ff0c\n",
      "WARNING:__main__:03fcbc7e-e59d-d8a6-1063-07dccf6e9364\n",
      "WARNING:__main__:3c884736-5127-f82e-b850-d394f025ba17\n",
      "WARNING:__main__:2902b355-d155-a66d-221b-53fb6f903ee6\n",
      "WARNING:__main__:0a59d415-2c5f-8410-fb35-bb52f3149954\n"
     ]
    },
    {
     "name": "stdout",
     "output_type": "stream",
     "text": [
      "processed chunk 665\n"
     ]
    },
    {
     "name": "stderr",
     "output_type": "stream",
     "text": [
      "WARNING:__main__:32734220-a292-6ec7-8b26-72f767a77903\n",
      "WARNING:__main__:b89bda64-466c-5218-fb0d-e484a8f3e37b\n",
      "WARNING:__main__:bd104833-3ab4-3ddb-2594-4b1c7d93159a\n",
      "WARNING:__main__:426ea0f5-2d8f-a95d-8ed0-86627ec9602e\n",
      "WARNING:__main__:0b0b5df8-7250-b9fc-5cd0-28a421f17937\n",
      "WARNING:__main__:7aef4abf-58ff-26f7-1c99-df23514e8aa1\n",
      "WARNING:__main__:1fb21672-0c9f-6e44-edf0-6ee2187a646f\n",
      "WARNING:__main__:a7f77ae1-3a2d-97d7-2520-560b75e74307\n",
      "WARNING:__main__:912be735-831c-ffb6-1ca6-11a9b9ffc315\n",
      "WARNING:__main__:c45ba441-560e-786b-849b-2077e1ed864e\n",
      "WARNING:__main__:fc83cfb5-6662-908c-ec0c-49ff9c9a4065\n",
      "WARNING:__main__:4e31dd98-fa19-dde3-bafa-92badcc94338\n",
      "WARNING:__main__:437ae712-c673-3b17-550b-bb4f982eed25\n",
      "WARNING:__main__:e999f2e7-0051-4bab-152e-0877456bb132\n",
      "WARNING:__main__:dde2c347-ee70-512c-8912-afd232be979d\n",
      "WARNING:__main__:f2ad3c58-15fc-9d2c-8ccc-2b049b6288eb\n",
      "WARNING:__main__:1814a13f-8dea-38ac-44ff-432ed243ffe0\n",
      "WARNING:__main__:f1ed497d-dc3b-95a4-f66c-990ff2d9602b\n"
     ]
    },
    {
     "name": "stdout",
     "output_type": "stream",
     "text": [
      "processed chunk 666\n",
      "processed chunk 667\n"
     ]
    },
    {
     "name": "stderr",
     "output_type": "stream",
     "text": [
      "WARNING:__main__:c097676a-2040-12b6-68ff-e08aa7cfb10c\n",
      "WARNING:__main__:76560033-fe39-15e9-1f00-085bc91a4531\n"
     ]
    },
    {
     "name": "stdout",
     "output_type": "stream",
     "text": [
      "processed chunk 668\n"
     ]
    },
    {
     "name": "stderr",
     "output_type": "stream",
     "text": [
      "WARNING:__main__:baa35b84-0697-e052-3586-4ad3c8e306b1\n"
     ]
    },
    {
     "name": "stdout",
     "output_type": "stream",
     "text": [
      "processed chunk 669\n"
     ]
    },
    {
     "name": "stderr",
     "output_type": "stream",
     "text": [
      "WARNING:__main__:f85371b6-0db2-9126-a17f-b6308c8d0976\n",
      "WARNING:__main__:7e5606ad-0b1f-f5c9-8bfd-873c3f443b43\n",
      "WARNING:__main__:95cb1464-6d7a-fecd-0bcb-b7835d2846d8\n",
      "WARNING:__main__:abbb77c6-0016-5730-202e-4c663967c894\n",
      "WARNING:__main__:1dc36bd2-5a61-d3a0-a5da-a991f711ff06\n",
      "WARNING:__main__:f3ce3a4e-0e98-61ed-19da-b60932b42af8\n",
      "WARNING:__main__:98573a8b-ee60-30d4-9e90-ec40b3b0865d\n",
      "WARNING:__main__:2dad01e0-90f6-965b-f72d-8b7d3f0cd152\n",
      "WARNING:__main__:f78f1fe5-0d8e-1176-bdc5-fbfffa7d092c\n",
      "WARNING:__main__:3e77bd64-0056-ab9d-5fe4-f64ef1091b1a\n"
     ]
    },
    {
     "name": "stdout",
     "output_type": "stream",
     "text": [
      "processed chunk 670\n"
     ]
    },
    {
     "name": "stderr",
     "output_type": "stream",
     "text": [
      "WARNING:__main__:2d4e6414-e7b6-7f24-2dec-3fdf42e12121\n",
      "WARNING:__main__:22dc99b2-cc99-f0bf-f4e1-4da4edd6934c\n",
      "WARNING:__main__:e7b9444d-0b5e-832f-7b0d-ff340e78ea26\n",
      "WARNING:__main__:6415a37d-5fb7-88a3-6ba1-133e09014adf\n",
      "WARNING:__main__:73ff1cf5-39c2-50d5-1cdc-3b1a2447e3d2\n",
      "WARNING:__main__:2cb3a306-4b5c-2ecb-5a96-f92182964531\n",
      "WARNING:__main__:bb796f32-2a61-1540-f874-f67f8e3542af\n",
      "WARNING:__main__:4ac5a274-2f53-765c-5f20-899f36445776\n",
      "WARNING:__main__:3e29df0a-c7c9-2d03-8fdb-6d1c52ba690d\n"
     ]
    },
    {
     "name": "stdout",
     "output_type": "stream",
     "text": [
      "processed chunk 671\n"
     ]
    },
    {
     "name": "stderr",
     "output_type": "stream",
     "text": [
      "WARNING:__main__:9e27c394-a441-0f47-0468-ec562cbafb3e\n",
      "WARNING:__main__:2faf11e4-59f7-23c3-571e-498a1fa1c243\n"
     ]
    },
    {
     "name": "stdout",
     "output_type": "stream",
     "text": [
      "processed chunk 672\n"
     ]
    },
    {
     "name": "stderr",
     "output_type": "stream",
     "text": [
      "WARNING:__main__:23c77506-67d4-1269-50cf-76cd7acb3935\n"
     ]
    },
    {
     "name": "stdout",
     "output_type": "stream",
     "text": [
      "processed chunk 673\n",
      "processed chunk 674\n"
     ]
    },
    {
     "name": "stderr",
     "output_type": "stream",
     "text": [
      "WARNING:__main__:c882c233-c561-1708-c566-6674aaa58ff0\n",
      "WARNING:__main__:5868070b-5ca8-47b1-c074-2361a4f2849c\n"
     ]
    },
    {
     "name": "stdout",
     "output_type": "stream",
     "text": [
      "processed chunk 675\n",
      "processed chunk 676\n"
     ]
    },
    {
     "name": "stderr",
     "output_type": "stream",
     "text": [
      "WARNING:__main__:bcba1c1f-d614-3349-3475-56fe3c08c764\n",
      "WARNING:__main__:c5b53f0f-c511-c8ae-2740-8f4edc41f602\n",
      "WARNING:__main__:724e6dff-59c5-8c28-08aa-2034978d48e2\n"
     ]
    },
    {
     "name": "stdout",
     "output_type": "stream",
     "text": [
      "processed chunk 677\n"
     ]
    },
    {
     "name": "stderr",
     "output_type": "stream",
     "text": [
      "WARNING:__main__:32db13a3-1a8b-d378-43ae-c28611f6266a\n",
      "WARNING:__main__:df41b1f4-cf53-a786-ead9-24e32db81407\n"
     ]
    },
    {
     "name": "stdout",
     "output_type": "stream",
     "text": [
      "processed chunk 678\n"
     ]
    },
    {
     "name": "stderr",
     "output_type": "stream",
     "text": [
      "WARNING:__main__:5978c51c-c694-fa8b-646a-fba5cae6c786\n",
      "WARNING:__main__:05c53021-7960-7f7c-2eab-5d230db4d7f7\n",
      "WARNING:__main__:816b90f6-5394-b078-c4ae-d1bceb1736a2\n",
      "WARNING:__main__:041b8a56-3f44-795f-ba79-0e9d2cb3fb29\n",
      "WARNING:__main__:c9b7fb18-6cf7-07b8-48fc-4364a4db2f01\n",
      "WARNING:__main__:2d405779-295e-a0a3-179d-a2471dbb9db9\n",
      "WARNING:__main__:7d4ec557-0e69-b3ec-8cd0-4ef2922f4dff\n",
      "WARNING:__main__:fa92256f-c00a-f8c9-84bd-ce2c768194a8\n",
      "WARNING:__main__:18f56df0-a955-e70b-87b9-a694c3ef3812\n",
      "WARNING:__main__:b782e6e4-7aff-1cf4-7b04-88088d03b615\n",
      "WARNING:__main__:aaf61531-76ac-f088-c3a7-25aeb6c3987c\n",
      "WARNING:__main__:c818b43f-ea80-b514-7cc4-afabf933ffb5\n",
      "WARNING:__main__:b311c868-25db-4112-1351-5340beea949f\n",
      "WARNING:__main__:ec258997-1111-df25-69a1-ac842c7442d4\n",
      "WARNING:__main__:690cc7c2-4674-2f8d-e11b-863ef1a057bd\n",
      "WARNING:__main__:50ac86a1-72b5-0840-1ceb-c53be40ef08c\n",
      "WARNING:__main__:9a6942fa-b63e-9f58-1b9d-813edaab3eb8\n",
      "WARNING:__main__:38efe034-0407-a306-919f-1c2afceffb33\n"
     ]
    },
    {
     "name": "stdout",
     "output_type": "stream",
     "text": [
      "processed chunk 679\n"
     ]
    },
    {
     "name": "stderr",
     "output_type": "stream",
     "text": [
      "WARNING:__main__:67b8f336-eb37-f83b-eb22-2fc2d59d0b9b\n",
      "WARNING:__main__:d95202b3-368f-26b6-d225-f8d5c5ab20ca\n",
      "WARNING:__main__:c550d883-7fd2-442c-b2ba-15a286348a7b\n",
      "WARNING:__main__:1da9d1cb-34e8-12bf-2534-cb6c23b211d7\n",
      "WARNING:__main__:78ced46b-3b80-171e-9074-2bb5a79bbd56\n",
      "WARNING:__main__:f1ad35bf-7c2c-8405-4fcf-c9d710465a04\n",
      "WARNING:__main__:ac807b13-348f-e3bc-692e-d6da8f5d0590\n",
      "WARNING:__main__:ee1fd678-fcf9-dffc-4488-f640a67382eb\n",
      "WARNING:__main__:4087d389-d6e4-848c-f60b-20a9d566b641\n",
      "WARNING:__main__:d27f4c7b-7a2b-bf42-ec01-032eca05d75b\n",
      "WARNING:__main__:b5f8fb17-1d17-c0a7-3493-3ca22d47b7f0\n",
      "WARNING:__main__:88071df9-45f6-96e5-6b6a-156a4bbb372f\n",
      "WARNING:__main__:c6062084-57c2-c8a5-b436-659fbb331816\n",
      "WARNING:__main__:00185a48-342f-8cfd-dd2e-4c52c80cb9a7\n",
      "WARNING:__main__:cf7edebb-c710-bfb8-3b51-7ea0adb0a134\n",
      "WARNING:__main__:f8da89dd-cbdd-7167-be9b-a61548196afc\n",
      "WARNING:__main__:60095bd4-7aa4-2de6-22b0-d81fc9bde2f0\n",
      "WARNING:__main__:2e97cf13-a3a2-b9c8-7f4d-65c688e7edd0\n",
      "WARNING:__main__:3ad815f5-4969-604a-2d9c-379541cb9727\n",
      "WARNING:__main__:9707caab-c612-1f9c-38bd-fc0396ac79e0\n",
      "WARNING:__main__:d15eb843-5b10-05ca-b766-ac8168958f4f\n",
      "WARNING:__main__:3be487b8-06a0-0715-e43f-144ab338e949\n"
     ]
    },
    {
     "name": "stdout",
     "output_type": "stream",
     "text": [
      "processed chunk 680\n",
      "processed chunk 681\n"
     ]
    },
    {
     "name": "stderr",
     "output_type": "stream",
     "text": [
      "WARNING:__main__:f4a838f6-5548-2aef-3c40-05c4bedb704c\n"
     ]
    },
    {
     "name": "stdout",
     "output_type": "stream",
     "text": [
      "processed chunk 682\n"
     ]
    },
    {
     "name": "stderr",
     "output_type": "stream",
     "text": [
      "WARNING:__main__:f50e79ac-e26b-cefb-b9cf-960739e8e236\n",
      "WARNING:__main__:da10c9ab-a6d0-aadc-fd8b-1a20af8891e0\n"
     ]
    },
    {
     "name": "stdout",
     "output_type": "stream",
     "text": [
      "processed chunk 683\n"
     ]
    },
    {
     "name": "stderr",
     "output_type": "stream",
     "text": [
      "WARNING:__main__:60349bf3-fae3-a985-6e94-d00917d15cfc\n",
      "WARNING:__main__:29732ac0-6092-a094-1640-9301f951ec25\n"
     ]
    },
    {
     "name": "stdout",
     "output_type": "stream",
     "text": [
      "processed chunk 684\n"
     ]
    },
    {
     "name": "stderr",
     "output_type": "stream",
     "text": [
      "WARNING:__main__:9c980802-1550-3e2e-2d44-effac6dd3b6d\n",
      "WARNING:__main__:d6392cdc-3dbe-53a2-f10e-8628b07884b4\n",
      "WARNING:__main__:3359ca81-1b77-2833-fd8d-931d26439f25\n",
      "WARNING:__main__:b70a7881-3a9b-5b02-dd4c-81dc7b9af48a\n"
     ]
    },
    {
     "name": "stdout",
     "output_type": "stream",
     "text": [
      "processed chunk 685\n",
      "processed chunk 686\n"
     ]
    },
    {
     "name": "stderr",
     "output_type": "stream",
     "text": [
      "WARNING:__main__:93e5a342-1360-2c65-aec1-a075bdbd03d1\n",
      "WARNING:__main__:4fd9baff-000f-d1e9-8ea3-fa5813e89b00\n"
     ]
    },
    {
     "name": "stdout",
     "output_type": "stream",
     "text": [
      "processed chunk 687\n"
     ]
    },
    {
     "name": "stderr",
     "output_type": "stream",
     "text": [
      "WARNING:__main__:05955e7a-3214-2f13-6e23-94d79dbdc96e\n",
      "WARNING:__main__:f7e354a0-89f7-2fec-eabc-eaab5588d5c7\n",
      "WARNING:__main__:f1681e18-b7d7-b202-88c2-6914d4ef283f\n",
      "WARNING:__main__:ca20041d-ce33-dea5-7a79-ba23a229cfd0\n",
      "WARNING:__main__:4a87d816-a465-7f7e-abcd-9e2b9d420294\n",
      "WARNING:__main__:8d47f573-cc04-499b-65ae-30a11643f757\n",
      "WARNING:__main__:a1fe2d0c-a613-ace1-cd24-ccb21cf28e89\n",
      "WARNING:__main__:3baaaad4-4639-422d-a6ca-c25320a5b514\n",
      "WARNING:__main__:65d473c7-c20e-1f42-81bc-a05ddd588eea\n",
      "WARNING:__main__:856cca5b-ce9a-e6a8-b3f6-b89f5f7c48cf\n",
      "WARNING:__main__:0b77ec0a-9156-6614-09d7-441e09dab157\n",
      "WARNING:__main__:d2bee829-b594-d005-44dd-5f399b7f0d63\n",
      "WARNING:__main__:cf8a12b1-0dc1-8e5d-3034-9233a89b21e0\n",
      "WARNING:__main__:a21d75b7-1987-30e2-37ae-5ba9b19df489\n",
      "WARNING:__main__:89c2ed3c-d2a4-d9e5-f069-3c6d4ffc76ab\n",
      "WARNING:__main__:d23ff8e6-6499-ea0b-76ad-0d43c1d72e54\n",
      "WARNING:__main__:921a549e-25ff-2f8e-ce1c-24f061594e67\n",
      "WARNING:__main__:47b3fba0-c47e-51d6-d64d-bf7b2ed2528d\n"
     ]
    },
    {
     "name": "stdout",
     "output_type": "stream",
     "text": [
      "processed chunk 688\n"
     ]
    },
    {
     "name": "stderr",
     "output_type": "stream",
     "text": [
      "WARNING:__main__:cbcfea65-de6a-ffcd-1747-709bf7c575fb\n",
      "WARNING:__main__:f5af2438-2e84-763d-b8f4-5f65d0580550\n"
     ]
    },
    {
     "name": "stdout",
     "output_type": "stream",
     "text": [
      "processed chunk 689\n"
     ]
    },
    {
     "name": "stderr",
     "output_type": "stream",
     "text": [
      "WARNING:__main__:45b8a030-4ff5-e871-9f2e-c4ae32f9a3be\n",
      "WARNING:__main__:2633d37b-4bcc-813b-ce67-5bf861bb227c\n",
      "WARNING:__main__:13d0f644-4c88-ae74-a9c1-4f64ccfbce80\n"
     ]
    },
    {
     "name": "stdout",
     "output_type": "stream",
     "text": [
      "processed chunk 690\n"
     ]
    },
    {
     "name": "stderr",
     "output_type": "stream",
     "text": [
      "WARNING:__main__:a0071efa-7e7d-3287-631f-19ce6916058b\n",
      "WARNING:__main__:2ed19562-e0a0-7529-dbd3-dc555eb3ee0a\n",
      "WARNING:__main__:59471928-fc9d-1a2b-9ca6-2fa28ece726e\n",
      "WARNING:__main__:8acfdc6d-8c6c-82d8-86c6-c735952c9d61\n",
      "WARNING:__main__:97b8b8f9-6ff6-bc0a-7f0d-4cbc7bb0911a\n",
      "WARNING:__main__:d16cfa1e-023a-a384-8a91-773fa512a8de\n",
      "WARNING:__main__:6a491bea-b747-fe2f-8d62-c0116d0ba1e5\n",
      "WARNING:__main__:e50f6383-c396-f708-376f-3a625f84c101\n",
      "WARNING:__main__:f540546c-f8c5-b732-76d3-eb509623f7f2\n",
      "WARNING:__main__:cd3574bd-1c54-9168-6d2d-281cd7bba508\n",
      "WARNING:__main__:fc29f237-1063-5921-73cb-794360529f14\n",
      "WARNING:__main__:0441dc22-f066-a695-0dec-b8856b8ed3c2\n",
      "WARNING:__main__:a2468bc9-7c75-db22-0242-54bd4fff8149\n",
      "WARNING:__main__:56f17b1b-58e6-3c89-75c1-f6b9016a9f21\n",
      "WARNING:__main__:8293543d-d1cf-ce46-3c66-4429d995511a\n",
      "WARNING:__main__:4a61496d-d29e-7e16-3527-bf6be65e5c16\n",
      "WARNING:__main__:b0b84761-86d0-a356-3187-dcfb60bfe40a\n",
      "WARNING:__main__:14dfbf57-306d-e6b4-3a0b-28d352f240ad\n",
      "WARNING:__main__:0f8d4142-a584-b9d6-f4f1-8d600dd13eea\n",
      "WARNING:__main__:a8da4178-e13c-539b-2786-36be689be238\n",
      "WARNING:__main__:d60dd199-f718-4181-3237-78ef92954829\n",
      "WARNING:__main__:5bf9a98d-4ba4-b65d-ed29-8749f50c0695\n",
      "WARNING:__main__:f907118d-27ba-4719-f9f0-4ed9cc93709e\n",
      "WARNING:__main__:c03a8ddc-b131-1b39-ee7d-a82578b57c2b\n",
      "WARNING:__main__:1ec459d3-2d2a-8f0d-5cc3-10c6f5991741\n",
      "WARNING:__main__:1cff8522-1167-625b-11d1-7f04e7d11eba\n",
      "WARNING:__main__:e3cddb4b-18ad-46a3-456f-15f53aed7afb\n",
      "WARNING:__main__:6a63c23f-2f71-3432-c3b9-bc308e4f2b31\n"
     ]
    },
    {
     "name": "stdout",
     "output_type": "stream",
     "text": [
      "processed chunk 691\n"
     ]
    },
    {
     "name": "stderr",
     "output_type": "stream",
     "text": [
      "WARNING:__main__:8038d750-5382-9230-8110-795be07d6ddd\n",
      "WARNING:__main__:b6475299-c642-843c-e591-3de20ab4bf80\n",
      "WARNING:__main__:0bcf1efd-396d-6077-e79f-e3e651af8dd0\n",
      "WARNING:__main__:046f9d05-1a5d-4266-c397-3ced09b61be5\n"
     ]
    },
    {
     "name": "stdout",
     "output_type": "stream",
     "text": [
      "processed chunk 692\n"
     ]
    },
    {
     "name": "stderr",
     "output_type": "stream",
     "text": [
      "WARNING:__main__:c4ce0d2b-af5a-7877-640b-3fabb9e08ea9\n"
     ]
    },
    {
     "name": "stdout",
     "output_type": "stream",
     "text": [
      "processed chunk 693\n"
     ]
    },
    {
     "name": "stderr",
     "output_type": "stream",
     "text": [
      "WARNING:__main__:1c895dd1-47c1-2730-fd88-74a74e75b30b\n",
      "WARNING:__main__:e7c10cf6-1dc4-791a-3d9a-9e4e06b95d53\n",
      "WARNING:__main__:ff8d53e0-ee61-04e2-5815-41e554508e9a\n",
      "WARNING:__main__:c2b070c6-9cdd-ea46-9029-35684f42a4ba\n",
      "WARNING:__main__:192510cb-828b-89fb-dd26-1ead02957887\n",
      "WARNING:__main__:6c83677a-1ff3-fe35-1651-41c51aa2b7ad\n",
      "WARNING:__main__:03f47189-fe15-46dc-cd90-61d1709ab53a\n",
      "WARNING:__main__:cc4d414f-3b0d-4b67-b7b1-c8569ac1dd2b\n",
      "WARNING:__main__:08d32173-37a6-6cd1-bbb1-fb4f8eb4a7b4\n",
      "WARNING:__main__:7ad1c230-14ad-416c-5eee-bcc10850dd62\n",
      "WARNING:__main__:3a36093c-7e33-7689-958a-b634eae45230\n",
      "WARNING:__main__:ab1cbd6d-2129-f157-dcab-780dd1253791\n",
      "WARNING:__main__:64d22fcc-eae6-50e7-e44b-b7207bb0c53c\n",
      "WARNING:__main__:4117add5-01e8-2697-4ae7-ceeaf5d10934\n",
      "WARNING:__main__:4614b964-8737-7bd8-e396-04953d701b92\n",
      "WARNING:__main__:294a173d-eaae-fd7f-3ba5-335cfd56097f\n"
     ]
    },
    {
     "name": "stdout",
     "output_type": "stream",
     "text": [
      "processed chunk 694\n"
     ]
    },
    {
     "name": "stderr",
     "output_type": "stream",
     "text": [
      "WARNING:__main__:fb38a4b8-a0ab-ca3d-75a4-ebbbb1310ff6\n",
      "WARNING:__main__:5a7a20a1-bdc1-5e34-b355-43b5d7f359f7\n",
      "WARNING:__main__:8efd6880-760e-4efa-ce07-b9067052eadc\n",
      "WARNING:__main__:770aa93b-78b2-8a3b-cdcd-ae79b104a4fd\n",
      "WARNING:__main__:5172197f-44fd-6b96-8d51-04d0da283393\n",
      "WARNING:__main__:9fd98d68-f40e-6de6-97ff-3df73ca8c3bf\n",
      "WARNING:__main__:63a7496c-ab97-b864-a061-921a8dea1177\n",
      "WARNING:__main__:ce34eb91-a963-2acd-a6bc-f9ef82750554\n"
     ]
    },
    {
     "name": "stdout",
     "output_type": "stream",
     "text": [
      "processed chunk 695\n",
      "processed chunk 696\n"
     ]
    },
    {
     "name": "stderr",
     "output_type": "stream",
     "text": [
      "WARNING:__main__:29fcb3e2-942d-12b3-764c-6a18017a9658\n",
      "WARNING:__main__:4566b0eb-4338-4cdd-ae90-a6112b01a8e8\n",
      "WARNING:__main__:728d766c-b99e-f68f-0738-186549196067\n",
      "WARNING:__main__:3b651f7a-652c-d7d4-7d5b-db74a42efecb\n",
      "WARNING:__main__:cce4274f-a2c5-ea38-263c-a6e69c2305de\n",
      "WARNING:__main__:0ac0ed32-28f5-0cc4-17b2-29aacf9c197c\n",
      "WARNING:__main__:500d8328-1c4b-e69a-9a53-102b15174c0e\n",
      "WARNING:__main__:67a88c1e-3084-0a4a-bc2c-a818ca22d994\n",
      "WARNING:__main__:50de143f-0911-ffaf-09d2-f4de6866602b\n",
      "WARNING:__main__:bc2e4e26-2561-0161-af3e-1877c65b0829\n"
     ]
    },
    {
     "name": "stdout",
     "output_type": "stream",
     "text": [
      "processed chunk 697\n"
     ]
    },
    {
     "name": "stderr",
     "output_type": "stream",
     "text": [
      "WARNING:__main__:4dc95d13-fa04-87f2-6dde-c71326785117\n",
      "WARNING:__main__:805a0e64-6a34-77b1-76d8-af12f819675e\n",
      "WARNING:__main__:1c06b467-79f3-90a0-49b2-186d9247823c\n",
      "WARNING:__main__:cad62bb7-8dab-8ffa-9d84-7f0f873ce58b\n"
     ]
    },
    {
     "name": "stdout",
     "output_type": "stream",
     "text": [
      "processed chunk 698\n",
      "processed chunk 699\n"
     ]
    },
    {
     "name": "stderr",
     "output_type": "stream",
     "text": [
      "WARNING:__main__:b94819e7-7012-7784-38c0-4c990e0a8d1d\n",
      "WARNING:__main__:575c284f-8c6e-0ebf-e026-54ef5d1b7e45\n",
      "WARNING:__main__:44fba6e7-55c8-de44-e45e-be0aada7a59f\n",
      "WARNING:__main__:9b04b820-9abf-f44d-2620-e8e3ccfe054e\n",
      "WARNING:__main__:1be76dc7-f390-8414-d345-5493bee4adfd\n",
      "WARNING:__main__:50372cfd-1e87-e7b6-f840-974c60bdede3\n",
      "WARNING:__main__:b04f6511-4ada-596d-9107-25fb6d7c9c33\n",
      "WARNING:__main__:93b2562b-6a42-031d-40dd-db05d9c5d258\n",
      "WARNING:__main__:c1ed8137-70be-8a33-ec55-1638f3cf5fd7\n"
     ]
    },
    {
     "name": "stdout",
     "output_type": "stream",
     "text": [
      "processed chunk 700\n"
     ]
    },
    {
     "name": "stderr",
     "output_type": "stream",
     "text": [
      "WARNING:__main__:7d22f2ab-3566-11aa-5a95-5316c01c4186\n"
     ]
    },
    {
     "name": "stdout",
     "output_type": "stream",
     "text": [
      "processed chunk 701\n",
      "processed chunk 702\n",
      "processed chunk 703\n"
     ]
    },
    {
     "name": "stderr",
     "output_type": "stream",
     "text": [
      "WARNING:__main__:1dad6a34-6e7a-5ccd-e48d-47b4a945a4d4\n",
      "WARNING:__main__:5073c51d-d8d7-c58e-6a07-d87b95fea7de\n",
      "WARNING:__main__:102c3cc4-71af-9acf-ddbe-2437102eef65\n",
      "WARNING:__main__:31e6d54e-2e3f-45bf-28c9-f44078a0ba87\n",
      "WARNING:__main__:acbb5f80-e6f4-4d36-16bd-571fc8d164d6\n",
      "WARNING:__main__:bb72627a-536f-2064-8ac9-92ecf8924a2e\n",
      "WARNING:__main__:39b95047-7f9e-af33-e60f-9767a7432aa5\n",
      "WARNING:__main__:18277239-cf08-7601-7740-113f2cd1bd00\n",
      "WARNING:__main__:9a783d08-1bb9-1e6d-7e28-c22f5ba5af03\n",
      "WARNING:__main__:c136603f-ba7d-a1e1-fe7c-7ece82f42a49\n",
      "WARNING:__main__:147e867d-c22b-4e0b-cfd6-be670aa1ad3d\n",
      "WARNING:__main__:c59a580b-22a8-37c2-85f9-2c668f45de5c\n",
      "WARNING:__main__:e8ba8e72-1c04-a0d1-9cb4-873c6b2745ee\n",
      "WARNING:__main__:750461fc-c76e-9045-0dc8-cbefabf1a298\n",
      "WARNING:__main__:dd2641d6-8312-c397-f531-7706c9b114c2\n"
     ]
    },
    {
     "name": "stdout",
     "output_type": "stream",
     "text": [
      "processed chunk 704\n",
      "processed chunk 705\n",
      "processed chunk 706\n"
     ]
    },
    {
     "name": "stderr",
     "output_type": "stream",
     "text": [
      "WARNING:__main__:3621bf20-96e8-2354-0154-92ae77708b28\n"
     ]
    },
    {
     "name": "stdout",
     "output_type": "stream",
     "text": [
      "processed chunk 707\n",
      "processed chunk 708\n"
     ]
    },
    {
     "name": "stderr",
     "output_type": "stream",
     "text": [
      "WARNING:__main__:63a20d20-7b81-0bec-392e-801f7ea0b2d8\n"
     ]
    },
    {
     "name": "stdout",
     "output_type": "stream",
     "text": [
      "processed chunk 709\n",
      "processed chunk 710\n",
      "processed chunk 711\n"
     ]
    },
    {
     "name": "stderr",
     "output_type": "stream",
     "text": [
      "WARNING:__main__:0caf0b2c-6692-402c-a007-d0e6ef47d2f2\n",
      "WARNING:__main__:d5e8ffc4-b12c-cbf2-5020-2bb8dbd4b89b\n",
      "WARNING:__main__:b6e86ac1-da66-638b-a48a-98662c236f52\n",
      "WARNING:__main__:962faf1d-1e75-40af-4096-b921013d4fa6\n"
     ]
    },
    {
     "name": "stdout",
     "output_type": "stream",
     "text": [
      "processed chunk 712\n"
     ]
    },
    {
     "name": "stderr",
     "output_type": "stream",
     "text": [
      "WARNING:__main__:94086aec-4d9a-d72c-2927-e568d12b2529\n",
      "WARNING:__main__:32f68619-4aff-d92c-e7ab-42a4626bb25a\n"
     ]
    },
    {
     "name": "stdout",
     "output_type": "stream",
     "text": [
      "processed chunk 713\n"
     ]
    },
    {
     "name": "stderr",
     "output_type": "stream",
     "text": [
      "WARNING:__main__:712a3e08-b802-a578-7cc8-ba1c3ca303b8\n"
     ]
    },
    {
     "name": "stdout",
     "output_type": "stream",
     "text": [
      "processed chunk 714\n",
      "processed chunk 715\n"
     ]
    },
    {
     "name": "stderr",
     "output_type": "stream",
     "text": [
      "WARNING:__main__:987601e9-4da7-16cd-522e-a098747a16f0\n",
      "WARNING:__main__:9f72aa68-fdba-012a-927a-528867ae96d8\n",
      "WARNING:__main__:aba45d3b-9b69-3446-a45f-6921354bce59\n",
      "WARNING:__main__:77b3e8cc-148d-1da2-e512-c4e16f305df7\n",
      "WARNING:__main__:df0dad93-ac3b-9875-561c-ce9fc0e7be5b\n",
      "WARNING:__main__:70bc7c52-7d46-c857-fb12-e76842a36513\n",
      "WARNING:__main__:92219af3-6d51-3a35-afeb-5666c665775f\n",
      "WARNING:__main__:7d7692b1-4c5f-66eb-5162-815d33cc6eea\n",
      "WARNING:__main__:208fc1a4-8683-2332-fdff-3064fbace9b3\n",
      "WARNING:__main__:ac7ffc7b-c967-9141-3004-0c11fd3ba603\n",
      "WARNING:__main__:e036c90f-d172-752b-ba57-86483e1caec8\n"
     ]
    },
    {
     "name": "stdout",
     "output_type": "stream",
     "text": [
      "processed chunk 716\n",
      "processed chunk 717\n"
     ]
    },
    {
     "name": "stderr",
     "output_type": "stream",
     "text": [
      "WARNING:__main__:3f87cfd6-725b-7f13-dfe2-e44d5675de40\n",
      "WARNING:__main__:e2609da1-4deb-32fc-eb43-fe2a14c5e53b\n",
      "WARNING:__main__:cccf7be2-63ab-e680-8568-09a0207718b3\n",
      "WARNING:__main__:4865593a-2255-0ba7-b8ff-8e8c6b7316f1\n",
      "WARNING:__main__:3eeb3598-6ede-8142-914f-b7b197dfc2bc\n",
      "WARNING:__main__:c831654e-f946-ae49-de52-8cfc9b7306e7\n",
      "WARNING:__main__:59813052-6a07-84e4-8aba-015d9f2e1eec\n",
      "WARNING:__main__:3a5dad55-e063-a9e2-fc3b-744bbbbdbe30\n",
      "WARNING:__main__:76a30753-e074-4017-ad6c-c8c77feb489c\n",
      "WARNING:__main__:3a50ed82-3b92-cd99-3ac4-c0b028474e41\n"
     ]
    },
    {
     "name": "stdout",
     "output_type": "stream",
     "text": [
      "processed chunk 718\n",
      "processed chunk 719\n",
      "processed chunk 720\n"
     ]
    },
    {
     "name": "stderr",
     "output_type": "stream",
     "text": [
      "WARNING:__main__:e7b1e1b7-493c-db37-8120-e95c090f0bf0\n",
      "WARNING:__main__:07c6cc1b-4477-c6bb-38d7-c8de0ef92f09\n",
      "WARNING:__main__:68a12bf7-8e24-7c37-7861-e5d18cdb9023\n",
      "WARNING:__main__:3d3e2bf4-cce0-6695-d9e0-8d98952a89f5\n",
      "WARNING:__main__:ed2d8dc9-e034-783e-a3dd-36faaeec2423\n",
      "WARNING:__main__:e45bb1f3-5867-3e90-8d53-107ced9f7d12\n",
      "WARNING:__main__:194dd399-a49e-da13-d004-5feb1fbf7106\n",
      "WARNING:__main__:04d1a1d5-b9de-f1ef-d661-0735dcfb0d9c\n",
      "WARNING:__main__:1ce829f3-46db-80f5-ae64-d19d5d401ae2\n",
      "WARNING:__main__:409203fe-63e2-4ec2-fe1f-5a3c9b1fa09f\n",
      "WARNING:__main__:4deb71f4-8907-e4dd-8963-6f4d6d39a48c\n",
      "WARNING:__main__:8c1b4996-636b-9b2c-f1d3-8c42b163948f\n"
     ]
    },
    {
     "name": "stdout",
     "output_type": "stream",
     "text": [
      "processed chunk 721\n"
     ]
    },
    {
     "name": "stderr",
     "output_type": "stream",
     "text": [
      "WARNING:__main__:fbf631dc-0428-db5d-db70-81922fc31596\n"
     ]
    },
    {
     "name": "stdout",
     "output_type": "stream",
     "text": [
      "processed chunk 722\n"
     ]
    },
    {
     "name": "stderr",
     "output_type": "stream",
     "text": [
      "WARNING:__main__:0dcec1a6-e37e-d0e7-6996-5849c5622bf7\n",
      "WARNING:__main__:df7aa6fe-41ba-1755-7dfd-0b02ba62d5de\n",
      "WARNING:__main__:838b52fc-1d33-4281-f95c-57697f97cf62\n",
      "WARNING:__main__:e42b143a-3494-b89b-947c-a9b4a7e1b1b2\n",
      "WARNING:__main__:ab39ab09-8809-84db-f4e9-5e6e468a0d59\n",
      "WARNING:__main__:3760a29e-b5c1-dce8-f143-19361081c4bf\n",
      "WARNING:__main__:f348f211-2f45-7280-d39b-4a8512fa5793\n",
      "WARNING:__main__:60f3df42-b19b-8546-9be8-3ec734da8f77\n",
      "WARNING:__main__:85f0be8b-dde6-1753-6967-a3361a743592\n",
      "WARNING:__main__:37660471-13a7-24a7-d7fd-d1d537c8f9e6\n",
      "WARNING:__main__:1c3f2a27-b8bd-5295-4e40-4071447a7a63\n",
      "WARNING:__main__:a2c19ab3-5eae-0632-6d10-a6b3399b8b70\n",
      "WARNING:__main__:b25badfc-19e9-c93c-c3b1-9ef7eb05a496\n",
      "WARNING:__main__:e3cf18fe-77ef-570f-9740-0a8b285ed974\n"
     ]
    },
    {
     "name": "stdout",
     "output_type": "stream",
     "text": [
      "processed chunk 723\n"
     ]
    },
    {
     "name": "stderr",
     "output_type": "stream",
     "text": [
      "WARNING:__main__:79716e32-6ef2-d88d-a98f-0d43d53bd7c7\n",
      "WARNING:__main__:147fd9d0-c7fd-e603-4519-59c32158048d\n",
      "WARNING:__main__:ca5fb38e-b68a-c64c-4f83-be0d44d09b40\n",
      "WARNING:__main__:43b1d9d9-636d-0246-b098-476f8f27eea6\n",
      "WARNING:__main__:04b85a72-d4c5-78ef-08ea-2d5dbf429e0d\n",
      "WARNING:__main__:8ad31c9a-3668-f680-b0bb-1e53d33546dc\n",
      "WARNING:__main__:6546f3a7-0d38-aa3c-7724-dc50ffe33193\n",
      "WARNING:__main__:7159da5d-4f05-9ae2-fd19-b909b0f090d5\n",
      "WARNING:__main__:2f4a0782-1646-ba58-1f6c-0b727686eaf4\n"
     ]
    },
    {
     "name": "stdout",
     "output_type": "stream",
     "text": [
      "processed chunk 724\n",
      "processed chunk 725\n",
      "processed chunk 726\n"
     ]
    },
    {
     "name": "stderr",
     "output_type": "stream",
     "text": [
      "WARNING:__main__:471e7ddd-12a0-aa67-efc2-34aecbd44da7\n"
     ]
    },
    {
     "name": "stdout",
     "output_type": "stream",
     "text": [
      "processed chunk 727\n",
      "processed chunk 728\n"
     ]
    },
    {
     "name": "stderr",
     "output_type": "stream",
     "text": [
      "WARNING:__main__:fa588893-b708-adea-688a-eae24d09807b\n"
     ]
    },
    {
     "name": "stdout",
     "output_type": "stream",
     "text": [
      "processed chunk 729\n",
      "processed chunk 730\n"
     ]
    },
    {
     "name": "stderr",
     "output_type": "stream",
     "text": [
      "WARNING:__main__:d8154b7c-f9fa-8621-60ae-2758cc1bc7da\n",
      "WARNING:__main__:5367d1bf-dcf8-5a26-479b-a2760fbb0561\n",
      "WARNING:__main__:59f36f2b-50e2-d877-f37f-db8452499a5a\n",
      "WARNING:__main__:d15a24a3-c38a-5de8-188b-bbbf983a2762\n"
     ]
    },
    {
     "name": "stdout",
     "output_type": "stream",
     "text": [
      "processed chunk 731\n"
     ]
    },
    {
     "name": "stderr",
     "output_type": "stream",
     "text": [
      "WARNING:__main__:395eebf3-48df-44ad-bd2c-af71e32f0423\n"
     ]
    },
    {
     "name": "stdout",
     "output_type": "stream",
     "text": [
      "processed chunk 732\n",
      "processed chunk 733\n",
      "processed chunk 734\n"
     ]
    },
    {
     "name": "stderr",
     "output_type": "stream",
     "text": [
      "WARNING:__main__:91511a7b-7fe7-3dfc-6b71-0805f666577e\n",
      "WARNING:__main__:62aa9e71-548f-dc70-0f5b-9b5b80d6f19d\n"
     ]
    },
    {
     "name": "stdout",
     "output_type": "stream",
     "text": [
      "processed chunk 735\n",
      "processed chunk 736\n",
      "processed chunk 737\n"
     ]
    },
    {
     "name": "stderr",
     "output_type": "stream",
     "text": [
      "WARNING:__main__:7fcfd5ba-047d-e0d9-81c2-a5919ef6e8bb\n",
      "WARNING:__main__:6eed4c90-bdd3-0e54-c1fc-1c08ea640405\n",
      "WARNING:__main__:6d325f53-9139-aad2-5a0f-2b6bf8e3e506\n"
     ]
    },
    {
     "name": "stdout",
     "output_type": "stream",
     "text": [
      "processed chunk 738\n",
      "processed chunk 739\n",
      "processed chunk 740\n",
      "processed chunk 741\n"
     ]
    },
    {
     "name": "stderr",
     "output_type": "stream",
     "text": [
      "WARNING:__main__:2b7712e6-d5b7-5576-3032-d446ec6b5535\n",
      "WARNING:__main__:5257e11d-2e53-0bb5-8afb-a456539df3d2\n",
      "WARNING:__main__:628fc936-6dea-ca5d-c681-d9f803b5d5da\n",
      "WARNING:__main__:5ba2694f-258d-d1d6-4cfd-b42bc1668355\n",
      "WARNING:__main__:9ee9d07b-f0ad-4922-bcb9-0661ba6fa0e9\n",
      "WARNING:__main__:6e27d4de-44b3-4cbc-3496-d32025294e9d\n",
      "WARNING:__main__:1c61f65a-3955-87d2-d9b6-38c1dd751cb6\n",
      "WARNING:__main__:beb1aeb4-91db-28fb-772d-68260ebaa194\n",
      "WARNING:__main__:f39539dd-b7d0-a756-c515-604e1bad6542\n"
     ]
    },
    {
     "name": "stdout",
     "output_type": "stream",
     "text": [
      "processed chunk 742\n",
      "processed chunk 743\n",
      "processed chunk 744\n"
     ]
    },
    {
     "name": "stderr",
     "output_type": "stream",
     "text": [
      "WARNING:__main__:51df19a4-2337-0ce0-e53f-b280ea3d5a69\n"
     ]
    },
    {
     "name": "stdout",
     "output_type": "stream",
     "text": [
      "processed chunk 745\n",
      "processed chunk 746\n"
     ]
    },
    {
     "name": "stderr",
     "output_type": "stream",
     "text": [
      "WARNING:__main__:e75728ce-06af-fc72-8335-6f1db99f32cb\n",
      "WARNING:__main__:0e93e6ed-4cc9-fdcb-5ebb-9a6246d32044\n",
      "WARNING:__main__:0fbf1c22-d5e7-6385-e571-e42cb8123f9d\n",
      "WARNING:__main__:c5abe530-3635-0c7a-d6d4-da43af92f10d\n",
      "WARNING:__main__:c7acd108-8c6f-b727-cdcc-31b4b56eaebb\n",
      "WARNING:__main__:aefd1ce2-5515-c499-d01d-858520e7d44a\n",
      "WARNING:__main__:d9239896-e57c-b53c-f853-a64543b9cac1\n"
     ]
    },
    {
     "name": "stdout",
     "output_type": "stream",
     "text": [
      "processed chunk 747\n"
     ]
    },
    {
     "name": "stderr",
     "output_type": "stream",
     "text": [
      "WARNING:__main__:930ea0c1-6e6f-ec38-772a-a24dd696c5db\n",
      "WARNING:__main__:454e35f9-06b9-cbb4-3628-c665f1479762\n"
     ]
    },
    {
     "name": "stdout",
     "output_type": "stream",
     "text": [
      "processed chunk 748\n",
      "processed chunk 749\n"
     ]
    },
    {
     "name": "stderr",
     "output_type": "stream",
     "text": [
      "WARNING:__main__:609afeb1-642c-2ef8-06ec-ace74307d00e\n"
     ]
    },
    {
     "name": "stdout",
     "output_type": "stream",
     "text": [
      "processed chunk 750\n"
     ]
    },
    {
     "name": "stderr",
     "output_type": "stream",
     "text": [
      "WARNING:__main__:fe935ba0-229e-3eda-8304-8c6df40355a2\n"
     ]
    },
    {
     "name": "stdout",
     "output_type": "stream",
     "text": [
      "processed chunk 751\n"
     ]
    },
    {
     "name": "stderr",
     "output_type": "stream",
     "text": [
      "WARNING:__main__:f27bbcd1-e513-cc7c-35df-71247667ebd5\n",
      "WARNING:__main__:8d53b50f-49f6-6b60-8767-7227f3026bf5\n",
      "WARNING:__main__:32924d0a-f90c-00d0-1ce8-6611e25c205b\n"
     ]
    },
    {
     "name": "stdout",
     "output_type": "stream",
     "text": [
      "processed chunk 752\n",
      "processed chunk 753\n"
     ]
    },
    {
     "name": "stderr",
     "output_type": "stream",
     "text": [
      "WARNING:__main__:7d28d523-b5ff-2bdb-387c-6109bcd46fd3\n",
      "WARNING:__main__:99d4e790-ca30-cc52-5252-a79aea1087a9\n",
      "WARNING:__main__:f2383d1c-dbc9-105c-e310-4ca36b6fdcae\n",
      "WARNING:__main__:4c5b0bd1-ecba-59fc-c8ee-e4f69a7565df\n",
      "WARNING:__main__:b0040bf8-8f6a-a77a-2d48-f00715421465\n",
      "WARNING:__main__:59194e92-099c-146e-233b-336461bb6d56\n",
      "WARNING:__main__:fb5779ac-2742-3ced-d972-7b0c4d47dc16\n",
      "WARNING:__main__:353629bf-a6e2-0d51-fb95-28ef8edecef2\n"
     ]
    },
    {
     "name": "stdout",
     "output_type": "stream",
     "text": [
      "processed chunk 754\n"
     ]
    },
    {
     "name": "stderr",
     "output_type": "stream",
     "text": [
      "WARNING:__main__:82289dfa-57dd-fd85-f06a-40f74724e21e\n"
     ]
    },
    {
     "name": "stdout",
     "output_type": "stream",
     "text": [
      "processed chunk 755\n"
     ]
    },
    {
     "name": "stderr",
     "output_type": "stream",
     "text": [
      "WARNING:__main__:16026016-6afb-2f01-c773-b009efc7bb1b\n",
      "WARNING:__main__:f48f26c4-0203-8025-b1d6-b879d437d6a6\n",
      "WARNING:__main__:8fe71d33-19d3-2efe-19dd-10de5ef70e0d\n"
     ]
    },
    {
     "name": "stdout",
     "output_type": "stream",
     "text": [
      "processed chunk 756\n"
     ]
    },
    {
     "name": "stderr",
     "output_type": "stream",
     "text": [
      "WARNING:__main__:ed43cea3-8620-1687-99dd-d98e8d82b991\n",
      "WARNING:__main__:27b23c41-d01d-f87e-0347-657f534d8069\n",
      "WARNING:__main__:18e89776-2ccd-6517-6091-767024ce3ca8\n",
      "WARNING:__main__:f54e9afd-4228-087f-d769-d7877d6e8a7f\n"
     ]
    },
    {
     "name": "stdout",
     "output_type": "stream",
     "text": [
      "processed chunk 757\n"
     ]
    },
    {
     "name": "stderr",
     "output_type": "stream",
     "text": [
      "WARNING:__main__:aad61eeb-9923-e3ff-53ae-986451ac9de4\n"
     ]
    },
    {
     "name": "stdout",
     "output_type": "stream",
     "text": [
      "processed chunk 758\n",
      "processed chunk 759\n"
     ]
    },
    {
     "name": "stderr",
     "output_type": "stream",
     "text": [
      "WARNING:__main__:385c60d8-bdfb-1c90-3553-e7fb8e44756c\n"
     ]
    },
    {
     "name": "stdout",
     "output_type": "stream",
     "text": [
      "processed chunk 760\n"
     ]
    },
    {
     "name": "stderr",
     "output_type": "stream",
     "text": [
      "WARNING:__main__:3b072f6b-2132-5a70-909c-1edd0c51624a\n",
      "WARNING:__main__:3685cddc-13c9-4a6d-70b3-00274a388979\n",
      "WARNING:__main__:a1543505-8faa-0d53-24ab-52a83174ed46\n",
      "WARNING:__main__:9f2b5376-f3a1-2eb4-ccee-5228da295b00\n",
      "WARNING:__main__:34d84938-aa10-9037-4071-c6247c930220\n",
      "WARNING:__main__:26d88fd2-abc8-ef8a-7183-ba0c1cb0c9ba\n",
      "WARNING:__main__:1af34264-8e8d-c595-5dc0-bca77b77aa0e\n",
      "WARNING:__main__:1389fd65-5c30-6085-df33-29cf930c8688\n",
      "WARNING:__main__:111a617e-37a7-2e5f-cb33-9228d205eef7\n",
      "WARNING:__main__:aef31030-7e0d-9e39-74fd-b10904f2ddf2\n",
      "WARNING:__main__:91dc88b9-d5b2-f900-525e-5b60b91c6e72\n",
      "WARNING:__main__:c71d1b1d-7981-058a-a774-d56fac5ada4b\n",
      "WARNING:__main__:99addd0b-a28d-76e7-1fa7-00bc535ea6c9\n"
     ]
    },
    {
     "name": "stdout",
     "output_type": "stream",
     "text": [
      "processed chunk 761\n"
     ]
    },
    {
     "name": "stderr",
     "output_type": "stream",
     "text": [
      "WARNING:__main__:664351d5-7474-912f-3128-ccb4f3947425\n"
     ]
    },
    {
     "name": "stdout",
     "output_type": "stream",
     "text": [
      "processed chunk 762\n",
      "processed chunk 763\n"
     ]
    },
    {
     "name": "stderr",
     "output_type": "stream",
     "text": [
      "WARNING:__main__:987cbdbc-b03d-01aa-8add-2b2f705bec77\n"
     ]
    },
    {
     "name": "stdout",
     "output_type": "stream",
     "text": [
      "processed chunk 764\n",
      "processed chunk 765\n"
     ]
    },
    {
     "name": "stderr",
     "output_type": "stream",
     "text": [
      "WARNING:__main__:9cc7a066-432c-0b68-dde0-9d7b2a177fe7\n",
      "WARNING:__main__:e60cfc2c-af11-5ac0-dc29-44a36f8bed08\n"
     ]
    },
    {
     "name": "stdout",
     "output_type": "stream",
     "text": [
      "processed chunk 766\n"
     ]
    },
    {
     "name": "stderr",
     "output_type": "stream",
     "text": [
      "WARNING:__main__:ce28fb71-2859-697f-3983-884cb2b2de82\n"
     ]
    },
    {
     "name": "stdout",
     "output_type": "stream",
     "text": [
      "processed chunk 767\n",
      "processed chunk 768\n",
      "processed chunk 769\n",
      "processed chunk 770\n"
     ]
    },
    {
     "name": "stderr",
     "output_type": "stream",
     "text": [
      "WARNING:__main__:e24cde51-a577-e4c8-d62c-2ddb5d38392a\n"
     ]
    },
    {
     "name": "stdout",
     "output_type": "stream",
     "text": [
      "processed chunk 771\n"
     ]
    },
    {
     "name": "stderr",
     "output_type": "stream",
     "text": [
      "WARNING:__main__:0a081d07-1474-a5ea-dcd7-0c629ed59ffe\n",
      "WARNING:__main__:40629f7a-09f7-45a3-16d7-25108b4e38b2\n",
      "WARNING:__main__:68f288e2-5289-c9dc-63f3-aa1d23443bbb\n",
      "WARNING:__main__:97e65153-c67e-080d-3371-d9ecc283587b\n",
      "WARNING:__main__:4ee8c1a7-4931-bf13-52e3-0e2112a9192d\n",
      "WARNING:__main__:c2d899e3-c16d-1698-2ce2-1e06aa0226a0\n",
      "WARNING:__main__:ac24ae3f-5b1b-2fb8-fe88-570ad619b53b\n",
      "WARNING:__main__:c95d645e-c4a7-3007-d760-870c47bf0d64\n",
      "WARNING:__main__:dda94f6a-fd9b-1e40-ad25-46f66bb75ba5\n",
      "WARNING:__main__:ccea6a86-efa1-c261-2384-2530c451cb4a\n",
      "WARNING:__main__:59d460a0-2fa5-64c7-402b-23c2c44eb4d5\n",
      "WARNING:__main__:01bb621e-f5e1-8998-7cdf-84867691e12b\n",
      "WARNING:__main__:69b3d0e1-eac6-f11e-2814-48a58d41d0b6\n",
      "WARNING:__main__:c3a17c31-4c8e-4f06-8d31-24b9d519f471\n",
      "WARNING:__main__:fda26649-d9c3-7a13-f695-014db3d09ac1\n",
      "WARNING:__main__:386db7d3-71c2-24da-ab36-5dd42b84397e\n",
      "WARNING:__main__:663decb9-caac-a19a-ef2d-141e61f2e339\n",
      "WARNING:__main__:007860bf-2a8a-070e-ba9f-85989d4cc311\n",
      "WARNING:__main__:9e0b275b-1e18-ca9f-46b9-ca732d6618a7\n",
      "WARNING:__main__:927adb00-5440-4391-13ee-97f713577653\n",
      "WARNING:__main__:abd92eed-cbd1-6a10-1e98-270139e4e78c\n",
      "WARNING:__main__:97007420-7baf-d7ea-ba4d-af3b4963fad7\n"
     ]
    },
    {
     "name": "stdout",
     "output_type": "stream",
     "text": [
      "processed chunk 772\n"
     ]
    },
    {
     "name": "stderr",
     "output_type": "stream",
     "text": [
      "WARNING:__main__:29f60ecd-6771-092c-d4aa-c1d22e8e90d7\n"
     ]
    },
    {
     "name": "stdout",
     "output_type": "stream",
     "text": [
      "processed chunk 773\n"
     ]
    },
    {
     "name": "stderr",
     "output_type": "stream",
     "text": [
      "WARNING:__main__:55d38d4f-4376-1375-0cae-8e558735b162\n",
      "WARNING:__main__:fd7f8335-76db-f939-4285-e36d661f0ab2\n",
      "WARNING:__main__:a4528ea1-82ab-79fb-a03d-bbc25badcb17\n",
      "WARNING:__main__:b4577893-2af0-615d-ee21-8a85d51e8deb\n",
      "WARNING:__main__:79004fe6-3726-4f44-03be-c994bb81f7e1\n",
      "WARNING:__main__:5588a7b3-437e-7a29-678e-f95d194a280f\n",
      "WARNING:__main__:42caac3d-6027-70c0-0377-68d492ab4ce4\n"
     ]
    },
    {
     "name": "stdout",
     "output_type": "stream",
     "text": [
      "processed chunk 774\n"
     ]
    },
    {
     "name": "stderr",
     "output_type": "stream",
     "text": [
      "WARNING:__main__:b14a8428-d4a2-e83f-05c6-dc14d2c17045\n",
      "WARNING:__main__:f30018bc-2e99-fc0e-4756-cb34143ee854\n",
      "WARNING:__main__:d9230f08-02ff-4c00-e6c6-60ea9362ba17\n",
      "WARNING:__main__:1fdec95d-5124-c3cb-cba6-32a819082d97\n",
      "WARNING:__main__:7c1f1031-5481-5cd6-05b9-67c8437c31fb\n",
      "WARNING:__main__:aa0507d7-ab55-3252-e203-8a60adca1e37\n",
      "WARNING:__main__:baf074ce-d6ae-3441-66ab-eb3763e7b89d\n",
      "WARNING:__main__:a398dae5-706c-cf18-20fe-dc617fdd9506\n",
      "WARNING:__main__:49da2346-cc62-afb3-171f-7e11fa03180c\n"
     ]
    },
    {
     "name": "stdout",
     "output_type": "stream",
     "text": [
      "processed chunk 775\n"
     ]
    },
    {
     "name": "stderr",
     "output_type": "stream",
     "text": [
      "WARNING:__main__:a54d3baa-3c1d-b8ce-3d36-8f6fcda75090\n",
      "WARNING:__main__:583ea93f-018e-516b-c78a-b12856e96226\n",
      "WARNING:__main__:d5506a14-08a1-fa82-aad9-e032c43b0999\n",
      "WARNING:__main__:db8a7cae-bc3d-f19b-97ab-cdc87dc2b4b7\n",
      "WARNING:__main__:6d1c89bb-05a9-4080-7c1a-fa834e5bbcc2\n",
      "WARNING:__main__:b4eac565-65fe-f270-137f-e3bc92adc4c3\n",
      "WARNING:__main__:786bc555-3467-07c5-312b-06be14a27cc7\n",
      "WARNING:__main__:c0acbfe5-3592-3dff-6fcc-028c40d6935f\n",
      "WARNING:__main__:ab6f23b2-5289-9adc-c8bc-20b1704e4b98\n",
      "WARNING:__main__:8b506e68-7167-cf45-6d38-2218b5cf63c6\n",
      "WARNING:__main__:ba2ee285-f810-9a07-551b-ccbd57bf956c\n",
      "WARNING:__main__:706cc48e-d370-f937-1482-23d5dfe99cac\n",
      "WARNING:__main__:81923527-8f11-3b74-9c5c-652221e39605\n",
      "WARNING:__main__:8f7c0fea-7110-4398-07f4-695d1153ffd5\n",
      "WARNING:__main__:2152e886-eeee-ab7f-847e-e3e8f8ac77b5\n",
      "WARNING:__main__:5b38b100-1351-bbf3-1077-edd045ecd8f1\n",
      "WARNING:__main__:1a9c1bd1-cb08-c6e3-f1bb-d6dd6f879aad\n"
     ]
    },
    {
     "name": "stdout",
     "output_type": "stream",
     "text": [
      "processed chunk 776\n"
     ]
    },
    {
     "name": "stderr",
     "output_type": "stream",
     "text": [
      "WARNING:__main__:f5df0de6-49f4-d78d-33d6-33c9029c3c73\n",
      "WARNING:__main__:59aecb98-9609-7e56-0cb2-62e9fc7373d9\n",
      "WARNING:__main__:8729c63d-e4de-5461-d445-100bd2873788\n"
     ]
    },
    {
     "name": "stdout",
     "output_type": "stream",
     "text": [
      "processed chunk 777\n"
     ]
    },
    {
     "name": "stderr",
     "output_type": "stream",
     "text": [
      "WARNING:__main__:5d763d2d-1218-cc3b-0835-b645f8434797\n",
      "WARNING:__main__:8112d342-fb05-b754-04e9-4d11da1d4ced\n",
      "WARNING:__main__:ba910f80-656f-ec4d-7720-86321d3ede43\n",
      "WARNING:__main__:03ae2e28-a701-c1dc-8eff-921a6876f75c\n",
      "WARNING:__main__:281b76ab-6d9f-dc76-e094-a8c186e77c15\n",
      "WARNING:__main__:fe744b7a-7630-2072-652a-30c9d2780cbb\n",
      "WARNING:__main__:71cfbd74-3615-fd0f-914c-4ed2ab732740\n",
      "WARNING:__main__:6ff0fe0c-19ec-6dfe-66aa-3cd4701234c4\n",
      "WARNING:__main__:04ae2210-3190-003c-ba29-9e4c018c012f\n",
      "WARNING:__main__:6bf061ed-a2a9-765e-80e3-745afa6ac611\n",
      "WARNING:__main__:a0272aa6-f5e4-6dfc-ae25-e9c4bb81a190\n",
      "WARNING:__main__:7e622849-4a42-33a4-bb05-8c09d9fb6a32\n"
     ]
    },
    {
     "name": "stdout",
     "output_type": "stream",
     "text": [
      "processed chunk 778\n"
     ]
    },
    {
     "name": "stderr",
     "output_type": "stream",
     "text": [
      "WARNING:__main__:baf41b73-4322-91d1-67ac-bc002d3d0b42\n",
      "WARNING:__main__:50da80e1-23aa-8079-f1f1-6ac12ada45a0\n",
      "WARNING:__main__:a065540c-2dec-84ca-8f60-36c44bf16456\n",
      "WARNING:__main__:0739d3bf-5cfb-770a-a43d-eb2c9cd0ded3\n"
     ]
    },
    {
     "name": "stdout",
     "output_type": "stream",
     "text": [
      "processed chunk 779\n"
     ]
    },
    {
     "name": "stderr",
     "output_type": "stream",
     "text": [
      "WARNING:__main__:c384bfff-3293-f477-64f2-f681f92baefe\n",
      "WARNING:__main__:7d7acfca-01ed-5c35-6c17-31a5a4b50e4b\n",
      "WARNING:__main__:38440bb1-7a19-40bc-cbf8-3c49cf116ea3\n",
      "WARNING:__main__:c0ceff09-917d-a3d3-824c-1d259a426403\n",
      "WARNING:__main__:95d3f1b6-0a1d-1292-a342-b1bcf831d602\n",
      "WARNING:__main__:e83a937e-fa16-3cc8-bbee-3fc607292a9e\n",
      "WARNING:__main__:92ccb0b4-38be-7564-28cf-f9f103ebf26b\n",
      "WARNING:__main__:45a24e6f-90ae-19d9-a022-29049cb75f8d\n",
      "WARNING:__main__:a4f245df-44be-5c0e-54ab-5dcbaa09f96d\n",
      "WARNING:__main__:e15142fb-bdbf-8bf8-74ad-2cef01d96ad0\n",
      "WARNING:__main__:a2fd1772-d1ec-e14c-8ed2-898555dd6e74\n",
      "WARNING:__main__:82cccffe-5a40-114a-af46-5e03ffc82eac\n",
      "WARNING:__main__:5dd1ca2f-06d8-d2b9-c923-a33c24f85904\n",
      "WARNING:__main__:6215d288-b4c3-0c35-eb40-1215fe41e0e1\n",
      "WARNING:__main__:d1ef1bcc-852a-a754-6c9d-53530f180eea\n",
      "WARNING:__main__:b61d9d47-89e7-03ee-35af-61459ac606d2\n",
      "WARNING:__main__:622b65a5-91ec-7b5c-36d3-cf5187d308ef\n",
      "WARNING:__main__:15c97b70-9d5d-4dfc-ac75-db8db0875b0e\n"
     ]
    },
    {
     "name": "stdout",
     "output_type": "stream",
     "text": [
      "processed chunk 780\n"
     ]
    },
    {
     "name": "stderr",
     "output_type": "stream",
     "text": [
      "WARNING:__main__:284643e5-4927-3160-7b9c-83439c51354e\n"
     ]
    },
    {
     "name": "stdout",
     "output_type": "stream",
     "text": [
      "processed chunk 781\n",
      "processed chunk 782\n"
     ]
    },
    {
     "name": "stderr",
     "output_type": "stream",
     "text": [
      "WARNING:__main__:03a6ee3c-137a-3200-30fb-c95bf12f929c\n",
      "WARNING:__main__:ab29da6f-256f-35c0-db17-16d5911eae80\n",
      "WARNING:__main__:213bfb20-ef77-d453-5a05-8fea7b37664a\n",
      "WARNING:__main__:e63d26c8-51f0-2082-3ba0-4443007cf786\n",
      "WARNING:__main__:750125dd-f63f-cb0e-650b-3cca7a601d34\n",
      "WARNING:__main__:2e1c24b7-7c2f-b7af-ef55-2a6cda054061\n",
      "WARNING:__main__:dbc7f7a3-e79a-f734-2cfc-f7e368461808\n",
      "WARNING:__main__:d0fbc6ca-01d7-bcbc-5258-8553c64fd72b\n",
      "WARNING:__main__:5d64df7b-67aa-1820-2837-0b77995a5c12\n",
      "WARNING:__main__:3e51d86a-7848-439e-cea5-5a1df5697a54\n",
      "WARNING:__main__:45a04841-6ecb-0be8-c7db-65af6fc1efe9\n",
      "WARNING:__main__:3ced894b-b45e-c3bd-26f4-a786e245d7b1\n",
      "WARNING:__main__:48f3dae2-704c-20f7-b42f-40b809bc6545\n",
      "WARNING:__main__:dd6b6413-a30e-b1a3-944a-fcacfa6fb4bc\n"
     ]
    },
    {
     "name": "stdout",
     "output_type": "stream",
     "text": [
      "processed chunk 783\n"
     ]
    },
    {
     "name": "stderr",
     "output_type": "stream",
     "text": [
      "WARNING:__main__:a6c56079-18d4-d79e-be7f-f0b0370033a9\n",
      "WARNING:__main__:5353e996-1194-b3c2-ae12-bb849d04366b\n",
      "WARNING:__main__:12a9be1a-5959-9ceb-465b-70308d3aff2a\n",
      "WARNING:__main__:f7fcc083-bb65-a85a-449f-0e8743564062\n",
      "WARNING:__main__:c59c7368-9de7-0440-fec5-f61d850a5ba8\n",
      "WARNING:__main__:e1f453c7-4afa-c0f1-bc59-0bac56ca23fc\n",
      "WARNING:__main__:ce6ce3b6-750f-18bd-673b-8a95455a962b\n",
      "WARNING:__main__:2acfa39c-1e21-1fb8-5b6c-366cffd37a41\n",
      "WARNING:__main__:e20fd717-dc30-35b5-0156-24f2e4c6a2e7\n",
      "WARNING:__main__:500d6177-6d00-62c9-9655-d1ab1a803950\n",
      "WARNING:__main__:29d51ef9-1522-3d4f-4129-be121b4f5cb4\n",
      "WARNING:__main__:2dcdb3ca-de8a-e7af-3ed8-b141585a7be9\n",
      "WARNING:__main__:27da9f44-2595-8cb0-a859-89fa146f60b8\n"
     ]
    },
    {
     "name": "stdout",
     "output_type": "stream",
     "text": [
      "processed chunk 784\n"
     ]
    },
    {
     "name": "stderr",
     "output_type": "stream",
     "text": [
      "WARNING:__main__:0506e593-e905-1c59-8da4-61bd05ed11f3\n"
     ]
    },
    {
     "name": "stdout",
     "output_type": "stream",
     "text": [
      "processed chunk 785\n"
     ]
    },
    {
     "name": "stderr",
     "output_type": "stream",
     "text": [
      "WARNING:__main__:e97a2aca-a1dc-0e7f-5eef-ec13bd6a8852\n",
      "WARNING:__main__:6133020a-2fe6-0446-c487-ad9090adfc31\n",
      "WARNING:__main__:9e80df9b-ed5f-65a4-84fa-db7087a73de0\n",
      "WARNING:__main__:a5dac2c3-a376-61ac-71b9-1cfa56f15687\n",
      "WARNING:__main__:879bcb1a-5610-2184-bb7b-81c28611ab6e\n",
      "WARNING:__main__:2b95de75-0864-d7a1-b437-be15b400e6e8\n",
      "WARNING:__main__:cb3578c0-769e-449c-6687-7936802662fc\n",
      "WARNING:__main__:b986dcb6-9adf-c8f0-56c4-da5b18ff37e1\n",
      "WARNING:__main__:317ed124-62d6-1f09-e647-13cdec5e6178\n",
      "WARNING:__main__:90808f7d-d75d-b023-3f1b-caf895ceb906\n",
      "WARNING:__main__:f7b57caa-8a9b-78c8-fbce-77ca20d93995\n",
      "WARNING:__main__:e0400829-a6ac-278d-55dc-1b62a7302cdd\n",
      "WARNING:__main__:ea7bbd90-9987-58f8-c580-fe4e4cbe7f3e\n",
      "WARNING:__main__:2d4a5dbb-83cb-e2b0-eb17-fb35044d5f73\n",
      "WARNING:__main__:ecaeea47-b2d3-d5eb-9061-77edbbbc26ee\n",
      "WARNING:__main__:49c0702a-b0d2-f510-72a2-dc24b273d89f\n",
      "WARNING:__main__:04ebd6d9-8cd3-8d98-c54b-a970c2ba3e38\n",
      "WARNING:__main__:7a7c2d95-4f98-5cab-5439-0ce2c29d9f86\n",
      "WARNING:__main__:b5d3a574-bbc8-aa45-4b8d-554d6e8ffba4\n",
      "WARNING:__main__:b0c2fb5b-c8af-0962-3b8d-43d07a7e33ca\n"
     ]
    },
    {
     "name": "stdout",
     "output_type": "stream",
     "text": [
      "processed chunk 786\n"
     ]
    },
    {
     "name": "stderr",
     "output_type": "stream",
     "text": [
      "WARNING:__main__:a0b61763-1944-475a-df1c-0fb0dd5b9f54\n",
      "WARNING:__main__:fc412ef5-7511-24a6-8cf7-c440524acadd\n",
      "WARNING:__main__:b3234395-c0cc-3314-f9c9-0cc1594835ce\n",
      "WARNING:__main__:3fe3b5de-9bce-8f61-daa5-a9597da5affd\n",
      "WARNING:__main__:34baa869-ad45-0a70-5512-e968f838d23e\n",
      "WARNING:__main__:2fe125ce-d6dc-7b8e-aa34-3be31e99e673\n",
      "WARNING:__main__:ac8aefe8-e1f6-6169-e226-94cc018d6171\n",
      "WARNING:__main__:caea258d-b85a-790e-131b-c6cf5747dd98\n",
      "WARNING:__main__:4e4e6a20-3917-12ef-1090-c741df44fc78\n",
      "WARNING:__main__:0f73f30f-ec3c-4441-7618-ae20e3e94b75\n"
     ]
    },
    {
     "name": "stdout",
     "output_type": "stream",
     "text": [
      "processed chunk 787\n"
     ]
    },
    {
     "name": "stderr",
     "output_type": "stream",
     "text": [
      "WARNING:__main__:2b3fb932-6c90-84ef-e7f1-a4b5a710fa7b\n",
      "WARNING:__main__:a8fac528-b865-3d7f-0cc4-b876da851165\n",
      "WARNING:__main__:f0ad3d6c-ede4-fe7a-1538-0f499807a379\n",
      "WARNING:__main__:9ddab77b-96a1-e533-659c-3724776fe788\n",
      "WARNING:__main__:07f79183-9e98-caf4-7b63-a901a157292b\n",
      "WARNING:__main__:7f4f5048-b31f-fbe7-7463-5099a8f212e0\n",
      "WARNING:__main__:a805710f-ccb6-6cf4-fa5d-e32a3707575b\n",
      "WARNING:__main__:1d018eaa-3d2d-c60d-e221-86327ef37d8e\n",
      "WARNING:__main__:ee0f5672-93b8-0433-2881-9187e1af0174\n",
      "WARNING:__main__:1b0e8281-d2a2-79e6-f65e-435a4e95314e\n",
      "WARNING:__main__:937cafe5-5104-9c26-d94a-8d50daec1fca\n",
      "WARNING:__main__:f3458da5-2aeb-1a91-4aab-2b0cd77996ca\n",
      "WARNING:__main__:6d6f111b-a5f6-b9c7-ae38-2bdf0de4c6ed\n",
      "WARNING:__main__:91ce9ced-40e4-505e-acc2-895609d4fbe9\n",
      "WARNING:__main__:21935102-3291-9b8a-6ffe-43cb008d6a47\n",
      "WARNING:__main__:d415aa05-349b-8f06-5067-bacf7c54913c\n",
      "WARNING:__main__:5b2f1958-11ac-ad8e-cd28-0de1c79f2b03\n",
      "WARNING:__main__:67e6ad70-17cd-7558-3640-706975e42a90\n"
     ]
    },
    {
     "name": "stdout",
     "output_type": "stream",
     "text": [
      "processed chunk 788\n",
      "processed chunk 789\n"
     ]
    },
    {
     "name": "stderr",
     "output_type": "stream",
     "text": [
      "WARNING:__main__:de6db59d-2397-011a-3b77-eece3c24f262\n",
      "WARNING:__main__:ff7f2e85-d063-5fd3-7278-33428e48eb23\n",
      "WARNING:__main__:1997e572-23ad-6ffa-68fe-5e269ed33d23\n",
      "WARNING:__main__:36baa273-693c-7c6e-7593-c0210d8b49a4\n",
      "WARNING:__main__:d832eddc-b8b4-7591-ed89-1aa0319483ee\n",
      "WARNING:__main__:79a581ef-0974-c5cd-1dfd-6a4e558902a7\n",
      "WARNING:__main__:617ec671-6e5d-706b-4974-b511006a8d3f\n",
      "WARNING:__main__:654a8c4d-6a24-464f-0516-2e2510b33a5a\n",
      "WARNING:__main__:66ed617a-0bb4-3b22-9fcf-bd1827dac065\n",
      "WARNING:__main__:38847ac6-5dca-f2ac-636a-a6de870ed6e1\n"
     ]
    },
    {
     "name": "stdout",
     "output_type": "stream",
     "text": [
      "processed chunk 790\n"
     ]
    },
    {
     "name": "stderr",
     "output_type": "stream",
     "text": [
      "WARNING:__main__:623ce9a1-f3a4-8875-a729-3ce38a352f8d\n",
      "WARNING:__main__:019fe5f2-b1fb-0d06-decc-7037f8fc50be\n",
      "WARNING:__main__:5439b4e8-89db-db10-38af-ec7853b4cf39\n",
      "WARNING:__main__:b4faa1de-64b5-d7b6-9d16-d950b6a482af\n"
     ]
    },
    {
     "name": "stdout",
     "output_type": "stream",
     "text": [
      "processed chunk 791\n"
     ]
    },
    {
     "name": "stderr",
     "output_type": "stream",
     "text": [
      "WARNING:__main__:8b3443cb-5b7a-6e4a-afef-fd5939b7b0d6\n"
     ]
    },
    {
     "name": "stdout",
     "output_type": "stream",
     "text": [
      "processed chunk 792\n"
     ]
    },
    {
     "name": "stderr",
     "output_type": "stream",
     "text": [
      "WARNING:__main__:9b32ea4e-586b-c9e5-9d42-3dce88ca5f96\n",
      "WARNING:__main__:13f59a78-6935-6b06-f22e-12ff980c2587\n",
      "WARNING:__main__:5314e3a9-a4a2-997f-d22d-466ae744a9bd\n",
      "WARNING:__main__:2724dcb3-9baa-0fb0-1255-7a7e622a3f52\n"
     ]
    },
    {
     "name": "stdout",
     "output_type": "stream",
     "text": [
      "processed chunk 793\n"
     ]
    },
    {
     "name": "stderr",
     "output_type": "stream",
     "text": [
      "WARNING:__main__:ded6f27f-4817-9835-ec60-8edb6721c58c\n",
      "WARNING:__main__:8deb8216-05ed-8923-8290-5bbaf8642785\n",
      "WARNING:__main__:c6e41d34-e623-d30f-38e1-0b5cf4461826\n"
     ]
    },
    {
     "name": "stdout",
     "output_type": "stream",
     "text": [
      "processed chunk 794\n"
     ]
    },
    {
     "name": "stderr",
     "output_type": "stream",
     "text": [
      "WARNING:__main__:e64bbb43-74af-744d-d287-3070633816f6\n",
      "WARNING:__main__:c043f3e9-751e-17e1-9387-3221632eaef9\n",
      "WARNING:__main__:3c093e0c-4a18-5ec7-812a-5e7b5c8766c3\n",
      "WARNING:__main__:db3d2185-5764-cdc7-293b-e4ccba088457\n"
     ]
    },
    {
     "name": "stdout",
     "output_type": "stream",
     "text": [
      "processed chunk 795\n",
      "processed chunk 796\n",
      "processed chunk 797\n"
     ]
    },
    {
     "name": "stderr",
     "output_type": "stream",
     "text": [
      "WARNING:__main__:e02d75b7-8b86-f141-e9b7-9522c6531743\n",
      "WARNING:__main__:b2227579-d5c6-dc64-71f3-e975c76d0e9d\n",
      "WARNING:__main__:dc6bf155-df1e-f281-0c68-8dc5455644b8\n",
      "WARNING:__main__:c9bd51c7-99ff-80e6-9179-f74d9d8d7033\n",
      "WARNING:__main__:80678970-fbfb-43ab-6fa7-19b11381343a\n",
      "WARNING:__main__:d8eaadc1-5eff-af9e-67dd-9e28b480d05f\n",
      "WARNING:__main__:01e94254-d53a-bb69-62de-78a97d2f478b\n",
      "WARNING:__main__:51780db1-4798-0285-420e-0d9be5616706\n",
      "WARNING:__main__:0cb750fe-3c10-de94-2731-8919d27ee850\n",
      "WARNING:__main__:067cb3cc-0d7a-5906-e24b-2f919b7fe264\n"
     ]
    },
    {
     "name": "stdout",
     "output_type": "stream",
     "text": [
      "processed chunk 798\n"
     ]
    },
    {
     "name": "stderr",
     "output_type": "stream",
     "text": [
      "WARNING:__main__:1efa3514-61dd-344c-5360-50b005e0c9d6\n",
      "WARNING:__main__:18ed78e0-df45-62b0-e837-75e2d1b59a87\n",
      "WARNING:__main__:621c578b-ae3a-6193-c2c5-d61efe36db92\n",
      "WARNING:__main__:d8fd28d2-e133-0069-e0f0-510c7101dbad\n",
      "WARNING:__main__:e5ce7c79-d2ec-2eeb-3454-48a4455d1835\n",
      "WARNING:__main__:322a3e62-c927-6ada-1421-b6702871bf7e\n",
      "WARNING:__main__:0bd439d9-eaf3-10ee-7b59-97f5a7c795b1\n",
      "WARNING:__main__:3ac111f8-338e-04b0-9572-5eb40ac95483\n",
      "WARNING:__main__:07d26bce-9ba0-6b84-cb59-1bdca1e61c23\n",
      "WARNING:__main__:afed62d9-6a8d-cf98-00f4-bedc42573365\n",
      "WARNING:__main__:a81a428d-4f1c-c6ed-7a43-6da6a9b91491\n",
      "WARNING:__main__:c4069f5a-fd13-15fd-1afa-767fa935f91a\n",
      "WARNING:__main__:70884da9-12e4-3b9c-3608-766eed0548b8\n",
      "WARNING:__main__:8951f19b-dc63-815a-40b0-6a298e330d32\n",
      "WARNING:__main__:bcf16bd4-dda5-f6de-3ced-fc22b6aa2f9c\n",
      "WARNING:__main__:6404cfb1-fb32-3435-28ab-79d2b6b5bfb9\n",
      "WARNING:__main__:594dce31-3a2e-eeee-5df5-a5c52ea941f9\n",
      "WARNING:__main__:f52c2c23-7a0b-cb02-6c3f-216c621ef6ef\n"
     ]
    },
    {
     "name": "stdout",
     "output_type": "stream",
     "text": [
      "processed chunk 799\n"
     ]
    },
    {
     "name": "stderr",
     "output_type": "stream",
     "text": [
      "WARNING:__main__:5d34eb0d-0128-e909-c451-dd2e043039b1\n",
      "WARNING:__main__:1e2ad508-1096-aec8-09ad-06e244a2180e\n",
      "WARNING:__main__:2e50a4ed-1476-c3de-7b73-934a500c130e\n",
      "WARNING:__main__:72bdaa03-a802-c67b-4cc9-142d88edd92f\n",
      "WARNING:__main__:de120231-64d4-3cd1-7f54-e15aaee5b7ee\n",
      "WARNING:__main__:76b77492-6651-7e53-362b-727bff292213\n",
      "WARNING:__main__:9a0af124-5c84-eaae-86c7-b6265660bd87\n"
     ]
    },
    {
     "name": "stdout",
     "output_type": "stream",
     "text": [
      "processed chunk 800\n"
     ]
    },
    {
     "name": "stderr",
     "output_type": "stream",
     "text": [
      "WARNING:__main__:c780dbcc-1125-44bd-dc96-bc97973e5401\n"
     ]
    },
    {
     "name": "stdout",
     "output_type": "stream",
     "text": [
      "processed chunk 801\n"
     ]
    },
    {
     "name": "stderr",
     "output_type": "stream",
     "text": [
      "WARNING:__main__:def9d835-7e01-a627-5114-87bebbac27d3\n",
      "WARNING:__main__:43e8d215-5e1b-38d5-cb2c-edba97940ac6\n",
      "WARNING:__main__:a46663a4-0cfe-fd10-0b54-3b4f61b46c39\n",
      "WARNING:__main__:21631264-7b9d-470a-cde6-87ba7b55c9d2\n"
     ]
    },
    {
     "name": "stdout",
     "output_type": "stream",
     "text": [
      "processed chunk 802\n"
     ]
    },
    {
     "name": "stderr",
     "output_type": "stream",
     "text": [
      "WARNING:__main__:4fc625c3-0a2c-55fe-c79b-e878f7cacc70\n",
      "WARNING:__main__:4dfdf451-9ffd-1a2c-2b4c-dacdeeaeb6f9\n",
      "WARNING:__main__:0976cc66-dcc5-f684-a34d-7919c52dc1fc\n",
      "WARNING:__main__:81d21bf2-5e59-6fe8-26b4-e02233f9753d\n",
      "WARNING:__main__:2d583063-0707-f5f8-4f5b-bc1e31be4c08\n",
      "WARNING:__main__:ad503c23-0364-210e-d11d-690f9c27e416\n"
     ]
    },
    {
     "name": "stdout",
     "output_type": "stream",
     "text": [
      "processed chunk 803\n"
     ]
    },
    {
     "name": "stderr",
     "output_type": "stream",
     "text": [
      "WARNING:__main__:7d4c74d6-a80a-221a-b1d9-70bb392d06b5\n",
      "WARNING:__main__:bafa5709-6911-2954-8fa4-fb5447e6ba9e\n",
      "WARNING:__main__:310d87cb-972d-0517-9f26-cec948e3b056\n",
      "WARNING:__main__:0c00c124-8de6-fa1b-cd86-0327fe7ddb1f\n",
      "WARNING:__main__:39399b73-3587-6941-98ee-9575ffa82043\n",
      "WARNING:__main__:9cc84ef2-318b-47e1-eb5f-7bf4924d7737\n"
     ]
    },
    {
     "name": "stdout",
     "output_type": "stream",
     "text": [
      "processed chunk 804\n"
     ]
    },
    {
     "name": "stderr",
     "output_type": "stream",
     "text": [
      "WARNING:__main__:b59df6f8-5397-3501-e404-ea1a120ab9e4\n"
     ]
    },
    {
     "name": "stdout",
     "output_type": "stream",
     "text": [
      "processed chunk 805\n"
     ]
    },
    {
     "name": "stderr",
     "output_type": "stream",
     "text": [
      "WARNING:__main__:568b5f33-a8cf-3888-7b62-bdb722700ba1\n",
      "WARNING:__main__:92efacff-059c-ce96-02b4-422f164fc4b0\n"
     ]
    },
    {
     "name": "stdout",
     "output_type": "stream",
     "text": [
      "processed chunk 806\n"
     ]
    },
    {
     "name": "stderr",
     "output_type": "stream",
     "text": [
      "WARNING:__main__:8fb3cbaa-22e9-8e16-823d-681eeb8e2561\n",
      "WARNING:__main__:f2f67325-4809-bc58-c218-0a4f943625b8\n",
      "WARNING:__main__:2c712598-5139-95ce-7a48-8f06b2f99d9c\n",
      "WARNING:__main__:6760e9f1-87b4-9a72-4dbc-63e52c4e73d4\n",
      "WARNING:__main__:98a808c3-3e0e-65ba-6901-cf41625a1149\n",
      "WARNING:__main__:e3b71b78-4062-d1d3-913d-d88e0a30a48d\n",
      "WARNING:__main__:7d562a74-15fc-8a0a-b702-41e5a978bab9\n",
      "WARNING:__main__:c87b97c1-d1de-2b11-c711-0045777baafd\n",
      "WARNING:__main__:d0ac08da-a4ad-53e6-c8bc-c6adcc25166e\n",
      "WARNING:__main__:6c2f4544-ea58-c193-7a42-f496e0876e69\n",
      "WARNING:__main__:56f47d9f-d3bc-0866-4ec0-36377e25590b\n"
     ]
    },
    {
     "name": "stdout",
     "output_type": "stream",
     "text": [
      "processed chunk 807\n"
     ]
    },
    {
     "name": "stderr",
     "output_type": "stream",
     "text": [
      "WARNING:__main__:86c9d61d-b2e3-329d-bd81-46132497e0d0\n",
      "WARNING:__main__:bf1ce4b8-040a-d31b-dc4b-a204f563ee45\n",
      "WARNING:__main__:898a669c-6ba6-2f88-1b5c-c4abd8a61773\n",
      "WARNING:__main__:633de97b-8be0-d5ed-0569-0b30e23d7a80\n",
      "WARNING:__main__:fba9c268-93c1-609b-aab0-444fb058ce00\n"
     ]
    },
    {
     "name": "stdout",
     "output_type": "stream",
     "text": [
      "processed chunk 808\n",
      "processed chunk 809\n"
     ]
    },
    {
     "name": "stderr",
     "output_type": "stream",
     "text": [
      "WARNING:__main__:03e4ef0d-996e-577e-87b5-7da8f2ddd312\n",
      "WARNING:__main__:9bcebf8b-7655-01db-2b47-e4e9d219b402\n",
      "WARNING:__main__:89adc0eb-d867-16dc-6dc2-99d2dcb06e91\n",
      "WARNING:__main__:2648bdf3-c2f5-0f5f-f7ba-c7fcc235a365\n",
      "WARNING:__main__:65dffc1e-d513-2120-5385-714822baacf0\n",
      "WARNING:__main__:931b5a8c-ed8e-9c5a-4aca-4bd20dd823d1\n",
      "WARNING:__main__:4f5ac721-bda6-59d6-ea67-e381e5c0d492\n",
      "WARNING:__main__:4b429b27-0cf9-4816-08e9-222eee5f4b7f\n",
      "WARNING:__main__:52527ee6-ec1a-e253-ebf5-7c1ebf04bcf5\n",
      "WARNING:__main__:200864b2-9e2f-1c75-d972-0e761c0811d3\n"
     ]
    },
    {
     "name": "stdout",
     "output_type": "stream",
     "text": [
      "processed chunk 810\n",
      "processed chunk 811\n"
     ]
    },
    {
     "name": "stderr",
     "output_type": "stream",
     "text": [
      "WARNING:__main__:a16b701a-1e9a-821a-9bcf-cb0f49bfb267\n",
      "WARNING:__main__:e5b5b943-0849-8e3c-d309-8ca133fdc3b4\n",
      "WARNING:__main__:5fca20ab-8a69-ea44-91fe-6dca2c397754\n",
      "WARNING:__main__:dd50dae9-0bcd-28c8-3179-1186054cbb34\n",
      "WARNING:__main__:3773d061-7719-60bb-b09f-b7a712297d70\n"
     ]
    },
    {
     "name": "stdout",
     "output_type": "stream",
     "text": [
      "processed chunk 812\n"
     ]
    },
    {
     "name": "stderr",
     "output_type": "stream",
     "text": [
      "WARNING:__main__:ecdd8048-c178-b636-ce5b-24e4f0919d30\n",
      "WARNING:__main__:3b2019ac-4f3a-7136-19f4-296871b31bac\n",
      "WARNING:__main__:29294c94-ea9a-ea90-1d93-ff97a544f9f8\n",
      "WARNING:__main__:eeda8c80-df84-096d-8f80-cc8ec0bea714\n",
      "WARNING:__main__:b214e5ba-8bc7-1be5-6939-6dd8a840b148\n",
      "WARNING:__main__:cbc15584-2dbd-1fc7-6264-9bb3651c19a9\n"
     ]
    },
    {
     "name": "stdout",
     "output_type": "stream",
     "text": [
      "processed chunk 813\n",
      "processed chunk 814\n"
     ]
    },
    {
     "name": "stderr",
     "output_type": "stream",
     "text": [
      "WARNING:__main__:5599df7a-00ea-dd4e-856a-21b4a7fcc8b1\n",
      "WARNING:__main__:d357acbd-a2f5-e548-bc81-90e80ec37ee0\n",
      "WARNING:__main__:b18c3b4a-3039-1c7d-473d-1a17b22da4ff\n",
      "WARNING:__main__:71f4e77a-b50d-9cea-2f14-e633926b8a95\n",
      "WARNING:__main__:f454357d-0820-96ac-fbc0-ca58d8e08466\n",
      "WARNING:__main__:24562b5b-3cf8-3c1a-7a94-2126f9c156fa\n",
      "WARNING:__main__:0775946f-c71a-80aa-494e-663049f008c8\n",
      "WARNING:__main__:f9047b61-68c5-75c9-5d51-fa42d8868f8e\n",
      "WARNING:__main__:328db41d-9444-60aa-8bb5-d4fbd483d425\n"
     ]
    },
    {
     "name": "stdout",
     "output_type": "stream",
     "text": [
      "processed chunk 815\n"
     ]
    },
    {
     "name": "stderr",
     "output_type": "stream",
     "text": [
      "WARNING:__main__:cbacb6b9-766b-383a-5638-a74e65dd27cc\n",
      "WARNING:__main__:8eb24fff-d15e-9007-58d3-45dcfa459a54\n",
      "WARNING:__main__:01603a33-e3f4-6696-3231-dd248d406a48\n",
      "WARNING:__main__:1b6ce8cf-9bf8-fece-916f-a6b3dce91705\n",
      "WARNING:__main__:a420285d-288e-88f1-1f5a-2416fe109c7f\n",
      "WARNING:__main__:88ce4e4c-59f4-1fdf-ce58-7317276955d0\n"
     ]
    },
    {
     "name": "stdout",
     "output_type": "stream",
     "text": [
      "processed chunk 816\n",
      "processed chunk 817\n",
      "processed chunk 818\n"
     ]
    },
    {
     "name": "stderr",
     "output_type": "stream",
     "text": [
      "WARNING:__main__:32fd65ca-9cb5-2425-3670-bbe883645f51\n",
      "WARNING:__main__:c0d44ce5-4555-8c41-0b0f-217d1fedb99f\n",
      "WARNING:__main__:63296d1b-27ac-bc8a-8a3e-f7f85aa308b8\n",
      "WARNING:__main__:160c1287-02eb-bdaa-171b-b6e8b32cc139\n",
      "WARNING:__main__:19bdb797-0087-d8f4-3273-938027b1e725\n",
      "WARNING:__main__:603874e9-d1cc-2d2d-7242-f036899fb784\n",
      "WARNING:__main__:37c88989-7d8f-b693-43d1-00865f6a91ee\n",
      "WARNING:__main__:95abba8f-f06a-2fac-d3c0-5dbf61647766\n"
     ]
    },
    {
     "name": "stdout",
     "output_type": "stream",
     "text": [
      "processed chunk 819\n"
     ]
    },
    {
     "name": "stderr",
     "output_type": "stream",
     "text": [
      "WARNING:__main__:21a0fb57-fea4-90aa-869d-6647dc29738f\n",
      "WARNING:__main__:843c2043-6765-fcba-d197-3d42569aa84b\n"
     ]
    },
    {
     "name": "stdout",
     "output_type": "stream",
     "text": [
      "processed chunk 820\n"
     ]
    },
    {
     "name": "stderr",
     "output_type": "stream",
     "text": [
      "WARNING:__main__:0bfa56d6-9664-1763-859b-4cd0a8071af7\n",
      "WARNING:__main__:2dd9f4f7-31af-afc7-6c3e-9531ef96b5ce\n",
      "WARNING:__main__:576f5f8e-08fb-b8a9-b850-88040d95e8c6\n",
      "WARNING:__main__:a4e34ade-f7b3-42ee-4d57-19a237b11231\n"
     ]
    },
    {
     "name": "stdout",
     "output_type": "stream",
     "text": [
      "processed chunk 821\n",
      "processed chunk 822\n"
     ]
    },
    {
     "name": "stderr",
     "output_type": "stream",
     "text": [
      "WARNING:__main__:d4c9017f-2222-8227-7654-0a7b62fd4533\n"
     ]
    },
    {
     "name": "stdout",
     "output_type": "stream",
     "text": [
      "processed chunk 823\n"
     ]
    },
    {
     "name": "stderr",
     "output_type": "stream",
     "text": [
      "WARNING:__main__:2c0f2176-42bc-42a3-b29d-7ea2b5a12814\n",
      "WARNING:__main__:54a30c6c-ca94-313c-145f-966c8c314e7b\n",
      "WARNING:__main__:9a1cb5a0-e944-6f07-aa0a-e9f262a3d82c\n"
     ]
    },
    {
     "name": "stdout",
     "output_type": "stream",
     "text": [
      "processed chunk 824\n",
      "processed chunk 825\n",
      "processed chunk 826\n"
     ]
    },
    {
     "name": "stderr",
     "output_type": "stream",
     "text": [
      "WARNING:__main__:9c24e514-e95d-6685-dcae-3f3f8aa5f6f3\n",
      "WARNING:__main__:a9c39790-a233-f24c-c870-bba4949ab3ec\n"
     ]
    },
    {
     "name": "stdout",
     "output_type": "stream",
     "text": [
      "processed chunk 827\n",
      "processed chunk 828\n",
      "processed chunk 829\n"
     ]
    },
    {
     "name": "stderr",
     "output_type": "stream",
     "text": [
      "WARNING:__main__:5a88aca9-121c-45ff-3617-204a06a386d7\n"
     ]
    },
    {
     "name": "stdout",
     "output_type": "stream",
     "text": [
      "processed chunk 830\n"
     ]
    },
    {
     "name": "stderr",
     "output_type": "stream",
     "text": [
      "WARNING:__main__:de5b9c06-4990-f1bb-8228-fd826115beaf\n",
      "WARNING:__main__:7d2c1e6d-dc2e-9672-e120-5c59905a58e9\n",
      "WARNING:__main__:23020517-dc39-f90f-e140-7eea1f6aefa5\n"
     ]
    },
    {
     "name": "stdout",
     "output_type": "stream",
     "text": [
      "processed chunk 831\n"
     ]
    },
    {
     "name": "stderr",
     "output_type": "stream",
     "text": [
      "WARNING:__main__:c9137392-9458-2d17-42fe-f0bdb27220be\n"
     ]
    },
    {
     "name": "stdout",
     "output_type": "stream",
     "text": [
      "processed chunk 832\n",
      "processed chunk 833\n"
     ]
    },
    {
     "name": "stderr",
     "output_type": "stream",
     "text": [
      "WARNING:__main__:c4c0e286-5f59-3173-a519-5a3238f03990\n",
      "WARNING:__main__:2cdd3ad8-e7be-63f4-b174-f60d95f519af\n",
      "WARNING:__main__:b5be74f7-6276-42f3-7984-fc02a23cefc3\n",
      "WARNING:__main__:61742f4e-94e2-c751-e128-af0b1fbf0316\n"
     ]
    },
    {
     "name": "stdout",
     "output_type": "stream",
     "text": [
      "processed chunk 834\n"
     ]
    },
    {
     "name": "stderr",
     "output_type": "stream",
     "text": [
      "WARNING:__main__:fbde2c6a-82ca-ce95-6550-48a001e39b03\n",
      "WARNING:__main__:b0804613-63bb-8523-035e-96ddb7266412\n",
      "WARNING:__main__:bcc95e6e-965e-62da-188b-fc02a6459054\n",
      "WARNING:__main__:dce314ae-68ac-bcf9-4dfb-3bb8da59729d\n"
     ]
    },
    {
     "name": "stdout",
     "output_type": "stream",
     "text": [
      "processed chunk 835\n"
     ]
    },
    {
     "name": "stderr",
     "output_type": "stream",
     "text": [
      "WARNING:__main__:142bc39a-508a-1e62-42da-8ace3c4d3eb4\n"
     ]
    },
    {
     "name": "stdout",
     "output_type": "stream",
     "text": [
      "processed chunk 836\n"
     ]
    },
    {
     "name": "stderr",
     "output_type": "stream",
     "text": [
      "WARNING:__main__:97e7d52d-e54b-1459-9fb6-0d169b623cb1\n"
     ]
    },
    {
     "name": "stdout",
     "output_type": "stream",
     "text": [
      "processed chunk 837\n"
     ]
    },
    {
     "name": "stderr",
     "output_type": "stream",
     "text": [
      "WARNING:__main__:bc77f5b5-ed48-3c65-faf5-85bee3bb616e\n",
      "WARNING:__main__:5555fd22-ec21-cd61-513a-deda3ed603d3\n"
     ]
    },
    {
     "name": "stdout",
     "output_type": "stream",
     "text": [
      "processed chunk 838\n",
      "processed chunk 839\n"
     ]
    },
    {
     "name": "stderr",
     "output_type": "stream",
     "text": [
      "WARNING:__main__:f7a9cb72-4763-5872-01d0-f8287e98deca\n",
      "WARNING:__main__:4914e892-5287-581d-0e2c-a1b31aad7a2b\n",
      "WARNING:__main__:7aafb4b7-5fbd-40a8-c9a7-850f0ecd646b\n",
      "WARNING:__main__:aef25d09-6bf6-043f-71d1-988a39b4c008\n",
      "WARNING:__main__:f5f534e5-b959-bff1-d460-ea46d92431af\n",
      "WARNING:__main__:8fe2bbab-6c42-f4d2-0b9c-44e214655858\n",
      "WARNING:__main__:d0ddad5c-66a9-303b-f2a1-e26fbf5bae05\n",
      "WARNING:__main__:ad0d97cd-f9db-9889-3aa8-e2aa4deb8f24\n",
      "WARNING:__main__:f735c581-26d3-6f87-a66c-ebcefa80226f\n",
      "WARNING:__main__:1d5b0629-f51c-3456-ad3a-e7158905e05e\n",
      "WARNING:__main__:fade7bf5-6b52-514a-3563-effeef6cf3d2\n",
      "WARNING:__main__:b9f105a9-8d06-5db7-42a6-f5a9dd9939f6\n",
      "WARNING:__main__:f4570f86-d328-05c5-98e0-bc618f5cd39d\n",
      "WARNING:__main__:6731fff1-2d1e-a47c-7d18-00d5a5c67095\n"
     ]
    },
    {
     "name": "stdout",
     "output_type": "stream",
     "text": [
      "processed chunk 840\n"
     ]
    },
    {
     "name": "stderr",
     "output_type": "stream",
     "text": [
      "WARNING:__main__:b45257d2-44d0-52f8-4f6b-507fa829dbe3\n"
     ]
    },
    {
     "name": "stdout",
     "output_type": "stream",
     "text": [
      "processed chunk 841\n"
     ]
    },
    {
     "name": "stderr",
     "output_type": "stream",
     "text": [
      "WARNING:__main__:9981fa9a-8499-6dd8-ec40-44864b1dc87f\n"
     ]
    },
    {
     "name": "stdout",
     "output_type": "stream",
     "text": [
      "processed chunk 842\n"
     ]
    },
    {
     "name": "stderr",
     "output_type": "stream",
     "text": [
      "WARNING:__main__:0a6c2361-7f04-b3ae-85a4-24585a7c0c90\n"
     ]
    },
    {
     "name": "stdout",
     "output_type": "stream",
     "text": [
      "processed chunk 843\n"
     ]
    },
    {
     "name": "stderr",
     "output_type": "stream",
     "text": [
      "WARNING:__main__:c38881ae-0b03-2a7d-b471-8c6ad04c7e30\n"
     ]
    },
    {
     "name": "stdout",
     "output_type": "stream",
     "text": [
      "processed chunk 844\n",
      "processed chunk 845\n"
     ]
    },
    {
     "name": "stderr",
     "output_type": "stream",
     "text": [
      "WARNING:__main__:0216db9a-2ea7-c409-71ff-ddcd6b5822fa\n",
      "WARNING:__main__:e211d9ac-56df-9448-fe9b-4e47cdb9ed35\n",
      "WARNING:__main__:ac61e44e-2e72-8a88-ea18-ff65943321e5\n",
      "WARNING:__main__:88323654-10b3-15ef-ff32-cc1d73511faf\n",
      "WARNING:__main__:5545974d-90cf-7783-4c70-df29086ada7c\n",
      "WARNING:__main__:0f9d2bde-61fc-e6db-2103-629139b6bff7\n",
      "WARNING:__main__:fa22d251-233f-9f33-433a-48ed058589fe\n",
      "WARNING:__main__:1723ef1b-c3a9-05d4-a8a5-12e7c2d96fad\n"
     ]
    },
    {
     "name": "stdout",
     "output_type": "stream",
     "text": [
      "processed chunk 846\n"
     ]
    },
    {
     "name": "stderr",
     "output_type": "stream",
     "text": [
      "WARNING:__main__:245eb989-1528-26ad-3042-314fac53229e\n",
      "WARNING:__main__:3281e4a2-f639-5cdc-8757-9489ee0ac694\n",
      "WARNING:__main__:45a208fb-ad5a-a870-0199-3694b0dfca13\n",
      "WARNING:__main__:9c31255f-60ce-0569-956d-17f1a5cd9cd0\n",
      "WARNING:__main__:1fb02642-1498-ebf5-23a9-80105a81a138\n",
      "WARNING:__main__:5b329c8d-bc67-869a-7bb5-5037bcdd299b\n",
      "WARNING:__main__:6237ae9a-3f79-d31f-342a-55cd111df80f\n",
      "WARNING:__main__:57f844ed-b653-0e0a-83d0-1a58a0007a4c\n",
      "WARNING:__main__:82c1ee2d-e3fb-c47e-26db-52f87aa13ca8\n",
      "WARNING:__main__:74fa26d5-fe3d-b8b5-12de-09d70ab2d83b\n",
      "WARNING:__main__:63e18732-0ed7-2512-d8ed-4db26f9036f2\n",
      "WARNING:__main__:4986ec76-4420-9a93-62f5-e5683eac6ad2\n",
      "WARNING:__main__:0fa52061-615a-f422-dc60-702de24e53da\n",
      "WARNING:__main__:2bef3381-b458-4f6a-bd11-6939299ca730\n",
      "WARNING:__main__:7813bb51-6534-7e5f-11f0-03398908f6f5\n"
     ]
    },
    {
     "name": "stdout",
     "output_type": "stream",
     "text": [
      "processed chunk 847\n",
      "processed chunk 848\n"
     ]
    },
    {
     "name": "stderr",
     "output_type": "stream",
     "text": [
      "WARNING:__main__:947d914c-ed5a-23fa-354a-493601ffa7cd\n",
      "WARNING:__main__:73fe3aea-b463-5f79-2007-c829e69ff4e1\n",
      "WARNING:__main__:ef9d4bb7-f069-7509-c6b7-cfb73846b27b\n",
      "WARNING:__main__:2a9105b0-cca9-b0da-66fa-72f11ef7c35d\n",
      "WARNING:__main__:42f3b6a0-423b-6766-0a4d-e3613984430e\n",
      "WARNING:__main__:36032f15-ba6c-fc84-c415-efc41498ff2b\n",
      "WARNING:__main__:71fcf207-a9bb-7173-104d-76bfd18c12ff\n",
      "WARNING:__main__:0fcd55b5-74ce-a9be-a61d-765dd5a35be4\n",
      "WARNING:__main__:0dc53929-294b-4a26-3cf2-0fa41f4b9d62\n",
      "WARNING:__main__:bab18fde-b7e3-2b83-302e-76369ab774ca\n",
      "WARNING:__main__:9a5331bb-e473-4c06-ff67-240d33361aad\n"
     ]
    },
    {
     "name": "stdout",
     "output_type": "stream",
     "text": [
      "processed chunk 849\n",
      "processed chunk 850\n"
     ]
    },
    {
     "name": "stderr",
     "output_type": "stream",
     "text": [
      "WARNING:__main__:8d88859b-9ff5-10d2-fcfa-7e30efff9eb8\n"
     ]
    },
    {
     "name": "stdout",
     "output_type": "stream",
     "text": [
      "processed chunk 851\n"
     ]
    },
    {
     "name": "stderr",
     "output_type": "stream",
     "text": [
      "WARNING:__main__:21e7e16a-dffd-c3dc-3561-46a2819daaf7\n"
     ]
    },
    {
     "name": "stdout",
     "output_type": "stream",
     "text": [
      "processed chunk 852\n",
      "processed chunk 853\n",
      "processed chunk 854\n",
      "processed chunk 855\n"
     ]
    },
    {
     "name": "stderr",
     "output_type": "stream",
     "text": [
      "WARNING:__main__:4a13381a-963d-e8df-3640-81b6e29d9cd0\n",
      "WARNING:__main__:f3889e46-5ce6-cf81-4ac0-7b8d81c7c5e1\n"
     ]
    },
    {
     "name": "stdout",
     "output_type": "stream",
     "text": [
      "processed chunk 856\n"
     ]
    },
    {
     "name": "stderr",
     "output_type": "stream",
     "text": [
      "WARNING:__main__:b41c5997-376c-374c-d26d-963279057ab2\n",
      "WARNING:__main__:08200726-14a7-8b70-c33f-cd5d413e5224\n",
      "WARNING:__main__:49ae504b-ac96-17af-52d3-e6f3374ef33c\n",
      "WARNING:__main__:9d9de98c-5baf-e113-3e52-1d5a5af9efcd\n",
      "WARNING:__main__:43caeb2d-20b1-3ea8-c108-79c4759e59ec\n",
      "WARNING:__main__:1bdb80ad-c058-6c54-bc0f-fe92e7651ff4\n",
      "WARNING:__main__:3b125207-bffb-bc5e-d12c-3ee0e1ddb0b6\n",
      "WARNING:__main__:212f8740-8343-a104-ce95-36d9e141e128\n",
      "WARNING:__main__:4a5556e0-f821-9568-a345-8d7edcd115b2\n",
      "WARNING:__main__:a16db75a-449d-5ca7-3e94-2a06f977e053\n",
      "WARNING:__main__:6a1f0a25-d97b-abf7-fe93-65afed8fd5f0\n",
      "WARNING:__main__:bc824c41-bc05-68e4-f4ec-e7f6243e563c\n",
      "WARNING:__main__:be1da89a-97c9-f6fc-bbd4-a819aa5d1363\n",
      "WARNING:__main__:2ca1aef6-e288-5173-53b7-568f4b5b34ba\n",
      "WARNING:__main__:068147df-3a77-f07d-c459-6248b511ce05\n",
      "WARNING:__main__:f32fbf3c-49d4-c56a-6d0e-621df3ac8f11\n",
      "WARNING:__main__:b23c6764-e932-b76a-5cad-834d8e7921cd\n",
      "WARNING:__main__:014cf395-686f-b174-50f1-640b1150538b\n",
      "WARNING:__main__:28a42162-b9b3-d536-1399-23cdffd1100d\n"
     ]
    },
    {
     "name": "stdout",
     "output_type": "stream",
     "text": [
      "processed chunk 857\n"
     ]
    },
    {
     "name": "stderr",
     "output_type": "stream",
     "text": [
      "WARNING:__main__:ef391731-562e-8bcd-aec0-ac44085522f0\n",
      "WARNING:__main__:faf3830d-3037-50ef-d53e-26ae12180c64\n",
      "WARNING:__main__:824745b6-cae6-0142-c81e-a2cf54921fd0\n",
      "WARNING:__main__:c046f65f-ceec-0dd9-927f-2a5876b946b7\n",
      "WARNING:__main__:ab0012cd-e9f1-109b-a1c4-d1201db251d0\n",
      "WARNING:__main__:eb84e725-d1ab-f7ad-a42f-98edffe131bc\n",
      "WARNING:__main__:321ec804-3bbc-0396-89c5-cb54dbe7fc85\n",
      "WARNING:__main__:36296234-d8ef-6e4c-5f16-44aa21c02527\n",
      "WARNING:__main__:84273d97-d86f-ecc7-c1eb-63472e55a2c3\n"
     ]
    },
    {
     "name": "stdout",
     "output_type": "stream",
     "text": [
      "processed chunk 858\n"
     ]
    },
    {
     "name": "stderr",
     "output_type": "stream",
     "text": [
      "WARNING:__main__:d22e8583-ff00-1990-c39c-ab2473ec6e26\n",
      "WARNING:__main__:5892ed61-5dda-3e02-1383-14a8ae2bbfa4\n",
      "WARNING:__main__:dff6a4c1-6fd7-45e8-fa7c-5530b19bf81d\n"
     ]
    },
    {
     "name": "stdout",
     "output_type": "stream",
     "text": [
      "processed chunk 859\n"
     ]
    },
    {
     "name": "stderr",
     "output_type": "stream",
     "text": [
      "WARNING:__main__:a7648aa9-2afa-b243-921d-40041c66204b\n"
     ]
    },
    {
     "name": "stdout",
     "output_type": "stream",
     "text": [
      "processed chunk 860\n"
     ]
    },
    {
     "name": "stderr",
     "output_type": "stream",
     "text": [
      "WARNING:__main__:1f395c33-12b8-2007-f239-5a949da7e6f2\n",
      "WARNING:__main__:469d144a-af0a-8235-ccfb-8e2515fd1628\n"
     ]
    },
    {
     "name": "stdout",
     "output_type": "stream",
     "text": [
      "processed chunk 861\n"
     ]
    },
    {
     "name": "stderr",
     "output_type": "stream",
     "text": [
      "WARNING:__main__:ab930f4b-fe5c-9883-d972-fd8b5e82e8c7\n"
     ]
    },
    {
     "name": "stdout",
     "output_type": "stream",
     "text": [
      "processed chunk 862\n"
     ]
    },
    {
     "name": "stderr",
     "output_type": "stream",
     "text": [
      "WARNING:__main__:f9b5f9b3-b4a1-8ffe-a9f7-db4cac4b8419\n",
      "WARNING:__main__:ac92f3ac-7378-b364-019e-93f63ce1dde5\n",
      "WARNING:__main__:f90491ff-502e-8569-fb14-9066c072579f\n",
      "WARNING:__main__:23d18051-e081-24c3-964f-508b2a1f655d\n",
      "WARNING:__main__:131cac24-bd91-19aa-8264-4db8bc949d37\n",
      "WARNING:__main__:6eccdb65-a9b4-e3c7-9b73-8bbcbde861de\n",
      "WARNING:__main__:5b43b841-d26d-4e95-7fa4-4a8e471004df\n",
      "WARNING:__main__:525bc2a5-e19b-b6f0-72bb-c5972d98cda9\n",
      "WARNING:__main__:7976b5a7-023e-eea1-5980-bc20a7300b36\n",
      "WARNING:__main__:6d93f424-ae9d-511b-1bfe-10c5b0600525\n",
      "WARNING:__main__:6ae41403-35c6-52f8-5973-06225e7801f9\n"
     ]
    },
    {
     "name": "stdout",
     "output_type": "stream",
     "text": [
      "processed chunk 863\n"
     ]
    },
    {
     "name": "stderr",
     "output_type": "stream",
     "text": [
      "WARNING:__main__:282d3ff9-699c-2c89-af80-e180e4b09337\n",
      "WARNING:__main__:1504aeda-e3d2-d52d-61d6-5160390f5505\n",
      "WARNING:__main__:31f428fe-23f2-a140-65ba-5e5129a91c6a\n",
      "WARNING:__main__:7c937dc7-f974-dc03-ccfd-d430bdc07513\n",
      "WARNING:__main__:f8120b09-24f6-d3f8-0fa3-1d1571586d7b\n",
      "WARNING:__main__:2b5a00a7-5566-6376-46e9-81ed2511edbb\n",
      "WARNING:__main__:41117bfa-0a74-6e66-4743-bcfe99369800\n",
      "WARNING:__main__:e5106373-9ba6-50d8-b7eb-fa2143a26528\n",
      "WARNING:__main__:2fd88169-8984-46a6-5e68-52aa45ea5d4f\n",
      "WARNING:__main__:616546ea-f4a3-0205-0f85-a14c5ca70075\n",
      "WARNING:__main__:5c2c8b27-27b2-7968-b9aa-a122d0f8a23a\n",
      "WARNING:__main__:cfa98b81-1a9d-7464-d42c-941a909f49ba\n"
     ]
    },
    {
     "name": "stdout",
     "output_type": "stream",
     "text": [
      "processed chunk 864\n",
      "processed chunk 865\n",
      "processed chunk 866\n",
      "processed chunk 867\n"
     ]
    },
    {
     "name": "stderr",
     "output_type": "stream",
     "text": [
      "WARNING:__main__:4172a3ed-2b42-4541-391e-0ba8a68d906b\n",
      "WARNING:__main__:a028e940-4e01-e5e6-e598-054a1ff2a8ea\n",
      "WARNING:__main__:00b8ccb2-a988-03c0-7329-287580b3c6b8\n",
      "WARNING:__main__:23b2728b-3180-4718-b7db-3393769b059d\n",
      "WARNING:__main__:5dcf9d40-fd5c-e559-02a3-3958bfee61b8\n"
     ]
    },
    {
     "name": "stdout",
     "output_type": "stream",
     "text": [
      "processed chunk 868\n"
     ]
    },
    {
     "name": "stderr",
     "output_type": "stream",
     "text": [
      "WARNING:__main__:c5b58858-0e50-3fbe-abdc-05a549cd7a33\n",
      "WARNING:__main__:9d990f5f-5419-8cca-278b-dd435a5b47ab\n",
      "WARNING:__main__:0ce588e1-f04d-e56a-4782-06593c014b94\n",
      "WARNING:__main__:c5cf6d6b-d8ec-368a-94cb-77c4d604ca99\n",
      "WARNING:__main__:bf143220-c08a-3b92-77de-8f5eb6088c62\n",
      "WARNING:__main__:8ac47782-5bfa-1559-1301-9b27733310e2\n",
      "WARNING:__main__:d7193872-2357-4ec0-1470-dd55b14dc11d\n",
      "WARNING:__main__:dd144443-3c1c-19bb-877e-0f4d70081f22\n",
      "WARNING:__main__:88b794e5-ca22-a20e-e37a-fe06c43da188\n"
     ]
    },
    {
     "name": "stdout",
     "output_type": "stream",
     "text": [
      "processed chunk 869\n"
     ]
    },
    {
     "name": "stderr",
     "output_type": "stream",
     "text": [
      "WARNING:__main__:d9bd315b-0280-b3df-c359-4e5075a25319\n",
      "WARNING:__main__:15fe4ee2-7ed9-6f35-42c4-5210cee7c0ef\n",
      "WARNING:__main__:7aad3f19-7d37-1032-2323-1b993f5fa1a0\n",
      "WARNING:__main__:f0998a39-2b60-c791-5a30-8a0bba9bc0c6\n",
      "WARNING:__main__:94fb2d14-140f-8573-1ec7-98aef4bca789\n"
     ]
    },
    {
     "name": "stdout",
     "output_type": "stream",
     "text": [
      "processed chunk 870\n",
      "processed chunk 871\n"
     ]
    },
    {
     "name": "stderr",
     "output_type": "stream",
     "text": [
      "WARNING:__main__:d299b7a9-9201-f0b2-27d1-7d9db040c557\n"
     ]
    },
    {
     "name": "stdout",
     "output_type": "stream",
     "text": [
      "processed chunk 872\n"
     ]
    },
    {
     "name": "stderr",
     "output_type": "stream",
     "text": [
      "WARNING:__main__:a9ba82c1-28f2-125e-e529-2e1c8c576676\n",
      "WARNING:__main__:9dc4bce4-3bbe-a6dc-f4a9-1a0c0fb032db\n",
      "WARNING:__main__:455c78bd-6886-83e9-abba-0c42c8514109\n",
      "WARNING:__main__:7988db6a-2c44-641f-ee23-e9ef0a33c233\n",
      "WARNING:__main__:dfeb710e-c968-1118-12a0-4bb75ea6580b\n",
      "WARNING:__main__:a90f26c9-0e09-8c80-664f-e2f10c85d1be\n",
      "WARNING:__main__:217137d0-9374-1463-37c6-fd83dff4414d\n",
      "WARNING:__main__:60e42f3c-1252-60ca-ebeb-66e79279fcef\n",
      "WARNING:__main__:68fa6f8c-575d-9513-deb6-eecfc3ef81cb\n",
      "WARNING:__main__:45dd51e9-34c9-af65-3058-c60346bfa103\n",
      "WARNING:__main__:ad69086b-f456-e692-dd5c-49867abbe3e9\n"
     ]
    },
    {
     "name": "stdout",
     "output_type": "stream",
     "text": [
      "processed chunk 873\n",
      "processed chunk 874\n"
     ]
    },
    {
     "name": "stderr",
     "output_type": "stream",
     "text": [
      "WARNING:__main__:7910b492-467c-757c-3bd7-b5fae5ccb125\n",
      "WARNING:__main__:45d1069f-6062-1f2f-e2d5-b45fd5d25d8d\n",
      "WARNING:__main__:f077e9e8-4638-81ca-20a6-a0dcff3847d8\n",
      "WARNING:__main__:7b734e9d-5b40-ecb0-061a-964568d2e326\n",
      "WARNING:__main__:e91d169d-ef93-7fb7-f320-798dc395b015\n",
      "WARNING:__main__:62340ef2-18fc-ecbd-4036-6fe566b40504\n",
      "WARNING:__main__:14fa5194-487b-4159-e9c3-532daeebdf76\n",
      "WARNING:__main__:eb89f35c-6da4-a4b8-ef7a-f4f6068409c7\n",
      "WARNING:__main__:1b0bd35d-8c99-c7cc-2ca4-79a2972763f0\n",
      "WARNING:__main__:e542badb-9aa8-497f-958d-5467fd5aacc5\n",
      "WARNING:__main__:db040c57-976a-504b-c5e1-36de159f78f2\n",
      "WARNING:__main__:d5b7ec6f-aa0b-7674-919d-167de771e081\n",
      "WARNING:__main__:9866aff6-7790-f40e-cf92-166eae738be7\n",
      "WARNING:__main__:5d416a89-54f7-b1b8-4b56-6b37bdb0ca79\n",
      "WARNING:__main__:77ac768b-e980-3482-a96d-213255c7c841\n",
      "WARNING:__main__:e7c11217-faa4-f618-7cc0-9ec3b3d0101e\n",
      "WARNING:__main__:ddacc3c8-27f3-987c-282c-ca38eecaea7f\n",
      "WARNING:__main__:9c4c30f0-5a45-c1dc-d6d2-448ea92f299e\n",
      "WARNING:__main__:f42b8d7c-9160-f9e3-d6c0-ad2db375ccdd\n",
      "WARNING:__main__:1476c669-b612-993b-d624-32f2a24d2d6a\n",
      "WARNING:__main__:c312d3e3-67a1-6ce3-caa3-fece7a023190\n"
     ]
    },
    {
     "name": "stdout",
     "output_type": "stream",
     "text": [
      "processed chunk 875\n",
      "processed chunk 876\n",
      "processed chunk 877\n"
     ]
    },
    {
     "name": "stderr",
     "output_type": "stream",
     "text": [
      "WARNING:__main__:1b191bf1-2749-7fcd-55ba-c0696f5379d5\n",
      "WARNING:__main__:472e96d8-b095-e835-f6be-e5166ed13406\n",
      "WARNING:__main__:b1c77089-124e-4781-99c9-c5777aaeadf4\n"
     ]
    },
    {
     "name": "stdout",
     "output_type": "stream",
     "text": [
      "processed chunk 878\n"
     ]
    },
    {
     "name": "stderr",
     "output_type": "stream",
     "text": [
      "WARNING:__main__:a1f2519e-d106-4c0d-4a2d-788b0717e028\n",
      "WARNING:__main__:4f99ba2c-c68b-846b-6c93-51b025fb7988\n",
      "WARNING:__main__:9cd99704-489a-8b0f-75ff-e50921130e07\n",
      "WARNING:__main__:7ac1eb14-cbfd-f0bb-5545-7521c4acf6c9\n",
      "WARNING:__main__:8b012316-a55a-8f2c-0342-c72d0a64c9ed\n",
      "WARNING:__main__:d55981bf-6ef8-c995-b972-ea1360162913\n",
      "WARNING:__main__:71463942-b62a-e3ff-ddab-725387841699\n",
      "WARNING:__main__:8228de4c-8c93-b99d-9c2a-6dbfa3dca96f\n",
      "WARNING:__main__:2ce6feda-44ea-3aaf-9e61-208b0987bd37\n",
      "WARNING:__main__:080ebc33-061a-94d9-635a-2aa732393d27\n",
      "WARNING:__main__:d06362eb-e681-a98c-e177-e7444a27907c\n",
      "WARNING:__main__:75db623c-54bf-f26f-902d-d9e5790e218b\n",
      "WARNING:__main__:1b4699f1-6d9c-7ad4-9b85-840a7c559f2a\n",
      "WARNING:__main__:641b40eb-765d-cf59-123a-87fe169dc535\n",
      "WARNING:__main__:662bb618-c646-05e2-b3ba-66d75681b542\n"
     ]
    },
    {
     "name": "stdout",
     "output_type": "stream",
     "text": [
      "processed chunk 879\n",
      "processed chunk 880\n"
     ]
    },
    {
     "name": "stderr",
     "output_type": "stream",
     "text": [
      "WARNING:__main__:f00bdac5-3300-38fe-183d-cd76500287fd\n",
      "WARNING:__main__:18f2f232-f3f0-3bd5-19d8-bdceb863407a\n",
      "WARNING:__main__:b45f217b-8eba-dc3d-a172-d468c168bee5\n",
      "WARNING:__main__:c34b2d12-f454-2c3a-3a1d-4f15c8e04e49\n",
      "WARNING:__main__:76e7cce5-9a91-25d5-bfd2-5600f7338199\n",
      "WARNING:__main__:e19c1bd5-609f-449a-3cec-0f3f904fea5e\n",
      "WARNING:__main__:d2243a7b-dbe3-32b7-66ba-afad0ae36dfe\n",
      "WARNING:__main__:d7b5bce0-8930-0ab8-6927-10f50a2b335a\n"
     ]
    },
    {
     "name": "stdout",
     "output_type": "stream",
     "text": [
      "processed chunk 881\n"
     ]
    },
    {
     "name": "stderr",
     "output_type": "stream",
     "text": [
      "WARNING:__main__:a1a294cc-bcc0-d6e5-0947-61fc5a04b434\n"
     ]
    },
    {
     "name": "stdout",
     "output_type": "stream",
     "text": [
      "processed chunk 882\n"
     ]
    },
    {
     "name": "stderr",
     "output_type": "stream",
     "text": [
      "WARNING:__main__:c74e5ced-d930-efb9-d3ed-d19d51790e1e\n",
      "WARNING:__main__:1ec717aa-7852-3332-fe5d-4a3399cf0e42\n",
      "WARNING:__main__:2a34f909-a598-fc44-8fd4-28a14590739e\n",
      "WARNING:__main__:c328ca3c-d7fa-e360-f961-470f923f7bd3\n",
      "WARNING:__main__:eb4cd5f8-ff04-a420-eebb-7c1007242e72\n"
     ]
    },
    {
     "name": "stdout",
     "output_type": "stream",
     "text": [
      "processed chunk 883\n",
      "processed chunk 884\n",
      "processed chunk 885\n"
     ]
    },
    {
     "name": "stderr",
     "output_type": "stream",
     "text": [
      "WARNING:__main__:1b2f0c62-5e36-4c5e-0005-64af59ecb36b\n"
     ]
    },
    {
     "name": "stdout",
     "output_type": "stream",
     "text": [
      "processed chunk 886\n",
      "processed chunk 887\n"
     ]
    },
    {
     "name": "stderr",
     "output_type": "stream",
     "text": [
      "WARNING:__main__:ebf1af7d-3a5f-b40d-8905-90d2130376bd\n",
      "WARNING:__main__:d32ac63f-61fd-33c1-d802-1362c7cf93e6\n",
      "WARNING:__main__:541964c1-9597-1152-0b4a-488608c2ae41\n",
      "WARNING:__main__:f30975af-acc1-48df-dadb-886e19cf8fb4\n",
      "WARNING:__main__:d20cca6c-62d2-c1c1-902e-9c9ee39c279d\n",
      "WARNING:__main__:c59dd394-ad68-4455-7e77-d69e7774d217\n",
      "WARNING:__main__:0ebd8f3b-bc8b-7b69-725c-b3a8cf8a105a\n",
      "WARNING:__main__:2fb3c2b5-8af8-eb55-aa5c-5fa6e4b83e14\n",
      "WARNING:__main__:67255bd5-f433-8704-2d91-611702c3182a\n",
      "WARNING:__main__:04f09acf-9c08-0cfb-9994-d9da683562fa\n",
      "WARNING:__main__:5115b566-ed55-e105-a816-94fb03f0953d\n",
      "WARNING:__main__:555b2bb4-1a09-331d-2c47-98a53be2ba29\n",
      "WARNING:__main__:75618860-1498-b2e7-eef2-9a3ed48ac786\n",
      "WARNING:__main__:50a1b5c6-978f-620c-a774-84afa6f57195\n",
      "WARNING:__main__:309a3418-7f77-5719-d52c-6be33896ee2c\n",
      "WARNING:__main__:4c178460-d28d-346c-2f00-30f0b5bd270c\n",
      "WARNING:__main__:0e73f08c-ceca-6877-9dfb-df5e02f00a80\n",
      "WARNING:__main__:7a6a6651-1e42-555f-2a31-b75877a56ab0\n",
      "WARNING:__main__:65e5f6f7-fdd7-cbc7-cb84-8c6c066e9f0a\n",
      "WARNING:__main__:85ba4bc2-a2d3-e19e-efdb-82d998313dca\n",
      "WARNING:__main__:c9369442-f522-92d0-0c0d-1bfc32ca7b50\n",
      "WARNING:__main__:30dcbea5-1339-9727-1269-c589c90e1384\n",
      "WARNING:__main__:cedcc7f7-027e-adb6-d4ed-d899e1a8aeee\n",
      "WARNING:__main__:f6e4ea1b-7d03-d722-e068-9cc5f90c907a\n"
     ]
    },
    {
     "name": "stdout",
     "output_type": "stream",
     "text": [
      "processed chunk 888\n"
     ]
    },
    {
     "name": "stderr",
     "output_type": "stream",
     "text": [
      "WARNING:__main__:559a0152-fa22-6a6f-a337-a4547c4f4347\n",
      "WARNING:__main__:8dc82293-8d0c-30cd-f81b-f3bcfc2a3db9\n",
      "WARNING:__main__:2ea13816-9295-7fef-fe78-694d993d4d66\n",
      "WARNING:__main__:5156bc5f-2fa2-cac5-e90b-506f9f9d2275\n",
      "WARNING:__main__:b2fbdc16-0140-98d0-89a4-734d2f4c9458\n",
      "WARNING:__main__:bf942eab-1c52-6a01-b5f0-ba8247641878\n",
      "WARNING:__main__:5ec2dc8c-7a78-4bdd-1cbf-2aafcd139eb8\n",
      "WARNING:__main__:6c5e9d04-19e7-d668-7a94-5823d7b101cb\n",
      "WARNING:__main__:736b295d-c5e4-f606-0713-a98ff033c8ca\n",
      "WARNING:__main__:1fcbc156-8d20-685c-f0ae-cb476b75ae79\n",
      "WARNING:__main__:5cea4a32-6516-feb6-a6f8-d489faeb6a84\n",
      "WARNING:__main__:82500745-6103-2d13-04d4-e66a6c5283b1\n",
      "WARNING:__main__:fc5c09ba-6463-f792-cb63-33d002a66b9a\n",
      "WARNING:__main__:1e2edfa2-552a-85c9-9c02-85c13622e9ee\n",
      "WARNING:__main__:09f815aa-4042-3060-f0bf-9fb0e15bc596\n",
      "WARNING:__main__:f9ed41aa-b4d3-74dc-efd9-e1fb6d927668\n",
      "WARNING:__main__:b98802d7-124c-195c-68d8-c29d39c46705\n",
      "WARNING:__main__:60cef6ae-cf18-053c-2b92-43754428e4f5\n",
      "WARNING:__main__:0d5ebc1b-bd1b-7d06-2f5d-a2d440102031\n",
      "WARNING:__main__:3afe7fb4-9c42-4335-4096-306d7a07c2ff\n",
      "WARNING:__main__:d76464a7-5d8e-c33d-b951-5585fd7e8d5e\n"
     ]
    },
    {
     "name": "stdout",
     "output_type": "stream",
     "text": [
      "processed chunk 889\n"
     ]
    },
    {
     "name": "stderr",
     "output_type": "stream",
     "text": [
      "WARNING:__main__:e0c73d79-b5f1-9511-231e-60b5eb626486\n"
     ]
    },
    {
     "name": "stdout",
     "output_type": "stream",
     "text": [
      "processed chunk 890\n"
     ]
    },
    {
     "name": "stderr",
     "output_type": "stream",
     "text": [
      "WARNING:__main__:6301bf48-5fce-5795-fd16-5a3df3ca6f48\n",
      "WARNING:__main__:8e48930d-24ac-3846-3ccc-623a97a60df5\n",
      "WARNING:__main__:9728d9a9-896b-55bf-b75f-7647b7103a36\n",
      "WARNING:__main__:16c95dc7-5e40-bd80-5aff-edb3a7225508\n",
      "WARNING:__main__:3d2fbb0a-81f2-f3c5-697c-09e8ba76ad1e\n",
      "WARNING:__main__:e6cefcaa-e840-3207-576d-bb3067256771\n",
      "WARNING:__main__:9deead8b-66e3-2de8-8e23-6dda78c28962\n",
      "WARNING:__main__:c103a7b7-8f70-45fc-7db2-e0ea9393a8a9\n",
      "WARNING:__main__:58a42c34-59f2-87e9-2a0e-cf11723e720b\n",
      "WARNING:__main__:be3ec110-0233-2806-ff0a-5793fed8eeed\n",
      "WARNING:__main__:b97e36e9-d218-a2c4-6e36-eebfcd6440a9\n",
      "WARNING:__main__:db3744a8-18e0-fb80-9f0c-cb7753e05b87\n",
      "WARNING:__main__:e423eb70-87c9-54e8-6d24-9b36d33279ca\n",
      "WARNING:__main__:08c4dab5-bcbc-14c2-61cb-ec82cc8a554e\n",
      "WARNING:__main__:bc45512e-5c56-5962-c321-3da7ad7f701c\n",
      "WARNING:__main__:f5437230-b86e-3a64-1ce6-e4612995bb25\n",
      "WARNING:__main__:f0b1f2f2-be26-e87b-afa9-74f9c182d5aa\n",
      "WARNING:__main__:a9cbf10c-1472-5700-e7dd-ba5eef21970a\n",
      "WARNING:__main__:d5cbb46f-c52b-5240-b592-83962150627b\n"
     ]
    },
    {
     "name": "stdout",
     "output_type": "stream",
     "text": [
      "processed chunk 891\n",
      "processed chunk 892\n"
     ]
    },
    {
     "name": "stderr",
     "output_type": "stream",
     "text": [
      "WARNING:__main__:0c344c69-d3fe-72ef-6eed-cf3946210fd1\n"
     ]
    },
    {
     "name": "stdout",
     "output_type": "stream",
     "text": [
      "processed chunk 893\n"
     ]
    },
    {
     "name": "stderr",
     "output_type": "stream",
     "text": [
      "WARNING:__main__:1c28948f-0bd8-8429-6301-ce8af62fface\n",
      "WARNING:__main__:1a034985-8b97-d6f7-dbb8-10ae9b00ed2a\n",
      "WARNING:__main__:822c8be3-139d-faa9-037f-87a88f6d411a\n",
      "WARNING:__main__:6e363f45-5b59-8c98-bc89-db04d900a2d5\n",
      "WARNING:__main__:d3a178dc-7a05-80af-5553-02bfb63076f0\n",
      "WARNING:__main__:c5d2acb8-70ef-9937-256d-47763e594c8a\n",
      "WARNING:__main__:446f741f-1dcc-5d4f-4523-0091f11b1fbe\n",
      "WARNING:__main__:86ca50b9-df37-ffcf-dc8c-aa8f729c5af4\n",
      "WARNING:__main__:7b6da7f0-3dc4-a8a5-124b-87f8de5244fd\n",
      "WARNING:__main__:4177ad21-c909-0f77-423d-82be59385745\n",
      "WARNING:__main__:eeb6fddc-48fc-03cd-f8bc-c18897cb5efd\n",
      "WARNING:__main__:485a9bd7-5802-bc42-ec33-e0eb9d171d69\n"
     ]
    },
    {
     "name": "stdout",
     "output_type": "stream",
     "text": [
      "processed chunk 894\n"
     ]
    },
    {
     "name": "stderr",
     "output_type": "stream",
     "text": [
      "WARNING:__main__:c5f8e778-9101-0563-a20b-c221f73dbd06\n",
      "WARNING:__main__:f3dc2abb-6706-6b49-efae-417bd9dba128\n",
      "WARNING:__main__:9ae1b19b-0326-395c-b2b0-4c164f930bd7\n",
      "WARNING:__main__:1edab783-2a3b-92c3-080e-3ca2310f9309\n",
      "WARNING:__main__:6437000f-268e-c295-6541-b2598e831a5f\n",
      "WARNING:__main__:31007abd-e512-5d3c-d3e2-6e66b3c73b9d\n",
      "WARNING:__main__:7811b1e5-8071-a9e7-0786-36854a9002c3\n",
      "WARNING:__main__:2ccdde87-9ea2-b613-54f3-98680ee258b1\n",
      "WARNING:__main__:96b3f6d1-61e3-db28-ad0d-c057f57a11cf\n"
     ]
    },
    {
     "name": "stdout",
     "output_type": "stream",
     "text": [
      "processed chunk 895\n",
      "processed chunk 896\n"
     ]
    },
    {
     "name": "stderr",
     "output_type": "stream",
     "text": [
      "WARNING:__main__:2a437c58-6356-1a28-7e8f-da86a85c4332\n"
     ]
    },
    {
     "name": "stdout",
     "output_type": "stream",
     "text": [
      "processed chunk 897\n"
     ]
    },
    {
     "name": "stderr",
     "output_type": "stream",
     "text": [
      "WARNING:__main__:4d7c6a63-c7ac-5e6e-b245-f95c21a505e0\n",
      "WARNING:__main__:8b1b83f6-02bd-b26d-b0ad-9faf47b6941c\n",
      "WARNING:__main__:5283612a-61fd-76b1-a614-f0d1e6738476\n",
      "WARNING:__main__:a9ebd71f-238f-cef2-43f9-b673007303aa\n",
      "WARNING:__main__:accef499-71b9-7d70-871c-ebd1da34f744\n",
      "WARNING:__main__:d4897ade-c4da-f859-0140-bbd337d6b102\n",
      "WARNING:__main__:8350bbbf-d260-9079-d68f-53bef9e10984\n",
      "WARNING:__main__:a963c2f9-b7ef-c3dc-8727-0b5778b23cf3\n",
      "WARNING:__main__:7aacf620-f531-faf6-1423-12baa15d601c\n",
      "WARNING:__main__:5d312cb7-a0a0-cba1-a0f4-07382e0c93f3\n",
      "WARNING:__main__:c7e5d2f3-9db6-61e6-231f-067513154734\n",
      "WARNING:__main__:2fa6ce7d-f599-e6cf-d295-cec3472a6876\n",
      "WARNING:__main__:ec13075e-2d76-d085-0497-a08705589554\n",
      "WARNING:__main__:44e01787-e696-96da-4581-d91a2a87fa3e\n"
     ]
    },
    {
     "name": "stdout",
     "output_type": "stream",
     "text": [
      "processed chunk 898\n",
      "processed chunk 899\n"
     ]
    },
    {
     "name": "stderr",
     "output_type": "stream",
     "text": [
      "WARNING:__main__:c1a5104d-4d88-5dc8-e9b7-e4266a92d50a\n",
      "WARNING:__main__:47c4ca7c-4065-378d-4bf5-3d341ca5e8e9\n",
      "WARNING:__main__:4f3cc5a3-a33d-ffee-6d97-83fe826e46c0\n",
      "WARNING:__main__:b8294e9f-e36c-59f1-1d8f-5b98044b9b1f\n",
      "WARNING:__main__:580c3782-2930-fdf8-303b-5e2d96e5140a\n",
      "WARNING:__main__:dc2e118e-7019-14d7-1b14-002de64207b2\n",
      "WARNING:__main__:951a85e1-018c-af68-6b20-cb9f5ab26eff\n",
      "WARNING:__main__:5e44f371-cc5c-eb16-dd5c-e470d7989698\n",
      "WARNING:__main__:82099560-76fd-bbd7-f3c9-0e8e760b79d3\n",
      "WARNING:__main__:4614d21c-0f3a-d382-18f0-13cad98825b4\n",
      "WARNING:__main__:f74bf51f-322a-b466-d0c3-3dd297cdd203\n",
      "WARNING:__main__:f3d8f125-7585-77b8-2e2c-3940c1f99548\n",
      "WARNING:__main__:9c6db5f3-4b36-73d1-095b-c69c881674db\n",
      "WARNING:__main__:c87bba49-d519-85d2-0708-04ef0c76f402\n",
      "WARNING:__main__:ec8c0152-7d1d-5685-7551-10b09e71ba76\n",
      "WARNING:__main__:13ea5771-b249-b2a2-6660-6ea191cd3551\n",
      "WARNING:__main__:a4f172c6-8b8f-c24f-6b5e-56f5efdfafef\n",
      "WARNING:__main__:d72d3305-63de-cfaa-14d0-f804c8e6079e\n"
     ]
    },
    {
     "name": "stdout",
     "output_type": "stream",
     "text": [
      "processed chunk 900\n",
      "processed chunk 901\n",
      "processed chunk 902\n"
     ]
    },
    {
     "name": "stderr",
     "output_type": "stream",
     "text": [
      "WARNING:__main__:144d2330-08e9-c8ed-f808-ae49b22cfa22\n"
     ]
    },
    {
     "name": "stdout",
     "output_type": "stream",
     "text": [
      "processed chunk 903\n",
      "processed chunk 904\n"
     ]
    },
    {
     "name": "stderr",
     "output_type": "stream",
     "text": [
      "WARNING:__main__:23b3c7c3-ed30-1cbd-ce8c-12e710a8d883\n"
     ]
    },
    {
     "name": "stdout",
     "output_type": "stream",
     "text": [
      "processed chunk 905\n"
     ]
    },
    {
     "name": "stderr",
     "output_type": "stream",
     "text": [
      "WARNING:__main__:ef29966d-1456-4ccb-2873-70f3f622db33\n"
     ]
    },
    {
     "name": "stdout",
     "output_type": "stream",
     "text": [
      "processed chunk 906\n"
     ]
    },
    {
     "name": "stderr",
     "output_type": "stream",
     "text": [
      "WARNING:__main__:99f189d2-344c-b90a-7303-39ee8d1252c8\n"
     ]
    },
    {
     "name": "stdout",
     "output_type": "stream",
     "text": [
      "processed chunk 907\n",
      "processed chunk 908\n",
      "processed chunk 909\n"
     ]
    },
    {
     "name": "stderr",
     "output_type": "stream",
     "text": [
      "WARNING:__main__:0638f19e-a89b-3f82-89f6-ea8f6da3382e\n",
      "WARNING:__main__:fc0bc3d9-27e6-d833-8f89-a09cc6e88cb3\n"
     ]
    },
    {
     "name": "stdout",
     "output_type": "stream",
     "text": [
      "processed chunk 910\n"
     ]
    },
    {
     "name": "stderr",
     "output_type": "stream",
     "text": [
      "WARNING:__main__:9f08cc58-0f5f-f487-6440-e190d6326e59\n",
      "WARNING:__main__:c712ce6a-5374-69a2-63f3-2d140a1c55f5\n",
      "WARNING:__main__:32ec1fed-f90b-7207-c492-39b8e55be45d\n",
      "WARNING:__main__:0ac9f890-831e-9e0f-0c1b-679f5d070ffe\n",
      "WARNING:__main__:a8b3fc57-3ebf-be8d-6e3b-a5de1e041c3c\n",
      "WARNING:__main__:77160ac4-e50a-6778-f405-2b03b003d805\n",
      "WARNING:__main__:2d9fdf2e-f123-71ac-0c33-2cdf3fac8b38\n",
      "WARNING:__main__:b1970efa-c31a-9a27-a709-1d28e6599d99\n",
      "WARNING:__main__:6157d263-fba8-5acb-2d6a-da484a12860d\n",
      "WARNING:__main__:f115d7bc-6c44-e283-c7eb-83128ee5f547\n",
      "WARNING:__main__:529332c6-ee28-96e9-035e-00364cff8f12\n",
      "WARNING:__main__:2bd50ba0-ff76-9c5e-b8ab-f7ba7d828dd3\n",
      "WARNING:__main__:e814755c-7915-c307-c641-ea031bc15018\n",
      "WARNING:__main__:f203e371-2c9c-e9e4-ad95-320bfd272829\n",
      "WARNING:__main__:c69a6c75-ec17-5cbb-a619-12ea509af86f\n",
      "WARNING:__main__:c9e30e1d-d7be-81a8-2bdf-565699dcd42c\n",
      "WARNING:__main__:83389f91-f574-ee61-951b-06c0d3aef309\n",
      "WARNING:__main__:76529042-4756-3d54-ca2e-1d723f1a787e\n",
      "WARNING:__main__:a6cc760e-750d-cd8d-00d9-b3089fd0d5d3\n",
      "WARNING:__main__:556ae692-8fe5-2f6d-00ee-965dfa50988a\n",
      "WARNING:__main__:a7628547-c76a-ab4f-b516-f4ccdc85266d\n",
      "WARNING:__main__:fba7d252-68c6-4bf8-9651-2fd5e1cf69e5\n",
      "WARNING:__main__:cfd92bec-e638-ce33-b5fd-efe4908e3f76\n",
      "WARNING:__main__:b7cbf1ba-7e27-9701-8f72-042a6fee2feb\n",
      "WARNING:__main__:7aaec557-8907-13e3-de9e-ea54da6ae7ab\n",
      "WARNING:__main__:0df9357c-003c-b17e-2384-c184a46b43bd\n",
      "WARNING:__main__:2b403b24-b2bf-5c8d-771e-83973ea6c021\n",
      "WARNING:__main__:8db463c1-f5cc-41fc-2725-b2185fb188ea\n",
      "WARNING:__main__:4c451e3b-2794-3036-ddcc-30e514ba73d1\n"
     ]
    },
    {
     "name": "stdout",
     "output_type": "stream",
     "text": [
      "processed chunk 911\n"
     ]
    },
    {
     "name": "stderr",
     "output_type": "stream",
     "text": [
      "WARNING:__main__:87ef981f-66b0-22e2-617b-5943674ae7b7\n",
      "WARNING:__main__:c9161d37-caa9-69cc-9fc2-660885f17fe2\n",
      "WARNING:__main__:aecdddb3-6b93-cbe4-3fc1-43d4ae759c60\n",
      "WARNING:__main__:73b9d949-3247-694e-bd07-9776a8e3daf2\n",
      "WARNING:__main__:6c4c2ef8-2e64-7567-5838-8d79c0b9e5ec\n"
     ]
    },
    {
     "name": "stdout",
     "output_type": "stream",
     "text": [
      "processed chunk 912\n",
      "processed chunk 913\n"
     ]
    },
    {
     "name": "stderr",
     "output_type": "stream",
     "text": [
      "WARNING:__main__:27780b78-ebfa-29dc-5578-9d8dd5cee95f\n",
      "WARNING:__main__:a028c675-d27b-343a-ce6e-c148d10fff64\n",
      "WARNING:__main__:2842d64c-1a9b-0773-3dbe-e5a5dd297b54\n",
      "WARNING:__main__:0cbce73d-ce7d-bcca-8e62-9d017533ede3\n"
     ]
    },
    {
     "name": "stdout",
     "output_type": "stream",
     "text": [
      "processed chunk 914\n",
      "processed chunk 915\n"
     ]
    },
    {
     "name": "stderr",
     "output_type": "stream",
     "text": [
      "WARNING:__main__:63cf0f8c-75fe-b685-d4c8-95da38758d7c\n",
      "WARNING:__main__:7804588b-27a3-c52a-f450-7f3acbed8607\n",
      "WARNING:__main__:c71cf220-4272-1571-dc73-de3f880bc67b\n",
      "WARNING:__main__:47925fe1-b105-d1b4-b546-c6e89f66872d\n",
      "WARNING:__main__:21d8eb46-d64b-e35c-9804-52b653955b22\n",
      "WARNING:__main__:1bfbbb41-d394-139d-8041-5d5ca051887d\n",
      "WARNING:__main__:2b4466ac-afe0-dd04-2305-116c95dd3a1b\n",
      "WARNING:__main__:b9839273-5104-58b4-84f5-dcf50fe7491d\n",
      "WARNING:__main__:e7f757c1-9db5-ea10-ca91-575085fbf807\n",
      "WARNING:__main__:a4954593-bd08-447c-c1eb-3ad761c90cd0\n",
      "WARNING:__main__:a1b35c9b-f043-a5f9-45dd-cbfae592d534\n"
     ]
    },
    {
     "name": "stdout",
     "output_type": "stream",
     "text": [
      "processed chunk 916\n",
      "processed chunk 917\n"
     ]
    },
    {
     "name": "stderr",
     "output_type": "stream",
     "text": [
      "WARNING:__main__:4d572540-60b6-1d19-1fae-6e202416403d\n",
      "WARNING:__main__:01d1406c-1401-a06c-d691-6deb348b1484\n"
     ]
    },
    {
     "name": "stdout",
     "output_type": "stream",
     "text": [
      "processed chunk 918\n"
     ]
    },
    {
     "name": "stderr",
     "output_type": "stream",
     "text": [
      "WARNING:__main__:398dd22c-c2f8-06c3-b2ee-9647508d1c86\n",
      "WARNING:__main__:1da0f571-ec7f-915a-0633-291e02d6c42e\n",
      "WARNING:__main__:f6730744-fdf8-42b8-2cca-dd18fa844d93\n",
      "WARNING:__main__:21104e9d-2fdd-f887-4a5a-b0adb0dd3dab\n"
     ]
    },
    {
     "name": "stdout",
     "output_type": "stream",
     "text": [
      "processed chunk 919\n"
     ]
    },
    {
     "name": "stderr",
     "output_type": "stream",
     "text": [
      "WARNING:__main__:6e8f3726-3474-befd-2acd-734320272d3b\n",
      "WARNING:__main__:87bd3bcf-69a7-25e6-a014-a85fc72160fe\n",
      "WARNING:__main__:a46eb7fa-cb81-1387-03bf-035c0ca5e147\n",
      "WARNING:__main__:34fd6929-be92-e3d0-bd68-1813c2dd26ee\n",
      "WARNING:__main__:360f25d5-39ce-ee3d-5a23-0efe537a403c\n",
      "WARNING:__main__:09cd3049-7daf-cb8a-18ec-4102da9b75a9\n",
      "WARNING:__main__:2018539f-b541-15d5-026f-8558625c532e\n",
      "WARNING:__main__:7f438632-6e07-bc4b-35ea-3a34ebd89026\n",
      "WARNING:__main__:df579b76-70db-dae8-e564-84f8b35c8a79\n",
      "WARNING:__main__:072e93e6-871c-f03a-21c0-4991a2228dca\n",
      "WARNING:__main__:47fbb4e8-30a8-3586-0d44-a5f0a3c6d5ae\n",
      "WARNING:__main__:39f62982-e93b-49fd-2774-6794fed52d32\n",
      "WARNING:__main__:21d769f9-5135-6564-eacc-f2d8961f9191\n",
      "WARNING:__main__:73a8c2e8-6db9-37d1-f480-ee2b308a186b\n",
      "WARNING:__main__:fcf77b6e-8347-fe6a-c1a6-bda9c223ec1e\n",
      "WARNING:__main__:9197c6d6-cccb-5b23-40c9-2dda4dbf8514\n",
      "WARNING:__main__:5726451a-f3ec-eb2b-d2c8-3d71de270698\n"
     ]
    },
    {
     "name": "stdout",
     "output_type": "stream",
     "text": [
      "processed chunk 920\n"
     ]
    },
    {
     "name": "stderr",
     "output_type": "stream",
     "text": [
      "WARNING:__main__:882d5435-835a-2c78-6c7b-f3580ddcbf68\n",
      "WARNING:__main__:f5feb2fd-6a7f-c3a6-8b39-03eea5dd022d\n",
      "WARNING:__main__:71ddeb4e-1202-7f96-afd1-ade131fcacba\n",
      "WARNING:__main__:187a31c4-c423-8a76-afdd-61fc92150060\n"
     ]
    },
    {
     "name": "stdout",
     "output_type": "stream",
     "text": [
      "processed chunk 921\n"
     ]
    },
    {
     "name": "stderr",
     "output_type": "stream",
     "text": [
      "WARNING:__main__:9d537350-ec1c-2d4f-221b-48f4577315b4\n"
     ]
    },
    {
     "name": "stdout",
     "output_type": "stream",
     "text": [
      "processed chunk 922\n"
     ]
    },
    {
     "name": "stderr",
     "output_type": "stream",
     "text": [
      "WARNING:__main__:3f3c25fa-f09c-773c-5c86-2a3b59e04d67\n",
      "WARNING:__main__:50b1a221-4304-1e5e-0619-6f953f046b8a\n"
     ]
    },
    {
     "name": "stdout",
     "output_type": "stream",
     "text": [
      "processed chunk 923\n"
     ]
    },
    {
     "name": "stderr",
     "output_type": "stream",
     "text": [
      "WARNING:__main__:9996762d-c023-87e9-b940-71e776dc207c\n",
      "WARNING:__main__:6c5b65ae-0923-5243-420e-0b3e5208d0b8\n",
      "WARNING:__main__:4df0af02-62b1-81e6-3ef8-a733d4d03586\n",
      "WARNING:__main__:8507153a-6d34-4ad2-303b-232d466b43c5\n",
      "WARNING:__main__:d4fe786d-5e3b-5ecf-080c-dd4d1e2af147\n"
     ]
    },
    {
     "name": "stdout",
     "output_type": "stream",
     "text": [
      "processed chunk 924\n"
     ]
    },
    {
     "name": "stderr",
     "output_type": "stream",
     "text": [
      "WARNING:__main__:fc5e56df-f983-e908-fc8e-5738219e02f8\n",
      "WARNING:__main__:c3bbf2c4-758f-8d27-c6c6-02ac5a3e86b8\n",
      "WARNING:__main__:acbacc79-b86c-88d3-99e9-e12711548456\n",
      "WARNING:__main__:37825c4b-fb88-e620-fcb6-e8ad6ffb8ebd\n",
      "WARNING:__main__:34175532-83f9-d41a-1da9-b47453253a31\n",
      "WARNING:__main__:8a206763-3449-9106-a2cf-08cacbde74db\n",
      "WARNING:__main__:5f7d6777-51c6-28a0-2261-ee280846e04b\n",
      "WARNING:__main__:115898a8-75e8-f24c-0fd6-712f2eb7a412\n",
      "WARNING:__main__:6c15fda4-9ddf-f9f3-51aa-1151dc950e6d\n",
      "WARNING:__main__:33fe634f-fb5c-9799-2e32-26b4a7bf9e6f\n",
      "WARNING:__main__:aafffda0-1fca-b4c0-7da2-44099b55c10f\n",
      "WARNING:__main__:bdfad3ad-3f54-a7d0-18fb-234134030391\n",
      "WARNING:__main__:fb2edbc4-0463-44ec-87a6-bba301c10916\n"
     ]
    },
    {
     "name": "stdout",
     "output_type": "stream",
     "text": [
      "processed chunk 925\n"
     ]
    },
    {
     "name": "stderr",
     "output_type": "stream",
     "text": [
      "WARNING:__main__:f373c58c-cf2b-2ffd-7c60-eb96f8beebea\n",
      "WARNING:__main__:61baf520-4f84-8e48-0611-92e5a4d6f842\n",
      "WARNING:__main__:a7b13b05-3fba-d4d4-eb25-2ca8afc01e2d\n",
      "WARNING:__main__:50b7d59b-9787-1322-4fa5-dc343d4ecd94\n",
      "WARNING:__main__:4925672b-b9b0-17ca-965a-36d775e79d72\n",
      "WARNING:__main__:c91b4931-a5be-691d-9fc0-2eebc31077ae\n"
     ]
    },
    {
     "name": "stdout",
     "output_type": "stream",
     "text": [
      "processed chunk 926\n"
     ]
    },
    {
     "name": "stderr",
     "output_type": "stream",
     "text": [
      "WARNING:__main__:89c2f47b-2769-b0ca-da64-8f867ebc431a\n",
      "WARNING:__main__:56bb49e7-c09f-4a29-c8aa-09e660e6ad76\n",
      "WARNING:__main__:bed0c387-0a68-7488-5752-e0f56cb8e15c\n",
      "WARNING:__main__:ee2166ac-3c96-0245-0c0d-7b5168da2493\n",
      "WARNING:__main__:d96c46b7-832e-1c3b-356b-321a13ff790e\n",
      "WARNING:__main__:5befdbac-296e-c616-61f3-e7abe144cdd7\n",
      "WARNING:__main__:409fe160-dc68-045a-b88f-c1a903442ba1\n",
      "WARNING:__main__:4ac30164-368a-d4aa-e688-fcd5901b2059\n",
      "WARNING:__main__:54ca7dbf-6357-3ba8-7c5b-e725efb80a5c\n",
      "WARNING:__main__:24bfe2fb-babc-2682-2210-ddf16a02a3b6\n",
      "WARNING:__main__:7914fec2-5250-3269-21bf-964ee2280734\n",
      "WARNING:__main__:f61b0df5-c387-348b-624f-5aacbba4930d\n",
      "WARNING:__main__:a9b0d59a-f0d8-2818-4cb5-f7775619812b\n",
      "WARNING:__main__:91bc766b-22f1-760c-02aa-787583811c57\n",
      "WARNING:__main__:fc2de3dd-a18e-12a5-668d-5a1dd8bfb5f2\n",
      "WARNING:__main__:270b701e-dac3-5356-156d-796570b0dfd9\n",
      "WARNING:__main__:543737cd-edcf-e3b0-b7af-83abea1f441f\n",
      "WARNING:__main__:ebae2b54-4869-f70f-1ea6-dc12cbf87fb0\n",
      "WARNING:__main__:20d2e3b4-ede3-d702-f74d-281867a020df\n",
      "WARNING:__main__:7d89becf-41fa-5482-4b3c-28d57440ff0c\n",
      "WARNING:__main__:010a9ffd-0bb9-8f8d-4f0d-cb3a52460816\n",
      "WARNING:__main__:610345a8-8b24-f91e-8edc-d27b01f2abba\n",
      "WARNING:__main__:2e5955b5-d7c8-632c-43cc-3909a5f87c8a\n"
     ]
    },
    {
     "name": "stdout",
     "output_type": "stream",
     "text": [
      "processed chunk 927\n"
     ]
    },
    {
     "name": "stderr",
     "output_type": "stream",
     "text": [
      "WARNING:__main__:2e9c01fd-5e74-66fa-b742-0dcbc523cb5b\n",
      "WARNING:__main__:d866b49f-d2dd-f1aa-6367-130a094a9f5b\n",
      "WARNING:__main__:83045fc3-c08f-b340-4473-0fdd303da83e\n",
      "WARNING:__main__:8bd7311a-7b0b-5ed2-8e1b-3278b1df759a\n",
      "WARNING:__main__:1772ea53-f114-dd29-cefb-cb9adb7aef7f\n",
      "WARNING:__main__:8fd0b946-75bc-48b5-b584-578b04742118\n",
      "WARNING:__main__:40babca1-e705-b867-ddc1-415798da61b3\n",
      "WARNING:__main__:13581c0b-18dd-4bcc-251e-826061934c29\n",
      "WARNING:__main__:b1d845cb-e8fd-9392-d097-57664fdd41f8\n"
     ]
    },
    {
     "name": "stdout",
     "output_type": "stream",
     "text": [
      "processed chunk 928\n"
     ]
    },
    {
     "name": "stderr",
     "output_type": "stream",
     "text": [
      "WARNING:__main__:f14a63cb-3e1f-b0f4-77e2-aadb3b029747\n",
      "WARNING:__main__:fe50b31f-a085-e788-81f8-943f8107c6bb\n",
      "WARNING:__main__:8ded6e91-66b0-91a1-d63d-cb966ecde8a0\n",
      "WARNING:__main__:38eb3ef7-ef8b-f111-3458-28bba977c6fa\n",
      "WARNING:__main__:7d617635-82af-b360-1694-2663e87881a3\n",
      "WARNING:__main__:1016757c-5a4e-12f6-95c3-bd1d6e20821b\n",
      "WARNING:__main__:294adcaf-488f-cad3-ae23-2e5d6456fd12\n"
     ]
    },
    {
     "name": "stdout",
     "output_type": "stream",
     "text": [
      "processed chunk 929\n"
     ]
    },
    {
     "name": "stderr",
     "output_type": "stream",
     "text": [
      "WARNING:__main__:344c031f-0048-3034-befd-9a211969f3c2\n",
      "WARNING:__main__:ddda56e6-3bb2-de09-53a9-5c01e186b9e4\n",
      "WARNING:__main__:290606e9-ad26-d00f-4530-e64614c275fe\n",
      "WARNING:__main__:25a3a1af-5b9f-c807-b468-0287ad5145f9\n",
      "WARNING:__main__:42e17ca4-c963-5654-3121-d5d24676e6af\n",
      "WARNING:__main__:8af32b6a-e4b0-0471-2f21-053bf311c8a1\n",
      "WARNING:__main__:5100f0a5-ec9d-0a78-412a-b1dbf0602084\n",
      "WARNING:__main__:de43ad85-9287-a6c4-2b60-c12dabd41434\n",
      "WARNING:__main__:5eac4d0e-cbbd-0910-89c5-6786abd090b5\n",
      "WARNING:__main__:6f33a410-882a-bfcf-d691-357cc45a9764\n",
      "WARNING:__main__:e5ecf5f9-e168-3e62-3f5d-cf372f666988\n",
      "WARNING:__main__:e1c3bf89-1ebe-819f-19ea-a88da71c44b3\n"
     ]
    },
    {
     "name": "stdout",
     "output_type": "stream",
     "text": [
      "processed chunk 930\n"
     ]
    },
    {
     "name": "stderr",
     "output_type": "stream",
     "text": [
      "WARNING:__main__:2d2f4120-8567-9957-23d2-d65abb6159e3\n",
      "WARNING:__main__:88c1a2d2-1c2b-fee3-f0fa-c338f80098bf\n",
      "WARNING:__main__:bcd3dad0-757c-6038-9d78-c2616e32eafd\n",
      "WARNING:__main__:7595b5f8-ebd5-4418-6b10-9a5f510afb2d\n",
      "WARNING:__main__:17d2056d-0f98-665e-04c0-a0f2eb819d54\n",
      "WARNING:__main__:c641a768-cfe7-68c7-950b-f317c69c1757\n"
     ]
    },
    {
     "name": "stdout",
     "output_type": "stream",
     "text": [
      "processed chunk 931\n"
     ]
    },
    {
     "name": "stderr",
     "output_type": "stream",
     "text": [
      "WARNING:__main__:366c7a20-873f-a053-b6c5-fa89dfd8692f\n",
      "WARNING:__main__:532dedb6-cb75-8907-6636-e871099fcadf\n",
      "WARNING:__main__:cd5a2a1b-e15a-89ba-c9bb-d022d4d2fa80\n",
      "WARNING:__main__:125be619-29d7-1806-db1a-407373c7ac2f\n",
      "WARNING:__main__:18079ae3-14fa-a410-aabe-1af607d47498\n",
      "WARNING:__main__:0c132819-032d-86c6-40c5-82081594dc10\n",
      "WARNING:__main__:24c6e299-748a-05c7-f343-aa2ce0a4342b\n",
      "WARNING:__main__:a64a5d7a-6020-e99f-e9d7-fc1592bf1288\n",
      "WARNING:__main__:2925130e-6ca0-34b4-eeb9-22ddba7b8f7a\n",
      "WARNING:__main__:41b1590b-f3ba-971f-d4d0-4d9520cbee59\n",
      "WARNING:__main__:e3a4a33a-b512-1a80-fc88-ebd5e0ec7782\n",
      "WARNING:__main__:0e6331bc-da92-46df-a015-d4460ce53af4\n",
      "WARNING:__main__:c65dbf67-5320-171c-9379-ea4009e53890\n",
      "WARNING:__main__:9b8a0fb0-4061-ca2a-694c-33f77fe92f9e\n"
     ]
    },
    {
     "name": "stdout",
     "output_type": "stream",
     "text": [
      "processed chunk 932\n"
     ]
    },
    {
     "name": "stderr",
     "output_type": "stream",
     "text": [
      "WARNING:__main__:d8b7e766-2dbd-811e-d1ad-bf667dd3ff4c\n",
      "WARNING:__main__:71dfe8a6-4a8d-24ce-cd34-40a76ed35244\n",
      "WARNING:__main__:8a7ee651-2e9b-c2f5-3bf3-4a1d37eaa4da\n",
      "WARNING:__main__:c718adee-322d-2021-ca47-a6a3b13c8f6d\n",
      "WARNING:__main__:6bc28e73-0ad3-0159-ec53-d89bb419cc08\n",
      "WARNING:__main__:5e895910-8d3f-704c-3a2f-762b996fec9c\n",
      "WARNING:__main__:ac7d76a7-c981-fc56-c7cc-d182be195b74\n",
      "WARNING:__main__:ed205286-86ab-77e6-d2af-d4296a7ca546\n",
      "WARNING:__main__:a76dd415-0888-1e4a-d157-e8f480db1511\n",
      "WARNING:__main__:92f1274f-17b7-e492-5f30-900263f023b5\n",
      "WARNING:__main__:d00f192c-aa4f-34aa-0efb-5bd98f147974\n",
      "WARNING:__main__:75621766-d6f9-e152-ce6b-66e4c4cb7c40\n",
      "WARNING:__main__:563012fe-bb7d-cb28-1e5d-6724d3e6e76f\n",
      "WARNING:__main__:a6f56285-d844-fe0a-775f-b889c73ff42d\n",
      "WARNING:__main__:ed468464-ec9c-e47c-2fe6-b26386778aad\n",
      "WARNING:__main__:7b2bfce5-36cd-97ad-9b19-053a66800bf6\n",
      "WARNING:__main__:ae9446b2-ffd0-c569-80c0-2dda252b5282\n"
     ]
    },
    {
     "name": "stdout",
     "output_type": "stream",
     "text": [
      "processed chunk 933\n",
      "processed chunk 934\n"
     ]
    },
    {
     "name": "stderr",
     "output_type": "stream",
     "text": [
      "WARNING:__main__:16efb2a3-db5f-8c8b-bf0b-eed2efed2dcf\n",
      "WARNING:__main__:e00a4be7-4975-51d7-7f44-470b5461abc0\n",
      "WARNING:__main__:17c00ba4-9e83-31e4-cba9-60682a504678\n",
      "WARNING:__main__:2c383cd6-7b3b-a97a-d06d-0f1136fdcd76\n",
      "WARNING:__main__:b86a685d-159f-10df-89ed-109eeae1a562\n",
      "WARNING:__main__:306b2ce4-bba4-7182-dcfa-5aa75acf9575\n",
      "WARNING:__main__:f8df604e-92fb-6395-2e44-ef1311ab62d8\n",
      "WARNING:__main__:2b944289-f269-fbcf-3a65-698427738d4f\n",
      "WARNING:__main__:9253b99a-380a-725c-a432-cecdfc39e7c8\n",
      "WARNING:__main__:e71617cf-2bcf-2e90-0e65-fa128ea5984d\n",
      "WARNING:__main__:d6d6f20d-609c-f0b7-8623-bd3a19f6a1c5\n",
      "WARNING:__main__:c187ece7-7ed9-64ac-52a7-508f1bebfbed\n"
     ]
    },
    {
     "name": "stdout",
     "output_type": "stream",
     "text": [
      "processed chunk 935\n"
     ]
    },
    {
     "name": "stderr",
     "output_type": "stream",
     "text": [
      "WARNING:__main__:1a6524e8-3bf7-1e9a-0799-69610cc2ab4d\n",
      "WARNING:__main__:e86242bd-858f-a998-4126-be8178b0ea0f\n",
      "WARNING:__main__:a1a8d30a-aec6-eae4-86b2-d93ba52366d8\n",
      "WARNING:__main__:301031f6-dfda-fbbb-dbb8-d1529088faed\n",
      "WARNING:__main__:bea999a9-42a6-bdc5-e843-61ae36d633a9\n",
      "WARNING:__main__:3c946e52-019d-8982-d73d-2168ca07e8b0\n",
      "WARNING:__main__:f5005d8d-7a8d-db58-01ff-93473999470c\n"
     ]
    },
    {
     "name": "stdout",
     "output_type": "stream",
     "text": [
      "processed chunk 936\n",
      "processed chunk 937\n"
     ]
    },
    {
     "name": "stderr",
     "output_type": "stream",
     "text": [
      "WARNING:__main__:d2582218-6b71-8e11-7fe4-721e999c2fd9\n",
      "WARNING:__main__:84fafded-aee5-d3f3-2312-c46412665738\n",
      "WARNING:__main__:9c443533-f64e-841e-963b-84f8d23598fc\n",
      "WARNING:__main__:3151feeb-4c8e-0e17-e627-7bdfaca29540\n",
      "WARNING:__main__:45a5b5ae-81fc-cdb2-6b74-cb634ffc7ac5\n",
      "WARNING:__main__:9d1cc60a-8e3e-14de-9dbe-98d0b9fe3469\n",
      "WARNING:__main__:704e0c37-eb04-284c-1d1e-35e68cc5096a\n",
      "WARNING:__main__:ff634f77-123a-51b3-3dfe-60f973c9abdc\n",
      "WARNING:__main__:024fd9f4-59b9-4857-004d-528fc388cfc9\n",
      "WARNING:__main__:174f2143-500d-5331-7fe8-e78fa0bc69b2\n",
      "WARNING:__main__:9787546d-c602-4be0-4a30-29d40c39f3dc\n",
      "WARNING:__main__:6dcdc47b-20d4-18bc-0d71-600a15e8925f\n",
      "WARNING:__main__:46b91f1a-8fdf-86f7-a533-b4f31968f122\n",
      "WARNING:__main__:be387468-7ba9-4ad5-bf6f-814517191765\n",
      "WARNING:__main__:c7fd60d9-e148-9a97-fc14-13ca03418b9e\n"
     ]
    },
    {
     "name": "stdout",
     "output_type": "stream",
     "text": [
      "processed chunk 938\n"
     ]
    },
    {
     "name": "stderr",
     "output_type": "stream",
     "text": [
      "WARNING:__main__:f901e881-924a-884c-354f-2ca674f5a0df\n",
      "WARNING:__main__:c475db6a-8819-2f0f-ea15-3c16ad941e26\n",
      "WARNING:__main__:60ee817e-8883-9272-b60e-55dcca4d73f1\n",
      "WARNING:__main__:3e2b10ff-8102-eb23-8e28-ad4a44835316\n",
      "WARNING:__main__:10845572-dc95-1886-53ba-548234f56ebe\n",
      "WARNING:__main__:65f0b89f-68b7-26a6-cc4b-b0ffc799c7eb\n",
      "WARNING:__main__:f66d8b31-f367-2a57-94c0-5fa5a3ad1679\n",
      "WARNING:__main__:9f15c9fe-6803-2e53-5c5a-f7d6559a224b\n",
      "WARNING:__main__:a7ffa67b-0488-f9d0-fc7f-8a5b2adc740b\n",
      "WARNING:__main__:bcc5ce66-3743-0e40-b07f-420f9d5855d1\n"
     ]
    },
    {
     "name": "stdout",
     "output_type": "stream",
     "text": [
      "processed chunk 939\n"
     ]
    },
    {
     "name": "stderr",
     "output_type": "stream",
     "text": [
      "WARNING:__main__:ca00f073-ac07-0316-2031-901d2f94d5a9\n",
      "WARNING:__main__:51dcf915-7fad-ec5f-e535-fc3974182c00\n",
      "WARNING:__main__:9bb75f21-5b20-aeaf-c3b4-3094e31adb64\n",
      "WARNING:__main__:eb170ade-eeba-e9da-3168-8843ce43ca0f\n",
      "WARNING:__main__:d1571c40-92b2-f3d4-f8b4-806431947c13\n",
      "WARNING:__main__:e96b5f2c-7ead-3d02-0719-e1b06a23934c\n",
      "WARNING:__main__:adaeb5c6-e7c7-fca7-83b4-90e6930dd7bb\n",
      "WARNING:__main__:b730d2e1-6f76-5fbc-2edb-782c429ba630\n",
      "WARNING:__main__:b3ac3b04-7124-21d6-26bc-c4c35365ebc0\n",
      "WARNING:__main__:60b94d88-0e69-0495-15df-57bacfb1beea\n",
      "WARNING:__main__:ed88780b-457c-013d-898c-d1eede6edb35\n",
      "WARNING:__main__:0320b0c0-c5c7-9d1f-5c16-449ffe408c12\n",
      "WARNING:__main__:92810c70-cb5a-163d-c2dd-43862d3f4bfb\n"
     ]
    },
    {
     "name": "stdout",
     "output_type": "stream",
     "text": [
      "processed chunk 940\n"
     ]
    },
    {
     "name": "stderr",
     "output_type": "stream",
     "text": [
      "WARNING:__main__:5e88a94e-a942-91f3-c79c-51300fd30778\n",
      "WARNING:__main__:874159ec-1393-4fbe-a210-0915d0a1a273\n",
      "WARNING:__main__:3b75947f-a681-f917-fe3f-bedca4c50b03\n",
      "WARNING:__main__:d1c2aeba-9f46-bb56-f0ae-0b272d70f977\n",
      "WARNING:__main__:15831033-cb5a-8931-6aeb-2d84089e7ae9\n",
      "WARNING:__main__:41063994-ef6f-7736-a2ff-0157ff90d486\n",
      "WARNING:__main__:460478b2-669a-892e-69b9-38fdaecd6d97\n",
      "WARNING:__main__:c5bcb192-d24b-d671-18fd-0fd8ffe69e9d\n",
      "WARNING:__main__:b97b520b-5eea-9b8d-9bc3-98d674ac04a2\n"
     ]
    },
    {
     "name": "stdout",
     "output_type": "stream",
     "text": [
      "processed chunk 941\n"
     ]
    },
    {
     "name": "stderr",
     "output_type": "stream",
     "text": [
      "WARNING:__main__:0088683a-f35f-56c1-4b3c-d991a7c80664\n",
      "WARNING:__main__:7af232dc-f560-89d0-a586-0313fe7e471d\n",
      "WARNING:__main__:4cbe891e-8323-cd1c-662e-45a7d437dcf4\n",
      "WARNING:__main__:fdf57224-cd2f-803c-6718-3f9917c29e0a\n",
      "WARNING:__main__:85fea78e-ac97-b96b-1c94-280580662cbd\n",
      "WARNING:__main__:cf09e6c4-a10a-bdf8-30b3-02fbfc22e108\n"
     ]
    },
    {
     "name": "stdout",
     "output_type": "stream",
     "text": [
      "processed chunk 942\n"
     ]
    },
    {
     "name": "stderr",
     "output_type": "stream",
     "text": [
      "WARNING:__main__:b8529a8c-19ee-4ac8-4a6a-fd40c76761dc\n",
      "WARNING:__main__:1bb0804b-591e-a8c2-0455-a28a453f41d3\n",
      "WARNING:__main__:7f3f2419-bba9-c55d-d14b-67e2e9ba6611\n",
      "WARNING:__main__:44069d6e-9deb-165b-5c62-0c4893604c7b\n",
      "WARNING:__main__:1e31a5b1-e076-8b71-9674-47276ea1d813\n",
      "WARNING:__main__:72b1e7cc-ae00-e3d6-2ccf-93c21ab13678\n",
      "WARNING:__main__:54b78b20-5192-ab86-8f5d-425fa6b7a12b\n",
      "WARNING:__main__:5fc09b9c-7c86-32ed-9669-b44907f8399c\n",
      "WARNING:__main__:6b828c74-239d-5521-4e0a-88c605485bbe\n",
      "WARNING:__main__:e5853516-999d-8867-c9ca-572a787bbfaa\n",
      "WARNING:__main__:7750d986-ed5f-4d1b-ab0a-98563a451c0a\n",
      "WARNING:__main__:6a2a1ea3-caa5-62de-5a2c-12e91557a638\n",
      "WARNING:__main__:e5d71827-a23b-f1f5-bf08-fca2ab41a979\n",
      "WARNING:__main__:7be58dbc-ae7e-2067-70f7-f0828e2eb30a\n",
      "WARNING:__main__:17c38a91-f38a-5559-36f3-f3e92f0dd8c5\n",
      "WARNING:__main__:de58e5e8-6943-941b-85a3-d148f37d6523\n",
      "WARNING:__main__:65f872ee-9aae-761b-7365-b05414b5c2b6\n",
      "WARNING:__main__:a69080e3-e0f4-43b8-496d-11164afb49e9\n",
      "WARNING:__main__:8aa16324-bfe1-7241-21e4-a1de47bc6c12\n"
     ]
    },
    {
     "name": "stdout",
     "output_type": "stream",
     "text": [
      "processed chunk 943\n"
     ]
    },
    {
     "name": "stderr",
     "output_type": "stream",
     "text": [
      "WARNING:__main__:25baf17f-2b02-9323-f50e-bb82804d0018\n",
      "WARNING:__main__:74d7e6b5-20ad-e944-20d2-2d1d7490250e\n",
      "WARNING:__main__:c99d1372-3b6c-df8a-e549-9e71fa0fc250\n",
      "WARNING:__main__:879a8fab-255d-fb4a-b05c-2efd6a7588a3\n",
      "WARNING:__main__:ef4e63a6-083c-4214-9807-b663bd22c21c\n",
      "WARNING:__main__:99218d9f-4a0c-39de-8a44-ef240f518160\n",
      "WARNING:__main__:0846518f-e0d5-4b48-401e-3d2148d587a6\n",
      "WARNING:__main__:50e345f0-e2c9-cc4d-f7e4-8046e70f4ea8\n",
      "WARNING:__main__:1fb4a2b2-84de-9d71-5ae2-4da2cbbef490\n",
      "WARNING:__main__:e0873632-7f45-708e-8125-900af3707a2c\n",
      "WARNING:__main__:f39ef2d1-c6ca-db32-2696-ea04ab4288c7\n",
      "WARNING:__main__:c7c8e837-1a3b-41a4-c4c6-5c49bf8c08a6\n",
      "WARNING:__main__:9b5fe83a-2acc-a2c0-8af1-73caf0fb9116\n",
      "WARNING:__main__:d4132df4-f1c7-001f-ca7a-9e7c3e43ffff\n",
      "WARNING:__main__:f5e626ac-3ce6-754d-fefe-a34d5ba59379\n",
      "WARNING:__main__:7972aa16-e6ac-1327-d541-7c9c1661c8fa\n",
      "WARNING:__main__:870ddd69-328e-252d-4031-89869d24f525\n",
      "WARNING:__main__:f02ff145-a4fe-60e3-ec73-16b24429a005\n",
      "WARNING:__main__:ab115327-fd62-c97c-8119-ce028154e491\n"
     ]
    },
    {
     "name": "stdout",
     "output_type": "stream",
     "text": [
      "processed chunk 944\n"
     ]
    },
    {
     "name": "stderr",
     "output_type": "stream",
     "text": [
      "WARNING:__main__:28efcc75-6ebb-a989-fb43-1ab5fc83b42d\n",
      "WARNING:__main__:66598c5d-8e7a-b7ab-9747-1926c166c8cc\n",
      "WARNING:__main__:e6546e6b-4862-f398-283a-958191823b0c\n",
      "WARNING:__main__:538b3b91-be2a-aa45-3625-58ff5e2f10e6\n",
      "WARNING:__main__:2524174e-cc5d-c653-0369-92fc581b9aab\n",
      "WARNING:__main__:0c0f9fd5-6588-faa3-a694-c89f65f0336f\n"
     ]
    },
    {
     "name": "stdout",
     "output_type": "stream",
     "text": [
      "processed chunk 945\n",
      "processed chunk 946\n"
     ]
    },
    {
     "name": "stderr",
     "output_type": "stream",
     "text": [
      "WARNING:__main__:1b9b3e91-977d-0ae5-46a3-af866e9b3f9d\n",
      "WARNING:__main__:c8c97b72-4a29-65f9-552a-cb139b72985f\n",
      "WARNING:__main__:f6932fa4-ed69-0e2f-9db0-461095f8e07f\n",
      "WARNING:__main__:3704fdc8-033f-8687-fa2b-1049bb3d6ffe\n",
      "WARNING:__main__:70b313c6-0d45-8677-75b7-650f1bff0c46\n",
      "WARNING:__main__:d00463f4-7e0e-b1b0-99cd-d8f3d7454fd1\n",
      "WARNING:__main__:b0b8e197-8498-649d-7777-079febb96e2e\n",
      "WARNING:__main__:ac6f069d-50ef-95f4-6c7a-be9a3002de76\n",
      "WARNING:__main__:7717cff1-d744-94d8-115f-230b90ab1ca5\n",
      "WARNING:__main__:d8f7a227-0b54-6229-a91a-95f5cbad0c35\n",
      "WARNING:__main__:1524de64-7244-14fb-51c9-ddeaf2f5f725\n"
     ]
    },
    {
     "name": "stdout",
     "output_type": "stream",
     "text": [
      "processed chunk 947\n"
     ]
    },
    {
     "name": "stderr",
     "output_type": "stream",
     "text": [
      "WARNING:__main__:0db119f2-1cc5-32e5-3bea-d0c4a3ce57dc\n",
      "WARNING:__main__:551f889d-5444-5548-b73d-20a221212088\n",
      "WARNING:__main__:744dbd8c-f3dc-1df8-6ef3-4a5be159b709\n",
      "WARNING:__main__:38e08cad-e67e-e943-0888-9190c3c43841\n",
      "WARNING:__main__:943d67be-2257-92c3-77f3-4b32084b322d\n",
      "WARNING:__main__:b1bfb18b-f61a-71d1-b0e2-7e545fdc8122\n",
      "WARNING:__main__:1148e77b-90e5-ed4c-e108-0ca9998da15c\n",
      "WARNING:__main__:ba5652fd-f6a9-4f61-1710-31ab6562152e\n",
      "WARNING:__main__:973ed757-3de2-36ba-2df3-d6a8ebf3b453\n",
      "WARNING:__main__:2e09b393-0c03-1c17-65a2-bc84ae5498c2\n",
      "WARNING:__main__:61bc4b88-0a45-ecc6-32b9-cfcf1324356d\n",
      "WARNING:__main__:9ee4a2eb-6049-a14a-eea6-fd79c7f34f27\n",
      "WARNING:__main__:c245ad7b-4c08-ea86-d366-6ea28c4b5bd2\n",
      "WARNING:__main__:f3bf5a83-4970-9538-d55f-abe6b7e08018\n",
      "WARNING:__main__:7d04e15c-bc1a-eeb7-13a7-b921ad2aaf09\n",
      "WARNING:__main__:bd5e4a57-eac2-9f5d-b7a5-58b40d6f84ab\n",
      "WARNING:__main__:b0b6554f-fea2-1740-7a2b-2cdaa693b378\n"
     ]
    },
    {
     "name": "stdout",
     "output_type": "stream",
     "text": [
      "processed chunk 948\n"
     ]
    },
    {
     "name": "stderr",
     "output_type": "stream",
     "text": [
      "WARNING:__main__:189eb28c-52d7-9527-c69c-ce8253ed825c\n",
      "WARNING:__main__:82e26f0f-7b97-72cc-8ccc-2b0f9e9ba98b\n",
      "WARNING:__main__:994bb76d-c5af-e7ac-fc56-0a54feaf9e1b\n",
      "WARNING:__main__:6eb1afbd-5042-53ab-de74-da988b2f5d76\n",
      "WARNING:__main__:28217415-ccf2-98db-b6a1-1bab7a5dcfda\n",
      "WARNING:__main__:1185ba34-d608-86f7-592c-808f7c1a5890\n",
      "WARNING:__main__:39502937-62d7-fd68-79ad-b66ed87b8bdc\n",
      "WARNING:__main__:18d333ec-c640-06a6-aa19-7df5b3cd72d9\n",
      "WARNING:__main__:cc9ef1ec-5754-e1aa-1873-a8aff5ca296f\n",
      "WARNING:__main__:0ffc4a0e-94c8-1c45-f6f6-a8ff93b910d3\n",
      "WARNING:__main__:fef7ca0d-e93f-58a4-80b6-c955ea457dc0\n",
      "WARNING:__main__:557eb9d0-1775-9e5a-cf41-25ad12774a25\n",
      "WARNING:__main__:f2c88c3d-ea4e-2a64-06cb-b6ffabf77299\n",
      "WARNING:__main__:bdf41b3b-905d-f1e3-35f8-8fd436e3dc88\n",
      "WARNING:__main__:f8df82c0-216b-8914-a004-79d7355632c7\n",
      "WARNING:__main__:6c38c1a6-737f-07e1-c91c-6df6b54c6622\n"
     ]
    },
    {
     "name": "stdout",
     "output_type": "stream",
     "text": [
      "processed chunk 949\n"
     ]
    },
    {
     "name": "stderr",
     "output_type": "stream",
     "text": [
      "WARNING:__main__:e3e41b0c-807a-1c08-5279-e8f5f5cd8e36\n",
      "WARNING:__main__:012163b2-4fff-ac7c-55a2-c0e255f39338\n",
      "WARNING:__main__:c4c0fcbe-dea4-2876-e79c-d61d8c345e21\n",
      "WARNING:__main__:d9d0db47-77a9-27a5-0082-667bfccd76f7\n",
      "WARNING:__main__:682ba44e-8add-31ea-b946-988038a7c07a\n",
      "WARNING:__main__:ae345a04-c2cb-aa1c-856a-032a27fcec23\n",
      "WARNING:__main__:26078cbf-2142-d8ba-f66d-7aa429ca4efb\n",
      "WARNING:__main__:61c26b83-9ed2-bdf7-aa57-5dded45c67b0\n",
      "WARNING:__main__:6018b95d-e136-c081-97b9-0f0bc4822a25\n"
     ]
    },
    {
     "name": "stdout",
     "output_type": "stream",
     "text": [
      "processed chunk 950\n",
      "processed chunk 951\n"
     ]
    },
    {
     "name": "stderr",
     "output_type": "stream",
     "text": [
      "WARNING:__main__:b30c71dc-9f6a-90c3-a57e-23144656bf49\n",
      "WARNING:__main__:0f6d81f9-6353-d892-1c5d-769700e7dfa4\n",
      "WARNING:__main__:f4ab2e2a-195d-b2b4-cf34-8a1a1d906e35\n",
      "WARNING:__main__:cd64b411-b46e-9bb1-5219-e0c98e27321d\n",
      "WARNING:__main__:03c26d91-ebd8-6818-f432-749723a3ddb1\n",
      "WARNING:__main__:607ff26f-8879-9733-014d-a720bb7c9c73\n",
      "WARNING:__main__:b1fcaab8-6d36-67f9-bf00-fef08c7c24c7\n",
      "WARNING:__main__:7dd7b85d-5432-eab6-13a1-f37cba4a07cc\n",
      "WARNING:__main__:555941aa-e23a-f59a-55ee-46441c799ce3\n",
      "WARNING:__main__:bc2c11d8-baf1-b576-d2da-83ecd53177de\n",
      "WARNING:__main__:faf7d611-de0b-b68f-c595-0d2fef0d9f3e\n",
      "WARNING:__main__:b790c16c-fb0b-6bb8-8fbe-938dea343119\n",
      "WARNING:__main__:58eed9d5-8583-b010-ac8e-e64702f2d27b\n",
      "WARNING:__main__:257c2c6d-d73d-6f6f-c58b-e086eaeb35fe\n",
      "WARNING:__main__:a1a5dfce-390a-af57-5719-2fd2d1a7676e\n",
      "WARNING:__main__:da8f310a-c2c0-c809-286b-9afd32077635\n",
      "WARNING:__main__:5b5039ee-e40c-883f-6cc8-1fff201a359c\n",
      "WARNING:__main__:550c2ef6-6766-2b32-846e-061c37d27eee\n",
      "WARNING:__main__:33144773-f370-870b-18e7-1ddd22ac9476\n",
      "WARNING:__main__:aeaec6c3-1b72-a13b-c9d0-c3e428245e73\n"
     ]
    },
    {
     "name": "stdout",
     "output_type": "stream",
     "text": [
      "processed chunk 952\n",
      "processed chunk 953\n"
     ]
    },
    {
     "name": "stderr",
     "output_type": "stream",
     "text": [
      "WARNING:__main__:3a4493b5-8723-3dbe-0259-6ed0c35724fd\n",
      "WARNING:__main__:8f63fb18-915e-d7e5-85f9-3117e51ca733\n",
      "WARNING:__main__:607fcd80-fa83-5cf8-d629-a12d6ba200fc\n",
      "WARNING:__main__:4610f036-6dce-c6da-59c6-ff4d93ed57d7\n",
      "WARNING:__main__:f504b672-ad75-dc95-e84c-26b8afaf3d57\n",
      "WARNING:__main__:b7aeff3c-058a-4daa-066d-67401081da93\n",
      "WARNING:__main__:77ab4d97-6592-c1ce-2093-077400842abd\n",
      "WARNING:__main__:ed979127-6518-d284-6867-cd97518af2ad\n",
      "WARNING:__main__:ab209090-99d3-e886-c838-e9df34dbcca8\n",
      "WARNING:__main__:c6e78709-398c-6b52-e38c-42ba13d85662\n",
      "WARNING:__main__:d68bc304-b1fd-8613-103c-9825cf4648c0\n",
      "WARNING:__main__:a0e0faba-5c26-80d7-4148-5d7148c0abfe\n",
      "WARNING:__main__:813008c7-7b63-b424-d8d6-89342fbfe27b\n",
      "WARNING:__main__:015c65e9-842a-2505-1f03-ab7fb76e547e\n",
      "WARNING:__main__:492b0986-227c-ac61-cc46-09413d541431\n",
      "WARNING:__main__:08e14fc2-d93b-4299-5443-d8d7a24dc81c\n",
      "WARNING:__main__:074369e0-5f3a-2ebc-118c-2c6766f75b62\n",
      "WARNING:__main__:7508b9c4-f001-c7bf-e7c7-6643c63e252d\n"
     ]
    },
    {
     "name": "stdout",
     "output_type": "stream",
     "text": [
      "processed chunk 954\n"
     ]
    },
    {
     "name": "stderr",
     "output_type": "stream",
     "text": [
      "WARNING:__main__:6f347cf4-ce4f-604f-e894-b36c04d6057b\n",
      "WARNING:__main__:444026c7-4f2f-0c75-3a64-213039d255cf\n",
      "WARNING:__main__:9b8cc4fd-33a9-b7fd-4b60-f2f661e5506b\n",
      "WARNING:__main__:761c9859-febe-76a3-eced-dddd3f3d8125\n",
      "WARNING:__main__:38c86463-77bc-7e24-e6f1-055731d01d91\n",
      "WARNING:__main__:aa283fa2-0fd9-d5af-f7fe-5fac5b64329d\n",
      "WARNING:__main__:58136cae-4b42-5b0e-5f3e-2bb21f5227b7\n",
      "WARNING:__main__:05a8afc5-6f75-361f-d246-8cf0de81910d\n",
      "WARNING:__main__:676461f4-c2cc-cd1c-2594-cb530b60dc6e\n",
      "WARNING:__main__:a4e7c802-77ad-f189-825f-bc594a483a16\n",
      "WARNING:__main__:df1e3354-4e59-4b25-5d07-2aa813274549\n",
      "WARNING:__main__:ced4f760-f90c-9406-c1d7-71abbe382826\n",
      "WARNING:__main__:684be0cc-d87d-54f6-56a8-ac8980959c71\n",
      "WARNING:__main__:941c2388-387e-580c-829c-ac5496e806b4\n",
      "WARNING:__main__:67f142a1-9d2f-77b3-4f66-525daa59e4b5\n",
      "WARNING:__main__:26a8acb5-d128-83fd-3b16-6f8104c1726e\n",
      "WARNING:__main__:91029e44-e1df-5f36-0918-aaa508014b05\n",
      "WARNING:__main__:5033949f-5361-3829-3794-4d38b2895b71\n",
      "WARNING:__main__:ac555276-18f1-2ffa-3cc1-5c8ccc177624\n",
      "WARNING:__main__:c05e52e9-721b-cdd6-28d9-78f8a3a1b051\n"
     ]
    },
    {
     "name": "stdout",
     "output_type": "stream",
     "text": [
      "processed chunk 955\n"
     ]
    },
    {
     "name": "stderr",
     "output_type": "stream",
     "text": [
      "WARNING:__main__:92fdd9ec-829c-d487-3569-c0a2ed763102\n",
      "WARNING:__main__:a4c12180-ba47-8a3b-2b7b-25e6849825e7\n"
     ]
    },
    {
     "name": "stdout",
     "output_type": "stream",
     "text": [
      "processed chunk 956\n"
     ]
    },
    {
     "name": "stderr",
     "output_type": "stream",
     "text": [
      "WARNING:__main__:93c0d6bf-3d3c-a357-7bae-401155fe1a7c\n"
     ]
    },
    {
     "name": "stdout",
     "output_type": "stream",
     "text": [
      "processed chunk 957\n",
      "processed chunk 958\n"
     ]
    },
    {
     "name": "stderr",
     "output_type": "stream",
     "text": [
      "WARNING:__main__:06a80fa9-ca41-da86-646a-9063f6fb9b1b\n",
      "WARNING:__main__:a0fee770-80fc-fdd9-7cae-2d04e93f5b3c\n",
      "WARNING:__main__:79ac91b2-3c3a-5034-f073-c247b4c28923\n",
      "WARNING:__main__:87a5d63e-5493-58fe-87e0-58643b3611dd\n",
      "WARNING:__main__:b6fa60cb-2ae8-ec9a-d718-ee216cee0f4c\n",
      "WARNING:__main__:314959b4-4e6d-d36e-a3d7-f1a5f4621a1c\n"
     ]
    },
    {
     "name": "stdout",
     "output_type": "stream",
     "text": [
      "processed chunk 959\n"
     ]
    },
    {
     "name": "stderr",
     "output_type": "stream",
     "text": [
      "WARNING:__main__:90a14059-6c7d-8fa1-8cc6-0c902ed84b33\n"
     ]
    },
    {
     "name": "stdout",
     "output_type": "stream",
     "text": [
      "processed chunk 960\n"
     ]
    },
    {
     "name": "stderr",
     "output_type": "stream",
     "text": [
      "WARNING:__main__:bcff9223-8c35-9f22-33c2-d12282031e98\n",
      "WARNING:__main__:410b0025-ea68-cdf4-869d-188e684c0639\n",
      "WARNING:__main__:51aeebdf-eaa6-31d4-c98a-14a961054c4e\n",
      "WARNING:__main__:56dd0a8b-db41-5648-89ae-c5eaf679fca2\n"
     ]
    },
    {
     "name": "stdout",
     "output_type": "stream",
     "text": [
      "processed chunk 961\n",
      "processed chunk 962\n"
     ]
    },
    {
     "name": "stderr",
     "output_type": "stream",
     "text": [
      "WARNING:__main__:4d285058-5e03-2419-91c4-420bd8e4c174\n",
      "WARNING:__main__:cf9e40ee-2160-d59f-1f51-486813b49f31\n",
      "WARNING:__main__:051f8bba-b0ec-7030-f51d-5708f7fb7125\n",
      "WARNING:__main__:b0668fb4-77a5-b77e-e3c6-d78c91be3ce4\n",
      "WARNING:__main__:f994de16-0841-a468-b0e2-7fb00ec01d62\n",
      "WARNING:__main__:894022ec-2ba0-1188-d608-8e271cc313b1\n",
      "WARNING:__main__:48b5162b-86b7-3136-0a21-5a3e8661cce7\n",
      "WARNING:__main__:5cd0d6e6-4ded-ba6f-7b49-685bdb94504f\n",
      "WARNING:__main__:ff0ddab8-c946-2b6b-2086-409994e3317b\n",
      "WARNING:__main__:5c4e1e91-0a5a-6c93-cfd2-66015576766c\n",
      "WARNING:__main__:a6075ccc-9943-f4c3-7a6b-5e84908a78b7\n",
      "WARNING:__main__:0ac8d298-ee5d-1e11-91e7-466ebea69772\n",
      "WARNING:__main__:f4183212-4efe-a785-f401-3b81704a0cee\n",
      "WARNING:__main__:00b6eb89-b447-789e-1a2c-071bc41fc747\n",
      "WARNING:__main__:87807503-21a7-fdd7-8e16-0d2fdf123035\n",
      "WARNING:__main__:f4e08868-799a-b2ca-1aa3-c921a7f2f18b\n",
      "WARNING:__main__:21daa858-c661-cd22-d055-0911b81ee909\n",
      "WARNING:__main__:b7f27112-036b-e57a-d9a5-af805c3e0eb7\n",
      "WARNING:__main__:eeccb774-0ec7-8708-b88b-6f2ae7995836\n"
     ]
    },
    {
     "name": "stdout",
     "output_type": "stream",
     "text": [
      "processed chunk 963\n"
     ]
    },
    {
     "name": "stderr",
     "output_type": "stream",
     "text": [
      "WARNING:__main__:a9bb66a3-68c8-96b6-b93b-01a6b4fe6b32\n"
     ]
    },
    {
     "name": "stdout",
     "output_type": "stream",
     "text": [
      "processed chunk 964\n"
     ]
    },
    {
     "name": "stderr",
     "output_type": "stream",
     "text": [
      "WARNING:__main__:b09aad7d-3967-dc6b-be9a-1e1b4eb57f94\n",
      "WARNING:__main__:659ed469-8b50-61ce-1337-04458b631adc\n"
     ]
    },
    {
     "name": "stdout",
     "output_type": "stream",
     "text": [
      "processed chunk 965\n"
     ]
    },
    {
     "name": "stderr",
     "output_type": "stream",
     "text": [
      "WARNING:__main__:b8dd59cf-7568-a502-62ed-09a55306e394\n",
      "WARNING:__main__:14222da8-d3ff-8f65-2275-10aa856facad\n",
      "WARNING:__main__:b566bf57-c563-d8bf-8670-17d8e6c09d0b\n",
      "WARNING:__main__:24784d80-204f-e514-7b07-b9eb2df0d081\n",
      "WARNING:__main__:9aae6708-7da9-53d1-ac15-715c77d6e500\n",
      "WARNING:__main__:41a25405-46eb-426f-1fd3-72fc6fde138e\n"
     ]
    },
    {
     "name": "stdout",
     "output_type": "stream",
     "text": [
      "processed chunk 966\n"
     ]
    },
    {
     "name": "stderr",
     "output_type": "stream",
     "text": [
      "WARNING:__main__:e57ab125-f7f4-61bf-f001-249370851d54\n",
      "WARNING:__main__:2880333d-acf1-ec5a-dde1-91ee51e8140a\n",
      "WARNING:__main__:c49a629c-900c-cdd6-ecc2-977865bfc719\n",
      "WARNING:__main__:67bf51eb-d89c-97b3-af17-af6f87d4c02b\n",
      "WARNING:__main__:a562b3eb-47dd-6b7b-587e-006d6b227539\n"
     ]
    },
    {
     "name": "stdout",
     "output_type": "stream",
     "text": [
      "processed chunk 967\n"
     ]
    },
    {
     "name": "stderr",
     "output_type": "stream",
     "text": [
      "WARNING:__main__:fa5dae1c-8c9d-e110-8aa1-b9b764caaae2\n"
     ]
    },
    {
     "name": "stdout",
     "output_type": "stream",
     "text": [
      "processed chunk 968\n"
     ]
    },
    {
     "name": "stderr",
     "output_type": "stream",
     "text": [
      "WARNING:__main__:c0316319-f954-6f9b-ecae-57ac73a2b11d\n",
      "WARNING:__main__:d5a4cde7-6ea1-7078-fd0b-c40c58567905\n",
      "WARNING:__main__:7742d47a-0353-1931-4eb5-76df5df30be2\n",
      "WARNING:__main__:d451c662-321a-3a12-5dd7-c1639ba92ddd\n",
      "WARNING:__main__:244be4c6-0aab-7836-dfff-878e814ada85\n",
      "WARNING:__main__:dd772b44-b3c1-f8cb-9f72-8fc25a7afa89\n",
      "WARNING:__main__:bafe54f7-2064-ca1c-f6a3-4bb9292e7b80\n",
      "WARNING:__main__:0466a133-c817-f20e-9185-561dd367bdcf\n",
      "WARNING:__main__:146996c8-386a-e6ee-1dee-6ec27bb4006d\n",
      "WARNING:__main__:6d616328-063b-08bc-4972-12077989db83\n",
      "WARNING:__main__:35dd2e98-8a5d-1dd8-620e-efecce3f898a\n",
      "WARNING:__main__:0e49c5bb-1e45-df37-e8ac-8d7aafc565b2\n",
      "WARNING:__main__:66c386cb-83cb-12f7-f770-bce0c915d644\n",
      "WARNING:__main__:be8ae814-16d5-75c8-0360-cd7f88f2d813\n",
      "WARNING:__main__:1459699a-f433-88a4-8891-1caa11f4064e\n",
      "WARNING:__main__:6200180f-68c8-0122-0347-3fe863214a88\n",
      "WARNING:__main__:245ff76d-5d1c-7334-b9f1-2bd9eafbabb9\n",
      "WARNING:__main__:08959ff4-5b1f-a245-4bed-73f94a58d007\n",
      "WARNING:__main__:da91dc9a-c3c3-4263-c819-a682a823a1a1\n",
      "WARNING:__main__:769a9713-35ef-e167-2995-e264f80246d0\n",
      "WARNING:__main__:bd08e197-75af-e591-ad96-5effdf7a207c\n",
      "WARNING:__main__:591ec3f6-054e-f1b9-4a5e-c1ed2631c94d\n",
      "WARNING:__main__:035b4a2a-d35a-bbf6-059f-f3578c47105b\n",
      "WARNING:__main__:0881844f-bbf0-fa1f-ea84-acc6addbddef\n",
      "WARNING:__main__:e7a3f43f-ff30-4f22-bfbe-7c78c9b6c4c3\n",
      "WARNING:__main__:e30ccd4a-71fa-0f35-867a-18ee9e150131\n",
      "WARNING:__main__:e28255e0-f78a-5dd2-3b67-f0e57d6b1c52\n",
      "WARNING:__main__:0d7797fc-d069-bc20-061f-dde4b95b6605\n",
      "WARNING:__main__:6713f9f7-0292-c682-552b-a5722fcb01c2\n"
     ]
    },
    {
     "name": "stdout",
     "output_type": "stream",
     "text": [
      "processed chunk 969\n"
     ]
    },
    {
     "name": "stderr",
     "output_type": "stream",
     "text": [
      "WARNING:__main__:39fafd9b-cdb2-7a68-7968-3766d4bb949f\n"
     ]
    },
    {
     "name": "stdout",
     "output_type": "stream",
     "text": [
      "processed chunk 970\n",
      "processed chunk 971\n"
     ]
    },
    {
     "name": "stderr",
     "output_type": "stream",
     "text": [
      "WARNING:__main__:92d2683b-6eda-cc47-f1ab-5f20a8f863d4\n",
      "WARNING:__main__:99e07793-d521-0e9d-31cb-1e64c81ef624\n",
      "WARNING:__main__:cc034317-456e-9540-b48e-f66b0c65d1c8\n",
      "WARNING:__main__:6cbf2d7e-68c8-396e-6220-54a9311a8e40\n",
      "WARNING:__main__:42e6a042-db48-fbcd-304c-2c594c7691b8\n",
      "WARNING:__main__:db9885eb-66ef-47d0-d866-94b992c32222\n",
      "WARNING:__main__:a93353a6-962a-6414-11b2-4b505555f1af\n",
      "WARNING:__main__:62fe8cc8-1da2-eae7-8885-9893402149dc\n",
      "WARNING:__main__:0aae80cf-545b-b701-f43e-927a01720824\n",
      "WARNING:__main__:bad626d7-7278-8638-b322-fd40389dbbd3\n",
      "WARNING:__main__:9fdf9c56-81bd-2ea9-3b0f-f0fa9ab7d2e5\n",
      "WARNING:__main__:feddac09-d7d5-e1a8-e02f-7f690167e8a8\n",
      "WARNING:__main__:12a735d9-6fc1-e6b0-3e51-fdb9c856bb9a\n",
      "WARNING:__main__:5675c58a-e42d-a007-42cf-51e0372f5137\n",
      "WARNING:__main__:33689932-a945-829a-ef00-a1ecaa9fe6d7\n",
      "WARNING:__main__:c63d9b28-aee3-09b7-4e4a-ae21a15e11e1\n",
      "WARNING:__main__:10aef9cd-2655-04c9-5820-d31198207180\n",
      "WARNING:__main__:61d6cffc-1fba-cdc6-7c49-73d946d68826\n",
      "WARNING:__main__:efb341ec-8943-4a21-1c89-27d05d345626\n"
     ]
    },
    {
     "name": "stdout",
     "output_type": "stream",
     "text": [
      "processed chunk 972\n"
     ]
    },
    {
     "name": "stderr",
     "output_type": "stream",
     "text": [
      "WARNING:__main__:09daf51b-b683-c7b6-8fd1-713d4d4b58db\n",
      "WARNING:__main__:9f5a9aa5-1c08-3da1-778e-d6caee408d0b\n",
      "WARNING:__main__:fc38be83-7115-61f2-1a47-c5e0634a6bfe\n",
      "WARNING:__main__:0ebff64d-efb6-0b34-e7d3-c878733c13c9\n",
      "WARNING:__main__:3d799971-2657-c919-366f-2f3d64f89ab8\n",
      "WARNING:__main__:7eedda50-d4b9-2f78-5364-1eef84f8446b\n",
      "WARNING:__main__:3a710afd-19eb-1308-967b-657983b42acf\n",
      "WARNING:__main__:51d1927e-a949-c38e-5c72-c2e9546f3c1b\n",
      "WARNING:__main__:c0e77650-c4a0-3017-c0f7-6a0168e5f197\n",
      "WARNING:__main__:c16a723e-a2df-3ead-f0b6-4bd8901075a8\n",
      "WARNING:__main__:bbefb764-3077-1fdc-7457-ea1508313353\n"
     ]
    },
    {
     "name": "stdout",
     "output_type": "stream",
     "text": [
      "processed chunk 973\n"
     ]
    },
    {
     "name": "stderr",
     "output_type": "stream",
     "text": [
      "WARNING:__main__:d5fe1705-cbe0-daa5-0723-13cb8d78d8b8\n",
      "WARNING:__main__:f4d918eb-f641-48f8-cc71-ee2ae638a1c4\n",
      "WARNING:__main__:132d2d88-a242-1f9e-0d39-b35d5258cb74\n",
      "WARNING:__main__:5fca5adc-8d7e-3185-ecf2-567cff112515\n",
      "WARNING:__main__:ca9a2c0f-a133-3cfd-15e8-692e5ba50106\n"
     ]
    },
    {
     "name": "stdout",
     "output_type": "stream",
     "text": [
      "processed chunk 974\n",
      "processed chunk 975\n"
     ]
    },
    {
     "name": "stderr",
     "output_type": "stream",
     "text": [
      "WARNING:__main__:343ecef9-3615-4d23-49fd-64468e23b7bb\n",
      "WARNING:__main__:d07e2235-d4e2-5f41-965a-7e3564c2f9ee\n",
      "WARNING:__main__:2d9b39d6-bdca-7600-375d-ec7cd7fbf504\n",
      "WARNING:__main__:a258addb-ddb5-b8be-f9a1-79934fd8d344\n",
      "WARNING:__main__:7fcd6e06-b494-49c8-a7d4-3eda02897839\n",
      "WARNING:__main__:8342b033-94fa-3e31-6ee0-b7c65da8b84c\n",
      "WARNING:__main__:b57a882b-7313-4648-dfb5-68c857ef3b2b\n",
      "WARNING:__main__:872ea22f-c91e-fd64-1e6c-b6a9ae3774a3\n",
      "WARNING:__main__:a0268d14-bf0b-b33e-316f-e1f8bb65f811\n",
      "WARNING:__main__:7761f5a4-bae6-4e8d-2f44-70826fba4229\n"
     ]
    },
    {
     "name": "stdout",
     "output_type": "stream",
     "text": [
      "processed chunk 976\n"
     ]
    },
    {
     "name": "stderr",
     "output_type": "stream",
     "text": [
      "WARNING:__main__:7d9d9961-6e0c-df52-82fb-fa2502a10b73\n",
      "WARNING:__main__:fca775a0-b03b-4ad9-eb41-3b858ce7e22c\n",
      "WARNING:__main__:c1ac78df-b104-9ea6-59e7-cd2953cf884b\n",
      "WARNING:__main__:7ec1d61c-5e02-a962-96f3-75304ab68af2\n",
      "WARNING:__main__:7b4f8b9f-34c6-3064-6919-4fda8cc56def\n",
      "WARNING:__main__:26aae0c5-16ab-730a-a21b-6141401fe7cd\n",
      "WARNING:__main__:68cdbc24-d80d-4dcb-6bd6-b8f6bc4735f4\n",
      "WARNING:__main__:fe584f79-7866-f820-bec3-d17f148c2f49\n",
      "WARNING:__main__:c1291f2e-551d-8ded-c0f1-7d7ca2b56e7b\n",
      "WARNING:__main__:d2b32d9f-2ddc-ccee-309c-2ca8ce4534af\n",
      "WARNING:__main__:30a77285-ba30-3809-22db-5daf540cc8b2\n",
      "WARNING:__main__:8f3d09ad-7b21-df96-c1bc-df6ae2cff418\n",
      "WARNING:__main__:4d388778-0158-95ad-b87e-ffb0299002f1\n",
      "WARNING:__main__:c177c6b0-9c3a-62e7-23d6-3d2f02d40e7f\n",
      "WARNING:__main__:ae4eac81-befb-d3d1-8261-961d9750b270\n",
      "WARNING:__main__:44ae1de8-bacf-32dd-ef84-9ba1f700ae0c\n",
      "WARNING:__main__:69196b07-058f-a92b-edee-f4da9643ed40\n",
      "WARNING:__main__:65a3959e-64af-9819-41c6-e93331fa211a\n",
      "WARNING:__main__:83fcb0af-398f-a4aa-4e4e-890e2e0c8c8d\n",
      "WARNING:__main__:32db3e38-39a2-c392-e57f-b9ac3d33d864\n",
      "WARNING:__main__:71466e88-c653-7193-33c4-9b3e5363c22e\n",
      "WARNING:__main__:8f82521b-6308-f1e6-fe2a-8fa884ad6c3d\n",
      "WARNING:__main__:7a16720f-a9a7-a008-5b89-eeac434eb697\n",
      "WARNING:__main__:2c8b95f8-982e-0728-3627-b71c6c5259e8\n",
      "WARNING:__main__:c220930b-3f53-e2e2-a7cb-a47f1e78312c\n",
      "WARNING:__main__:bc16bf59-c4ba-5716-d952-07ffbff09941\n",
      "WARNING:__main__:170a1b69-f892-7b8e-263b-d24eea6565e7\n"
     ]
    },
    {
     "name": "stdout",
     "output_type": "stream",
     "text": [
      "processed chunk 977\n"
     ]
    },
    {
     "name": "stderr",
     "output_type": "stream",
     "text": [
      "WARNING:__main__:6a3f01ad-8ddd-4af1-8d5a-cdf5753706dd\n",
      "WARNING:__main__:216a3ea9-b594-3513-37fb-7c544594defc\n",
      "WARNING:__main__:ae274705-e15d-0882-2f13-d880d7559e7d\n",
      "WARNING:__main__:570687d3-611e-e8fb-8a8c-e1734b8bc863\n",
      "WARNING:__main__:ef87b4e6-fd59-b4eb-b46a-a88ad573ea56\n"
     ]
    },
    {
     "name": "stdout",
     "output_type": "stream",
     "text": [
      "processed chunk 978\n",
      "processed chunk 979\n"
     ]
    },
    {
     "name": "stderr",
     "output_type": "stream",
     "text": [
      "WARNING:__main__:16ee4dd4-bf1e-8c49-f33b-bd22589bb351\n"
     ]
    },
    {
     "name": "stdout",
     "output_type": "stream",
     "text": [
      "processed chunk 980\n"
     ]
    },
    {
     "name": "stderr",
     "output_type": "stream",
     "text": [
      "WARNING:__main__:3a1012d8-4419-661f-02b2-0080cae1f539\n"
     ]
    },
    {
     "name": "stdout",
     "output_type": "stream",
     "text": [
      "processed chunk 981\n"
     ]
    },
    {
     "name": "stderr",
     "output_type": "stream",
     "text": [
      "WARNING:__main__:eca7794a-75e9-4294-35d1-ed2ac21d06c8\n",
      "WARNING:__main__:5393738d-c181-dd93-1b4a-ec8a58cee5c4\n",
      "WARNING:__main__:ddb84133-2c81-a337-a351-84c408da3c5b\n",
      "WARNING:__main__:0f43328b-2ed1-ac8e-ac2a-23d89124527a\n",
      "WARNING:__main__:ce2977cc-ce61-2d4f-6f8b-511657c86719\n",
      "WARNING:__main__:8b077cd7-d510-ad2e-422b-9faec732588d\n",
      "WARNING:__main__:7a641776-cab9-4f21-5b12-2dc593ab69a2\n",
      "WARNING:__main__:5cb0bd19-384e-de54-a3d2-2b38a4f80161\n",
      "WARNING:__main__:b3ec95cf-93b0-20a7-73cf-7b78dcbcc5b4\n",
      "WARNING:__main__:7cbbb3f9-0911-48dc-3745-965709f6cfa5\n"
     ]
    },
    {
     "name": "stdout",
     "output_type": "stream",
     "text": [
      "processed chunk 982\n"
     ]
    },
    {
     "name": "stderr",
     "output_type": "stream",
     "text": [
      "WARNING:__main__:2352d2db-b3ab-bdb4-0585-14b5870f7a4e\n"
     ]
    },
    {
     "name": "stdout",
     "output_type": "stream",
     "text": [
      "processed chunk 983\n"
     ]
    },
    {
     "name": "stderr",
     "output_type": "stream",
     "text": [
      "WARNING:__main__:6f9a35e3-05da-bceb-6b34-fd1dd62cae3a\n",
      "WARNING:__main__:cb7c7029-c2d6-0713-05d8-cb251e5bb94b\n",
      "WARNING:__main__:c97d1d56-9bab-6734-c983-68333c929dd4\n",
      "WARNING:__main__:56102f40-783e-5017-8e34-0af9809212f5\n",
      "WARNING:__main__:f3ced888-2e6e-a817-6a4f-e80172890a20\n",
      "WARNING:__main__:e9a39669-46c4-d301-9936-4ad8041e390a\n",
      "WARNING:__main__:b8dc3385-2e3a-aa61-76cf-ac9ec76f14c4\n",
      "WARNING:__main__:3b01a7d4-a6de-5e2b-c54f-352aae01a5ec\n",
      "WARNING:__main__:fa47eadd-934a-8b94-0367-3583eec1e50a\n",
      "WARNING:__main__:d0c5f4cd-9f75-c9db-7425-cfc6a1d8250f\n",
      "WARNING:__main__:356c3c4e-1600-268a-df4f-1451fd639717\n",
      "WARNING:__main__:709909ec-bcd1-4169-fb67-bd9ddefebca3\n",
      "WARNING:__main__:df8942b3-383c-5640-3376-7df312c9cea9\n",
      "WARNING:__main__:b18f498f-a7cd-7d28-0956-f5b0ab10a1cf\n",
      "WARNING:__main__:9bd3e4f5-be8a-2a65-882b-5517fd88ff6b\n",
      "WARNING:__main__:0e743a45-8a06-8eea-fbc9-c60252029920\n",
      "WARNING:__main__:6fb6a3b9-2d97-dfd9-5228-34e7f9a1e5c3\n",
      "WARNING:__main__:18596f70-4549-b331-dca2-9e9827ec6f3d\n",
      "WARNING:__main__:9ecdd959-4048-575c-cbbb-dc201c06d65d\n"
     ]
    },
    {
     "name": "stdout",
     "output_type": "stream",
     "text": [
      "processed chunk 984\n"
     ]
    },
    {
     "name": "stderr",
     "output_type": "stream",
     "text": [
      "WARNING:__main__:e5f49af7-8906-4695-7a4e-ad0665920fa5\n",
      "WARNING:__main__:ba9e2573-3a76-1cac-56d1-94b11b118aa9\n",
      "WARNING:__main__:e0747eba-9248-2fbd-25d5-e33a4542db79\n",
      "WARNING:__main__:83ef3a09-6cba-d093-4b8d-8b6026cb2d20\n",
      "WARNING:__main__:5a8fe646-28c8-384b-c93e-779b2c4f2834\n",
      "WARNING:__main__:ae50bc61-b80f-585c-2d45-af2e1f696781\n"
     ]
    },
    {
     "name": "stdout",
     "output_type": "stream",
     "text": [
      "processed chunk 985\n"
     ]
    },
    {
     "name": "stderr",
     "output_type": "stream",
     "text": [
      "WARNING:__main__:ce010914-357d-368f-018f-9e062ca51710\n",
      "WARNING:__main__:b0637fcf-4f7a-896b-aded-cc200b9d075d\n",
      "WARNING:__main__:a8930972-69ba-a7a1-ef01-5db40d0a1281\n",
      "WARNING:__main__:4a4a1c05-5cca-fe76-41e0-1a35edc1c77f\n",
      "WARNING:__main__:d53a2628-f9fc-87d9-cbee-6678d0770880\n",
      "WARNING:__main__:3ee509e4-85e8-db6a-4956-95d7abd42e83\n",
      "WARNING:__main__:0932b5b9-0030-1ccc-3c09-f141bc431ecb\n"
     ]
    },
    {
     "name": "stdout",
     "output_type": "stream",
     "text": [
      "processed chunk 986\n"
     ]
    },
    {
     "name": "stderr",
     "output_type": "stream",
     "text": [
      "WARNING:__main__:9f7aa758-4b71-a9e2-d7a7-9e595f66b2c7\n",
      "WARNING:__main__:87d8db29-1a87-0a83-6768-802ac953cc5a\n",
      "WARNING:__main__:b6dd8000-da1f-735c-7f1b-2f3f14b9478d\n",
      "WARNING:__main__:562d9d8b-7b59-4362-e28f-9d17b14c26bc\n",
      "WARNING:__main__:1c5ebfaa-91a6-5bde-aea2-9676271c13d1\n"
     ]
    },
    {
     "name": "stdout",
     "output_type": "stream",
     "text": [
      "processed chunk 987\n"
     ]
    },
    {
     "name": "stderr",
     "output_type": "stream",
     "text": [
      "WARNING:__main__:209d455e-20c6-4092-fb3e-e813a2f91b25\n"
     ]
    },
    {
     "name": "stdout",
     "output_type": "stream",
     "text": [
      "processed chunk 988\n"
     ]
    },
    {
     "name": "stderr",
     "output_type": "stream",
     "text": [
      "WARNING:__main__:4d288e17-c6cf-949d-423c-d16792d8235a\n"
     ]
    },
    {
     "name": "stdout",
     "output_type": "stream",
     "text": [
      "processed chunk 989\n",
      "processed chunk 990\n",
      "processed chunk 991\n",
      "processed chunk 992\n"
     ]
    },
    {
     "name": "stderr",
     "output_type": "stream",
     "text": [
      "WARNING:__main__:81e69e77-d160-50e0-2095-c3b04fb8968e\n",
      "WARNING:__main__:03ed244c-8c25-0ba5-9fa8-1ea4c666be29\n",
      "WARNING:__main__:9c37e1e6-8147-a8af-b1d9-bc6db0f74e3b\n",
      "WARNING:__main__:5fefcb51-057e-1439-b2e2-84bc01f97bc5\n",
      "WARNING:__main__:cabe583f-8085-dc80-a9ae-82bb239774af\n",
      "WARNING:__main__:b39603bd-e618-9946-2ed5-aa266e9983d1\n",
      "WARNING:__main__:97799648-8681-4fae-0150-be6f53afaf07\n",
      "WARNING:__main__:fbb4c728-0dc6-1e3a-0d11-1ebaa1fc3123\n",
      "WARNING:__main__:86aa49f8-ffd1-fb3b-44eb-87a4592dadd2\n",
      "WARNING:__main__:ab873fcb-879b-47e4-37eb-ba088d51cf31\n",
      "WARNING:__main__:a13c3af4-4f95-a9c8-c65e-c849d52b4361\n",
      "WARNING:__main__:7d5f38e5-4f4e-6acd-fcd2-cb116ce59855\n",
      "WARNING:__main__:43d1f5ab-abcd-7b62-8e4c-1cce33a3b0cf\n",
      "WARNING:__main__:3deabea1-1cbe-7191-fb39-7a2e05663a0b\n",
      "WARNING:__main__:53d8f672-0e6d-2eb1-fc31-29ce2859dec6\n",
      "WARNING:__main__:85370ed6-d184-1012-bf65-3da298d2da2b\n"
     ]
    },
    {
     "name": "stdout",
     "output_type": "stream",
     "text": [
      "processed chunk 993\n"
     ]
    },
    {
     "name": "stderr",
     "output_type": "stream",
     "text": [
      "WARNING:__main__:a6853f2e-6f61-dbd8-71c4-000c48a60c87\n"
     ]
    },
    {
     "name": "stdout",
     "output_type": "stream",
     "text": [
      "processed chunk 994\n"
     ]
    },
    {
     "name": "stderr",
     "output_type": "stream",
     "text": [
      "WARNING:__main__:5e2531b3-3cb2-fd82-ce5f-4ced06073f16\n",
      "WARNING:__main__:b47da233-1048-8b28-4b14-3ed0faf7377c\n",
      "WARNING:__main__:084d6694-44c4-59ea-795e-aa1794cd7d91\n",
      "WARNING:__main__:2c50973a-fa75-f096-05f3-c19c8bb6c2ae\n",
      "WARNING:__main__:fb4d5fd2-9cca-79c5-3aa2-f85d6cd30baa\n",
      "WARNING:__main__:e2efe25a-4804-3d33-f4c9-5b97d88290e8\n",
      "WARNING:__main__:1c795531-619a-32df-0de4-48c789e84060\n"
     ]
    },
    {
     "name": "stdout",
     "output_type": "stream",
     "text": [
      "processed chunk 995\n"
     ]
    },
    {
     "name": "stderr",
     "output_type": "stream",
     "text": [
      "WARNING:__main__:3a27638a-b654-856e-476d-1fbbbf915ca1\n",
      "WARNING:__main__:bb0d76e7-a618-1ee5-1b3c-1a1ca2117d40\n"
     ]
    },
    {
     "name": "stdout",
     "output_type": "stream",
     "text": [
      "processed chunk 996\n"
     ]
    },
    {
     "name": "stderr",
     "output_type": "stream",
     "text": [
      "WARNING:__main__:a4354139-cad5-144b-7e91-889b274af351\n",
      "WARNING:__main__:3222ee42-849e-9456-fc7e-3e5e95d7e64a\n"
     ]
    },
    {
     "name": "stdout",
     "output_type": "stream",
     "text": [
      "processed chunk 997\n"
     ]
    },
    {
     "name": "stderr",
     "output_type": "stream",
     "text": [
      "WARNING:__main__:8e7db1fb-5deb-3b82-47a2-a16ce576c2ed\n"
     ]
    },
    {
     "name": "stdout",
     "output_type": "stream",
     "text": [
      "processed chunk 998\n"
     ]
    },
    {
     "name": "stderr",
     "output_type": "stream",
     "text": [
      "WARNING:__main__:a5a1ca99-1dd0-6022-b7f2-e005e20aa907\n"
     ]
    },
    {
     "name": "stdout",
     "output_type": "stream",
     "text": [
      "processed chunk 999\n"
     ]
    },
    {
     "name": "stderr",
     "output_type": "stream",
     "text": [
      "WARNING:__main__:dd519cb1-afed-5593-7cdc-6eebf429a103\n"
     ]
    },
    {
     "name": "stdout",
     "output_type": "stream",
     "text": [
      "processed chunk 1000\n",
      "processed chunk 1001\n",
      "processed chunk 1002\n"
     ]
    },
    {
     "name": "stderr",
     "output_type": "stream",
     "text": [
      "WARNING:__main__:eaa53027-8ded-4a25-0974-91689c449b3d\n"
     ]
    },
    {
     "name": "stdout",
     "output_type": "stream",
     "text": [
      "processed chunk 1003\n"
     ]
    },
    {
     "name": "stderr",
     "output_type": "stream",
     "text": [
      "WARNING:__main__:dd47c85a-f0de-4e18-b1d3-4044fd4f460d\n",
      "WARNING:__main__:697e256d-589c-ca24-c937-0756e228aa95\n",
      "WARNING:__main__:4ef97627-8714-91bb-7521-7f29fee40c14\n",
      "WARNING:__main__:b1f3977c-a1d7-04cd-7475-8d4ce99035df\n",
      "WARNING:__main__:e0a44aec-0b0f-a279-16c1-e2f2b7d6f9aa\n",
      "WARNING:__main__:651a8cea-d330-db08-f0d6-2046fd669cf1\n",
      "WARNING:__main__:cda35b7a-9b1a-2e2e-e9c6-2d6bdb328d17\n",
      "WARNING:__main__:c520a38c-e3c2-f09f-bf33-6376048c9f04\n",
      "WARNING:__main__:f603e36c-19a4-4736-de00-8517a0ba641a\n",
      "WARNING:__main__:a3f5b369-4d83-b9cc-fbd6-667224d192ad\n",
      "WARNING:__main__:7abbe306-aca8-6dfe-e9b9-bc803701b39e\n",
      "WARNING:__main__:7a3dc0d2-f901-5698-1776-bc5bbfe9d263\n",
      "WARNING:__main__:4a572aba-b1e0-27f9-2a88-582897b38ca5\n"
     ]
    },
    {
     "name": "stdout",
     "output_type": "stream",
     "text": [
      "processed chunk 1004\n"
     ]
    },
    {
     "name": "stderr",
     "output_type": "stream",
     "text": [
      "WARNING:__main__:e35f4118-8549-e9fb-581e-73a7a78e9874\n",
      "WARNING:__main__:7d2b936c-f241-ff57-04a3-b3407ac6d47f\n"
     ]
    },
    {
     "name": "stdout",
     "output_type": "stream",
     "text": [
      "processed chunk 1005\n"
     ]
    },
    {
     "name": "stderr",
     "output_type": "stream",
     "text": [
      "WARNING:__main__:24699867-f2c1-e1bb-3624-0966d34f960c\n",
      "WARNING:__main__:1e200c00-1ec7-4fcd-7f15-20e880656ac3\n",
      "WARNING:__main__:95a8d464-423f-5aae-3b12-6fd29f5a7823\n",
      "WARNING:__main__:59a0b17c-4890-138d-6fb3-97e204e2d7f3\n",
      "WARNING:__main__:f3eb158b-f749-457f-a10f-831423d3291a\n",
      "WARNING:__main__:456c04f3-c25d-2fc0-31d2-e43bcc1fa999\n",
      "WARNING:__main__:17bb91fb-8ad3-a681-6728-085477329398\n",
      "WARNING:__main__:faab7dfa-265e-6d2a-322f-6b6322dc5859\n",
      "WARNING:__main__:ca0665f1-7314-9100-2732-5e4cdca3486d\n",
      "WARNING:__main__:11af9b33-c682-ed2b-e886-061876e214c4\n",
      "WARNING:__main__:7d021b65-9d37-c8fe-8ef7-1b78bb2aa24c\n",
      "WARNING:__main__:850bd4c3-948c-62b5-688d-d333d8b72656\n",
      "WARNING:__main__:05ec23b8-8e98-664a-ede0-a5b45268ac3a\n",
      "WARNING:__main__:ed9b64a3-2ad6-508f-7175-e03b617cd932\n",
      "WARNING:__main__:56096662-055b-c0e8-f0c6-023aa5691b94\n",
      "WARNING:__main__:c6623816-a853-3396-75ed-89dda0253784\n",
      "WARNING:__main__:c6c6f66d-f0c5-f456-d1a2-4ef5e9d00124\n",
      "WARNING:__main__:206d86cb-1001-2987-e212-98b14fb835d7\n",
      "WARNING:__main__:039c6c0b-f2c0-f40b-6450-c38322c8cc0f\n"
     ]
    },
    {
     "name": "stdout",
     "output_type": "stream",
     "text": [
      "processed chunk 1006\n"
     ]
    },
    {
     "name": "stderr",
     "output_type": "stream",
     "text": [
      "WARNING:__main__:5c6a7f61-a112-b731-164f-bb4001d3c5ad\n",
      "WARNING:__main__:31d9facc-dedd-9692-d2b8-d4809ebf1b92\n",
      "WARNING:__main__:5c23fb7c-9fec-2734-906f-78a011af1b04\n",
      "WARNING:__main__:ad5306c2-4810-78cc-8435-9a295a901b31\n",
      "WARNING:__main__:8e4c7a4f-f0bc-9832-2bc8-d60b84a48788\n",
      "WARNING:__main__:83125999-79af-1be9-4705-ba71e8dbee3b\n",
      "WARNING:__main__:dd45a2f6-7e20-d91f-3c4a-87401eb2f658\n",
      "WARNING:__main__:7a9d32a8-cd3d-a573-c832-7f60823ac9ab\n",
      "WARNING:__main__:74fd5fb0-28e6-6aa9-bfee-fdba7ac1e792\n",
      "WARNING:__main__:a4fb450c-12e1-0273-1d60-66ca50546b3e\n",
      "WARNING:__main__:9fb1e353-9f1e-8498-54d8-dca9e460bc56\n",
      "WARNING:__main__:d0dd6ff0-9517-6d2a-fdfd-82513763727d\n",
      "WARNING:__main__:62256ff7-a724-081f-86bb-dcdeb37be866\n",
      "WARNING:__main__:24837fdc-be1b-09ba-28ac-769f4fbcc956\n",
      "WARNING:__main__:a10981aa-310d-ce62-1168-e1646859590e\n",
      "WARNING:__main__:ece95998-eb0b-7a2c-4330-e1dd3bd2d1f0\n",
      "WARNING:__main__:1466c573-0dec-ce5f-0162-7135c3e6ec12\n",
      "WARNING:__main__:35dc923d-3b22-0767-3f7c-6c7c20e77772\n",
      "WARNING:__main__:7542e544-c371-fb1d-512c-e69a8e80be8c\n"
     ]
    },
    {
     "name": "stdout",
     "output_type": "stream",
     "text": [
      "processed chunk 1007\n",
      "processed chunk 1008\n",
      "processed chunk 1009\n"
     ]
    },
    {
     "name": "stderr",
     "output_type": "stream",
     "text": [
      "WARNING:__main__:30d915a4-e6cc-aec8-f9b5-3dc4bd53d426\n"
     ]
    },
    {
     "name": "stdout",
     "output_type": "stream",
     "text": [
      "processed chunk 1010\n",
      "processed chunk 1011\n"
     ]
    },
    {
     "name": "stderr",
     "output_type": "stream",
     "text": [
      "WARNING:__main__:8fb65491-e89e-0f45-be32-0f005de671a9\n",
      "WARNING:__main__:cb43ca27-58df-ed2e-fea4-4109eaccef95\n",
      "WARNING:__main__:5ebd3dd7-c152-baa5-bdac-dc8003d733b4\n",
      "WARNING:__main__:f69bb419-f937-dd72-728a-8137afbccc13\n",
      "WARNING:__main__:e83e6d41-02b5-138e-e206-82b3d7d28977\n",
      "WARNING:__main__:c55f0a53-5bdb-6b10-d153-c726fe3136be\n"
     ]
    },
    {
     "name": "stdout",
     "output_type": "stream",
     "text": [
      "processed chunk 1012\n"
     ]
    },
    {
     "name": "stderr",
     "output_type": "stream",
     "text": [
      "WARNING:__main__:b044a98d-c58b-ad43-92a7-59d977c24703\n"
     ]
    },
    {
     "name": "stdout",
     "output_type": "stream",
     "text": [
      "processed chunk 1013\n"
     ]
    },
    {
     "name": "stderr",
     "output_type": "stream",
     "text": [
      "WARNING:__main__:9b27eb17-5a2d-4bc5-2dfd-0099ee50662c\n",
      "WARNING:__main__:616411a6-8f20-0d9c-71a0-bc1a351136ca\n",
      "WARNING:__main__:28894545-a071-249d-a6d4-841342932179\n",
      "WARNING:__main__:5b0f4832-e2f4-7516-2bc9-1bb9c521e1f0\n",
      "WARNING:__main__:e774541a-df2f-5cb3-30a7-736c748eb869\n",
      "WARNING:__main__:3d095824-ec41-4709-f1b4-5ee32a64ec95\n",
      "WARNING:__main__:923f5798-9ce4-0446-b0b2-5143802dbb05\n",
      "WARNING:__main__:4505c64f-03b8-e226-c0c7-0c64e168ddcf\n",
      "WARNING:__main__:e88b0aab-96a6-e6c8-4ea2-55d38f540bb4\n",
      "WARNING:__main__:4187c735-0858-2c56-6a5d-1707c46f5cde\n",
      "WARNING:__main__:718ef3fd-fd61-9f52-512d-7e20cf149bc7\n",
      "WARNING:__main__:37ba1e19-7116-a499-909e-340132ccaec2\n",
      "WARNING:__main__:4e5e3ff1-72d5-3b97-5346-0b6bba020ba4\n",
      "WARNING:__main__:ee52536f-7592-b57e-1a4c-9fa14f96da46\n",
      "WARNING:__main__:35118182-5f94-65c5-858e-2ea80d572bbb\n",
      "WARNING:__main__:136920ba-e184-cdf8-411e-02af8c81207c\n"
     ]
    },
    {
     "name": "stdout",
     "output_type": "stream",
     "text": [
      "processed chunk 1014\n"
     ]
    },
    {
     "name": "stderr",
     "output_type": "stream",
     "text": [
      "WARNING:__main__:fb432688-66cc-952c-a75f-134d842b8a82\n",
      "WARNING:__main__:53278682-9572-b1e0-383e-c340831cfc82\n",
      "WARNING:__main__:62e51bae-1a18-628c-d2e9-601f701413cd\n",
      "WARNING:__main__:4887a9ed-4b29-be75-1046-127ded313696\n",
      "WARNING:__main__:7f73c48c-914d-9440-be36-14c663e09f3e\n",
      "WARNING:__main__:24882e46-5085-e23d-da36-3fed524bf95c\n",
      "WARNING:__main__:6263f6c1-581c-87f7-1183-578a6b98d19d\n",
      "WARNING:__main__:34b45976-a6a2-e778-4b25-6c6da788bbe7\n",
      "WARNING:__main__:3bf1c591-73f6-7d3e-240a-dfb8e7765783\n",
      "WARNING:__main__:3a70504f-92e6-9c3a-92f5-f47f41f2aa53\n",
      "WARNING:__main__:1edea7e1-cdf8-3ab5-229b-0739076a726e\n",
      "WARNING:__main__:932a5b9f-3e43-c784-7748-118d122e55ce\n"
     ]
    },
    {
     "name": "stdout",
     "output_type": "stream",
     "text": [
      "processed chunk 1015\n"
     ]
    },
    {
     "name": "stderr",
     "output_type": "stream",
     "text": [
      "WARNING:__main__:7d254b00-d16f-9129-c12d-74e043284e86\n",
      "WARNING:__main__:1e488049-ba0c-463c-e852-dcdbb4ce1340\n",
      "WARNING:__main__:b84daf3c-1f8b-2507-b591-9648f64e33df\n",
      "WARNING:__main__:a8ea38be-5a4b-4edd-0d34-953ef10ac8a9\n",
      "WARNING:__main__:4c7739d6-4bec-82e9-c5ec-cd55b4e457d4\n",
      "WARNING:__main__:a5c3a140-c7b7-4867-2308-18064a7a8ae3\n",
      "WARNING:__main__:d7dbc432-568b-46b3-68fe-574ff5b55ae7\n",
      "WARNING:__main__:93cad7a8-65ba-da55-a6f3-6fc8bfd0ea1a\n",
      "WARNING:__main__:611f86a2-10aa-2708-3aa2-23360446e7ff\n",
      "WARNING:__main__:aa431f25-11f7-5700-ca0b-337522467808\n",
      "WARNING:__main__:edc5c523-9384-6800-008d-f09f1dcda38a\n",
      "WARNING:__main__:60a91b46-edb2-6383-d623-092b2ee21a82\n"
     ]
    },
    {
     "name": "stdout",
     "output_type": "stream",
     "text": [
      "processed chunk 1016\n",
      "processed chunk 1017\n"
     ]
    },
    {
     "name": "stderr",
     "output_type": "stream",
     "text": [
      "WARNING:__main__:7715e90b-eb67-75fd-de59-9758bba0ab63\n",
      "WARNING:__main__:879b523b-26d6-d605-8336-5ae49ad3139e\n",
      "WARNING:__main__:3dbe0455-95b2-9468-d755-94d39a056e18\n",
      "WARNING:__main__:9d017194-ab7c-5629-586f-329abaf6d614\n",
      "WARNING:__main__:a9074a9c-6eaf-f7fe-2799-899382faa97f\n",
      "WARNING:__main__:44c6754b-c35a-877f-a5c0-1aedc1ddbc55\n",
      "WARNING:__main__:f43ff0c1-3d62-192c-bc03-7576ab12e75f\n",
      "WARNING:__main__:b01b8aaf-b16f-6221-426e-fe4169325be9\n",
      "WARNING:__main__:3f1e3615-19fc-52f6-f3af-7e5fbe9e48c1\n",
      "WARNING:__main__:c4f65f9f-dd0f-9048-48a2-8b9f5746deaa\n"
     ]
    },
    {
     "name": "stdout",
     "output_type": "stream",
     "text": [
      "processed chunk 1018\n"
     ]
    },
    {
     "name": "stderr",
     "output_type": "stream",
     "text": [
      "WARNING:__main__:23998295-ef8c-3527-4d6b-7d70123b3cce\n",
      "WARNING:__main__:5f40e96b-bdfa-a0ae-665a-7646c988767e\n",
      "WARNING:__main__:6e73da26-ad44-1408-4a4c-f1b499ced4f9\n",
      "WARNING:__main__:4ebfcba0-b3c1-b199-d14e-d6a19e7731aa\n",
      "WARNING:__main__:18dda955-6a72-eb5a-58f1-aa9550f07a44\n",
      "WARNING:__main__:5a6b7dcf-7a0d-8a08-6b71-738d04edcc87\n",
      "WARNING:__main__:62a38315-0fe6-4fe8-22a7-44bcaa66dee0\n",
      "WARNING:__main__:3e557699-3cb5-4a9c-e546-e699e33ac9e9\n",
      "WARNING:__main__:7fc12c58-9220-d4b8-7ca2-a1287884687e\n",
      "WARNING:__main__:2df7a7b3-29c5-bb7c-7e13-7381d222c5d2\n",
      "WARNING:__main__:ccba69b2-6faf-06dc-97c5-c82c445c2dfe\n"
     ]
    },
    {
     "name": "stdout",
     "output_type": "stream",
     "text": [
      "processed chunk 1019\n"
     ]
    },
    {
     "name": "stderr",
     "output_type": "stream",
     "text": [
      "WARNING:__main__:7900a603-dc94-b1f2-7106-e08f965dfc92\n",
      "WARNING:__main__:fe84007d-e11c-251b-ff2e-0456643e70a5\n",
      "WARNING:__main__:d186fcf6-7300-6f72-42f6-92282079a752\n"
     ]
    },
    {
     "name": "stdout",
     "output_type": "stream",
     "text": [
      "processed chunk 1020\n",
      "processed chunk 1021\n"
     ]
    },
    {
     "name": "stderr",
     "output_type": "stream",
     "text": [
      "WARNING:__main__:dc4d6b60-9ca2-f786-575b-153d1833f883\n"
     ]
    },
    {
     "name": "stdout",
     "output_type": "stream",
     "text": [
      "processed chunk 1022\n"
     ]
    },
    {
     "name": "stderr",
     "output_type": "stream",
     "text": [
      "WARNING:__main__:f8745f73-5771-f86a-7e59-c6641117cfc0\n",
      "WARNING:__main__:fa3131c5-a162-205e-7e3f-5e3e5aa3949b\n",
      "WARNING:__main__:881a8340-b821-31ed-95f8-48206ab117a4\n",
      "WARNING:__main__:0348393e-c1f0-f154-3c88-05e1fca76a95\n",
      "WARNING:__main__:c28ef2e6-5349-e10a-84bf-5edd8053047d\n",
      "WARNING:__main__:457e8e97-8490-faa0-2833-7ee4eea7fcd2\n",
      "WARNING:__main__:346c2843-cf74-5703-8af0-fe8eae314765\n"
     ]
    },
    {
     "name": "stdout",
     "output_type": "stream",
     "text": [
      "processed chunk 1023\n"
     ]
    },
    {
     "name": "stderr",
     "output_type": "stream",
     "text": [
      "WARNING:__main__:e6d6cace-f8c0-e438-e308-c43ffef776a6\n",
      "WARNING:__main__:45a08bf6-0c01-c011-132a-af0ad53b597e\n",
      "WARNING:__main__:65be359a-bf7e-c581-f218-fb6f0f29f4cb\n",
      "WARNING:__main__:8310fea2-0f28-313a-2ee3-bc4d11539fe2\n",
      "WARNING:__main__:03e5ef97-8437-c513-a0c2-c5f1dd20a34a\n",
      "WARNING:__main__:0b7578b6-389d-00a4-3a67-abcfe699e2ab\n",
      "WARNING:__main__:13e4a6fe-bc09-3248-eeae-4ebdb0c4abe4\n",
      "WARNING:__main__:1b33270c-ec9b-0247-b833-4ab4bc145804\n",
      "WARNING:__main__:45e1f537-76d7-8ed1-034b-ba937994924b\n",
      "WARNING:__main__:b9f80ede-f92b-86b7-bd55-0df05985ee1d\n",
      "WARNING:__main__:5c40e5f3-9eda-65b0-ea97-9997570dfef6\n",
      "WARNING:__main__:5feddc8e-0604-a982-0f07-024d2189a807\n",
      "WARNING:__main__:761976dc-b33e-5f65-04f7-14f9d5a7b61d\n",
      "WARNING:__main__:1487bd6c-cd77-cf6d-1f44-d4ee1025db59\n",
      "WARNING:__main__:bbe76f90-4980-073b-ca95-6da5dd463950\n",
      "WARNING:__main__:f9481833-eb6b-6025-fb43-a64a4c3ccba6\n",
      "WARNING:__main__:e08c509e-01e1-7308-d08d-b6db5b36849e\n"
     ]
    },
    {
     "name": "stdout",
     "output_type": "stream",
     "text": [
      "processed chunk 1024\n"
     ]
    },
    {
     "name": "stderr",
     "output_type": "stream",
     "text": [
      "WARNING:__main__:73e85087-663f-7828-3bcd-2f1854070a40\n"
     ]
    },
    {
     "name": "stdout",
     "output_type": "stream",
     "text": [
      "processed chunk 1025\n"
     ]
    },
    {
     "name": "stderr",
     "output_type": "stream",
     "text": [
      "WARNING:__main__:38e242e4-05bd-779a-7e66-af753812da6e\n"
     ]
    },
    {
     "name": "stdout",
     "output_type": "stream",
     "text": [
      "processed chunk 1026\n"
     ]
    },
    {
     "name": "stderr",
     "output_type": "stream",
     "text": [
      "WARNING:__main__:469216d4-2fc2-88d4-c739-60039a222528\n",
      "WARNING:__main__:2547776c-10a4-63ce-6c1d-98de3e695034\n",
      "WARNING:__main__:711e5d0f-7c3e-935c-1602-35f836e787e1\n"
     ]
    },
    {
     "name": "stdout",
     "output_type": "stream",
     "text": [
      "processed chunk 1027\n"
     ]
    },
    {
     "name": "stderr",
     "output_type": "stream",
     "text": [
      "WARNING:__main__:68412196-5e83-0cbc-2789-d6dd409be3e4\n",
      "WARNING:__main__:3fa5b2fe-5525-7faf-e46e-10acd4cb7900\n",
      "WARNING:__main__:ac5957aa-43d2-9ce9-6b9b-507f8f5959c8\n",
      "WARNING:__main__:0fadda83-22cf-3483-f2b0-755bc1927308\n"
     ]
    },
    {
     "name": "stdout",
     "output_type": "stream",
     "text": [
      "processed chunk 1028\n"
     ]
    },
    {
     "name": "stderr",
     "output_type": "stream",
     "text": [
      "WARNING:__main__:6c3a3722-8a1d-0f08-8ccd-3f67c0ce66b8\n",
      "WARNING:__main__:ba8f6faa-3be9-398a-0c9f-c5818a37ddc7\n",
      "WARNING:__main__:11e9ca4c-d9b2-54ea-6fa0-5092a3b11dde\n",
      "WARNING:__main__:0ab6278a-1595-dfe6-8fdd-f3f727bf90a7\n",
      "WARNING:__main__:e8112d8a-76ef-a862-36b8-629b3cbcf4ce\n",
      "WARNING:__main__:94cc06e8-2927-fe52-831c-f8bc5bf0f209\n",
      "WARNING:__main__:8fe9f119-e143-9ee1-f93d-da9051687157\n",
      "WARNING:__main__:84b54445-5611-b612-378e-27b040dbdd1b\n",
      "WARNING:__main__:774f9376-82da-05e1-539a-e1c102113ed0\n",
      "WARNING:__main__:ab1b3b2a-585b-005a-4dd5-d5a4e779856b\n",
      "WARNING:__main__:22226a35-5623-0513-eeaa-12663a86c5f7\n",
      "WARNING:__main__:c32bfea0-0777-9d26-40ee-d5f86cf99833\n"
     ]
    },
    {
     "name": "stdout",
     "output_type": "stream",
     "text": [
      "processed chunk 1029\n",
      "processed chunk 1030\n"
     ]
    },
    {
     "name": "stderr",
     "output_type": "stream",
     "text": [
      "WARNING:__main__:f915bf9c-a29b-d243-db57-15c8e62ad241\n"
     ]
    },
    {
     "name": "stdout",
     "output_type": "stream",
     "text": [
      "processed chunk 1031\n"
     ]
    },
    {
     "name": "stderr",
     "output_type": "stream",
     "text": [
      "WARNING:__main__:4ac9ebfc-ca5f-613f-4f49-e399f3169676\n",
      "WARNING:__main__:2675e16e-118f-97ff-0254-94029983e1dc\n",
      "WARNING:__main__:9dff4151-ffed-dfd0-351e-268c0f79a09c\n",
      "WARNING:__main__:ca7c518a-f179-2d71-baa9-ceec9fe0f849\n",
      "WARNING:__main__:1c65de47-e72e-1213-2122-e4595c1c1164\n",
      "WARNING:__main__:ed9ad625-41f6-d905-68d5-79907df9299f\n",
      "WARNING:__main__:72dd59bc-11fb-f08a-f69b-0f0b5409e0f5\n",
      "WARNING:__main__:4566e168-dbb4-0641-aa5d-5eb51cf4e32e\n"
     ]
    },
    {
     "name": "stdout",
     "output_type": "stream",
     "text": [
      "processed chunk 1032\n",
      "processed chunk 1033\n"
     ]
    },
    {
     "name": "stderr",
     "output_type": "stream",
     "text": [
      "WARNING:__main__:371b5e04-7e5f-10ee-083e-4b5d48a7ed0d\n",
      "WARNING:__main__:d9c89dea-6c30-70d1-53ec-c55cf6b6a4f7\n",
      "WARNING:__main__:1850f575-016d-4bc3-29eb-d77f14705e6e\n",
      "WARNING:__main__:172751eb-f4e3-d7bd-4d1c-d80413572d93\n",
      "WARNING:__main__:d8834b2f-5b0a-5608-9d84-541180ef81c9\n",
      "WARNING:__main__:5a096b6a-ed93-2271-7e69-a6b9362ba99a\n",
      "WARNING:__main__:297a03b7-7d52-c8d6-62ca-7e9e77e3ddef\n",
      "WARNING:__main__:6fa9151a-8096-50c4-a44c-cdefdf32a045\n"
     ]
    },
    {
     "name": "stdout",
     "output_type": "stream",
     "text": [
      "processed chunk 1034\n"
     ]
    },
    {
     "name": "stderr",
     "output_type": "stream",
     "text": [
      "WARNING:__main__:ecf5671b-ffbc-024b-16e2-826636f6d3a8\n",
      "WARNING:__main__:9f560607-ad39-f0c4-fa1e-e642294e5318\n",
      "WARNING:__main__:4c5add3e-bbec-3484-12a2-455a2b717f62\n",
      "WARNING:__main__:362c3144-98f2-5884-d26d-5d6652647e5c\n",
      "WARNING:__main__:2f8ce522-801e-18f1-01f8-399dd12c67a5\n",
      "WARNING:__main__:50f3ca7b-854e-4b60-1212-409f862738e9\n",
      "WARNING:__main__:daf96202-a5cf-3a1e-7803-a9b5e671fc97\n",
      "WARNING:__main__:267d021a-864e-a1c4-5f77-d8825d5bc18b\n",
      "WARNING:__main__:97ac9561-2391-3be7-e1ed-aed03f076d9d\n",
      "WARNING:__main__:a5e088f2-69dc-8dd0-145a-bd865081c9b4\n",
      "WARNING:__main__:fba1936a-ff22-6ec5-9d28-06eba40842d1\n",
      "WARNING:__main__:bcf3c16b-8602-923e-4ebe-bd9f0ed1aa3b\n",
      "WARNING:__main__:c1233493-8d69-48fe-f9c0-4bf96398f147\n",
      "WARNING:__main__:7d7e1898-6b07-8ba4-a57a-3e794bfe31d5\n",
      "WARNING:__main__:56e4c271-2442-7eee-27a9-1a37c1e77189\n",
      "WARNING:__main__:f9eba9a2-fb48-4552-2ed7-b6888a0e5b4b\n",
      "WARNING:__main__:fd669c4f-6ddd-32eb-fe78-dcadefc88bf9\n",
      "WARNING:__main__:96d94a4e-f6b3-8ea5-a537-8629e2843e81\n",
      "WARNING:__main__:b95ab6b7-06f9-0d23-8f12-347211737814\n"
     ]
    },
    {
     "name": "stdout",
     "output_type": "stream",
     "text": [
      "processed chunk 1035\n"
     ]
    },
    {
     "name": "stderr",
     "output_type": "stream",
     "text": [
      "WARNING:__main__:56fc909d-c655-f75a-531f-e82b1beda018\n",
      "WARNING:__main__:080f690b-0a51-11c2-6cad-d43c6de19c5c\n",
      "WARNING:__main__:2321c6f5-abcf-03b8-00a9-4e42b21055b9\n",
      "WARNING:__main__:9a9212f2-ca32-3aa1-752a-f015c9934751\n"
     ]
    },
    {
     "name": "stdout",
     "output_type": "stream",
     "text": [
      "processed chunk 1036\n"
     ]
    },
    {
     "name": "stderr",
     "output_type": "stream",
     "text": [
      "WARNING:__main__:8fdd752e-4e3a-f584-fd7b-430c1fbd75cc\n",
      "WARNING:__main__:5ca15551-4d55-3108-13e9-3df49b51de8c\n",
      "WARNING:__main__:0f6a2d52-5f95-c14b-7d33-13286ce45976\n",
      "WARNING:__main__:08c6498b-15c3-2a53-2840-d11b243cd1f5\n",
      "WARNING:__main__:544113a0-e36e-709b-61b3-4b971b209eee\n",
      "WARNING:__main__:297235ef-44ff-01f0-29b0-ae4484f55a42\n",
      "WARNING:__main__:f5c21d60-b1d1-8b97-d541-0c2ef39e873c\n",
      "WARNING:__main__:72182022-8239-3a65-0e59-508d66e7761c\n",
      "WARNING:__main__:777fdff6-34ac-9cdc-db8d-7b844c761aff\n",
      "WARNING:__main__:b12cf1e4-c71d-30eb-1849-33f8ead07bc8\n",
      "WARNING:__main__:d80c05e0-8f73-3d12-ad72-9493e6ab0f9b\n",
      "WARNING:__main__:64e42b49-2283-e2f5-db01-9df69e338606\n",
      "WARNING:__main__:81b9e9c9-896b-6f2c-da0d-23c7abe7ce8b\n",
      "WARNING:__main__:42fd17ab-e50a-5d2f-758a-e8a0389aacdb\n"
     ]
    },
    {
     "name": "stdout",
     "output_type": "stream",
     "text": [
      "processed chunk 1037\n"
     ]
    },
    {
     "name": "stderr",
     "output_type": "stream",
     "text": [
      "WARNING:__main__:91779687-9211-38f3-1c44-299f42d60c9c\n",
      "WARNING:__main__:0d3802b7-caf9-72b6-e8dd-962c4ced1ff4\n",
      "WARNING:__main__:1cc43c0d-b980-1f4a-c379-e3fcb666dda6\n",
      "WARNING:__main__:0df1d20d-b2a1-eb48-3678-db4d3b4594be\n",
      "WARNING:__main__:e00fa2a7-4832-7826-24f4-f85efa84424d\n",
      "WARNING:__main__:6692fbe7-3cd0-10be-849a-0a3e1f13cd7d\n",
      "WARNING:__main__:1f42d96f-7e21-3c08-7e25-62db79901f7b\n",
      "WARNING:__main__:b524e04b-c3a8-dca3-37f1-0776dd405ec2\n",
      "WARNING:__main__:b212f86b-82c3-76cf-18ff-3ddcc10ede4f\n"
     ]
    },
    {
     "name": "stdout",
     "output_type": "stream",
     "text": [
      "processed chunk 1038\n"
     ]
    },
    {
     "name": "stderr",
     "output_type": "stream",
     "text": [
      "WARNING:__main__:4a4d9fd8-5032-1a03-11b6-694810f935a3\n",
      "WARNING:__main__:891ed38e-634d-42a5-f33c-77bf39122116\n",
      "WARNING:__main__:5ccecd71-2b6b-d6e0-bcd7-df31066f9d4d\n",
      "WARNING:__main__:51aeb666-8aa7-b54a-8c32-462d480622b8\n",
      "WARNING:__main__:0e2eaf51-53c1-fd3b-c17e-af58233e209c\n",
      "WARNING:__main__:6196d36f-08fc-4603-db64-8e621daade85\n",
      "WARNING:__main__:e49da066-0ac5-ecc7-1d3b-37f5567e5817\n",
      "WARNING:__main__:b8d1ece5-ca56-86a6-97d3-be07635a095b\n",
      "WARNING:__main__:02e8d3a2-85e2-7298-358d-efb8e1220001\n",
      "WARNING:__main__:af4627a0-d49f-b281-d158-a64bdf41e675\n",
      "WARNING:__main__:3dd25982-38c8-8ed7-4fc1-c511008eb3b6\n",
      "WARNING:__main__:b2f243cf-97cd-0c73-e51e-f423ea82a3d0\n",
      "WARNING:__main__:7e5af3aa-3782-4249-7371-f81d1e2c1b0e\n",
      "WARNING:__main__:741aad7e-3a03-6eb6-e9dd-98dca0d0e849\n",
      "WARNING:__main__:8a72834d-75de-91fa-a488-f9f6383354be\n",
      "WARNING:__main__:a59c7bb6-6de8-bbb5-0f67-62732a0fb502\n",
      "WARNING:__main__:9b729f1e-bd16-0f8c-33d2-80d32669e501\n",
      "WARNING:__main__:52b28482-1e92-f01d-cb41-f130afecb28f\n",
      "WARNING:__main__:7d5d5346-7318-c1e4-23ac-6ba14286c59d\n",
      "WARNING:__main__:6686fa78-7cdd-7152-6415-1ea7badabdb7\n"
     ]
    },
    {
     "name": "stdout",
     "output_type": "stream",
     "text": [
      "processed chunk 1039\n"
     ]
    },
    {
     "name": "stderr",
     "output_type": "stream",
     "text": [
      "WARNING:__main__:6d3b4460-8751-45f0-ac27-bd6f91ed7161\n",
      "WARNING:__main__:b4536a7b-b5e8-2dec-98cb-1b7059e7b969\n",
      "WARNING:__main__:70f17372-7861-eff4-551f-feb2be5377a8\n",
      "WARNING:__main__:ea1409a8-3f37-c62b-0e09-f40b09eca5cd\n",
      "WARNING:__main__:484922a4-dc14-acd8-0a47-deeadc48fcc2\n",
      "WARNING:__main__:3917caaa-5d0e-fc28-dafe-90cf24878187\n",
      "WARNING:__main__:cd31a78f-d999-ac33-43e3-b80a6a134881\n",
      "WARNING:__main__:81cb77eb-48a5-80db-1dbd-020094db1961\n",
      "WARNING:__main__:6d211b53-8a05-7039-c7ac-d3342cb14071\n",
      "WARNING:__main__:f944448d-4475-82f7-fe5b-db2447a7bc29\n",
      "WARNING:__main__:fb99be66-a765-e7aa-4655-483fabe7339f\n",
      "WARNING:__main__:cf2b4ddc-11ab-88ec-bf01-4f4544d31c5f\n",
      "WARNING:__main__:200320fa-5213-b615-2d3c-28144826505f\n"
     ]
    },
    {
     "name": "stdout",
     "output_type": "stream",
     "text": [
      "processed chunk 1040\n"
     ]
    },
    {
     "name": "stderr",
     "output_type": "stream",
     "text": [
      "WARNING:__main__:15b00685-e67e-2667-4467-9fa0544b7f4a\n",
      "WARNING:__main__:fe32ac54-197b-9be3-d9ac-e510dea6821c\n",
      "WARNING:__main__:8cd7c0f9-d5b0-6f78-caed-0caee6cb1035\n",
      "WARNING:__main__:aa1e17cc-3ade-83b6-c606-05bc8561ad02\n",
      "WARNING:__main__:718895cb-478d-e47a-1c5d-7c00f0b5348c\n"
     ]
    },
    {
     "name": "stdout",
     "output_type": "stream",
     "text": [
      "processed chunk 1041\n",
      "processed chunk 1042\n"
     ]
    },
    {
     "name": "stderr",
     "output_type": "stream",
     "text": [
      "WARNING:__main__:859e6c7f-9d60-a6c4-8265-7fc4ce288b84\n",
      "WARNING:__main__:ba1b99da-491d-2322-73f0-916d512406fb\n",
      "WARNING:__main__:0328f218-904d-94bd-f551-889b2375b76d\n"
     ]
    },
    {
     "name": "stdout",
     "output_type": "stream",
     "text": [
      "processed chunk 1043\n"
     ]
    },
    {
     "name": "stderr",
     "output_type": "stream",
     "text": [
      "WARNING:__main__:14af6466-ef54-8959-c0ae-b6cbbb5e1002\n",
      "WARNING:__main__:3852dbca-b0ad-50ee-2020-4843d02164fb\n",
      "WARNING:__main__:dc9ea64d-4a30-96ff-3541-48073e254f30\n",
      "WARNING:__main__:78c517c3-96f2-fec1-e447-a722e6b2fd1a\n",
      "WARNING:__main__:8461d6f0-8383-e6dd-237d-64c702e7672c\n",
      "WARNING:__main__:1bf0483a-f288-dbf1-c3e7-0255a3c6b7c8\n",
      "WARNING:__main__:555b208a-fff2-643e-b3c6-8f0658d346a1\n",
      "WARNING:__main__:c592c18f-8e50-4ccd-eb63-00d541dd9fa2\n",
      "WARNING:__main__:c4b3fd42-48b5-7f5d-a662-021b968eeee5\n",
      "WARNING:__main__:116a5cfa-52fc-9c41-8479-fdb77010e221\n",
      "WARNING:__main__:48d9ce3a-3c12-213e-fc82-7d51d7b968c0\n",
      "WARNING:__main__:f97bd76c-9283-aeea-4aa8-ab66319bf69a\n",
      "WARNING:__main__:bf144b9d-6582-0d45-e44e-ae93058ef925\n",
      "WARNING:__main__:3b57be50-1aaf-2188-ef5f-d3b4eb0fe094\n",
      "WARNING:__main__:4e9d7aad-a36b-e6f4-f1ad-9e1539a40dac\n",
      "WARNING:__main__:b0bb94cf-92da-4374-ea45-094a2db44c23\n",
      "WARNING:__main__:aaad842b-8db4-40a5-c226-f1f03a926834\n",
      "WARNING:__main__:633eda26-d6e2-eeba-0261-ee57f2e2b3cf\n",
      "WARNING:__main__:dc3ff16d-419b-168f-cc86-81fd014be2ac\n"
     ]
    },
    {
     "name": "stdout",
     "output_type": "stream",
     "text": [
      "processed chunk 1044\n",
      "processed chunk 1045\n"
     ]
    },
    {
     "name": "stderr",
     "output_type": "stream",
     "text": [
      "WARNING:__main__:ab11908c-eefe-446e-8d28-c5ece5734e9c\n",
      "WARNING:__main__:8d5ac5c1-aa63-0792-b556-756b78a05d9e\n",
      "WARNING:__main__:34a8f6ba-99bb-b59f-10c9-1e3ca7fe495a\n",
      "WARNING:__main__:739afa6f-a8f1-eda6-7acd-8959f0028a22\n",
      "WARNING:__main__:1bc87476-89b7-7e08-f4d0-19ed10f83634\n",
      "WARNING:__main__:5d2fc1e2-e9f1-c3d0-8bf9-27971301b0c9\n",
      "WARNING:__main__:7d126745-aedb-e00c-b4b0-41ffb667df11\n",
      "WARNING:__main__:d9582264-3a08-2c1c-6485-f306925700b9\n",
      "WARNING:__main__:aa86cadc-1c13-26b0-b501-7a56e9e8c118\n"
     ]
    },
    {
     "name": "stdout",
     "output_type": "stream",
     "text": [
      "processed chunk 1046\n",
      "processed chunk 1047\n",
      "processed chunk 1048\n"
     ]
    },
    {
     "name": "stderr",
     "output_type": "stream",
     "text": [
      "WARNING:__main__:4fde3168-e2ee-1871-0b5d-200d720be214\n",
      "WARNING:__main__:38585df6-10d0-458a-7e75-4b1a2aeeecec\n",
      "WARNING:__main__:f8145fd6-ec96-94ea-9ef2-5d275b0d6805\n",
      "WARNING:__main__:682ad178-0637-88fc-d93d-e760356c15a7\n",
      "WARNING:__main__:7d16484d-1a93-d48b-8fc6-87335d40c4e3\n",
      "WARNING:__main__:75b45f49-c303-34b8-44c0-19beed463064\n",
      "WARNING:__main__:829edba1-82dd-7d37-8d08-f24f23ea5362\n",
      "WARNING:__main__:a09d01b2-b44c-93c7-8ab6-84b66f1f1a4d\n",
      "WARNING:__main__:73824df8-c149-e586-5b2d-eeefe91f2af3\n",
      "WARNING:__main__:7c2fd5d9-8438-6e36-721c-840a8830105c\n"
     ]
    },
    {
     "name": "stdout",
     "output_type": "stream",
     "text": [
      "processed chunk 1049\n"
     ]
    },
    {
     "name": "stderr",
     "output_type": "stream",
     "text": [
      "WARNING:__main__:3342cdc9-1e9e-3dc7-bab6-d15c6aa4480b\n",
      "WARNING:__main__:5caa8ce9-a61b-1c7c-96c1-0138c84a5e87\n",
      "WARNING:__main__:6e55f206-d1c1-6f5c-0bdb-ff9661686b05\n"
     ]
    },
    {
     "name": "stdout",
     "output_type": "stream",
     "text": [
      "processed chunk 1050\n"
     ]
    },
    {
     "name": "stderr",
     "output_type": "stream",
     "text": [
      "WARNING:__main__:44cca2d6-3a7a-ec35-5187-c801d6b3d346\n"
     ]
    },
    {
     "name": "stdout",
     "output_type": "stream",
     "text": [
      "processed chunk 1051\n"
     ]
    },
    {
     "name": "stderr",
     "output_type": "stream",
     "text": [
      "WARNING:__main__:6fc235d9-7d4d-2f55-380e-13e7985dba42\n",
      "WARNING:__main__:1b793e5c-fa90-a940-f4fa-9b82a54de74b\n",
      "WARNING:__main__:735395f6-6c46-371b-8f0d-203fd0b19d57\n",
      "WARNING:__main__:2aaa8209-b5a2-8c49-4740-bb4735fd40b5\n",
      "WARNING:__main__:ae342410-a98d-a96c-8d56-f32158b7425b\n",
      "WARNING:__main__:8ce2e17d-ef3f-50b5-c20e-e3bc291e1791\n",
      "WARNING:__main__:46893c52-6c49-2c91-c97b-4d37c0f7a3ff\n",
      "WARNING:__main__:cc1cdef8-1126-3111-e61d-76d9542c0925\n"
     ]
    },
    {
     "name": "stdout",
     "output_type": "stream",
     "text": [
      "processed chunk 1052\n"
     ]
    },
    {
     "name": "stderr",
     "output_type": "stream",
     "text": [
      "WARNING:__main__:0d8cfe7e-c8aa-d7bf-1752-e099b2153a5c\n",
      "WARNING:__main__:2afa36bf-f6f1-f007-9cd8-5f8962228a45\n",
      "WARNING:__main__:467b9153-e89b-0b44-c7f3-7235c8fe1252\n",
      "WARNING:__main__:dc6c51ca-b330-836b-dd43-f3f72628963a\n",
      "WARNING:__main__:aff360bf-7c07-2724-27c3-c9b00cba045c\n",
      "WARNING:__main__:3b462015-0706-56df-2ac0-02ba35da5208\n",
      "WARNING:__main__:d9f04025-7f85-3ce6-83c2-0fc80ca8ba7d\n"
     ]
    },
    {
     "name": "stdout",
     "output_type": "stream",
     "text": [
      "processed chunk 1053\n",
      "processed chunk 1054\n"
     ]
    },
    {
     "name": "stderr",
     "output_type": "stream",
     "text": [
      "WARNING:__main__:58c3bca9-b92f-e04e-0c04-c410666fa3fb\n",
      "WARNING:__main__:f26719fc-05b9-f1bc-3647-a9905985f7f7\n",
      "WARNING:__main__:1610f2d9-6ddf-6090-87b8-9ae3d2204e5f\n",
      "WARNING:__main__:cb5835c2-68f2-c991-87cb-968960845f24\n",
      "WARNING:__main__:e6d062d5-c0e7-2ecd-a742-d22357d8f9ce\n",
      "WARNING:__main__:4f1337af-26b5-1aa4-0241-7dc2ef14c5a0\n",
      "WARNING:__main__:60c073c9-63ea-2a79-fafb-f83b8f0aa547\n",
      "WARNING:__main__:36951430-f964-d7fd-142b-8a952111c56a\n",
      "WARNING:__main__:28cc671b-85d9-ecea-908d-a4a5de1f1bce\n",
      "WARNING:__main__:35a5693d-5b09-94da-0b76-4f2b94ea8eb0\n",
      "WARNING:__main__:a3a29be0-5e77-28b5-2e57-e217a4a95f9f\n"
     ]
    },
    {
     "name": "stdout",
     "output_type": "stream",
     "text": [
      "processed chunk 1055\n"
     ]
    },
    {
     "name": "stderr",
     "output_type": "stream",
     "text": [
      "WARNING:__main__:ea991726-c87b-3171-3ad7-1de131969a0e\n",
      "WARNING:__main__:2edc1ea5-6bae-b59c-86d6-719c6848499d\n",
      "WARNING:__main__:6636993d-0b7e-5ac3-dd05-37877fa3b854\n",
      "WARNING:__main__:c02a1de9-c23a-ba70-f5b0-b5b9f39ec299\n",
      "WARNING:__main__:844ba7e9-ca40-8446-ca2f-44d0502a8107\n",
      "WARNING:__main__:371625a9-5ebf-0537-b097-0120156adac9\n",
      "WARNING:__main__:f9df6df8-4a1d-9089-5d2a-c1bbccc0f31f\n",
      "WARNING:__main__:19bb261d-ebdf-64f0-1791-9b791d6b95d7\n"
     ]
    },
    {
     "name": "stdout",
     "output_type": "stream",
     "text": [
      "processed chunk 1056\n"
     ]
    },
    {
     "name": "stderr",
     "output_type": "stream",
     "text": [
      "WARNING:__main__:69ff8934-bdbe-a786-ba63-b77ba9f6a8ec\n"
     ]
    },
    {
     "name": "stdout",
     "output_type": "stream",
     "text": [
      "processed chunk 1057\n"
     ]
    },
    {
     "name": "stderr",
     "output_type": "stream",
     "text": [
      "WARNING:__main__:7b8405db-6f0a-0e06-9864-c7f04ea16c10\n"
     ]
    },
    {
     "name": "stdout",
     "output_type": "stream",
     "text": [
      "processed chunk 1058\n"
     ]
    },
    {
     "name": "stderr",
     "output_type": "stream",
     "text": [
      "WARNING:__main__:4b163501-ee05-c6e5-8e22-7b4555e29f5a\n",
      "WARNING:__main__:c3143225-9237-881a-4ef3-b37991db24eb\n"
     ]
    },
    {
     "name": "stdout",
     "output_type": "stream",
     "text": [
      "processed chunk 1059\n"
     ]
    },
    {
     "name": "stderr",
     "output_type": "stream",
     "text": [
      "WARNING:__main__:8bc2d6ed-0dfb-c78c-e836-1c38603fe589\n",
      "WARNING:__main__:1ac4ca2c-9209-d369-941e-69ceae617f57\n",
      "WARNING:__main__:c51860bd-72b6-135f-5d24-8f9333151521\n",
      "WARNING:__main__:2f3eebd2-8d12-c861-5497-064f4543e01e\n",
      "WARNING:__main__:1a86c904-3545-3c35-b9ca-4025ddea7ba6\n"
     ]
    },
    {
     "name": "stdout",
     "output_type": "stream",
     "text": [
      "processed chunk 1060\n"
     ]
    },
    {
     "name": "stderr",
     "output_type": "stream",
     "text": [
      "WARNING:__main__:d7cf5431-cf6f-c846-066f-cda19bd5e9db\n",
      "WARNING:__main__:0091a70c-3197-0c96-ac66-92ac83f7eeb0\n",
      "WARNING:__main__:8c82204e-b522-7812-7c88-565ac57397c1\n",
      "WARNING:__main__:38825697-5da1-80d1-d042-185f2daa982b\n",
      "WARNING:__main__:7aa6ece8-a131-18d0-efd2-5c61529801c0\n",
      "WARNING:__main__:ffa0478b-813d-eb2f-98e1-e1e3ae76b75f\n",
      "WARNING:__main__:a439a912-6743-e924-43b4-bf2b4d1a8912\n",
      "WARNING:__main__:fca54525-c521-595f-28b5-351a56e590ba\n",
      "WARNING:__main__:807462cd-1fc3-8791-57df-185a3f5b12a4\n",
      "WARNING:__main__:dfb9b65b-8f5f-b33c-6f30-71fc3a06a474\n",
      "WARNING:__main__:cf164c2f-2f78-7784-7f36-30141b875502\n"
     ]
    },
    {
     "name": "stdout",
     "output_type": "stream",
     "text": [
      "processed chunk 1061\n"
     ]
    },
    {
     "name": "stderr",
     "output_type": "stream",
     "text": [
      "WARNING:__main__:9cadf509-e504-571c-72fe-8e9716846986\n"
     ]
    },
    {
     "name": "stdout",
     "output_type": "stream",
     "text": [
      "processed chunk 1062\n"
     ]
    },
    {
     "name": "stderr",
     "output_type": "stream",
     "text": [
      "WARNING:__main__:7a20d045-ffe7-cfea-b023-d482247871bf\n"
     ]
    },
    {
     "name": "stdout",
     "output_type": "stream",
     "text": [
      "processed chunk 1063\n"
     ]
    },
    {
     "name": "stderr",
     "output_type": "stream",
     "text": [
      "WARNING:__main__:dcf2efb0-6c20-fb16-d130-085514371e8d\n"
     ]
    },
    {
     "name": "stdout",
     "output_type": "stream",
     "text": [
      "processed chunk 1064\n"
     ]
    },
    {
     "name": "stderr",
     "output_type": "stream",
     "text": [
      "WARNING:__main__:a64161d3-0448-a2ec-f559-bab85f02522c\n",
      "WARNING:__main__:5a6dd417-34c1-ad1c-b2b8-5fac9d9bca6c\n",
      "WARNING:__main__:7fa4ffe9-4c6e-bb96-a623-689d55926ad5\n",
      "WARNING:__main__:f3f92f81-1a27-84cc-281c-2a95dea37467\n",
      "WARNING:__main__:87cb3dff-9b92-bb72-d4cc-d7937dde7755\n",
      "WARNING:__main__:46a95e59-b5e7-9bea-29cb-0a27c2806c53\n",
      "WARNING:__main__:8aa0c9a8-0905-f4cc-50cb-73d9254a193d\n",
      "WARNING:__main__:7c394828-39cc-0099-6d1a-34d133b5aefd\n"
     ]
    },
    {
     "name": "stdout",
     "output_type": "stream",
     "text": [
      "processed chunk 1065\n"
     ]
    },
    {
     "name": "stderr",
     "output_type": "stream",
     "text": [
      "WARNING:__main__:0ec57b8a-49e8-b6ae-e59b-e327aaa3cdfd\n",
      "WARNING:__main__:3ab8666c-08a6-af81-71e0-7b3991a3cd7a\n",
      "WARNING:__main__:880cd5b3-6c1c-68dc-0936-c3904e72f8b8\n"
     ]
    },
    {
     "name": "stdout",
     "output_type": "stream",
     "text": [
      "processed chunk 1066\n"
     ]
    },
    {
     "name": "stderr",
     "output_type": "stream",
     "text": [
      "WARNING:__main__:77f2fd97-e7f9-a3b1-8666-ae2e87efb0d2\n"
     ]
    },
    {
     "name": "stdout",
     "output_type": "stream",
     "text": [
      "processed chunk 1067\n"
     ]
    },
    {
     "name": "stderr",
     "output_type": "stream",
     "text": [
      "WARNING:__main__:f97ec3a0-8f18-526a-ad30-cff5aded06d9\n"
     ]
    },
    {
     "name": "stdout",
     "output_type": "stream",
     "text": [
      "processed chunk 1068\n"
     ]
    },
    {
     "name": "stderr",
     "output_type": "stream",
     "text": [
      "WARNING:__main__:bb7e2533-fb02-fa78-4250-1a89496f7225\n"
     ]
    },
    {
     "name": "stdout",
     "output_type": "stream",
     "text": [
      "processed chunk 1069\n"
     ]
    },
    {
     "name": "stderr",
     "output_type": "stream",
     "text": [
      "WARNING:__main__:db5676b0-250d-b2fc-db1d-2800245acfca\n",
      "WARNING:__main__:6a6c5784-1358-d0a4-8480-71462f6d90ce\n",
      "WARNING:__main__:843d2e76-734c-0449-9d87-68d3bb8e8f88\n",
      "WARNING:__main__:3bf5edc6-fa41-5aaa-8910-3211204e0561\n",
      "WARNING:__main__:6cdf8560-2506-7167-b1ec-f19672c0f540\n",
      "WARNING:__main__:e79fc671-fc9a-17e3-0850-ce711bd9d54a\n"
     ]
    },
    {
     "name": "stdout",
     "output_type": "stream",
     "text": [
      "processed chunk 1070\n"
     ]
    },
    {
     "name": "stderr",
     "output_type": "stream",
     "text": [
      "WARNING:__main__:f5cc8202-24f1-9b97-3af2-b7fa7b6341d7\n",
      "WARNING:__main__:b2c6d2a8-bd89-ad6c-74f0-c98872578509\n",
      "WARNING:__main__:0a09cc76-6841-f9df-3ad3-70e7dc5f8507\n",
      "WARNING:__main__:3fa786e0-310d-0466-4e98-8559b5688788\n",
      "WARNING:__main__:121f5d5a-9f61-fa43-fe3c-6b505877a442\n",
      "WARNING:__main__:622232f5-e28a-d6c3-dd71-86390595defd\n",
      "WARNING:__main__:a4e14826-7cf5-a581-6c44-9bcbb7ffc0ef\n",
      "WARNING:__main__:29e0f69f-a0df-ff49-5c51-031a56ffe5d6\n",
      "WARNING:__main__:f482b1e0-2a73-2217-5105-14b2f83274fa\n",
      "WARNING:__main__:ca192a60-9a6f-3e3a-b0b4-85cd53dc342b\n",
      "WARNING:__main__:71ec307e-820a-8c06-4ba4-fab68edb527d\n",
      "WARNING:__main__:82c22dcd-1349-31a6-a26a-9b3ea4305b18\n",
      "WARNING:__main__:2d78278f-70e4-fc06-8ddc-1e014d6b9282\n",
      "WARNING:__main__:4079a66f-78f8-6e24-8e5c-df2a87cd6e9e\n",
      "WARNING:__main__:4422bd4b-8061-5d25-f4e3-947f53cba127\n"
     ]
    },
    {
     "name": "stdout",
     "output_type": "stream",
     "text": [
      "processed chunk 1071\n"
     ]
    },
    {
     "name": "stderr",
     "output_type": "stream",
     "text": [
      "WARNING:__main__:ede88367-3235-d6bc-96a7-17951f4aae98\n",
      "WARNING:__main__:0e51ba8b-11f0-a1f0-02c0-ef9ce445bac8\n",
      "WARNING:__main__:a2c6a192-2031-e1c1-4641-def5d165d515\n"
     ]
    },
    {
     "name": "stdout",
     "output_type": "stream",
     "text": [
      "processed chunk 1072\n"
     ]
    },
    {
     "name": "stderr",
     "output_type": "stream",
     "text": [
      "WARNING:__main__:b4ce2fd7-a059-e980-fc5d-85df8a82984c\n",
      "WARNING:__main__:86f4dd47-af7a-86cd-0482-e9736ff76d94\n",
      "WARNING:__main__:8fcf29b8-a6ff-79ef-8d71-4e68e7069c93\n",
      "WARNING:__main__:247f1ed8-9f3d-5e0e-1808-1a355e671629\n",
      "WARNING:__main__:ab44b0c1-3f47-a585-209d-5b1e503b096f\n",
      "WARNING:__main__:4f379476-85c7-9428-e5c8-9659979d8578\n",
      "WARNING:__main__:16a72cba-d325-d570-1f21-cfa848a9702f\n",
      "WARNING:__main__:354fe46a-7f6b-f8f6-87c5-224174cf5e34\n",
      "WARNING:__main__:9906acc9-7a83-962a-4e84-104d71d88898\n"
     ]
    },
    {
     "name": "stdout",
     "output_type": "stream",
     "text": [
      "processed chunk 1073\n"
     ]
    },
    {
     "name": "stderr",
     "output_type": "stream",
     "text": [
      "WARNING:__main__:5743ed16-9964-2496-0856-046c8bd2c2f2\n",
      "WARNING:__main__:56853fb0-397b-3aac-845b-122e2c395241\n",
      "WARNING:__main__:77da2e57-e247-a49c-3502-bb260e758420\n",
      "WARNING:__main__:da48492f-d08d-b50c-e792-256a9e23e660\n",
      "WARNING:__main__:0edd60e8-67e8-f0da-3e2e-ef603d2c1aa1\n",
      "WARNING:__main__:129765b6-85b9-1224-ad92-f5f0967fec61\n",
      "WARNING:__main__:00bc91b9-989a-e815-7ac2-81b8d22434ca\n",
      "WARNING:__main__:af15f637-d8b8-4d93-ec60-af5faf277661\n"
     ]
    },
    {
     "name": "stdout",
     "output_type": "stream",
     "text": [
      "processed chunk 1074\n"
     ]
    },
    {
     "name": "stderr",
     "output_type": "stream",
     "text": [
      "WARNING:__main__:e760cdde-eb80-0332-393f-c848e512eb3c\n"
     ]
    },
    {
     "name": "stdout",
     "output_type": "stream",
     "text": [
      "processed chunk 1075\n"
     ]
    },
    {
     "name": "stderr",
     "output_type": "stream",
     "text": [
      "WARNING:__main__:2d1ef4ea-29bf-b48a-9c5c-018e5c21b2f2\n"
     ]
    },
    {
     "name": "stdout",
     "output_type": "stream",
     "text": [
      "processed chunk 1076\n",
      "processed chunk 1077\n"
     ]
    },
    {
     "name": "stderr",
     "output_type": "stream",
     "text": [
      "WARNING:__main__:5efd065e-6572-cdcc-f6d5-f6787a2c1a2b\n",
      "WARNING:__main__:57ce1180-97a6-dfbc-2bee-fc7e7fa0d2d0\n",
      "WARNING:__main__:772e2f8d-5380-349a-b000-8d96f0f07d4a\n",
      "WARNING:__main__:ea216047-51ae-4478-5cc5-4da7ff2796e0\n",
      "WARNING:__main__:9b014002-a8f0-a0d7-651c-b3c3a7bf47ae\n",
      "WARNING:__main__:76c3fa0b-14ab-db96-fe6a-9053031ce226\n",
      "WARNING:__main__:7f014201-dee8-c594-d593-23b662000e01\n",
      "WARNING:__main__:5ffa0c74-90c0-d98e-5a9c-fc826f666108\n",
      "WARNING:__main__:1f92f067-6669-a2ca-0c22-0af95650cf95\n",
      "WARNING:__main__:1c8eab86-cb57-d2eb-9849-d7f5a7b11e01\n"
     ]
    },
    {
     "name": "stdout",
     "output_type": "stream",
     "text": [
      "processed chunk 1078\n"
     ]
    },
    {
     "name": "stderr",
     "output_type": "stream",
     "text": [
      "WARNING:__main__:d0b1196d-ce2e-5acb-ff18-686bc422eabb\n"
     ]
    },
    {
     "name": "stdout",
     "output_type": "stream",
     "text": [
      "processed chunk 1079\n"
     ]
    },
    {
     "name": "stderr",
     "output_type": "stream",
     "text": [
      "WARNING:__main__:ab615256-d791-5c5d-0372-2067a312bdef\n",
      "WARNING:__main__:74164b70-722f-353a-9df5-2936ac67adad\n",
      "WARNING:__main__:e0a1e8b5-2f86-23ea-19bb-86d1b7cc948d\n",
      "WARNING:__main__:ce1966ac-f87c-b44d-43af-f14215f8ef65\n",
      "WARNING:__main__:f0952c9a-12b1-9862-a86e-ba1817690f3e\n",
      "WARNING:__main__:bb9ba1cb-efe7-f867-60fc-0200f2b7b0fe\n",
      "WARNING:__main__:f379fd29-5ea7-24e7-e511-ca87a3975d62\n",
      "WARNING:__main__:6688c11e-4cd7-a789-2e52-767337777ca0\n",
      "WARNING:__main__:c336c77b-4069-3750-8754-a033a64cf2b1\n",
      "WARNING:__main__:a300844b-ae35-f720-2947-f22c1e21755f\n",
      "WARNING:__main__:e928ddb1-a060-f59b-0398-0699e755464e\n"
     ]
    },
    {
     "name": "stdout",
     "output_type": "stream",
     "text": [
      "processed chunk 1080\n"
     ]
    },
    {
     "name": "stderr",
     "output_type": "stream",
     "text": [
      "WARNING:__main__:63d30ad9-8cb8-ce96-b210-b9f8c9162ac2\n",
      "WARNING:__main__:e03b1c5b-cf22-315a-463a-2671edaedba0\n",
      "WARNING:__main__:f6272c67-edfa-084b-e6ce-a3372162377c\n",
      "WARNING:__main__:99442080-1f1c-da02-38ff-4dee9e2fe09d\n",
      "WARNING:__main__:12989fb3-6192-cb43-66de-5769b93f855d\n",
      "WARNING:__main__:d4db9735-ae26-4c9f-143c-1f192098dfdc\n",
      "WARNING:__main__:74f15968-bd5a-2247-40fd-2be82fcc30f5\n",
      "WARNING:__main__:8f5ee619-e41b-e34e-2f3a-f678d406cb6d\n",
      "WARNING:__main__:b43f1593-b60f-093b-6631-ad08f65b9afc\n"
     ]
    },
    {
     "name": "stdout",
     "output_type": "stream",
     "text": [
      "processed chunk 1081\n",
      "processed chunk 1082\n",
      "processed chunk 1083\n"
     ]
    },
    {
     "name": "stderr",
     "output_type": "stream",
     "text": [
      "WARNING:__main__:ea3bd462-beb7-4a8e-c036-a8b474cdfcc6\n"
     ]
    },
    {
     "name": "stdout",
     "output_type": "stream",
     "text": [
      "processed chunk 1084\n"
     ]
    },
    {
     "name": "stderr",
     "output_type": "stream",
     "text": [
      "WARNING:__main__:4212cab8-df5a-ad83-cb58-ed0bc95d22fb\n"
     ]
    },
    {
     "name": "stdout",
     "output_type": "stream",
     "text": [
      "processed chunk 1085\n"
     ]
    },
    {
     "name": "stderr",
     "output_type": "stream",
     "text": [
      "WARNING:__main__:51a9c4fb-5887-c004-ea09-3e66a10c23d3\n"
     ]
    },
    {
     "name": "stdout",
     "output_type": "stream",
     "text": [
      "processed chunk 1086\n"
     ]
    },
    {
     "name": "stderr",
     "output_type": "stream",
     "text": [
      "WARNING:__main__:2b86f330-c37b-0c83-0485-dd01fde13eed\n"
     ]
    },
    {
     "name": "stdout",
     "output_type": "stream",
     "text": [
      "processed chunk 1087\n"
     ]
    },
    {
     "name": "stderr",
     "output_type": "stream",
     "text": [
      "WARNING:__main__:241e6abc-cb36-4e6c-2940-f2b821a9871a\n"
     ]
    },
    {
     "name": "stdout",
     "output_type": "stream",
     "text": [
      "processed chunk 1088\n"
     ]
    },
    {
     "name": "stderr",
     "output_type": "stream",
     "text": [
      "WARNING:__main__:cc991201-5b09-fa97-61fa-61bd541bc003\n",
      "WARNING:__main__:f6c55ae0-3803-e263-f9f1-23b755ba1651\n",
      "WARNING:__main__:337b6a4a-ebb1-c55c-964d-f9065b6c1d61\n",
      "WARNING:__main__:f036736f-587d-9d6a-506d-3b665482ce4d\n",
      "WARNING:__main__:6661c142-53cd-82b5-223b-78cd36601f8d\n",
      "WARNING:__main__:00c5994f-2718-22da-c265-5e9d2baedac1\n",
      "WARNING:__main__:67139e0d-6c2e-59b3-dc17-b48970ce19ac\n"
     ]
    },
    {
     "name": "stdout",
     "output_type": "stream",
     "text": [
      "processed chunk 1089\n",
      "processed chunk 1090\n",
      "processed chunk 1091\n"
     ]
    },
    {
     "name": "stderr",
     "output_type": "stream",
     "text": [
      "WARNING:__main__:d24455af-088d-1ac6-0e6b-89e175624422\n",
      "WARNING:__main__:697d864b-70bc-727f-ec59-2b7311798269\n"
     ]
    },
    {
     "name": "stdout",
     "output_type": "stream",
     "text": [
      "processed chunk 1092\n"
     ]
    },
    {
     "name": "stderr",
     "output_type": "stream",
     "text": [
      "WARNING:__main__:cddf3e69-ee8f-12a3-e0d3-e74751900a20\n"
     ]
    },
    {
     "name": "stdout",
     "output_type": "stream",
     "text": [
      "processed chunk 1093\n"
     ]
    },
    {
     "name": "stderr",
     "output_type": "stream",
     "text": [
      "WARNING:__main__:25625b07-f9f3-ebd9-e30e-0d8e1c0a4aa6\n"
     ]
    },
    {
     "name": "stdout",
     "output_type": "stream",
     "text": [
      "processed chunk 1094\n"
     ]
    },
    {
     "name": "stderr",
     "output_type": "stream",
     "text": [
      "WARNING:__main__:0dac8b86-55c4-3011-46e7-ba7eb178aabd\n",
      "WARNING:__main__:e810b3c7-5747-24f0-fa31-eed29e1a238f\n",
      "WARNING:__main__:d2a64623-31bb-8b4b-28d5-6d167c5c9e5d\n",
      "WARNING:__main__:85680eb3-89d2-c7f0-3bce-244c931499d5\n",
      "WARNING:__main__:f2386a7b-f58c-d932-9c6d-8e97fefcbb62\n",
      "WARNING:__main__:3fd5d1a7-bb9d-4b8d-232e-7b818a3f2a6e\n",
      "WARNING:__main__:7fe67ca9-5c98-139e-18c9-99de246b5ccc\n",
      "WARNING:__main__:f11727f2-8a32-1148-932a-59ab98c41cac\n",
      "WARNING:__main__:fd6201f0-5e2d-9838-662c-e579160a1ee2\n",
      "WARNING:__main__:4e5ad3c7-8477-10b9-9051-d1fc05c92b05\n",
      "WARNING:__main__:eac9ec2a-e8d2-2013-aa38-f54bf4fa4fcc\n",
      "WARNING:__main__:1e0be229-7f7b-cbce-d096-7fd75ee20f84\n"
     ]
    },
    {
     "name": "stdout",
     "output_type": "stream",
     "text": [
      "processed chunk 1095\n"
     ]
    },
    {
     "name": "stderr",
     "output_type": "stream",
     "text": [
      "WARNING:__main__:7850a2da-b4e1-94c4-8e2c-5f45ae600942\n"
     ]
    },
    {
     "name": "stdout",
     "output_type": "stream",
     "text": [
      "processed chunk 1096\n"
     ]
    },
    {
     "name": "stderr",
     "output_type": "stream",
     "text": [
      "WARNING:__main__:33ddf8a2-e957-9da3-b39c-cb7f28e5adb7\n",
      "WARNING:__main__:8b3d39df-8617-a693-88de-6295cea8afe0\n"
     ]
    },
    {
     "name": "stdout",
     "output_type": "stream",
     "text": [
      "processed chunk 1097\n",
      "processed chunk 1098\n"
     ]
    },
    {
     "name": "stderr",
     "output_type": "stream",
     "text": [
      "WARNING:__main__:5e072a9a-aaee-3ea9-c004-ec50f76e285c\n",
      "WARNING:__main__:79c67cbf-7f75-d825-68d6-6ee9a65b0f75\n",
      "WARNING:__main__:28b3d37f-0627-b43c-e735-531e556478f8\n",
      "WARNING:__main__:bdf283b4-4c3b-b1aa-a4ef-788dbaafd525\n",
      "WARNING:__main__:ed83a2af-f176-d0d7-e2c2-fb89775d0265\n",
      "WARNING:__main__:63b677cd-7c5f-70ce-badc-6aeac19287e2\n",
      "WARNING:__main__:b76b4cc4-1a37-807a-0b28-23376bbb9a54\n"
     ]
    },
    {
     "name": "stdout",
     "output_type": "stream",
     "text": [
      "processed chunk 1099\n"
     ]
    },
    {
     "name": "stderr",
     "output_type": "stream",
     "text": [
      "WARNING:__main__:8cdc61d0-3cf5-ee96-4afc-0f3f6bac0423\n"
     ]
    },
    {
     "name": "stdout",
     "output_type": "stream",
     "text": [
      "processed chunk 1100\n"
     ]
    },
    {
     "name": "stderr",
     "output_type": "stream",
     "text": [
      "WARNING:__main__:66ba9226-1ebd-fb72-f654-b8dde518c1eb\n",
      "WARNING:__main__:63ef6206-d717-6f10-4d44-953044b126e6\n"
     ]
    },
    {
     "name": "stdout",
     "output_type": "stream",
     "text": [
      "processed chunk 1101\n",
      "processed chunk 1102\n"
     ]
    },
    {
     "name": "stderr",
     "output_type": "stream",
     "text": [
      "WARNING:__main__:50ca3c2e-994b-41a6-8d01-576a0555448d\n",
      "WARNING:__main__:4e272cf4-0e48-8ef8-dc25-ed407eb16592\n",
      "WARNING:__main__:2f170f82-5124-6386-3ae8-bdba065a3097\n",
      "WARNING:__main__:731e96ab-deb3-739a-2041-45536dbaaa77\n",
      "WARNING:__main__:f64ebbb3-183c-efad-d308-dad4e075a1f6\n",
      "WARNING:__main__:1b0f1880-e085-7ef6-8704-68cd6b772508\n"
     ]
    },
    {
     "name": "stdout",
     "output_type": "stream",
     "text": [
      "processed chunk 1103\n"
     ]
    },
    {
     "name": "stderr",
     "output_type": "stream",
     "text": [
      "WARNING:__main__:897a30a0-f36c-a7e0-4ae6-c781fe3b45ed\n",
      "WARNING:__main__:11e813bd-b806-a48a-807a-865bfaee32e6\n",
      "WARNING:__main__:2aef6fd0-2e39-e56d-9c15-792d5b1a3eff\n",
      "WARNING:__main__:69365fff-7ded-aef8-cbc7-c1a09647698a\n",
      "WARNING:__main__:a086221e-d794-f330-8d77-c5bff344162f\n",
      "WARNING:__main__:f6d3c3fb-c1df-455b-cb51-2b92ad633559\n",
      "WARNING:__main__:0bd1ec17-fba3-3563-c686-33a3ab934110\n"
     ]
    },
    {
     "name": "stdout",
     "output_type": "stream",
     "text": [
      "processed chunk 1104\n",
      "processed chunk 1105\n",
      "processed chunk 1106\n",
      "processed chunk 1107\n"
     ]
    },
    {
     "name": "stderr",
     "output_type": "stream",
     "text": [
      "WARNING:__main__:6cdbc243-9251-4018-0a72-9763b8509430\n",
      "WARNING:__main__:9e72ef41-b49e-35e6-eac9-c7a35cbe4349\n",
      "WARNING:__main__:31e73f34-430c-2303-dca0-4b89c2f9db8d\n"
     ]
    },
    {
     "name": "stdout",
     "output_type": "stream",
     "text": [
      "processed chunk 1108\n"
     ]
    },
    {
     "name": "stderr",
     "output_type": "stream",
     "text": [
      "WARNING:__main__:d69ff620-f36f-c60c-1aec-0ff0d1758c9f\n",
      "WARNING:__main__:879d97f4-523c-9ba7-2da2-0bb0f58a60bd\n",
      "WARNING:__main__:9e9f8faf-a086-e975-5221-015c8f9f1310\n"
     ]
    },
    {
     "name": "stdout",
     "output_type": "stream",
     "text": [
      "processed chunk 1109\n"
     ]
    },
    {
     "name": "stderr",
     "output_type": "stream",
     "text": [
      "WARNING:__main__:69803e33-afbc-ee23-cdfb-465a884dfef6\n",
      "WARNING:__main__:d5793b5b-8d20-4211-a8f0-7e49515618d3\n",
      "WARNING:__main__:07409d78-21a7-ae5e-4460-cab9759a70d2\n"
     ]
    },
    {
     "name": "stdout",
     "output_type": "stream",
     "text": [
      "processed chunk 1110\n"
     ]
    },
    {
     "name": "stderr",
     "output_type": "stream",
     "text": [
      "WARNING:__main__:f8c4a1b6-050a-e413-51a5-9b3b2c17f1df\n",
      "WARNING:__main__:83139682-ed0d-ebd8-8bdc-06b2051f7657\n",
      "WARNING:__main__:78ca612d-ae48-d69f-7e85-bd4d21dd4a65\n",
      "WARNING:__main__:170509de-d00e-c682-7409-2166fc6e98ea\n",
      "WARNING:__main__:cf151e9c-afab-44b9-a775-65fdce97dfae\n",
      "WARNING:__main__:47b9fe5e-92a4-7110-fb51-4afe7a8d7682\n",
      "WARNING:__main__:726a171a-860a-2f64-b780-13957079f776\n",
      "WARNING:__main__:22343c27-15da-1f8e-078c-fa05e781f98a\n",
      "WARNING:__main__:ece6e5b9-72f9-9e81-5f26-d32541e8579a\n",
      "WARNING:__main__:03aa20b0-e556-e43a-dba9-a25f8eae280e\n",
      "WARNING:__main__:1f75cd0a-c55a-d76c-7ce4-24198cd823f7\n",
      "WARNING:__main__:03cdd243-5306-21dc-184e-18b71380ebe3\n"
     ]
    },
    {
     "name": "stdout",
     "output_type": "stream",
     "text": [
      "processed chunk 1111\n"
     ]
    },
    {
     "name": "stderr",
     "output_type": "stream",
     "text": [
      "WARNING:__main__:eb63495b-4088-f259-b952-3c849bb70edc\n"
     ]
    },
    {
     "name": "stdout",
     "output_type": "stream",
     "text": [
      "processed chunk 1112\n"
     ]
    },
    {
     "name": "stderr",
     "output_type": "stream",
     "text": [
      "WARNING:__main__:6ec49d63-e36e-d14d-7fbf-649f75ba199b\n"
     ]
    },
    {
     "name": "stdout",
     "output_type": "stream",
     "text": [
      "processed chunk 1113\n"
     ]
    },
    {
     "name": "stderr",
     "output_type": "stream",
     "text": [
      "WARNING:__main__:2bba8b83-4459-831f-3f5c-f3931de7946f\n",
      "WARNING:__main__:7dcd827b-edba-8dc4-2f20-245046db6209\n",
      "WARNING:__main__:1f834077-b587-6779-852f-4acbaf2626af\n",
      "WARNING:__main__:a3d03b45-426b-71d9-c201-46550a9ed132\n",
      "WARNING:__main__:b9c93798-048b-32b0-0277-3e559ae6d07e\n",
      "WARNING:__main__:bcefda69-1684-530f-2cd9-d21da8b94886\n",
      "WARNING:__main__:e1855609-0f26-7901-93ef-7ca7654c0a42\n",
      "WARNING:__main__:8d5d6234-b422-1c18-c5c9-0eb79c943e17\n",
      "WARNING:__main__:b8200975-7fc7-1beb-eb7a-01da3046209f\n",
      "WARNING:__main__:bf40de1c-725a-9461-8a4a-ecbb949f6d10\n",
      "WARNING:__main__:c00dfd70-feb3-dd5f-8e07-27e824175ad0\n",
      "WARNING:__main__:fa95b93b-fa2e-b6a5-9bcc-6102d77cbfe9\n",
      "WARNING:__main__:bb09d2eb-9321-a04f-6850-a34b691d3e19\n",
      "WARNING:__main__:f4014d09-915c-ff10-33e0-d380337d2808\n",
      "WARNING:__main__:cc9e2d4d-4a3c-c0ba-99d8-03b268bfb422\n"
     ]
    },
    {
     "name": "stdout",
     "output_type": "stream",
     "text": [
      "processed chunk 1114\n"
     ]
    },
    {
     "name": "stderr",
     "output_type": "stream",
     "text": [
      "WARNING:__main__:3723b1ee-e291-1d7b-06f8-d46ef49b743f\n",
      "WARNING:__main__:67b6ac50-eb9f-cfe0-dc08-289fbe17a511\n",
      "WARNING:__main__:de568e1f-77b8-a23c-9c92-f88213bc2538\n",
      "WARNING:__main__:e2d621df-56cc-25aa-dcae-df00d820d87a\n",
      "WARNING:__main__:d02e1b7f-c44e-c061-5067-76553d9e799c\n",
      "WARNING:__main__:bc0b1d98-c077-9bf0-6d46-8f19269f52e4\n",
      "WARNING:__main__:32a9f97f-bc99-fc23-0378-6a0a33a58a4f\n",
      "WARNING:__main__:86df2d9c-4c19-02a7-a2c2-38229e506aff\n",
      "WARNING:__main__:fcdf9963-b522-5291-0ec4-011ea134055c\n",
      "WARNING:__main__:3c0819cb-8a0d-4115-7993-e68eb941be24\n",
      "WARNING:__main__:4104bfec-50c5-1cd5-afdb-c4e89893181c\n",
      "WARNING:__main__:06b87d10-1ac7-2d1a-0075-6b363b2ef62c\n",
      "WARNING:__main__:9628f794-ea72-73f5-517b-a616625bfe20\n",
      "WARNING:__main__:8600e7a0-cd98-109e-cb72-5febeab42524\n",
      "WARNING:__main__:9ad7c0b8-438a-9f02-0a1a-22547e30eef5\n",
      "WARNING:__main__:f3c4048f-1f9b-259c-f3f4-0f5b790b4829\n",
      "WARNING:__main__:992b1972-9c55-06c0-5b6d-ccab9e1f9e13\n"
     ]
    },
    {
     "name": "stdout",
     "output_type": "stream",
     "text": [
      "processed chunk 1115\n"
     ]
    },
    {
     "name": "stderr",
     "output_type": "stream",
     "text": [
      "WARNING:__main__:c56a2641-8bec-1345-e72c-a7bfa36a2e9a\n",
      "WARNING:__main__:0fb68b66-4714-ff9a-15e6-a64716569ef2\n",
      "WARNING:__main__:a294f87d-66d3-ffe5-161b-deaf4b84768d\n",
      "WARNING:__main__:bbc620cd-3926-df51-fd91-3f11a10258bc\n",
      "WARNING:__main__:25854c4d-efe6-2aca-83dc-499f67ea5f3c\n",
      "WARNING:__main__:e19148be-d0db-8828-8a1a-01cf9b6e0ddd\n",
      "WARNING:__main__:24859734-86b3-1589-2eb1-75e886814af7\n",
      "WARNING:__main__:e4135904-a6df-d199-65df-77a513d0fba0\n"
     ]
    },
    {
     "name": "stdout",
     "output_type": "stream",
     "text": [
      "processed chunk 1116\n"
     ]
    },
    {
     "name": "stderr",
     "output_type": "stream",
     "text": [
      "WARNING:__main__:1868a810-f9d9-4982-590a-7056cab25c62\n"
     ]
    },
    {
     "name": "stdout",
     "output_type": "stream",
     "text": [
      "processed chunk 1117\n"
     ]
    },
    {
     "name": "stderr",
     "output_type": "stream",
     "text": [
      "WARNING:__main__:e598da34-c8d5-a196-c2ff-b0f4226d6af1\n",
      "WARNING:__main__:9880b719-346a-e0a6-45a3-2c785d87f82b\n",
      "WARNING:__main__:12672c7b-8fc6-54bc-08ee-224ca5362dce\n",
      "WARNING:__main__:4052bf48-d4d0-9bf3-273d-2a5afb1cf668\n",
      "WARNING:__main__:62711ef5-e80d-da37-4e7a-2710a1001ec5\n",
      "WARNING:__main__:cf7e7864-13d4-2ecc-1e81-09e2b5e8673a\n",
      "WARNING:__main__:21c856f4-05b7-e546-a406-bdbf2e699815\n",
      "WARNING:__main__:608e079e-15e3-d067-684e-ad20f79ce316\n",
      "WARNING:__main__:b7923e12-6955-50fd-0f47-a6cef1da4c44\n",
      "WARNING:__main__:8856a221-1c11-db97-dd1c-4afa030be888\n",
      "WARNING:__main__:ce5b297d-a000-bc4e-0c4c-bcdb513d5a44\n"
     ]
    },
    {
     "name": "stdout",
     "output_type": "stream",
     "text": [
      "processed chunk 1118\n"
     ]
    },
    {
     "name": "stderr",
     "output_type": "stream",
     "text": [
      "WARNING:__main__:fc36c39e-8929-d604-e278-827b46b77753\n",
      "WARNING:__main__:3d3c163c-3d4a-57f7-caf1-7ca60d1f5cbd\n",
      "WARNING:__main__:f747f286-67d8-1b7d-6673-ff0e59eada99\n",
      "WARNING:__main__:802f5bcb-126b-2862-64b4-377951438bc9\n",
      "WARNING:__main__:70c52639-190c-f126-748d-e815c605866c\n",
      "WARNING:__main__:77bff27e-caef-9064-6256-ad0d2d85b0be\n",
      "WARNING:__main__:b6dd0edb-e13d-db96-2574-b668e27f7434\n"
     ]
    },
    {
     "name": "stdout",
     "output_type": "stream",
     "text": [
      "processed chunk 1119\n"
     ]
    },
    {
     "name": "stderr",
     "output_type": "stream",
     "text": [
      "WARNING:__main__:c66e09b5-fd1a-cd26-ba7c-3bf1e7bb5516\n"
     ]
    },
    {
     "name": "stdout",
     "output_type": "stream",
     "text": [
      "processed chunk 1120\n",
      "processed chunk 1121\n"
     ]
    },
    {
     "name": "stderr",
     "output_type": "stream",
     "text": [
      "WARNING:__main__:6595f75c-8464-ed45-992d-38af20ba8a06\n",
      "WARNING:__main__:3ef72545-3321-c7be-7929-9259d759e12b\n"
     ]
    },
    {
     "name": "stdout",
     "output_type": "stream",
     "text": [
      "processed chunk 1122\n"
     ]
    },
    {
     "name": "stderr",
     "output_type": "stream",
     "text": [
      "WARNING:__main__:6235ea61-fedc-b71f-85ce-d3186d03b640\n",
      "WARNING:__main__:de552768-458e-e85c-481a-81582bab3a00\n",
      "WARNING:__main__:99bfbfaf-6e29-3cfc-b8b2-baa919652e23\n",
      "WARNING:__main__:3f197def-b101-20de-5e5d-a0cd554a1e81\n"
     ]
    },
    {
     "name": "stdout",
     "output_type": "stream",
     "text": [
      "processed chunk 1123\n"
     ]
    },
    {
     "name": "stderr",
     "output_type": "stream",
     "text": [
      "WARNING:__main__:88373690-ebd2-5b27-0ddb-eb8cd8374322\n",
      "WARNING:__main__:b8181d42-40c4-a733-002e-c4861235c386\n"
     ]
    },
    {
     "name": "stdout",
     "output_type": "stream",
     "text": [
      "processed chunk 1124\n"
     ]
    },
    {
     "name": "stderr",
     "output_type": "stream",
     "text": [
      "WARNING:__main__:daefea3e-2cde-2979-926a-30a3a8088cdf\n",
      "WARNING:__main__:80750e98-1c3a-9c15-acaa-bb71bb7ccc1f\n"
     ]
    },
    {
     "name": "stdout",
     "output_type": "stream",
     "text": [
      "processed chunk 1125\n"
     ]
    },
    {
     "name": "stderr",
     "output_type": "stream",
     "text": [
      "WARNING:__main__:400f27e2-68a1-b70a-1c7d-814fbbda6a41\n",
      "WARNING:__main__:66b60472-5da1-005d-f338-d45735a39812\n",
      "WARNING:__main__:d74bf4d4-692f-1727-0e2f-b51f1cc69375\n",
      "WARNING:__main__:b6dc2d57-718f-86be-9ea3-8d6cdd3f8f53\n",
      "WARNING:__main__:d24a3e6e-9562-5a9e-465b-51ce2694af94\n",
      "WARNING:__main__:b2c9ab5c-3998-27c2-5f22-4f2c87089b8e\n"
     ]
    },
    {
     "name": "stdout",
     "output_type": "stream",
     "text": [
      "processed chunk 1126\n"
     ]
    },
    {
     "name": "stderr",
     "output_type": "stream",
     "text": [
      "WARNING:__main__:2bd60e23-b731-0ae3-4a1d-26d291125a7b\n",
      "WARNING:__main__:2c7fcb91-4a60-0e1b-5ca3-0bc2e64ee6f0\n",
      "WARNING:__main__:85b496ed-21d4-ce3c-f9d1-6db832c50028\n",
      "WARNING:__main__:9fae1da7-81b3-d9c6-cabe-d5a8089f80e3\n",
      "WARNING:__main__:7990bc95-3019-1a60-d441-955d5c5e8b92\n",
      "WARNING:__main__:2f182180-e030-6686-55cf-8c5e3b649e84\n",
      "WARNING:__main__:bfb91485-1389-e7a4-2e3f-f711b7e98a58\n",
      "WARNING:__main__:9199fd71-1e28-b1c8-f511-338aa20fffbb\n",
      "WARNING:__main__:f401a83c-3b62-cebe-e099-20588f7447f8\n",
      "WARNING:__main__:bcbddc60-857b-9318-53cc-fcea3e185cca\n",
      "WARNING:__main__:7e8c390f-da23-7a9f-0304-d2c931dcba86\n",
      "WARNING:__main__:62e1bf7c-0bf0-a6a3-1b1a-1c338b3776c0\n",
      "WARNING:__main__:22a26eaf-9274-a65c-1914-0c4d1462daa3\n",
      "WARNING:__main__:c15a8981-acd1-dc21-8565-f99f49576d66\n",
      "WARNING:__main__:2538f47b-e2e0-9169-d5a8-b526b8ea4b7f\n",
      "WARNING:__main__:3bfbc96d-0334-d6a3-d6c1-18d09467e373\n",
      "WARNING:__main__:2384f708-54d2-a60b-0db7-c700cc29f027\n",
      "WARNING:__main__:774424e3-3ce7-f585-a504-d0dc9740c0a3\n",
      "WARNING:__main__:c709ca08-82b0-d9bb-963e-8a79bdc24fda\n",
      "WARNING:__main__:0969c52c-3b5a-4f6c-ed39-fc103ad065dd\n",
      "WARNING:__main__:3512ba5a-57a3-dec6-4cd7-9b283bb68f32\n",
      "WARNING:__main__:494531c4-7d63-1e3d-4b2d-6cae41034c53\n",
      "WARNING:__main__:6ea0790f-b9c1-fbe2-69f0-cd37eeda760d\n"
     ]
    },
    {
     "name": "stdout",
     "output_type": "stream",
     "text": [
      "processed chunk 1127\n"
     ]
    },
    {
     "name": "stderr",
     "output_type": "stream",
     "text": [
      "WARNING:__main__:0714753f-bb25-14b7-bce9-6d47419a0d7b\n",
      "WARNING:__main__:4e8a8777-95ee-a2fd-51e4-41f901912cd5\n"
     ]
    },
    {
     "name": "stdout",
     "output_type": "stream",
     "text": [
      "processed chunk 1128\n",
      "processed chunk 1129\n"
     ]
    },
    {
     "name": "stderr",
     "output_type": "stream",
     "text": [
      "WARNING:__main__:bdcd506a-3e4d-e1a0-f308-651dddcd49fa\n",
      "WARNING:__main__:d2fc479a-80ae-b1e4-4d2b-ff8e7dca9446\n",
      "WARNING:__main__:79dd2fbb-aea4-19fe-50a9-1eb668780366\n",
      "WARNING:__main__:6ddbe99b-bcce-c05e-9ecc-e122ddd56591\n",
      "WARNING:__main__:86687877-8065-3115-0236-4f7dced4bc3c\n",
      "WARNING:__main__:8203cfd5-8edd-67b0-deed-64658d8516ad\n",
      "WARNING:__main__:4b533014-4808-bf8f-9d9b-f36b145d5001\n",
      "WARNING:__main__:495b0cf3-1785-043b-c405-f3c409abbb06\n",
      "WARNING:__main__:9b775810-144d-bb0a-1501-0bb680c79acb\n",
      "WARNING:__main__:8c4b7b4c-c810-b6d0-6a64-0080b09ee040\n",
      "WARNING:__main__:ce6f98f1-7555-6640-5789-8ca8b0441c13\n",
      "WARNING:__main__:d9e6910c-0c5c-11d9-d889-f83cd79f75a4\n"
     ]
    },
    {
     "name": "stdout",
     "output_type": "stream",
     "text": [
      "processed chunk 1130\n"
     ]
    },
    {
     "name": "stderr",
     "output_type": "stream",
     "text": [
      "WARNING:__main__:3977e010-9fe5-023c-75f9-7768018446b7\n",
      "WARNING:__main__:5a4b1f7d-3592-e3dc-78f8-4f65ee733a5f\n",
      "WARNING:__main__:e7bbbd23-1915-e1a2-eacd-99eab9130b83\n",
      "WARNING:__main__:6b8f9af0-644b-49d4-effc-72bb7d9efc6e\n",
      "WARNING:__main__:86b13b47-0e08-4b14-a4c4-4ccfc7153ece\n",
      "WARNING:__main__:13dcbf97-fcf1-ab61-322a-35cbd0bd88e1\n",
      "WARNING:__main__:9006aa0d-0d2f-9faa-7e23-64475a7fe1a9\n",
      "WARNING:__main__:f1b784ff-692a-1505-bcc6-9e73de30dff8\n",
      "WARNING:__main__:ba14184b-fdc6-f964-50ed-1dac6b0dbc8c\n",
      "WARNING:__main__:9f412fb7-138f-13af-c390-79a86c9ad8a3\n",
      "WARNING:__main__:2f4299f2-e8ff-683d-7e3e-18d4bc7bf04e\n",
      "WARNING:__main__:3883bbfa-a77b-be16-f874-3fca4e7e8a1a\n",
      "WARNING:__main__:35e025ad-cc7a-b050-45af-e4aa54fc9552\n"
     ]
    },
    {
     "name": "stdout",
     "output_type": "stream",
     "text": [
      "processed chunk 1131\n"
     ]
    },
    {
     "name": "stderr",
     "output_type": "stream",
     "text": [
      "WARNING:__main__:f822b15f-dccb-f934-4b02-b7f237b2f9be\n",
      "WARNING:__main__:16ec7038-3eee-14af-8a4e-1246980c945f\n",
      "WARNING:__main__:625fb68f-535d-79a7-0df9-23254f01e650\n",
      "WARNING:__main__:4decb48a-7490-cdf9-d685-81662380c50e\n"
     ]
    },
    {
     "name": "stdout",
     "output_type": "stream",
     "text": [
      "processed chunk 1132\n"
     ]
    },
    {
     "name": "stderr",
     "output_type": "stream",
     "text": [
      "WARNING:__main__:5b02ecae-5d9f-d4e7-0896-5fbfe272f12b\n"
     ]
    },
    {
     "name": "stdout",
     "output_type": "stream",
     "text": [
      "processed chunk 1133\n"
     ]
    },
    {
     "name": "stderr",
     "output_type": "stream",
     "text": [
      "WARNING:__main__:361b2d07-846e-f964-ae4d-ca5c3216b639\n",
      "WARNING:__main__:d3679d16-e742-6a93-c09a-551515234f18\n",
      "WARNING:__main__:b24f8ffa-209e-2318-4678-f5171405735f\n",
      "WARNING:__main__:55833107-18f3-c225-0d3d-cff17565e871\n",
      "WARNING:__main__:70e68e3a-affa-6c59-30ac-21cd6c4c1b7d\n"
     ]
    },
    {
     "name": "stdout",
     "output_type": "stream",
     "text": [
      "processed chunk 1134\n"
     ]
    },
    {
     "name": "stderr",
     "output_type": "stream",
     "text": [
      "WARNING:__main__:ad329b07-9cef-0ce9-45d5-0d9047d0d3a8\n",
      "WARNING:__main__:4d821c11-7f71-57b7-4089-f31c6d816bc5\n",
      "WARNING:__main__:0ac1acfd-3f75-f3f8-ee3d-5bac45f3bf46\n",
      "WARNING:__main__:73cafafa-adc8-b0b5-49ae-811afbc118d5\n"
     ]
    },
    {
     "name": "stdout",
     "output_type": "stream",
     "text": [
      "processed chunk 1135\n",
      "processed chunk 1136\n"
     ]
    },
    {
     "name": "stderr",
     "output_type": "stream",
     "text": [
      "WARNING:__main__:7472aa3d-1efa-5643-3200-f9167ffc2a9d\n",
      "WARNING:__main__:eedd8487-1fe4-7453-e24a-5fa8eddbf7fd\n",
      "WARNING:__main__:5adfd317-2204-536c-5717-e986f63e7f40\n",
      "WARNING:__main__:a7067248-f8dc-370a-9bba-a9d02b7be77d\n",
      "WARNING:__main__:cfcd2742-96e5-73dd-92b8-5b27f40643fd\n",
      "WARNING:__main__:9cd0a3de-9873-9549-a85c-609456da4d5f\n",
      "WARNING:__main__:96163ffd-7899-a408-3d6c-99babab0d44a\n",
      "WARNING:__main__:41d23921-7626-310d-c627-f22050937954\n",
      "WARNING:__main__:fd4c712b-58bd-3bf1-4a14-debd38501ee2\n",
      "WARNING:__main__:0491d27e-293d-4a7f-c78f-39b9df49656b\n",
      "WARNING:__main__:10e2f472-25fe-b9a2-59f6-7435298be4c6\n",
      "WARNING:__main__:38b5493d-8031-95cc-2f68-183da8acee53\n",
      "WARNING:__main__:b0a31bf0-0ea2-b5d2-31a5-a95a4211bc5f\n",
      "WARNING:__main__:b2ae3570-9511-40b0-4974-2c454eda7e07\n",
      "WARNING:__main__:adeea602-32cd-af12-1eb0-524ee2c20139\n",
      "WARNING:__main__:ef000013-000b-8213-78d5-90654315eedb\n",
      "WARNING:__main__:ef5f7aa8-3d76-002e-685d-2c22e89bd145\n",
      "WARNING:__main__:936e4f63-5a2d-0cda-b9a4-3df748afec04\n"
     ]
    },
    {
     "name": "stdout",
     "output_type": "stream",
     "text": [
      "processed chunk 1137\n"
     ]
    },
    {
     "name": "stderr",
     "output_type": "stream",
     "text": [
      "WARNING:__main__:f32667c5-19b9-d04d-2ebc-152f1425852f\n",
      "WARNING:__main__:085de90a-30c9-4dc3-a1ef-86189e7854e9\n",
      "WARNING:__main__:16659f65-2f9f-1eea-fe01-1a3954353db3\n",
      "WARNING:__main__:2e702e16-7705-a3c0-d3f6-ca9778c6a767\n",
      "WARNING:__main__:79c83ce5-9b79-8ae6-24ba-1a9d21950d0f\n",
      "WARNING:__main__:3e747143-6fef-3ae7-ec08-9e210ca6573a\n"
     ]
    },
    {
     "name": "stdout",
     "output_type": "stream",
     "text": [
      "processed chunk 1138\n"
     ]
    },
    {
     "name": "stderr",
     "output_type": "stream",
     "text": [
      "WARNING:__main__:9020327a-6c27-0aca-ccdc-ab0cd4dab809\n",
      "WARNING:__main__:d62d5e2e-52a6-0b68-b757-2e19331b6e28\n",
      "WARNING:__main__:a0abbabe-dc1c-c502-cbd5-be848e7a3db7\n",
      "WARNING:__main__:1d8226b5-949e-8910-ca94-9a0bb6ccb324\n",
      "WARNING:__main__:0ce4bba4-d647-2b91-87b5-21f60dbb84df\n"
     ]
    },
    {
     "name": "stdout",
     "output_type": "stream",
     "text": [
      "processed chunk 1139\n",
      "processed chunk 1140\n",
      "processed chunk 1141\n"
     ]
    },
    {
     "name": "stderr",
     "output_type": "stream",
     "text": [
      "WARNING:__main__:21903b3f-146b-8d09-e62c-ecba7eb2a9d7\n"
     ]
    },
    {
     "name": "stdout",
     "output_type": "stream",
     "text": [
      "processed chunk 1142\n"
     ]
    },
    {
     "name": "stderr",
     "output_type": "stream",
     "text": [
      "WARNING:__main__:fec44a2f-893a-ce30-3db2-f974503d5844\n",
      "WARNING:__main__:efa68610-07f3-c12a-5b4b-34660cd66676\n",
      "WARNING:__main__:472c568b-7bdd-68de-f794-f29f8a4ec53c\n",
      "WARNING:__main__:066355a6-798f-7659-7157-d3a8fb1d8958\n",
      "WARNING:__main__:4c82cbcd-82d5-6fbe-51a2-68b85bfa0fd8\n",
      "WARNING:__main__:1d9dc9fd-4015-bb38-6b08-76af6c62f20c\n",
      "WARNING:__main__:cc11b331-e7c1-bc76-a288-4caaea1a1df9\n",
      "WARNING:__main__:5724ce9b-57c2-78c2-1b56-be72d8551b82\n",
      "WARNING:__main__:b79f8ec6-1f65-139f-d065-33a79b478fb8\n",
      "WARNING:__main__:d6ea19bf-145c-0bdf-943d-5ceefbad21ae\n",
      "WARNING:__main__:a8dfd057-241b-4e57-cc81-274f261941bf\n",
      "WARNING:__main__:1f3f5e76-4b8b-e1fa-2ba5-d7af4a5ee9b4\n",
      "WARNING:__main__:5dda8cad-55a5-7053-3ed4-cfe21765b104\n"
     ]
    },
    {
     "name": "stdout",
     "output_type": "stream",
     "text": [
      "processed chunk 1143\n"
     ]
    },
    {
     "name": "stderr",
     "output_type": "stream",
     "text": [
      "WARNING:__main__:e534c0f4-31ae-759c-a42b-44868c2d3c44\n",
      "WARNING:__main__:a62191ce-7a96-d803-cb1e-bc93f568fcf9\n",
      "WARNING:__main__:a1486950-7c86-2d09-42a8-8f05036ec17f\n",
      "WARNING:__main__:94d39a58-ddfe-2142-1a53-c3ad9fc166bb\n",
      "WARNING:__main__:f220168d-e66e-0a68-4c36-05d8f06e436c\n",
      "WARNING:__main__:2c81e2ea-2de0-5ef6-1ffa-d634133dda47\n",
      "WARNING:__main__:77337985-791c-566e-7d3e-c7278bfc6bfe\n",
      "WARNING:__main__:7a958fe8-48e8-b744-203c-b0ee3927fa46\n",
      "WARNING:__main__:58f7055a-68dc-f74e-0566-d4be2dcb5fdf\n",
      "WARNING:__main__:998b238f-17b6-ca15-d9ac-193be235a379\n",
      "WARNING:__main__:eccc77bc-f79d-56fa-f91e-9bdf9db3b2c2\n",
      "WARNING:__main__:6c767118-12fc-2127-83e6-73193b9c100e\n",
      "WARNING:__main__:93e0b3c7-1308-2b9f-31c3-797eb403d8ec\n",
      "WARNING:__main__:8dc3cb01-52b1-1cae-ffec-78b32fb09767\n",
      "WARNING:__main__:b6b5e350-0e1b-67f4-9bed-8511b151374d\n",
      "WARNING:__main__:b5743620-801a-625f-b69f-1c447dc04848\n",
      "WARNING:__main__:aa2eb967-bbb3-bc74-a058-c21e8607b535\n",
      "WARNING:__main__:21ef34a6-a53e-1227-a7b6-e552aeea478f\n"
     ]
    },
    {
     "name": "stdout",
     "output_type": "stream",
     "text": [
      "processed chunk 1144\n"
     ]
    },
    {
     "name": "stderr",
     "output_type": "stream",
     "text": [
      "WARNING:__main__:98a5859d-e6ae-1812-d848-63e7e86a471b\n",
      "WARNING:__main__:4e6d805d-75a5-8b14-8ed5-fb0e1ca102ae\n",
      "WARNING:__main__:9efa61e7-d4e7-d2aa-e877-d1c09f89bf32\n",
      "WARNING:__main__:ac93c6dd-f935-bdab-5f39-7e428e7c4573\n"
     ]
    },
    {
     "name": "stdout",
     "output_type": "stream",
     "text": [
      "processed chunk 1145\n"
     ]
    },
    {
     "name": "stderr",
     "output_type": "stream",
     "text": [
      "WARNING:__main__:f8133b8e-2f9a-638e-a98b-2aa4f7991672\n",
      "WARNING:__main__:47fb9ce7-da71-2b0c-339b-be120df0f64d\n",
      "WARNING:__main__:940e63e8-91e1-768f-df82-32039694b2a4\n",
      "WARNING:__main__:f2d8b1b7-95f9-3b39-4757-eb3f508db1f8\n",
      "WARNING:__main__:90206cef-2285-1ed4-20ee-8d11401fe998\n",
      "WARNING:__main__:3f84d3f9-7bf9-13e8-edbc-f06476c4865a\n",
      "WARNING:__main__:2055f8e4-1abd-eccf-2962-5f4daa46fd58\n",
      "WARNING:__main__:aee4ebff-39ba-5783-b28e-1d5dcbd423c2\n",
      "WARNING:__main__:2db6732b-2a57-74c4-8bc7-cb17e12284db\n",
      "WARNING:__main__:629fa39c-06ba-ad83-d3fd-b7f1b0c78996\n",
      "WARNING:__main__:0cd2dbc2-75bf-8f70-5344-d6a40527fde4\n",
      "WARNING:__main__:b5913562-0724-25b6-7f03-976e8929089c\n",
      "WARNING:__main__:229289ac-fd81-b088-57a6-78b823958605\n",
      "WARNING:__main__:405bd7ce-55a7-d9d0-d852-c445a37452dc\n",
      "WARNING:__main__:d81f3262-5170-074b-bd5e-e5a3a2f0d234\n",
      "WARNING:__main__:18e1cbe6-605a-e134-4c93-3bc991a07aa5\n"
     ]
    },
    {
     "name": "stdout",
     "output_type": "stream",
     "text": [
      "processed chunk 1146\n"
     ]
    },
    {
     "name": "stderr",
     "output_type": "stream",
     "text": [
      "WARNING:__main__:42274468-064a-8469-3653-69a05d129f0f\n",
      "WARNING:__main__:d158dee8-a12f-87da-b5c2-ecb4b30893a7\n",
      "WARNING:__main__:4f89a13f-8fb7-8674-6679-70bcd42edd65\n"
     ]
    },
    {
     "name": "stdout",
     "output_type": "stream",
     "text": [
      "processed chunk 1147\n",
      "processed chunk 1148\n",
      "processed chunk 1149\n"
     ]
    }
   ],
   "source": [
    "chunkAndProcess(df, fileout = FILE_OUTPUT_PATH, chunk_size=CHUNK_SIZE)"
   ]
  },
  {
   "cell_type": "code",
   "execution_count": 57,
   "metadata": {},
   "outputs": [
    {
     "data": {
      "text/plain": [
       "114984"
      ]
     },
     "execution_count": 57,
     "metadata": {},
     "output_type": "execute_result"
    }
   ],
   "source": [
    "len(df)"
   ]
  },
  {
   "cell_type": "code",
   "execution_count": null,
   "metadata": {},
   "outputs": [],
   "source": []
  }
 ],
 "metadata": {
  "kernelspec": {
   "display_name": "Python 3",
   "language": "python",
   "name": "python3"
  },
  "language_info": {
   "codemirror_mode": {
    "name": "ipython",
    "version": 3
   },
   "file_extension": ".py",
   "mimetype": "text/x-python",
   "name": "python",
   "nbconvert_exporter": "python",
   "pygments_lexer": "ipython3",
   "version": "3.7.3"
  }
 },
 "nbformat": 4,
 "nbformat_minor": 4
}
