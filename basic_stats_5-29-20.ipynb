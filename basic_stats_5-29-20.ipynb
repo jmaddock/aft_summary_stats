{
 "cells": [
  {
   "cell_type": "markdown",
   "metadata": {},
   "source": [
    "# Summary Stats on AFT Dataset\n",
    "\n",
    "**Author:** Jim Maddock\n",
    "\n",
    "**Last Updated:** 5-29-20\n",
    "\n",
    "**Description:** Basic summary stats for the AFT Dataset.  This notebook should:\n",
    "* Summarize the total number of:\n",
    "    * comments\n",
    "    * articles\n",
    "    * users\n",
    "    \n",
    "\n",
    "* Summarize the number of labeled comments for classes:\n",
    "    * oversight\n",
    "    * hide\n",
    "    * flag\n",
    "    * inappropriate\n",
    "    * helpful\n",
    "    * unhelpful"
   ]
  },
  {
   "cell_type": "code",
   "execution_count": 1,
   "metadata": {},
   "outputs": [],
   "source": [
    "import csv\n",
    "import pandas as pd\n",
    "import numpy as np\n",
    "\n",
    "import matplotlib.pyplot as plt\n",
    "import matplotlib\n",
    "import numpy as np\n",
    "matplotlib.style.use('ggplot')"
   ]
  },
  {
   "cell_type": "code",
   "execution_count": 4,
   "metadata": {},
   "outputs": [],
   "source": [
    "filePath = '/Users/klogg/research_data/aft/raw/dump_03-24-20.csv'\n",
    "\n",
    "dtypes = {\n",
    "    'aft_id':object\n",
    "}\n",
    "\n",
    "df = pd.read_csv(filePath,escapechar='\\\\', encoding='latin-1', dtype=dtypes)"
   ]
  },
  {
   "cell_type": "code",
   "execution_count": 72,
   "metadata": {},
   "outputs": [
    {
     "data": {
      "text/plain": [
       "Index(['aft_id', 'aft_page', 'aft_page_revision', 'aft_user', 'aft_user_text',\n",
       "       'aft_user_token', 'aft_form', 'aft_cta', 'aft_link', 'aft_rating',\n",
       "       'aft_comment', 'aft_timestamp', 'aft_oversight', 'aft_decline',\n",
       "       'aft_request', 'aft_hide', 'aft_autohide', 'aft_flag', 'aft_autoflag',\n",
       "       'aft_feature', 'aft_resolve', 'aft_noaction', 'aft_inappropriate',\n",
       "       'aft_archive', 'aft_archive_date', 'aft_helpful', 'aft_unhelpful',\n",
       "       'aft_has_comment', 'aft_net_helpful', 'aft_relevance_score',\n",
       "       'aft_discuss', 'aft_claimed_user'],\n",
       "      dtype='object')"
      ]
     },
     "execution_count": 72,
     "metadata": {},
     "output_type": "execute_result"
    }
   ],
   "source": [
    "## list of column names\n",
    "df.columns"
   ]
  },
  {
   "cell_type": "markdown",
   "metadata": {},
   "source": [
    "## Basic Stats"
   ]
  },
  {
   "cell_type": "code",
   "execution_count": 92,
   "metadata": {},
   "outputs": [
    {
     "name": "stdout",
     "output_type": "stream",
     "text": [
      "number of rows: 937396\n",
      "number of unique comments: 910571\n",
      "all comments have unique id: False\n",
      "number of aft_ids with more than one comment: 26060\n",
      "number of unique pages: 161550\n",
      "number of unique users: 18958\n"
     ]
    }
   ],
   "source": [
    "## number of rows\n",
    "print('number of rows: {0}'.format(len(df)))\n",
    "\n",
    "## number of comments\n",
    "print('number of unique comments: {0}'.format(df['aft_id'].nunique()))\n",
    "\n",
    "## check whether all comments are have a unique id\n",
    "print('all comments have unique id: {0}'.format(len(df['aft_id'].unique()) == len(df['aft_id'])))\n",
    "\n",
    "## check how many rows have duplicate ids\n",
    "dups = df.groupby('aft_id').size().to_frame('count')\n",
    "num_dups = len(dups.loc[dups['count'] > 1])\n",
    "print('number of aft_ids with more than one comment: {0}'.format(num_dups))\n",
    "\n",
    "## number of unqiue pages\n",
    "print('number of unique pages: {0}'.format(df['aft_page'].nunique()))\n",
    "\n",
    "## number of unique users\n",
    "print('number of unique users: {0}'.format(df['aft_user'].nunique()))"
   ]
  },
  {
   "cell_type": "markdown",
   "metadata": {},
   "source": [
    "## entries with non-unique aft_id\n",
    "These seem to be entirely different enteries.  Different users, pages, revs, and comments"
   ]
  },
  {
   "cell_type": "code",
   "execution_count": 85,
   "metadata": {},
   "outputs": [
    {
     "data": {
      "text/html": [
       "<div>\n",
       "<style scoped>\n",
       "    .dataframe tbody tr th:only-of-type {\n",
       "        vertical-align: middle;\n",
       "    }\n",
       "\n",
       "    .dataframe tbody tr th {\n",
       "        vertical-align: top;\n",
       "    }\n",
       "\n",
       "    .dataframe thead th {\n",
       "        text-align: right;\n",
       "    }\n",
       "</style>\n",
       "<table border=\"1\" class=\"dataframe\">\n",
       "  <thead>\n",
       "    <tr style=\"text-align: right;\">\n",
       "      <th></th>\n",
       "      <th>aft_id</th>\n",
       "      <th>aft_page</th>\n",
       "      <th>aft_page_revision</th>\n",
       "      <th>aft_user</th>\n",
       "      <th>aft_user_text</th>\n",
       "      <th>aft_user_token</th>\n",
       "      <th>aft_form</th>\n",
       "      <th>aft_cta</th>\n",
       "      <th>aft_link</th>\n",
       "      <th>aft_rating</th>\n",
       "      <th>...</th>\n",
       "      <th>aft_inappropriate</th>\n",
       "      <th>aft_archive</th>\n",
       "      <th>aft_archive_date</th>\n",
       "      <th>aft_helpful</th>\n",
       "      <th>aft_unhelpful</th>\n",
       "      <th>aft_has_comment</th>\n",
       "      <th>aft_net_helpful</th>\n",
       "      <th>aft_relevance_score</th>\n",
       "      <th>aft_discuss</th>\n",
       "      <th>aft_claimed_user</th>\n",
       "    </tr>\n",
       "  </thead>\n",
       "  <tbody>\n",
       "    <tr>\n",
       "      <th>657035</th>\n",
       "      <td>69900000000000000000000000000000</td>\n",
       "      <td>13443</td>\n",
       "      <td>466899639</td>\n",
       "      <td>0</td>\n",
       "      <td>220.227.252.234</td>\n",
       "      <td>mP8tPNhIAU6c4nqnksjioaJQKBqyiR7A</td>\n",
       "      <td>1</td>\n",
       "      <td>1</td>\n",
       "      <td>X</td>\n",
       "      <td>1</td>\n",
       "      <td>...</td>\n",
       "      <td>0</td>\n",
       "      <td>0</td>\n",
       "      <td>20131223122253</td>\n",
       "      <td>0</td>\n",
       "      <td>0</td>\n",
       "      <td>0</td>\n",
       "      <td>0</td>\n",
       "      <td>0</td>\n",
       "      <td>N</td>\n",
       "      <td>0</td>\n",
       "    </tr>\n",
       "    <tr>\n",
       "      <th>657036</th>\n",
       "      <td>69900000000000000000000000000000</td>\n",
       "      <td>27289438</td>\n",
       "      <td>469564655</td>\n",
       "      <td>0</td>\n",
       "      <td>94.11.29.245</td>\n",
       "      <td>ZM4OhJ1EyMbQYxnL0z4WTqHoMelA8gsn</td>\n",
       "      <td>1</td>\n",
       "      <td>1</td>\n",
       "      <td>X</td>\n",
       "      <td>0</td>\n",
       "      <td>...</td>\n",
       "      <td>1</td>\n",
       "      <td>0</td>\n",
       "      <td>20140110203101</td>\n",
       "      <td>0</td>\n",
       "      <td>0</td>\n",
       "      <td>1</td>\n",
       "      <td>0</td>\n",
       "      <td>-50</td>\n",
       "      <td>N</td>\n",
       "      <td>0</td>\n",
       "    </tr>\n",
       "    <tr>\n",
       "      <th>657037</th>\n",
       "      <td>69900000000000000000000000000000</td>\n",
       "      <td>17804346</td>\n",
       "      <td>465823544</td>\n",
       "      <td>0</td>\n",
       "      <td>92.251.210.17</td>\n",
       "      <td>G6WFge9mrS8Xd3TDsLTcbFDuFNpJe6dl</td>\n",
       "      <td>1</td>\n",
       "      <td>1</td>\n",
       "      <td>X</td>\n",
       "      <td>1</td>\n",
       "      <td>...</td>\n",
       "      <td>0</td>\n",
       "      <td>0</td>\n",
       "      <td>20140328164814</td>\n",
       "      <td>0</td>\n",
       "      <td>0</td>\n",
       "      <td>0</td>\n",
       "      <td>0</td>\n",
       "      <td>0</td>\n",
       "      <td>N</td>\n",
       "      <td>0</td>\n",
       "    </tr>\n",
       "    <tr>\n",
       "      <th>657038</th>\n",
       "      <td>69900000000000000000000000000000</td>\n",
       "      <td>75977</td>\n",
       "      <td>525313092</td>\n",
       "      <td>0</td>\n",
       "      <td>115.245.178.159</td>\n",
       "      <td>TEU4M15uIPF7Cy6Y7tdp9jzciceFrQZ6</td>\n",
       "      <td>6</td>\n",
       "      <td>4</td>\n",
       "      <td>X</td>\n",
       "      <td>0</td>\n",
       "      <td>...</td>\n",
       "      <td>0</td>\n",
       "      <td>0</td>\n",
       "      <td>20141204133452</td>\n",
       "      <td>0</td>\n",
       "      <td>0</td>\n",
       "      <td>1</td>\n",
       "      <td>0</td>\n",
       "      <td>0</td>\n",
       "      <td>N</td>\n",
       "      <td>0</td>\n",
       "    </tr>\n",
       "  </tbody>\n",
       "</table>\n",
       "<p>4 rows × 32 columns</p>\n",
       "</div>"
      ],
      "text/plain": [
       "                                  aft_id  aft_page  aft_page_revision  \\\n",
       "657035  69900000000000000000000000000000     13443          466899639   \n",
       "657036  69900000000000000000000000000000  27289438          469564655   \n",
       "657037  69900000000000000000000000000000  17804346          465823544   \n",
       "657038  69900000000000000000000000000000     75977          525313092   \n",
       "\n",
       "        aft_user    aft_user_text                    aft_user_token  aft_form  \\\n",
       "657035         0  220.227.252.234  mP8tPNhIAU6c4nqnksjioaJQKBqyiR7A         1   \n",
       "657036         0     94.11.29.245  ZM4OhJ1EyMbQYxnL0z4WTqHoMelA8gsn         1   \n",
       "657037         0    92.251.210.17  G6WFge9mrS8Xd3TDsLTcbFDuFNpJe6dl         1   \n",
       "657038         0  115.245.178.159  TEU4M15uIPF7Cy6Y7tdp9jzciceFrQZ6         6   \n",
       "\n",
       "        aft_cta aft_link  aft_rating  ... aft_inappropriate  aft_archive  \\\n",
       "657035        1        X           1  ...                 0            0   \n",
       "657036        1        X           0  ...                 1            0   \n",
       "657037        1        X           1  ...                 0            0   \n",
       "657038        4        X           0  ...                 0            0   \n",
       "\n",
       "        aft_archive_date  aft_helpful  aft_unhelpful  aft_has_comment  \\\n",
       "657035    20131223122253            0              0                0   \n",
       "657036    20140110203101            0              0                1   \n",
       "657037    20140328164814            0              0                0   \n",
       "657038    20141204133452            0              0                1   \n",
       "\n",
       "        aft_net_helpful  aft_relevance_score  aft_discuss  aft_claimed_user  \n",
       "657035                0                    0            N                 0  \n",
       "657036                0                  -50            N                 0  \n",
       "657037                0                    0            N                 0  \n",
       "657038                0                    0            N                 0  \n",
       "\n",
       "[4 rows x 32 columns]"
      ]
     },
     "execution_count": 85,
     "metadata": {},
     "output_type": "execute_result"
    }
   ],
   "source": [
    "dups.sort_values('count',ascending=False)\n",
    "df.loc[df['aft_id'] == '69900000000000000000000000000000']"
   ]
  },
  {
   "cell_type": "markdown",
   "metadata": {},
   "source": [
    "## Comments & ratings"
   ]
  },
  {
   "cell_type": "code",
   "execution_count": 114,
   "metadata": {},
   "outputs": [
    {
     "name": "stdout",
     "output_type": "stream",
     "text": [
      "number of rows with comments: 675616\n",
      "percent of rows with comments: 72.07\n",
      "percent of rows with positive ratings: 50.00\n",
      "percent of rows with oversight: 0.00\n",
      "percent of rows that were hidden: 1.92\n"
     ]
    }
   ],
   "source": [
    "assert(len(df.loc[df['aft_comment'].isnull()]) + len(df.loc[df['aft_comment'].notnull()]) == len(df))\n",
    "print('number of rows with comments: {0}'.format(len(df.loc[df['aft_comment'].notnull()])))\n",
    "print('percent of rows with comments: {0:.2f}'.format((len(df.loc[df['aft_comment'].notnull()])/len(df))*100))\n",
    "print('percent of rows with positive ratings: {0:.2f}'.format((len(df.loc[df['aft_rating'] == 1])/len(df))*100))\n"
   ]
  },
  {
   "cell_type": "markdown",
   "metadata": {},
   "source": [
    "## Oversight"
   ]
  },
  {
   "cell_type": "code",
   "execution_count": 138,
   "metadata": {},
   "outputs": [
    {
     "name": "stdout",
     "output_type": "stream",
     "text": [
      "number rows with oversight: 0\n",
      "number rows with oversight declined: 2\n",
      "number rows with oversight request: 0\n"
     ]
    }
   ],
   "source": [
    "print('number rows with oversight: {0}'.format((len(df.loc[df['aft_oversight'] > 0]))))\n",
    "print('number rows with oversight declined: {0}'.format((len(df.loc[df['aft_decline'] > 0]))))\n",
    "print('number rows with oversight request: {0}'.format((len(df.loc[df['aft_request'] > 0]))))"
   ]
  },
  {
   "cell_type": "code",
   "execution_count": 139,
   "metadata": {},
   "outputs": [
    {
     "name": "stdout",
     "output_type": "stream",
     "text": [
      "number of rows that were hidden: 18043\n",
      "percent of rows that were hidden: 1.92\n",
      "number of rows that were auto hidden: 113\n",
      "percent of rows that were auto hidden: 0.01\n"
     ]
    }
   ],
   "source": [
    "print('number of rows that were hidden: {0}'.format((len(df.loc[df['aft_hide'] == 1]))))\n",
    "print('percent of rows that were hidden: {0:.2f}'.format((len(df.loc[df['aft_hide'] == 1])/len(df))*100))\n",
    "print('number of rows that were auto hidden: {0}'.format((len(df.loc[df['aft_autohide'] == 1]))))\n",
    "print('percent of rows that were auto hidden: {0:.2f}'.format((len(df.loc[df['aft_autohide'] == 1])/len(df))*100))"
   ]
  },
  {
   "cell_type": "code",
   "execution_count": 136,
   "metadata": {},
   "outputs": [
    {
     "name": "stdout",
     "output_type": "stream",
     "text": [
      "number of rows marked as abusive: 22278\n",
      "percent of rows marked as abusive: 2.38\n",
      "distribution of number of times a comment was flagged:\n",
      "aft_flag\n",
      "0     915118\n",
      "1      19997\n",
      "2       1678\n",
      "3        374\n",
      "4        118\n",
      "5         48\n",
      "6         22\n",
      "7         25\n",
      "8          5\n",
      "9          4\n",
      "10         3\n",
      "11         1\n",
      "12         1\n",
      "13         1\n",
      "20         1\n",
      "dtype: int64\n"
     ]
    }
   ],
   "source": [
    "print('number of rows marked as abusive: {0}'.format((len(df.loc[df['aft_flag'] > 0]))))\n",
    "print('percent of rows marked as abusive: {0:.2f}'.format((len(df.loc[df['aft_flag'] > 0]))/len(df)*100))\n",
    "print('distribution of number of times a comment was flagged:')\n",
    "print(df.groupby('aft_flag').size())"
   ]
  },
  {
   "cell_type": "code",
   "execution_count": 140,
   "metadata": {},
   "outputs": [
    {
     "name": "stdout",
     "output_type": "stream",
     "text": [
      "number of rows auto-marked as abusive: 3128\n",
      "percent of rows auto-marked as abusive: 0.33\n"
     ]
    }
   ],
   "source": [
    "print('number of rows auto-marked as abusive: {0}'.format((len(df.loc[df['aft_autoflag'] > 0]))))\n",
    "print('percent of rows auto-marked as abusive: {0:.2f}'.format((len(df.loc[df['aft_autoflag'] > 0]))/len(df)*100))"
   ]
  },
  {
   "cell_type": "code",
   "execution_count": 157,
   "metadata": {},
   "outputs": [
    {
     "name": "stdout",
     "output_type": "stream",
     "text": [
      "number of rows that were useful: 10714\n",
      "percent of rows that were useful: 1.14\n",
      "\n",
      "number of rows that were resolved: 22643\n",
      "percent of rows that were resolved: 2.42\n",
      "\n",
      "number of rows that were not actionable: 48650 (5.19%)\n",
      "\n",
      "number of rows that were inappropriate: 9138 (0.97%)\n",
      "\n",
      "number of rows that were marked as helpful: 57262 (6.11%)\n",
      "distribution of number of times a comment was marked as helpful:\n",
      "aft_helpful\n",
      "0     880134\n",
      "1      45433\n",
      "2       8080\n",
      "3       2127\n",
      "4        788\n",
      "5        342\n",
      "6        175\n",
      "7         90\n",
      "8         57\n",
      "9         34\n",
      "10        26\n",
      "11        18\n",
      "12        20\n",
      "13        13\n",
      "14        10\n",
      "15         4\n",
      "16         7\n",
      "17         5\n",
      "18         3\n",
      "19         3\n",
      "20         1\n",
      "21         2\n",
      "22         1\n",
      "23         4\n",
      "25         2\n",
      "26         2\n",
      "27         2\n",
      "28         2\n",
      "31         2\n",
      "33         1\n",
      "34         2\n",
      "58         3\n",
      "59         1\n",
      "64         1\n",
      "97         1\n",
      "dtype: int64\n",
      "\n",
      "number of rows that were marked as unhelpful: 73724 (7.86%)\n",
      "distribution of number of times a comment was marked as unhelpful:\n",
      "aft_unhelpful\n",
      "0     863672\n",
      "1      61427\n",
      "2       9389\n",
      "3       1957\n",
      "4        575\n",
      "5        182\n",
      "6         81\n",
      "7         35\n",
      "8         18\n",
      "9         15\n",
      "10        13\n",
      "11        11\n",
      "12         3\n",
      "13         6\n",
      "14         3\n",
      "15         1\n",
      "18         4\n",
      "19         2\n",
      "21         1\n",
      "25         1\n",
      "dtype: int64\n"
     ]
    }
   ],
   "source": [
    "print('number of rows that were useful: {0}'.format((len(df.loc[df['aft_feature'] == 1]))))\n",
    "print('percent of rows that were useful: {0:.2f}'.format((len(df.loc[df['aft_feature'] == 1])/len(df))*100))\n",
    "print()\n",
    "\n",
    "print('number of rows that were resolved: {0}'.format((len(df.loc[df['aft_resolve'] == 1]))))\n",
    "print('percent of rows that were resolved: {0:.2f}'.format((len(df.loc[df['aft_resolve'] == 1])/len(df))*100))\n",
    "print()\n",
    "\n",
    "noaction = len(df.loc[df['aft_noaction'] == 1])\n",
    "print('number of rows that were not actionable: {0} ({1:.2f}%)\\n'.format(noaction,(noaction/len(df))*100))\n",
    "\n",
    "inappropriate = len(df.loc[df['aft_inappropriate'] == 1])\n",
    "print('number of rows that were inappropriate: {0} ({1:.2f}%)\\n'.format(inappropriate,(inappropriate/len(df))*100))\n",
    "\n",
    "helpful = len(df.loc[df['aft_helpful'] > 0])\n",
    "print('number of rows that were marked as helpful: {0} ({1:.2f}%)'.format(helpful,(helpful/len(df))*100))\n",
    "print('distribution of number of times a comment was marked as helpful:')\n",
    "print(df.groupby('aft_helpful').size())\n",
    "print()\n",
    "\n",
    "unhelpful = len(df.loc[df['aft_unhelpful'] > 0])\n",
    "print('number of rows that were marked as unhelpful: {0} ({1:.2f}%)'.format(unhelpful,(unhelpful/len(df))*100))\n",
    "print('distribution of number of times a comment was marked as unhelpful:')\n",
    "print(df.groupby('aft_unhelpful').size())"
   ]
  },
  {
   "cell_type": "code",
   "execution_count": 158,
   "metadata": {},
   "outputs": [
    {
     "name": "stdout",
     "output_type": "stream",
     "text": [
      "number of rows that were not rated: 822412 (87.73%)\n"
     ]
    }
   ],
   "source": [
    "no_rating = len(df.loc[(df['aft_unhelpful'] == 0) & (df['aft_helpful'] == 0)])\n",
    "print('number of rows that were not rated: {0} ({1:.2f}%)'.format(no_rating,(no_rating/len(df))*100))"
   ]
  },
  {
   "cell_type": "markdown",
   "metadata": {},
   "source": [
    "### AFT Relevance Score\n",
    "Most of the relevance score is irrelivant to this analysis becaused it's calculated based on rule-based scoring from labels already in this dataset.  We should be able to do better with ML."
   ]
  },
  {
   "cell_type": "code",
   "execution_count": 161,
   "metadata": {},
   "outputs": [
    {
     "data": {
      "text/plain": [
       "aft_relevance_score\n",
       " 0      725006\n",
       "-5       59911\n",
       "-1       34026\n",
       " 1       28262\n",
       "-50      24970\n",
       "         ...  \n",
       "-174         1\n",
       "-177         1\n",
       "-181         1\n",
       "-182         1\n",
       "-300         1\n",
       "Length: 200, dtype: int64"
      ]
     },
     "execution_count": 161,
     "metadata": {},
     "output_type": "execute_result"
    }
   ],
   "source": [
    "df.groupby('aft_relevance_score').size().sort_values(ascending=False)"
   ]
  },
  {
   "cell_type": "code",
   "execution_count": 8,
   "metadata": {},
   "outputs": [
    {
     "data": {
      "text/plain": [
       "<matplotlib.axes._subplots.AxesSubplot at 0x1164d5748>"
      ]
     },
     "execution_count": 8,
     "metadata": {},
     "output_type": "execute_result"
    },
    {
     "data": {
      "image/png": "[encoded data removed]",
      "text/plain": [
       "<Figure size 864x864 with 1 Axes>"
      ]
     },
     "metadata": {},
     "output_type": "display_data"
    }
   ],
   "source": [
    "df['aft_relevance_score'].hist(figsize=(12,12))"
   ]
  },
  {
   "cell_type": "code",
   "execution_count": 165,
   "metadata": {},
   "outputs": [
    {
     "name": "stdout",
     "output_type": "stream",
     "text": [
      "number of rows that had > 0 relevance: 44573 (4.75%)\n",
      "number of rows that had < 0 relevance: 167817 (17.90%)\n"
     ]
    }
   ],
   "source": [
    "pos_r = len(df.loc[df['aft_relevance_score'] > 0])\n",
    "print('number of rows that had > 0 relevance: {0} ({1:.2f}%)'.format(pos_r,(pos_r/len(df))*100))\n",
    "neg_r = len(df.loc[df['aft_relevance_score'] < 0])\n",
    "print('number of rows that had < 0 relevance: {0} ({1:.2f}%)'.format(neg_r,(neg_r/len(df))*100))"
   ]
  },
  {
   "cell_type": "code",
   "execution_count": 6,
   "metadata": {},
   "outputs": [
    {
     "data": {
      "text/plain": [
       "aft_form\n",
       "0         3\n",
       "1     51901\n",
       "6    885492\n",
       "dtype: int64"
      ]
     },
     "execution_count": 6,
     "metadata": {},
     "output_type": "execute_result"
    }
   ],
   "source": [
    "df.groupby('aft_form').size()"
   ]
  },
  {
   "cell_type": "code",
   "execution_count": null,
   "metadata": {},
   "outputs": [],
   "source": []
  }
 ],
 "metadata": {
  "kernelspec": {
   "display_name": "Python 3",
   "language": "python",
   "name": "python3"
  },
  "language_info": {
   "codemirror_mode": {
    "name": "ipython",
    "version": 3
   },
   "file_extension": ".py",
   "mimetype": "text/x-python",
   "name": "python",
   "nbconvert_exporter": "python",
   "pygments_lexer": "ipython3",
   "version": "3.7.3"
  }
 },
 "nbformat": 4,
 "nbformat_minor": 4
}
