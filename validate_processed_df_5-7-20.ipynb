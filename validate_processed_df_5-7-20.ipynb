{
 "cells": [
  {
   "cell_type": "markdown",
   "metadata": {},
   "source": [
    "# Validate Processed DF\n",
    "**Author:** Jim Maddock\n",
    "\n",
    "**Last Updated:** 5-7-20\n",
    "\n",
    "**Description:** Validate the dataset processed with `clean_dataset_4-21-20.ipynb` against the raw dataset."
   ]
  },
  {
   "cell_type": "code",
   "execution_count": 6,
   "metadata": {},
   "outputs": [],
   "source": [
    "import pandas as pd\n",
    "import numpy as np\n",
    "import uuid\n",
    "import logging\n",
    "import os\n",
    "import random\n",
    "\n",
    "import matplotlib.pyplot as plt\n",
    "import matplotlib\n",
    "\n",
    "matplotlib.style.use('ggplot')"
   ]
  },
  {
   "cell_type": "code",
   "execution_count": 43,
   "metadata": {},
   "outputs": [],
   "source": [
    "# import dataset from csv\n",
    "BASE_FILE_PATH = '/srv/aft/processed/chunks/'\n",
    "\n",
    "dtypes = {\n",
    "    'aft_id':object\n",
    "}\n",
    "\n",
    "file_list = os.listdir(BASE_FILE_PATH)\n",
    "processed_df = pd.DataFrame()\n",
    "for file in file_list:\n",
    "    file_path = os.path.join(BASE_FILE_PATH,file)\n",
    "    chunk = pd.read_csv(file_path,escapechar='\\\\', encoding='latin-1', dtype=dtypes)\n",
    "    processed_df = processed_df.append(chunk)\n"
   ]
  },
  {
   "cell_type": "code",
   "execution_count": 44,
   "metadata": {},
   "outputs": [],
   "source": [
    "RAW_FILE_PATH = '/srv/aft/raw/dump_03-24-20.csv'\n",
    "raw_df = pd.read_csv(RAW_FILE_PATH,escapechar='\\\\', encoding='latin-1', dtype=dtypes)\n",
    "\n",
    "# remove all comments that do not have a helpful or unhelpful label\n",
    "raw_df = raw_df.loc[(raw_df['aft_helpful'] > 0) | (raw_df['aft_unhelpful'] > 0)]\n",
    "\n",
    "# generate a unique ID\n",
    "# make sure to use a random seed so this is reproducable\n",
    "rd = random.Random()\n",
    "rd.seed(0)\n",
    "raw_df['UUID'] = raw_df.apply(lambda x: str(uuid.UUID(int=rd.getrandbits(128))), axis=1)"
   ]
  },
  {
   "cell_type": "code",
   "execution_count": 45,
   "metadata": {},
   "outputs": [
    {
     "name": "stdout",
     "output_type": "stream",
     "text": [
      "Number of raw rows: 114984\n",
      "Number of processed rows: 114983\n"
     ]
    }
   ],
   "source": [
    "print('Number of raw rows: {0}'.format(len(raw_df)))\n",
    "print('Number of processed rows: {0}'.format(len(processed_df)))"
   ]
  },
  {
   "cell_type": "code",
   "execution_count": 47,
   "metadata": {},
   "outputs": [
    {
     "name": "stdout",
     "output_type": "stream",
     "text": [
      "UUIDs not in processed_df: 36\n",
      "UUIDs not in raw_df: 35\n",
      "overlap: 114948\n"
     ]
    }
   ],
   "source": [
    "print('UUIDs not in processed_df: {0}'.format(len(raw_df.loc[~raw_df['UUID'].isin(processed_df['UUID'])])))\n",
    "print('UUIDs not in raw_df: {0}'.format(len(processed_df.loc[~processed_df['UUID'].isin(raw_df['UUID'])])))\n",
    "print('overlap: {0}'.format(len(processed_df.loc[processed_df['UUID'].isin(raw_df['UUID'])])))"
   ]
  },
  {
   "cell_type": "markdown",
   "metadata": {},
   "source": [
    "* UUIDs not in processed DF seem to be caused by uncaught escape chars in comments, specifically at the end of strings"
   ]
  },
  {
   "cell_type": "code",
   "execution_count": 50,
   "metadata": {},
   "outputs": [
    {
     "name": "stdout",
     "output_type": "stream",
     "text": [
      "number of unique raw UUIDs: 114984\n",
      "number of unique processed UUIDs: 114948\n"
     ]
    }
   ],
   "source": [
    "print('number of unique raw UUIDs: {0}'.format(raw_df['UUID'].nunique()))\n",
    "print('number of unique processed UUIDs: {0}'.format(processed_df['UUID'].nunique()))"
   ]
  },
  {
   "cell_type": "code",
   "execution_count": 36,
   "metadata": {},
   "outputs": [
    {
     "data": {
      "text/html": [
       "<div>\n",
       "<style scoped>\n",
       "    .dataframe tbody tr th:only-of-type {\n",
       "        vertical-align: middle;\n",
       "    }\n",
       "\n",
       "    .dataframe tbody tr th {\n",
       "        vertical-align: top;\n",
       "    }\n",
       "\n",
       "    .dataframe thead th {\n",
       "        text-align: right;\n",
       "    }\n",
       "</style>\n",
       "<table border=\"1\" class=\"dataframe\">\n",
       "  <thead>\n",
       "    <tr style=\"text-align: right;\">\n",
       "      <th></th>\n",
       "      <th>aft_id</th>\n",
       "      <th>aft_page</th>\n",
       "      <th>aft_page_revision</th>\n",
       "      <th>aft_user</th>\n",
       "      <th>aft_user_text</th>\n",
       "      <th>aft_user_token</th>\n",
       "      <th>aft_form</th>\n",
       "      <th>aft_cta</th>\n",
       "      <th>aft_link</th>\n",
       "      <th>aft_rating</th>\n",
       "      <th>...</th>\n",
       "      <th>aft_archive</th>\n",
       "      <th>aft_archive_date</th>\n",
       "      <th>aft_helpful</th>\n",
       "      <th>aft_unhelpful</th>\n",
       "      <th>aft_has_comment</th>\n",
       "      <th>aft_net_helpful</th>\n",
       "      <th>aft_relevance_score</th>\n",
       "      <th>aft_discuss</th>\n",
       "      <th>aft_claimed_user</th>\n",
       "      <th>UUID</th>\n",
       "    </tr>\n",
       "  </thead>\n",
       "  <tbody>\n",
       "    <tr>\n",
       "      <th>1</th>\n",
       "      <td>04f8e0fdffaf1e9b25a890b11c27a364</td>\n",
       "      <td>3235587</td>\n",
       "      <td>543382932</td>\n",
       "      <td>0</td>\n",
       "      <td>216.38.130.162</td>\n",
       "      <td>x6riNeCDobHCPn2XXciJq7x4xvA0KmpA</td>\n",
       "      <td>6</td>\n",
       "      <td>4</td>\n",
       "      <td>X</td>\n",
       "      <td>1</td>\n",
       "      <td>...</td>\n",
       "      <td>0</td>\n",
       "      <td>N</td>\n",
       "      <td>3</td>\n",
       "      <td>0</td>\n",
       "      <td>1</td>\n",
       "      <td>3</td>\n",
       "      <td>53</td>\n",
       "      <td>N</td>\n",
       "      <td>0</td>\n",
       "      <td>e3e70682-c209-4cac-629f-6fbed82c07cd</td>\n",
       "    </tr>\n",
       "  </tbody>\n",
       "</table>\n",
       "<p>1 rows × 33 columns</p>\n",
       "</div>"
      ],
      "text/plain": [
       "                             aft_id  aft_page  aft_page_revision  aft_user  \\\n",
       "1  04f8e0fdffaf1e9b25a890b11c27a364   3235587          543382932         0   \n",
       "\n",
       "    aft_user_text                    aft_user_token  aft_form  aft_cta  \\\n",
       "1  216.38.130.162  x6riNeCDobHCPn2XXciJq7x4xvA0KmpA         6        4   \n",
       "\n",
       "  aft_link  aft_rating  ... aft_archive  aft_archive_date  aft_helpful  \\\n",
       "1        X           1  ...           0                 N            3   \n",
       "\n",
       "   aft_unhelpful  aft_has_comment  aft_net_helpful  aft_relevance_score  \\\n",
       "1              0                1                3                   53   \n",
       "\n",
       "   aft_discuss  aft_claimed_user                                  UUID  \n",
       "1            N                 0  e3e70682-c209-4cac-629f-6fbed82c07cd  \n",
       "\n",
       "[1 rows x 33 columns]"
      ]
     },
     "execution_count": 36,
     "metadata": {},
     "output_type": "execute_result"
    }
   ],
   "source": [
    "raw_df.loc[raw_df['UUID'] == 'e3e70682-c209-4cac-629f-6fbed82c07cd']"
   ]
  },
  {
   "cell_type": "code",
   "execution_count": 59,
   "metadata": {},
   "outputs": [
    {
     "ename": "AttributeError",
     "evalue": "'DataFrame' object has no attribute 'to_frame'",
     "output_type": "error",
     "traceback": [
      "\u001b[0;31m---------------------------------------------------------------------------\u001b[0m",
      "\u001b[0;31mAttributeError\u001b[0m                            Traceback (most recent call last)",
      "\u001b[0;32m<ipython-input-59-2476a7dd2be5>\u001b[0m in \u001b[0;36m<module>\u001b[0;34m\u001b[0m\n\u001b[0;32m----> 1\u001b[0;31m \u001b[0mprocessed_df\u001b[0m\u001b[0;34m.\u001b[0m\u001b[0mgroupby\u001b[0m\u001b[0;34m(\u001b[0m\u001b[0;34m'UUID'\u001b[0m\u001b[0;34m)\u001b[0m\u001b[0;34m.\u001b[0m\u001b[0mcount\u001b[0m\u001b[0;34m(\u001b[0m\u001b[0;34m)\u001b[0m\u001b[0;34m.\u001b[0m\u001b[0mto_frame\u001b[0m\u001b[0;34m(\u001b[0m\u001b[0;34m'count'\u001b[0m\u001b[0;34m)\u001b[0m\u001b[0;34m.\u001b[0m\u001b[0msort_values\u001b[0m\u001b[0;34m(\u001b[0m\u001b[0;34m'count'\u001b[0m\u001b[0;34m,\u001b[0m\u001b[0mascending\u001b[0m\u001b[0;34m=\u001b[0m\u001b[0;32mFalse\u001b[0m\u001b[0;34m)\u001b[0m\u001b[0;34m\u001b[0m\u001b[0;34m\u001b[0m\u001b[0m\n\u001b[0m",
      "\u001b[0;32m~/.local/share/virtualenvs/aft_summary_stats--b-4mJds/lib/python3.7/site-packages/pandas/core/generic.py\u001b[0m in \u001b[0;36m__getattr__\u001b[0;34m(self, name)\u001b[0m\n\u001b[1;32m   5272\u001b[0m             \u001b[0;32mif\u001b[0m \u001b[0mself\u001b[0m\u001b[0;34m.\u001b[0m\u001b[0m_info_axis\u001b[0m\u001b[0;34m.\u001b[0m\u001b[0m_can_hold_identifiers_and_holds_name\u001b[0m\u001b[0;34m(\u001b[0m\u001b[0mname\u001b[0m\u001b[0;34m)\u001b[0m\u001b[0;34m:\u001b[0m\u001b[0;34m\u001b[0m\u001b[0;34m\u001b[0m\u001b[0m\n\u001b[1;32m   5273\u001b[0m                 \u001b[0;32mreturn\u001b[0m \u001b[0mself\u001b[0m\u001b[0;34m[\u001b[0m\u001b[0mname\u001b[0m\u001b[0;34m]\u001b[0m\u001b[0;34m\u001b[0m\u001b[0;34m\u001b[0m\u001b[0m\n\u001b[0;32m-> 5274\u001b[0;31m             \u001b[0;32mreturn\u001b[0m \u001b[0mobject\u001b[0m\u001b[0;34m.\u001b[0m\u001b[0m__getattribute__\u001b[0m\u001b[0;34m(\u001b[0m\u001b[0mself\u001b[0m\u001b[0;34m,\u001b[0m \u001b[0mname\u001b[0m\u001b[0;34m)\u001b[0m\u001b[0;34m\u001b[0m\u001b[0;34m\u001b[0m\u001b[0m\n\u001b[0m\u001b[1;32m   5275\u001b[0m \u001b[0;34m\u001b[0m\u001b[0m\n\u001b[1;32m   5276\u001b[0m     \u001b[0;32mdef\u001b[0m \u001b[0m__setattr__\u001b[0m\u001b[0;34m(\u001b[0m\u001b[0mself\u001b[0m\u001b[0;34m,\u001b[0m \u001b[0mname\u001b[0m\u001b[0;34m:\u001b[0m \u001b[0mstr\u001b[0m\u001b[0;34m,\u001b[0m \u001b[0mvalue\u001b[0m\u001b[0;34m)\u001b[0m \u001b[0;34m->\u001b[0m \u001b[0;32mNone\u001b[0m\u001b[0;34m:\u001b[0m\u001b[0;34m\u001b[0m\u001b[0;34m\u001b[0m\u001b[0m\n",
      "\u001b[0;31mAttributeError\u001b[0m: 'DataFrame' object has no attribute 'to_frame'"
     ]
    }
   ],
   "source": [
    "processed_df.groupby('UUID').size().to_frame('count').sort_values('count',ascending=False)"
   ]
  },
  {
   "cell_type": "code",
   "execution_count": 65,
   "metadata": {},
   "outputs": [
    {
     "data": {
      "text/plain": [
       "93    051184453363dae40bd7842b2b77d26b\n",
       "56    11899500000000000000000000000000\n",
       "19    16052100000000000000000000000000\n",
       "28    16178800000000000000000000000000\n",
       "60    16197000000000000000000000000000\n",
       "52    16821600000000000000000000000000\n",
       "19    18615000000000000000000000000000\n",
       "79    21037400000000000000000000000000\n",
       "79    21444600000000000000000000000000\n",
       "59    22491600000000000000000000000000\n",
       "76    22583200000000000000000000000000\n",
       "46    26681400000000000000000000000000\n",
       "5     28754500000000000000000000000000\n",
       "98    29373700000000000000000000000000\n",
       "19    33539100000000000000000000000000\n",
       "9     33580500000000000000000000000000\n",
       "95    35628500000000000000000000000000\n",
       "15    37543100000000000000000000000000\n",
       "99    38273900000000000000000000000000\n",
       "12    39461400000000000000000000000000\n",
       "91    41527900000000000000000000000000\n",
       "20    42029700000000000000000000000000\n",
       "39    43140000000000000000000000000000\n",
       "86    43338200000000000000000000000000\n",
       "59    54040800000000000000000000000000\n",
       "42    54761100000000000000000000000000\n",
       "11    54851700000000000000000000000000\n",
       "12    58485100000000000000000000000000\n",
       "69    61424100000000000000000000000000\n",
       "62    62393700000000000000000000000000\n",
       "67    66360800000000000000000000000000\n",
       "84    67079900000000000000000000000000\n",
       "53    68463400000000000000000000000000\n",
       "96    80366700000000000000000000000000\n",
       "24    84455100000000000000000000000000\n",
       "Name: aft_id, dtype: object"
      ]
     },
     "execution_count": 65,
     "metadata": {},
     "output_type": "execute_result"
    }
   ],
   "source": [
    "processed_df.loc[processed_df['UUID'].isnull()]['']"
   ]
  },
  {
   "cell_type": "code",
   "execution_count": 83,
   "metadata": {},
   "outputs": [
    {
     "data": {
      "text/plain": [
       "'communication sector in short news\\n\\\\'"
      ]
     },
     "execution_count": 83,
     "metadata": {},
     "output_type": "execute_result"
    }
   ],
   "source": [
    "raw_df.loc[raw_df['aft_id'] == '84455100000000000000000000000000']['aft_comment'].tolist()[0]"
   ]
  },
  {
   "cell_type": "code",
   "execution_count": 82,
   "metadata": {},
   "outputs": [
    {
     "data": {
      "text/plain": [
       "24    communication sector in short news\\n\",20130123...\n",
       "Name: aft_comment, dtype: object"
      ]
     },
     "execution_count": 82,
     "metadata": {},
     "output_type": "execute_result"
    }
   ],
   "source": [
    "processed_df.loc[processed_df['aft_id'] == '84455100000000000000000000000000']['aft_comment']"
   ]
  },
  {
   "cell_type": "code",
   "execution_count": null,
   "metadata": {},
   "outputs": [],
   "source": []
  }
 ],
 "metadata": {
  "kernelspec": {
   "display_name": "Python 3",
   "language": "python",
   "name": "python3"
  },
  "language_info": {
   "codemirror_mode": {
    "name": "ipython",
    "version": 3
   },
   "file_extension": ".py",
   "mimetype": "text/x-python",
   "name": "python",
   "nbconvert_exporter": "python",
   "pygments_lexer": "ipython3",
   "version": "3.7.3"
  }
 },
 "nbformat": 4,
 "nbformat_minor": 4
}
